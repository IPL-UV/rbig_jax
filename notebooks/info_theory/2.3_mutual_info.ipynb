{
 "cells": [
  {
   "cell_type": "markdown",
   "metadata": {},
   "source": [
    "state.info_loss# Walkthrough - RBIG"
   ]
  },
  {
   "cell_type": "code",
   "execution_count": 1,
   "metadata": {},
   "outputs": [],
   "source": [
    "import sys, os\n",
    "from pyprojroot import here\n",
    "\n",
    "# spyder up to find the root\n",
    "root = here(project_files=[\".here\"])\n",
    "\n",
    "# append to path\n",
    "sys.path.append(str(here()))\n",
    "\n",
    "# jax packages\n",
    "import jax\n",
    "import jax.numpy as np\n",
    "from jax.config import config\n",
    "import chex\n",
    "config.update(\"jax_enable_x32\", True)\n",
    "\n",
    "import numpy as onp\n",
    "from functools import partial\n",
    "\n",
    "# library functions\n",
    "\n",
    "# library functions\n",
    "from rbig_jax.data import get_classic\n",
    "from rbig_jax.plots import plot_info_loss, plot_joint\n",
    "# from rbig_jax.rbig import RBIG\n",
    "# from rbig_jax.data import get_classic\n",
    "# from rbig_jax.information.rbig import rbig_init\n",
    "# from rbig_jax.information.reduction import information_reduction\n",
    "# from rbig_jax.information.entropy import histogram_entropy\n",
    "# from rbig_jax.plots.info import plot_total_corr\n",
    "# from rbig_jax.plots.joint import plot_joint\n",
    "# from rbig_jax.plots.prob import plot_joint_prob\n",
    "# from rbig_jax.transforms.gaussian import init_params\n",
    "\n",
    "# logging\n",
    "import tqdm\n",
    "import wandb\n",
    "\n",
    "# plot methods\n",
    "import matplotlib.pyplot as plt\n",
    "import seaborn as sns\n",
    "sns.reset_defaults()\n",
    "sns.set_context(context=\"talk\", font_scale=0.7)\n",
    "\n",
    "%matplotlib inline\n",
    "%load_ext autoreload\n",
    "%autoreload 2"
   ]
  },
  {
   "cell_type": "markdown",
   "metadata": {},
   "source": [
    "## Data"
   ]
  },
  {
   "cell_type": "code",
   "execution_count": 2,
   "metadata": {},
   "outputs": [
    {
     "data": {
      "text/plain": [
       "<Figure size 432x288 with 0 Axes>"
      ]
     },
     "metadata": {},
     "output_type": "display_data"
    },
    {
     "data": {
      "image/png": "[encoded data removed]",
      "text/plain": [
       "<Figure size 432x432 with 3 Axes>"
      ]
     },
     "metadata": {
      "needs_background": "light"
     },
     "output_type": "display_data"
    }
   ],
   "source": [
    "# %%wandb\n",
    "# get data\n",
    "data = get_classic(1_000_000)\n",
    "\n",
    "# plot data\n",
    "plot_joint(data[:1_000], \"blue\", \"Original Data\", kind='kde', logger=False)"
   ]
  },
  {
   "cell_type": "markdown",
   "metadata": {},
   "source": [
    "## Initialization\n",
    "\n",
    "First we need to initialize our RBIG method with some parameters. For example, which marginal gaussianization method, what precision do we want, and what rotation method do we want.\n",
    "\n",
    "* `method` - the method used to marginally transform the data. We have histogram or kde currently implemented\n",
    "* `support_extension` - this is the amount we want to extend the support for our marginal distributions. Higher values indicate higher\n",
    "* `precision` - we use interpolation because it is much faster. So the CDF, PDF and PPF are interpolation schemes. This value will allow one to have more \"precision\" for the estimated quantities but it will be slower."
   ]
  },
  {
   "cell_type": "markdown",
   "metadata": {},
   "source": [
    "## Total Correlation"
   ]
  },
  {
   "cell_type": "code",
   "execution_count": 3,
   "metadata": {},
   "outputs": [],
   "source": [
    "from rbig_jax.information.entropy import histogram_entropy\n",
    "from rbig_jax.transforms.histogram import histogram_transform\n",
    "from rbig_jax.information.total_corr import total_corr_f"
   ]
  },
  {
   "cell_type": "code",
   "execution_count": 4,
   "metadata": {},
   "outputs": [],
   "source": [
    "# define marginal entropy function\n",
    "entropy_f = jax.partial(histogram_entropy, nbins=1_000, base=2)\n",
    "\n",
    "# define marginal uniformization function\n",
    "hist_transform_f = jax.partial(histogram_transform, nbins=1_000)"
   ]
  },
  {
   "cell_type": "code",
   "execution_count": 5,
   "metadata": {},
   "outputs": [
    {
     "name": "stderr",
     "output_type": "stream",
     "text": [
      "/home/emmanuel/.conda/envs/jax_py38/lib/python3.8/site-packages/jax/lib/xla_bridge.py:130: UserWarning: No GPU/TPU found, falling back to CPU.\n",
      "  warnings.warn('No GPU/TPU found, falling back to CPU.')\n"
     ]
    },
    {
     "name": "stdout",
     "output_type": "stream",
     "text": [
      "CPU times: user 4.37 s, sys: 90.6 ms, total: 4.46 s\n",
      "Wall time: 4.44 s\n"
     ]
    }
   ],
   "source": [
    "%%time\n",
    "n_iterations = 100\n",
    "\n",
    "X_trans, loss = total_corr_f(\n",
    "    np.array(data).block_until_ready(), \n",
    "    marginal_uni=hist_transform_f, \n",
    "    marginal_entropy=entropy_f, \n",
    "    n_iterations=n_iterations\n",
    ")"
   ]
  },
  {
   "cell_type": "code",
   "execution_count": 6,
   "metadata": {},
   "outputs": [
    {
     "name": "stdout",
     "output_type": "stream",
     "text": [
      "CPU times: user 380 ms, sys: 23.8 ms, total: 403 ms\n",
      "Wall time: 86.6 ms\n"
     ]
    }
   ],
   "source": [
    "%%time\n",
    "total_corr = np.sum(loss) * np.log(2)"
   ]
  },
  {
   "cell_type": "code",
   "execution_count": 7,
   "metadata": {},
   "outputs": [
    {
     "name": "stdout",
     "output_type": "stream",
     "text": [
      "0.7286557143788281\n",
      "CPU times: user 5min 40s, sys: 10min 7s, total: 15min 48s\n",
      "Wall time: 56.4 s\n"
     ]
    }
   ],
   "source": [
    "%%time\n",
    "print(total_corr)"
   ]
  },
  {
   "cell_type": "markdown",
   "metadata": {},
   "source": [
    "#### Plot Latent Space"
   ]
  },
  {
   "cell_type": "code",
   "execution_count": 8,
   "metadata": {},
   "outputs": [
    {
     "name": "stdout",
     "output_type": "stream",
     "text": [
      "CPU times: user 6.68 ms, sys: 7.54 ms, total: 14.2 ms\n",
      "Wall time: 12.5 ms\n"
     ]
    }
   ],
   "source": [
    "%%time\n",
    "\n",
    "X_plot = onp.array(X_trans)"
   ]
  },
  {
   "cell_type": "code",
   "execution_count": 9,
   "metadata": {},
   "outputs": [
    {
     "data": {
      "text/plain": [
       "<Figure size 432x288 with 0 Axes>"
      ]
     },
     "metadata": {},
     "output_type": "display_data"
    },
    {
     "data": {
      "image/png": "[encoded data removed]",
      "text/plain": [
       "<Figure size 432x432 with 3 Axes>"
      ]
     },
     "metadata": {
      "needs_background": "light"
     },
     "output_type": "display_data"
    }
   ],
   "source": [
    "# plot data\n",
    "plot_joint(\n",
    "    X_plot[:10_000], \n",
    "    \"blue\", \"Latent Space\", kind='kde', logger=False\n",
    ")"
   ]
  },
  {
   "cell_type": "code",
   "execution_count": 10,
   "metadata": {},
   "outputs": [
    {
     "data": {
      "image/png": "[encoded data removed]",
      "text/plain": [
       "<Figure size 432x288 with 1 Axes>"
      ]
     },
     "metadata": {
      "needs_background": "light"
     },
     "output_type": "display_data"
    }
   ],
   "source": [
    "plot_info_loss(loss, n_layers=len(loss))"
   ]
  },
  {
   "cell_type": "code",
   "execution_count": null,
   "metadata": {},
   "outputs": [],
   "source": []
  }
 ],
 "metadata": {
  "kernelspec": {
   "display_name": "Python [conda env:.conda-jax_py38]",
   "language": "python",
   "name": "conda-env-.conda-jax_py38-py"
  },
  "language_info": {
   "codemirror_mode": {
    "name": "ipython",
    "version": 3
   },
   "file_extension": ".py",
   "mimetype": "text/x-python",
   "name": "python",
   "nbconvert_exporter": "python",
   "pygments_lexer": "ipython3",
   "version": "3.8.5"
  }
 },
 "nbformat": 4,
 "nbformat_minor": 4
}
