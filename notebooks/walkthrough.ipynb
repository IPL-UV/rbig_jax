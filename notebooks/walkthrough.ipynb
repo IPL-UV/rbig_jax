{
 "cells": [
  {
   "cell_type": "markdown",
   "metadata": {},
   "source": [
    "# Walkthrough - RBIG"
   ]
  },
  {
   "cell_type": "code",
   "execution_count": 1,
   "metadata": {},
   "outputs": [],
   "source": [
    "import sys\n",
    "sys.path.append(\"../\")\n",
    "\n",
    "# jax packages\n",
    "import jax\n",
    "import jax.numpy as np\n",
    "from jax.config import config\n",
    "import chex\n",
    "config.update(\"jax_enable_x64\", True)\n",
    "\n",
    "import numpy as onp\n",
    "from functools import partial\n",
    "\n",
    "# library parameters\n",
    "from rbig_jax.data import get_classic\n",
    "from rbig_jax.information.reduction import information_reduction\n",
    "from rbig_jax.plots.info import plot_total_corr\n",
    "from rbig_jax.plots.joint import plot_joint\n",
    "from rbig_jax.plots.prob import plot_joint_prob\n",
    "from rbig_jax.transforms.gaussian import init_params\n",
    "from rbig_jax.transforms.rbig import rbig_init\n",
    "\n",
    "# logging\n",
    "import tqdm\n",
    "import wandb\n",
    "\n",
    "# plot methods\n",
    "import matplotlib.pyplot as plt\n",
    "import seaborn as sns\n",
    "sns.reset_defaults()\n",
    "sns.set_context(context=\"talk\", font_scale=0.7)\n",
    "\n",
    "%matplotlib inline\n",
    "%load_ext autoreload\n",
    "%autoreload 2"
   ]
  },
  {
   "cell_type": "code",
   "execution_count": 2,
   "metadata": {},
   "outputs": [
    {
     "data": {
      "image/png": "[encoded data removed]",
      "text/plain": [
       "<Figure size 432x288 with 1 Axes>"
      ]
     },
     "metadata": {
      "needs_background": "light"
     },
     "output_type": "display_data"
    }
   ],
   "source": [
    "# get data\n",
    "data = get_classic(100)\n",
    "\n",
    "# plot data\n",
    "plt.hist(data[:, 1], 10);"
   ]
  },
  {
   "cell_type": "markdown",
   "metadata": {},
   "source": [
    "## Logging"
   ]
  },
  {
   "cell_type": "code",
   "execution_count": 3,
   "metadata": {},
   "outputs": [
    {
     "data": {
      "text/html": [
       "\n",
       "                Logging results to <a href=\"https://wandb.com\" target=\"_blank\">Weights & Biases</a> <a href=\"https://docs.wandb.com/integrations/jupyter.html\" target=\"_blank\">(Documentation)</a>.<br/>\n",
       "                Project page: <a href=\"https://app.wandb.ai/emanjohnson91/rbigjax-demo-2d\" target=\"_blank\">https://app.wandb.ai/emanjohnson91/rbigjax-demo-2d</a><br/>\n",
       "                Run page: <a href=\"https://app.wandb.ai/emanjohnson91/rbigjax-demo-2d/runs/uso9ladl\" target=\"_blank\">https://app.wandb.ai/emanjohnson91/rbigjax-demo-2d/runs/uso9ladl</a><br/>\n",
       "            "
      ],
      "text/plain": [
       "<IPython.core.display.HTML object>"
      ]
     },
     "metadata": {},
     "output_type": "display_data"
    },
    {
     "data": {
      "text/plain": [
       "W&B Run: https://app.wandb.ai/emanjohnson91/rbigjax-demo-2d/runs/uso9ladl"
      ]
     },
     "execution_count": 3,
     "metadata": {},
     "output_type": "execute_result"
    }
   ],
   "source": [
    "wandb.init(project=\"rbigjax-demo-2d\", entity=\"emanjohnson91\")\n"
   ]
  },
  {
   "cell_type": "code",
   "execution_count": 4,
   "metadata": {},
   "outputs": [
    {
     "name": "stderr",
     "output_type": "stream",
     "text": [
      "Failed to query for notebook name, you can set it manually with the WANDB_NOTEBOOK_NAME environment variable\n"
     ]
    }
   ],
   "source": [
    "\n",
    "# config parameters\n",
    "wandb.config.n_samples = 10_000\n",
    "wandb.config.dataset = \"classic\"\n",
    "wandb.config.method = \"histogram\"\n",
    "wandb.config.support_extension = 10\n",
    "wandb.config.precision = 50\n",
    "wandb.config.alpha = 0.0\n",
    "wandb.config.n_layers = 20"
   ]
  },
  {
   "cell_type": "markdown",
   "metadata": {},
   "source": [
    "## Data"
   ]
  },
  {
   "cell_type": "code",
   "execution_count": 5,
   "metadata": {},
   "outputs": [],
   "source": [
    "def plot_joint(data, color: str = \"red\", title: str = \"\", kind=\"kde\", logger=None):\n",
    "\n",
    "    plt.figure()\n",
    "    sns.jointplot(x=data[:, 0], y=data[:, 1], kind=kind, color=color)\n",
    "    plt.xlabel(\"X\")\n",
    "    plt.ylabel(\"Y\")\n",
    "    plt.suptitle(title)\n",
    "    plt.tight_layout()\n",
    "    plt.show()\n",
    "    \n",
    "\n",
    "def plot_joint_prob(data, probs, cmap=\"Reds\", title=\"\", logger=None):\n",
    "\n",
    "    fig, ax = plt.subplots()\n",
    "    h = ax.scatter(data[:, 0], data[:, 1], s=1, c=probs, cmap=cmap)\n",
    "    plt.xlabel(\"X\")\n",
    "    plt.ylabel(\"Y\")\n",
    "    plt.colorbar(h,)\n",
    "    ax.set_title(title)\n",
    "    plt.tight_layout()\n",
    "    plt.show()"
   ]
  },
  {
   "cell_type": "code",
   "execution_count": 6,
   "metadata": {},
   "outputs": [
    {
     "data": {
      "text/plain": [
       "<Figure size 432x288 with 0 Axes>"
      ]
     },
     "metadata": {},
     "output_type": "display_data"
    },
    {
     "data": {
      "image/png": "[encoded data removed]",
      "text/plain": [
       "<Figure size 432x432 with 3 Axes>"
      ]
     },
     "metadata": {
      "needs_background": "light"
     },
     "output_type": "display_data"
    }
   ],
   "source": [
    "# %%wandb\n",
    "# get data\n",
    "data = get_classic(1_000)\n",
    "\n",
    "# plot data\n",
    "plot_joint(data, \"blue\", \"Original Data\", logger=False)"
   ]
  },
  {
   "cell_type": "markdown",
   "metadata": {},
   "source": [
    "## Initialization\n",
    "\n",
    "First we need to initialize our RBIG method with some parameters. For example, which marginal gaussianization method, what precision do we want, and what rotation method do we want.\n",
    "\n",
    "* `method` - the method used to marginally transform the data. We have histogram or kde currently implemented\n",
    "* `support_extension` - this is the amount we want to extend the support for our marginal distributions. Higher values indicate higher\n",
    "* `precision` - we use interpolation because it is much faster. So the CDF, PDF and PPF are interpolation schemes. This value will allow one to have more \"precision\" for the estimated quantities but it will be slower."
   ]
  },
  {
   "cell_type": "code",
   "execution_count": 7,
   "metadata": {},
   "outputs": [],
   "source": [
    "from rbig_jax.transforms.rbig import forward_transform, inverse_transform"
   ]
  },
  {
   "cell_type": "code",
   "execution_count": 8,
   "metadata": {},
   "outputs": [],
   "source": [
    "# get the init function\n",
    "fit_forward_func = rbig_init(\n",
    "    method=\"histogram\",\n",
    "    support_ext=10,\n",
    "    precision=50,\n",
    "    alpha=1e-5\n",
    ")"
   ]
  },
  {
   "cell_type": "code",
   "execution_count": 9,
   "metadata": {},
   "outputs": [
    {
     "name": "stderr",
     "output_type": "stream",
     "text": [
      "/home/emmanuel/.conda/envs/jax_py38/lib/python3.8/site-packages/jax/lib/xla_bridge.py:130: UserWarning: No GPU/TPU found, falling back to CPU.\n",
      "  warnings.warn('No GPU/TPU found, falling back to CPU.')\n"
     ]
    }
   ],
   "source": [
    "# fit forward function\n",
    "Xtrans, ldX, params = fit_forward_func(data)\n",
    "\n",
    "# forward function\n",
    "Xtrans_, ldX_ = forward_transform(params, data)\n",
    "\n",
    "# checks to make sure they're the same\n",
    "chex.assert_tree_all_close(Xtrans, Xtrans_, rtol=1e-5)\n",
    "chex.assert_tree_all_close(ldX, ldX_, rtol=1e-5)\n",
    "chex.assert_shape(Xtrans, (1_000, 2))"
   ]
  },
  {
   "cell_type": "code",
   "execution_count": 10,
   "metadata": {},
   "outputs": [
    {
     "data": {
      "text/plain": [
       "<Figure size 432x288 with 0 Axes>"
      ]
     },
     "metadata": {},
     "output_type": "display_data"
    },
    {
     "data": {
      "image/png": "[encoded data removed]",
      "text/plain": [
       "<Figure size 432x432 with 3 Axes>"
      ]
     },
     "metadata": {
      "needs_background": "light"
     },
     "output_type": "display_data"
    }
   ],
   "source": [
    "plot_joint(Xtrans, \"blue\", \"Transform\", logger=False)"
   ]
  },
  {
   "cell_type": "markdown",
   "metadata": {},
   "source": [
    "### Inverse Transformation"
   ]
  },
  {
   "cell_type": "code",
   "execution_count": 11,
   "metadata": {},
   "outputs": [],
   "source": [
    "data_ = inverse_transform(params, Xtrans)\n",
    "\n",
    "chex.assert_tree_all_close(data_, data, rtol=1e-5)"
   ]
  },
  {
   "cell_type": "code",
   "execution_count": 12,
   "metadata": {},
   "outputs": [
    {
     "data": {
      "text/plain": [
       "<Figure size 432x288 with 0 Axes>"
      ]
     },
     "metadata": {},
     "output_type": "display_data"
    },
    {
     "data": {
      "image/png": "[encoded data removed]",
      "text/plain": [
       "<Figure size 432x432 with 3 Axes>"
      ]
     },
     "metadata": {
      "needs_background": "light"
     },
     "output_type": "display_data"
    }
   ],
   "source": [
    "plot_joint(data_, \"blue\", \"Transform\", logger=False)"
   ]
  },
  {
   "cell_type": "markdown",
   "metadata": {},
   "source": [
    "### Speed\n",
    "\n",
    "We can use the `jit` method to speed up our code considerably. We simply need to jit our forward function and our inverse function."
   ]
  },
  {
   "cell_type": "markdown",
   "metadata": {},
   "source": [
    "#### Non-Jitted"
   ]
  },
  {
   "cell_type": "code",
   "execution_count": 13,
   "metadata": {},
   "outputs": [
    {
     "name": "stdout",
     "output_type": "stream",
     "text": [
      "279 ms ± 2.32 ms per loop (mean ± std. dev. of 7 runs, 10 loops each)\n",
      "550 µs ± 9.53 µs per loop (mean ± std. dev. of 7 runs, 1000 loops each)\n",
      "546 µs ± 21.6 µs per loop (mean ± std. dev. of 7 runs, 1000 loops each)\n"
     ]
    }
   ],
   "source": [
    "%timeit Xtrans, ldX, params = fit_forward_func(data)\n",
    "%timeit _ = forward_transform(params, data)\n",
    "%timeit _ = inverse_transform(params, Xtrans)"
   ]
  },
  {
   "cell_type": "markdown",
   "metadata": {},
   "source": [
    "#### Jitted"
   ]
  },
  {
   "cell_type": "code",
   "execution_count": 14,
   "metadata": {},
   "outputs": [],
   "source": [
    "# get the init function\n",
    "fit_forward_func = rbig_init(\n",
    "    method=\"histogram\",\n",
    "    support_ext=10,\n",
    "    precision=100,\n",
    "    alpha=1e-5\n",
    ")\n",
    "fit_forward_func_jitted = jax.jit(fit_forward_func)\n",
    "Xtrans, ldX, params = fit_forward_func_jitted(data)\n",
    "forward_func_jitted = jax.jit(forward_transform)\n",
    "inverse_func_jitted = jax.jit(inverse_transform)"
   ]
  },
  {
   "cell_type": "code",
   "execution_count": 15,
   "metadata": {},
   "outputs": [
    {
     "name": "stdout",
     "output_type": "stream",
     "text": [
      "1.02 ms ± 204 µs per loop (mean ± std. dev. of 7 runs, 1000 loops each)\n",
      "317 µs ± 28.8 µs per loop (mean ± std. dev. of 7 runs, 1 loop each)\n",
      "233 µs ± 47.6 µs per loop (mean ± std. dev. of 7 runs, 1 loop each)\n"
     ]
    }
   ],
   "source": [
    "%timeit _ = fit_forward_func_jitted(data)\n",
    "%timeit _ = forward_func_jitted(params, data)\n",
    "%timeit _ = inverse_func_jitted(params, Xtrans)"
   ]
  },
  {
   "cell_type": "markdown",
   "metadata": {},
   "source": [
    "## Training\n",
    "\n",
    "So now we have our step function and we need some kinda of condition. We will do 3 conditions:\n",
    "\n",
    "1. We need a maximum number of layers\n",
    "2. We need a minimum number of layers\n",
    "3. We need no changes between a running loss"
   ]
  },
  {
   "cell_type": "markdown",
   "metadata": {},
   "source": [
    "## State"
   ]
  },
  {
   "cell_type": "code",
   "execution_count": 16,
   "metadata": {},
   "outputs": [],
   "source": [
    "from collections import namedtuple\n",
    "\n",
    "TrainState = namedtuple(\n",
    "    \"TrainState\", [\n",
    "        \"n_layers\", # number of layers \n",
    "\n",
    "        \"info_loss\", # information loss\n",
    "        \"params\",\n",
    "        \"X\",\n",
    "        \"Xldj\"\n",
    "    ]\n",
    ")\n"
   ]
  },
  {
   "cell_type": "markdown",
   "metadata": {},
   "source": [
    "## Stopping Criteria"
   ]
  },
  {
   "cell_type": "code",
   "execution_count": 17,
   "metadata": {},
   "outputs": [],
   "source": [
    "max_layers = 100\n",
    "min_layers = 10\n",
    "threshold = 0.25\n",
    "tol_layers = 50\n",
    "\n",
    "\n",
    "def condition_fun(state):\n",
    "    # stopping criterial\n",
    "    stop_crit = jax.lax.bitwise_and(\n",
    "        jax.lax.bitwise_not(state.n_layers < min_layers), \n",
    "        state.n_layers > max_layers\n",
    "    )\n",
    "    stop_crit = jax.lax.bitwise_not(stop_crit)\n",
    "    return stop_crit\n",
    "#     # information loss criteria\n",
    "#     if state.n_layers > tol_layers:\n",
    "#         return stop_crit\n",
    "#     else:\n",
    "#         info_crit = state.info_loss[-tol_layers:].sum() == 0.0\n",
    "#         return np.logical_or(stop_crit, info_crit) "
   ]
  },
  {
   "cell_type": "markdown",
   "metadata": {},
   "source": [
    "### Condition 1\n",
    "\n",
    "We have `n_layers=1`. "
   ]
  },
  {
   "cell_type": "code",
   "execution_count": 18,
   "metadata": {},
   "outputs": [
    {
     "data": {
      "text/plain": [
       "DeviceArray(True, dtype=bool)"
      ]
     },
     "execution_count": 18,
     "metadata": {},
     "output_type": "execute_result"
    }
   ],
   "source": [
    "train_state = TrainState(\n",
    "    n_layers=0,\n",
    "    info_loss=[],\n",
    "    params=[],\n",
    "    X=data,\n",
    "    Xldj=np.zeros(data.shape)\n",
    "    \n",
    ")\n",
    "\n",
    "condition_fun(train_state)"
   ]
  },
  {
   "cell_type": "markdown",
   "metadata": {},
   "source": [
    "#### Condition 2"
   ]
  },
  {
   "cell_type": "code",
   "execution_count": 19,
   "metadata": {},
   "outputs": [
    {
     "data": {
      "text/plain": [
       "DeviceArray(True, dtype=bool)"
      ]
     },
     "execution_count": 19,
     "metadata": {},
     "output_type": "execute_result"
    }
   ],
   "source": [
    "train_state = TrainState(\n",
    "    n_layers=15,\n",
    "    info_loss=[],\n",
    "    params=[],\n",
    "    X=data,\n",
    "    Xldj=np.zeros(data.shape)\n",
    "    \n",
    ")\n",
    "\n",
    "condition_fun(train_state)"
   ]
  },
  {
   "cell_type": "markdown",
   "metadata": {},
   "source": [
    "#### Condition 3"
   ]
  },
  {
   "cell_type": "code",
   "execution_count": 20,
   "metadata": {},
   "outputs": [
    {
     "data": {
      "text/plain": [
       "DeviceArray(False, dtype=bool)"
      ]
     },
     "execution_count": 20,
     "metadata": {},
     "output_type": "execute_result"
    }
   ],
   "source": [
    "train_state = TrainState(\n",
    "    n_layers=150,\n",
    "    info_loss=[],\n",
    "    params=[],\n",
    "    X=data,\n",
    "    Xldj=np.zeros(data.shape)\n",
    "    \n",
    ")\n",
    "\n",
    "condition_fun(train_state)"
   ]
  },
  {
   "cell_type": "markdown",
   "metadata": {},
   "source": [
    "### 3 - Training Loop"
   ]
  },
  {
   "cell_type": "code",
   "execution_count": 21,
   "metadata": {},
   "outputs": [],
   "source": [
    "data = get_classic(10_000)\n",
    "data = np.array(onp.random.randn(10_000, 10))\n",
    "\n",
    "train_state = TrainState(\n",
    "    n_layers=0,\n",
    "    info_loss=[],\n",
    "    params=[],\n",
    "    X=data,\n",
    "    Xldj=np.zeros(data.shape)\n",
    "    \n",
    ")\n",
    "\n",
    "def body(train_state):\n",
    "    X, Xldj, params = fit_forward_func(train_state.X)\n",
    "\n",
    "    # calculate the information loss\n",
    "    it = information_reduction(train_state.X, X)\n",
    "\n",
    "    train_state = TrainState(\n",
    "        n_layers=train_state.n_layers + 1,\n",
    "        info_loss=train_state.info_loss + [it],\n",
    "        params=train_state.params + [params],\n",
    "        X=X,\n",
    "        Xldj=train_state.Xldj + Xldj\n",
    "    )\n",
    "    return train_state\n",
    "#     return train_state._replace(\n",
    "#         n_layers=train_state.n_layers + 1,\n",
    "#         info_loss=train_state.info_loss + [it],\n",
    "#         params = train_state.params + [params],\n",
    "#         X=X,\n",
    "#         Xldj=train_state.Xldj + Xldj\n",
    "#     )\n",
    "\n",
    "it_jitted = jax.jit(information_reduction)\n",
    "def body_jitted(train_state):\n",
    "    X, Xldj, params = fit_forward_func_jitted(train_state.X)\n",
    "\n",
    "    # calculate the information loss\n",
    "    it = it_jitted(train_state.X, X)\n",
    "\n",
    "    train_state = TrainState(\n",
    "        n_layers=train_state.n_layers + 1,\n",
    "        info_loss=train_state.info_loss + [it],\n",
    "        params=train_state.params + [params],\n",
    "        X=X,\n",
    "        Xldj=train_state.Xldj + Xldj\n",
    "    )\n",
    "    return train_state\n",
    "#     return train_state._replace(\n",
    "#         n_layers=train_state.n_layers + 1,\n",
    "#         info_loss=train_state.info_loss + [it],\n",
    "#         params = train_state.params + [params],\n",
    "#         X=X,\n",
    "#         Xldj=train_state.Xldj + Xldj\n",
    "#     )"
   ]
  },
  {
   "cell_type": "code",
   "execution_count": 22,
   "metadata": {},
   "outputs": [
    {
     "name": "stdout",
     "output_type": "stream",
     "text": [
      "CPU times: user 32.6 s, sys: 2min 18s, total: 2min 51s\n",
      "Wall time: 17.9 s\n"
     ]
    }
   ],
   "source": [
    "%%time\n",
    "# # define states\n",
    "# train_state = TrainState(\n",
    "#     n_layers=0,\n",
    "#     info_loss=[],\n",
    "#     params=[],\n",
    "#     X=data,\n",
    "#     Xldj=np.zeros(data.shape)\n",
    "    \n",
    "# )\n",
    "\n",
    "# # while loop\n",
    "# t0 = time.time()\n",
    "# while condition_fun(train_state):\n",
    "#     train_state = body(train_state)\n",
    "# print(f\"Time Taken: {(time.time() - t0):.4f}\")\n",
    "\n",
    "# while loop\n",
    "# define states\n",
    "train_state = TrainState(\n",
    "    n_layers=0,\n",
    "    info_loss=[],\n",
    "    params=[],\n",
    "    X=data,\n",
    "    Xldj=np.zeros(data.shape)\n",
    "    \n",
    ")\n",
    "\n",
    "while condition_fun(train_state):\n",
    "#     print(train_state.n_layers)\n",
    "    train_state = body_jitted(train_state)\n"
   ]
  },
  {
   "cell_type": "code",
   "execution_count": null,
   "metadata": {},
   "outputs": [],
   "source": [
    "plot_joint(train_state.X[:, :1])"
   ]
  },
  {
   "cell_type": "code",
   "execution_count": 26,
   "metadata": {},
   "outputs": [
    {
     "data": {
      "image/png": "[encoded data removed]",
      "text/plain": [
       "<Figure size 432x288 with 2 Axes>"
      ]
     },
     "metadata": {
      "needs_background": "light"
     },
     "output_type": "display_data"
    }
   ],
   "source": [
    "log_prob = (jax.scipy.stats.norm.logpdf(train_state.X) + train_state.Xldj).sum(axis=1)\n",
    "\n",
    "\n",
    "plot_joint_prob(data, np.exp(log_prob), cmap='Reds', logger=None)"
   ]
  },
  {
   "cell_type": "code",
   "execution_count": 27,
   "metadata": {},
   "outputs": [
    {
     "data": {
      "image/png": "[encoded data removed]",
      "text/plain": [
       "<Figure size 432x288 with 1 Axes>"
      ]
     },
     "metadata": {
      "needs_background": "light"
     },
     "output_type": "display_data"
    }
   ],
   "source": [
    "\n",
    "plt.hist(log_prob, bins=100);"
   ]
  },
  {
   "cell_type": "markdown",
   "metadata": {},
   "source": [
    "#### Forward Transformation"
   ]
  },
  {
   "cell_type": "code",
   "execution_count": null,
   "metadata": {},
   "outputs": [],
   "source": [
    "t0 = time.time()\n",
    "init_val = data\n",
    "for iparam in train_state.params:\n",
    "    X, _ = forward_transform(iparam, init_val)\n",
    "    init_val = X\n",
    "print(f\"Time Taken: {(time.time() - t0):.4f}\")\n",
    "    \n",
    "t0 = time.time()\n",
    "init_val = data\n",
    "for iparam in train_state.params:\n",
    "    X, _ = forward_func_jitted(iparam, init_val)\n",
    "    init_val = X\n",
    "print(f\"Time Taken: {(time.time() - t0):.4f}\")"
   ]
  },
  {
   "cell_type": "code",
   "execution_count": 29,
   "metadata": {},
   "outputs": [
    {
     "data": {
      "text/plain": [
       "<Figure size 432x288 with 0 Axes>"
      ]
     },
     "metadata": {},
     "output_type": "display_data"
    },
    {
     "data": {
      "image/png": "[encoded data removed]",
      "text/plain": [
       "<Figure size 432x432 with 3 Axes>"
      ]
     },
     "metadata": {
      "needs_background": "light"
     },
     "output_type": "display_data"
    }
   ],
   "source": [
    "plot_joint(init_val)"
   ]
  },
  {
   "cell_type": "markdown",
   "metadata": {},
   "source": [
    "#### Reverse Transformation"
   ]
  },
  {
   "cell_type": "code",
   "execution_count": null,
   "metadata": {},
   "outputs": [],
   "source": [
    "t0 = time.time()\n",
    "init_val = train_state.X\n",
    "for iparam in reversed(train_state.params):\n",
    "    X = inverse_transform(iparam, init_val)\n",
    "    init_val = X\n",
    "print(f\"Time Taken: {(time.time() - t0):.4f}\")\n",
    "\n",
    "\n",
    "t0 = time.time()\n",
    "init_val = train_state.X\n",
    "for iparam in reversed(train_state.params):\n",
    "    X = inverse_func_jitted(iparam, init_val)\n",
    "    init_val = X\n",
    "print(f\"Time Taken: {(time.time() - t0):.4f}\")\n",
    "\n"
   ]
  },
  {
   "cell_type": "code",
   "execution_count": 31,
   "metadata": {},
   "outputs": [
    {
     "data": {
      "text/plain": [
       "<Figure size 432x288 with 0 Axes>"
      ]
     },
     "metadata": {},
     "output_type": "display_data"
    },
    {
     "data": {
      "image/png": "[encoded data removed]",
      "text/plain": [
       "<Figure size 432x432 with 3 Axes>"
      ]
     },
     "metadata": {
      "needs_background": "light"
     },
     "output_type": "display_data"
    }
   ],
   "source": [
    "plot_joint(init_val)"
   ]
  },
  {
   "cell_type": "code",
   "execution_count": 32,
   "metadata": {},
   "outputs": [
    {
     "data": {
      "text/plain": [
       "101"
      ]
     },
     "execution_count": 32,
     "metadata": {},
     "output_type": "execute_result"
    }
   ],
   "source": [
    "train_state.n_layers"
   ]
  },
  {
   "cell_type": "code",
   "execution_count": 38,
   "metadata": {},
   "outputs": [
    {
     "ename": "TypeError",
     "evalue": "body_fun output and input must have same type structure, got PyTreeDef(tuple, [*,PyTreeDef(None, []),PyTreeDef(None, []),*,*]) and PyTreeDef(tuple, [*,PyTreeDef(list, []),PyTreeDef(list, []),*,*]).",
     "output_type": "error",
     "traceback": [
      "\u001b[0;31m---------------------------------------------------------------------------\u001b[0m",
      "\u001b[0;31mTypeError\u001b[0m                                 Traceback (most recent call last)",
      "\u001b[0;32m<ipython-input-38-d62e33777969>\u001b[0m in \u001b[0;36m<module>\u001b[0;34m\u001b[0m\n\u001b[1;32m     35\u001b[0m     )\n\u001b[1;32m     36\u001b[0m \u001b[0;34m\u001b[0m\u001b[0m\n\u001b[0;32m---> 37\u001b[0;31m \u001b[0mstate\u001b[0m \u001b[0;34m=\u001b[0m \u001b[0mjax\u001b[0m\u001b[0;34m.\u001b[0m\u001b[0mlax\u001b[0m\u001b[0;34m.\u001b[0m\u001b[0mwhile_loop\u001b[0m\u001b[0;34m(\u001b[0m\u001b[0mcondition_fun\u001b[0m\u001b[0;34m,\u001b[0m \u001b[0mbody_jitted\u001b[0m\u001b[0;34m,\u001b[0m \u001b[0mtrain_state\u001b[0m\u001b[0;34m)\u001b[0m\u001b[0;34m\u001b[0m\u001b[0;34m\u001b[0m\u001b[0m\n\u001b[0m",
      "\u001b[0;32m~/.conda/envs/jax_py38/lib/python3.8/site-packages/jax/lax/lax_control_flow.py\u001b[0m in \u001b[0;36mwhile_loop\u001b[0;34m(cond_fun, body_fun, init_val)\u001b[0m\n\u001b[1;32m    295\u001b[0m   \u001b[0min_tree_children\u001b[0m \u001b[0;34m=\u001b[0m \u001b[0min_tree\u001b[0m\u001b[0;34m.\u001b[0m\u001b[0mchildren\u001b[0m\u001b[0;34m(\u001b[0m\u001b[0;34m)\u001b[0m\u001b[0;34m\u001b[0m\u001b[0;34m\u001b[0m\u001b[0m\n\u001b[1;32m    296\u001b[0m   \u001b[0;32massert\u001b[0m \u001b[0mlen\u001b[0m\u001b[0;34m(\u001b[0m\u001b[0min_tree_children\u001b[0m\u001b[0;34m)\u001b[0m \u001b[0;34m==\u001b[0m \u001b[0;36m1\u001b[0m\u001b[0;34m\u001b[0m\u001b[0;34m\u001b[0m\u001b[0m\n\u001b[0;32m--> 297\u001b[0;31m   _check_tree_and_avals(\"body_fun output and input\",\n\u001b[0m\u001b[1;32m    298\u001b[0m                         \u001b[0mbody_tree\u001b[0m\u001b[0;34m,\u001b[0m \u001b[0mbody_jaxpr\u001b[0m\u001b[0;34m.\u001b[0m\u001b[0mout_avals\u001b[0m\u001b[0;34m,\u001b[0m\u001b[0;34m\u001b[0m\u001b[0;34m\u001b[0m\u001b[0m\n\u001b[1;32m    299\u001b[0m                         in_tree_children[0], init_avals)\n",
      "\u001b[0;32m~/.conda/envs/jax_py38/lib/python3.8/site-packages/jax/lax/lax_control_flow.py\u001b[0m in \u001b[0;36m_check_tree_and_avals\u001b[0;34m(what, tree1, avals1, tree2, avals2)\u001b[0m\n\u001b[1;32m   1909\u001b[0m   \u001b[0;32mif\u001b[0m \u001b[0mtree1\u001b[0m \u001b[0;34m!=\u001b[0m \u001b[0mtree2\u001b[0m\u001b[0;34m:\u001b[0m\u001b[0;34m\u001b[0m\u001b[0;34m\u001b[0m\u001b[0m\n\u001b[1;32m   1910\u001b[0m     \u001b[0mmsg\u001b[0m \u001b[0;34m=\u001b[0m \u001b[0;34m(\u001b[0m\u001b[0;34m\"{} must have same type structure, got {} and {}.\"\u001b[0m\u001b[0;34m)\u001b[0m\u001b[0;34m\u001b[0m\u001b[0;34m\u001b[0m\u001b[0m\n\u001b[0;32m-> 1911\u001b[0;31m     \u001b[0;32mraise\u001b[0m \u001b[0mTypeError\u001b[0m\u001b[0;34m(\u001b[0m\u001b[0mmsg\u001b[0m\u001b[0;34m.\u001b[0m\u001b[0mformat\u001b[0m\u001b[0;34m(\u001b[0m\u001b[0mwhat\u001b[0m\u001b[0;34m,\u001b[0m \u001b[0mtree1\u001b[0m\u001b[0;34m,\u001b[0m \u001b[0mtree2\u001b[0m\u001b[0;34m)\u001b[0m\u001b[0;34m)\u001b[0m\u001b[0;34m\u001b[0m\u001b[0;34m\u001b[0m\u001b[0m\n\u001b[0m\u001b[1;32m   1912\u001b[0m   \u001b[0;32mif\u001b[0m \u001b[0;32mnot\u001b[0m \u001b[0mall\u001b[0m\u001b[0;34m(\u001b[0m\u001b[0msafe_map\u001b[0m\u001b[0;34m(\u001b[0m\u001b[0mtypematch\u001b[0m\u001b[0;34m,\u001b[0m \u001b[0mavals1\u001b[0m\u001b[0;34m,\u001b[0m \u001b[0mavals2\u001b[0m\u001b[0;34m)\u001b[0m\u001b[0;34m)\u001b[0m\u001b[0;34m:\u001b[0m\u001b[0;34m\u001b[0m\u001b[0;34m\u001b[0m\u001b[0m\n\u001b[1;32m   1913\u001b[0m     msg = (\"{} must have identical types, \"\n",
      "\u001b[0;31mTypeError\u001b[0m: body_fun output and input must have same type structure, got PyTreeDef(tuple, [*,PyTreeDef(None, []),PyTreeDef(None, []),*,*]) and PyTreeDef(tuple, [*,PyTreeDef(list, []),PyTreeDef(list, []),*,*])."
     ]
    }
   ],
   "source": [
    "max_layers = 100\n",
    "min_layers = 10\n",
    "threshold = 0.25\n",
    "tol_layers = 50\n",
    "\n",
    "\n",
    "def condition_fun(state):\n",
    "    # stopping criterial\n",
    "    stop_crit = jax.lax.bitwise_and(\n",
    "        jax.lax.bitwise_not(state[0] < min_layers), \n",
    "        state[0] > max_layers\n",
    "    )\n",
    "    stop_crit = jax.lax.bitwise_not(stop_crit)\n",
    "    return stop_crit\n",
    "\n",
    "train_state = (\n",
    "    0, [], [], data, np.zeros(data.shape)\n",
    "    \n",
    ")\n",
    "\n",
    "def body_jitted(train_state):\n",
    "    n_layers, info_loss, params, X, Xldj = train_state\n",
    "    Xtrans, Xldjtrans, new_params = fit_forward_func_jitted(X)\n",
    "\n",
    "    # calculate the information loss\n",
    "    it = it_jitted(X, Xtrans)\n",
    "\n",
    "\n",
    "    return (\n",
    "        n_layers + 1,\n",
    "        info_loss.append(it),\n",
    "        params.append(new_params),\n",
    "        Xtrans,\n",
    "        Xldj + Xldjtrans\n",
    "    )\n",
    "\n",
    "state = jax.lax.while_loop(condition_fun, body_jitted, train_state)"
   ]
  },
  {
   "cell_type": "code",
   "execution_count": null,
   "metadata": {},
   "outputs": [],
   "source": [
    "\n",
    "# with tqdm.trange(max_layers) as pbar:\n",
    "#     for i in pbar:\n",
    "#         # step through\n",
    "#         X, Xldj, params = fit_forward_func_jitted(train_state.X)\n",
    "# #         plot_joint(X, \"blue\", \"Transform\", logger=False)\n",
    "#         # calculate the information loss\n",
    "#         it = information_reduction(train_state.X, X)\n",
    "# #         wandb.log({\"Delta Multi-Information\": onp.array(it)})\n",
    "\n",
    "#         # calculate the running total corrlation\n",
    "# #         it_red.append(it)\n",
    "# #         tc = np.array(it_red).sum()\n",
    "# #         wandb.log({\"TC\": onp.array(tc)})\n",
    "#         # update data and ldj\n",
    "# #         X_transform = X_transform_\n",
    "# #         X_ldj += iX_ldj\n",
    "\n",
    "#         # calculate negative log likelihood\n",
    "# #         nll = jax.scipy.stats.norm.logpdf(data) + X_ldj\n",
    "# #         nll = -nll.sum(axis=1).mean()\n",
    "#         train_state = TrainState(\n",
    "#             n_layers=i,\n",
    "#             info_loss=train_state.info_loss + [it],\n",
    "#             params=train_state.params + [params],\n",
    "#             X=X,\n",
    "#             Xldj=train_state.Xldj + Xldj\n",
    "#         )\n",
    "# #         wandb.log({\"Negative Log-Likelihood\": onp.array(nll)})\n"
   ]
  },
  {
   "cell_type": "code",
   "execution_count": 115,
   "metadata": {},
   "outputs": [
    {
     "name": "stderr",
     "output_type": "stream",
     "text": [
      "/home/emmanuel/.conda/envs/jax_py38/lib/python3.8/site-packages/statsmodels/nonparametric/kernels.py:125: RuntimeWarning: invalid value encountered in true_divide\n",
      "  return (1. / np.sqrt(2 * np.pi)) * np.exp(-(Xi - x)**2 / (h**2 * 2.))\n",
      "/home/emmanuel/.conda/envs/jax_py38/lib/python3.8/site-packages/matplotlib/contour.py:1520: UserWarning: Warning: converting a masked element to nan.\n",
      "  self.zmax = float(z.max())\n",
      "/home/emmanuel/.conda/envs/jax_py38/lib/python3.8/site-packages/matplotlib/contour.py:1521: UserWarning: Warning: converting a masked element to nan.\n",
      "  self.zmin = float(z.min())\n",
      "/home/emmanuel/.conda/envs/jax_py38/lib/python3.8/site-packages/seaborn/distributions.py:288: UserWarning: Data must have variance to compute a kernel density estimate.\n",
      "  warnings.warn(msg, UserWarning)\n",
      "/home/emmanuel/.conda/envs/jax_py38/lib/python3.8/site-packages/seaborn/distributions.py:288: UserWarning: Data must have variance to compute a kernel density estimate.\n",
      "  warnings.warn(msg, UserWarning)\n"
     ]
    },
    {
     "data": {
      "text/plain": [
       "<Figure size 432x288 with 0 Axes>"
      ]
     },
     "metadata": {},
     "output_type": "display_data"
    },
    {
     "data": {
      "image/png": "[encoded data removed]",
      "text/plain": [
       "<Figure size 432x432 with 3 Axes>"
      ]
     },
     "metadata": {
      "needs_background": "light"
     },
     "output_type": "display_data"
    }
   ],
   "source": [
    "plot_joint(train_state.X, \"blue\", \"Transform\", logger=False)"
   ]
  },
  {
   "cell_type": "markdown",
   "metadata": {},
   "source": [
    "### Speed"
   ]
  },
  {
   "cell_type": "code",
   "execution_count": 18,
   "metadata": {},
   "outputs": [],
   "source": [
    "# get the init function\n",
    "fit_forward_func = rbig_init(\n",
    "    method=\"histogram\",\n",
    "    support_ext=10,\n",
    "    precision=1000,\n",
    "    alpha=1e-5\n",
    ")"
   ]
  },
  {
   "cell_type": "code",
   "execution_count": 26,
   "metadata": {},
   "outputs": [],
   "source": [
    "from collections import namedtuple\n",
    "\n",
    "TrainState = namedtuple(\n",
    "    \"TrainState\", [\n",
    "        \"n_layers\", # number of layers \n",
    "#         \"h_layer1\", # entropy of layer 1\n",
    "#         \"h_layer2\", # entropy of layer 2\n",
    "        \"info_loss\", # information loss\n",
    "        \"params\",\n",
    "        \"X\",\n",
    "        \"Xldj\"\n",
    "    ]\n",
    ")\n",
    "\n",
    "max_layers = 100\n",
    "min_layers = 10\n",
    "threshold = 0.25\n",
    "tol_layers = 50\n",
    "\n",
    "\n",
    "def condition_fun(state):\n",
    "    # stopping criterial\n",
    "    stop_crit = (\n",
    "        (state.n_layers < min_layers) &\n",
    "        (state.n_layers > max_layers)\n",
    "    )\n",
    "    return stop_crit\n",
    "\n",
    "data = get_classic(1_000)\n",
    "# data = onp.random.randn(10_000, 50)\n",
    "\n",
    "train_state = TrainState(\n",
    "    n_layers=0,\n",
    "    info_loss=[],\n",
    "    params=[],\n",
    "    X=data,\n",
    "    Xldj=np.zeros(data.shape)\n",
    "    \n",
    ")\n",
    "\n",
    "def body(train_state):\n",
    "\n",
    "    X, Xldj, params = fit_forward_func(train_state.X)\n",
    "\n",
    "    it = information_reduction(train_state.X, X)\n",
    "    train_state = TrainState(\n",
    "        n_layers=train_state.n_layers + 1,\n",
    "        info_loss=train_state.info_loss,\n",
    "        params=train_state.params,\n",
    "        X=X,\n",
    "        Xldj=Xldj\n",
    "    )\n",
    "    return train_state"
   ]
  },
  {
   "cell_type": "code",
   "execution_count": 27,
   "metadata": {},
   "outputs": [
    {
     "name": "stdout",
     "output_type": "stream",
     "text": [
      "0.5891896126227367\n"
     ]
    }
   ],
   "source": [
    "t = body(train_state)"
   ]
  },
  {
   "cell_type": "code",
   "execution_count": 28,
   "metadata": {},
   "outputs": [
    {
     "data": {
      "text/plain": [
       "TrainState(n_layers=1, info_loss=[], params=[], X=DeviceArray([[-0.36339808, -0.44285782],\n",
       "             [ 0.50357825, -1.1635399 ],\n",
       "             [ 0.68222004,  0.32589687],\n",
       "             ...,\n",
       "             [ 0.21608003, -0.6822332 ],\n",
       "             [-0.02451499,  0.46555575],\n",
       "             [-0.14367929, -0.73324432]], dtype=float64), Xldj=DeviceArray([[-0.31345508,  0.68194671],\n",
       "             [-0.32624642,  1.08984959],\n",
       "             [ 0.31043155,  0.81871902],\n",
       "             ...,\n",
       "             [-0.42333794,  1.04652466],\n",
       "             [-0.19230984,  0.52533583],\n",
       "             [-0.35866313,  0.90912481]], dtype=float64))"
      ]
     },
     "execution_count": 28,
     "metadata": {},
     "output_type": "execute_result"
    }
   ],
   "source": [
    "t"
   ]
  },
  {
   "cell_type": "code",
   "execution_count": 29,
   "metadata": {},
   "outputs": [
    {
     "name": "stdout",
     "output_type": "stream",
     "text": [
      "Traced<ShapedArray(float64[]):JaxprTrace(level=0/0)>\n"
     ]
    }
   ],
   "source": [
    "state = jax.lax.while_loop(condition_fun, body, train_state)"
   ]
  },
  {
   "cell_type": "code",
   "execution_count": 25,
   "metadata": {},
   "outputs": [
    {
     "data": {
      "text/plain": [
       "TrainState(n_layers=DeviceArray(0, dtype=int64), info_loss=[], params=[], X=DeviceArray([[2.17126121, 0.63786617],\n",
       "             [1.99469089, 1.05339265],\n",
       "             [0.565957  , 0.71576147],\n",
       "             ...,\n",
       "             [1.81865403, 0.87961603],\n",
       "             [0.9405275 , 0.40544533],\n",
       "             [2.2228609 , 0.79822517]], dtype=float64), Xldj=DeviceArray([[0., 0.],\n",
       "             [0., 0.],\n",
       "             [0., 0.],\n",
       "             ...,\n",
       "             [0., 0.],\n",
       "             [0., 0.],\n",
       "             [0., 0.]], dtype=float64))"
      ]
     },
     "execution_count": 25,
     "metadata": {},
     "output_type": "execute_result"
    }
   ],
   "source": [
    "state"
   ]
  },
  {
   "cell_type": "code",
   "execution_count": null,
   "metadata": {},
   "outputs": [],
   "source": [
    "from collections import namedtuple\n",
    "\n",
    "TrainState = namedtuple(\n",
    "    \"TrainState\", [\n",
    "        \"n_layers\", # number of layers \n",
    "#         \"h_layer1\", # entropy of layer 1\n",
    "#         \"h_layer2\", # entropy of layer 2\n",
    "        \"info_loss\", # information loss\n",
    "        \"params\",\n",
    "        \"X\",\n",
    "        \"Xldj\"\n",
    "    ]\n",
    ")\n",
    "\n",
    "max_layers = 100\n",
    "min_layers = 10\n",
    "threshold = 0.25\n",
    "tol_layers = 50\n",
    "\n",
    "\n",
    "def condition_fun(state):\n",
    "    # stopping criterial\n",
    "    stop_crit = (\n",
    "        (state.n_layers < min_layers) &\n",
    "        (state.n_layers > max_layers)\n",
    "    )\n",
    "    return stop_crit\n",
    "\n",
    "data = get_classic(1_000)\n",
    "# data = onp.random.randn(10_000, 50)\n",
    "\n",
    "train_state = TrainState(\n",
    "    n_layers=0,\n",
    "    info_loss=[],\n",
    "    params=[],\n",
    "    X=data,\n",
    "    Xldj=np.zeros(data.shape)\n",
    "    \n",
    ")\n",
    "\n",
    "def body(train_state):\n",
    "    n_layers, info_loss, params, X, Xldj = train_state\n",
    "\n",
    "    Xtrans, Xldj_new, new_params = fit_forward_func(train_state.X)\n",
    "\n",
    "    it = information_reduction(train_state.X, X)\n",
    "\n",
    "    train_state = (\n",
    "        i, info_loss.append(it),\n",
    "        params.append(new_params),\n",
    "        Xtrans, Xldj + Xldj_new\n",
    "    )\n",
    "    return train_state"
   ]
  },
  {
   "cell_type": "code",
   "execution_count": 88,
   "metadata": {},
   "outputs": [
    {
     "data": {
      "text/plain": [
       "DeviceArray(False, dtype=bool)"
      ]
     },
     "execution_count": 88,
     "metadata": {},
     "output_type": "execute_result"
    }
   ],
   "source": [
    "min_l, max_l = 10, 100\n",
    "n = 100\n",
    "np.logical_and(not n < min_l, n > max_l)"
   ]
  },
  {
   "cell_type": "code",
   "execution_count": 81,
   "metadata": {},
   "outputs": [
    {
     "data": {
      "text/plain": [
       "True"
      ]
     },
     "execution_count": 81,
     "metadata": {},
     "output_type": "execute_result"
    }
   ],
   "source": [
    "not n > min_l"
   ]
  },
  {
   "cell_type": "code",
   "execution_count": null,
   "metadata": {},
   "outputs": [],
   "source": []
  },
  {
   "cell_type": "code",
   "execution_count": 94,
   "metadata": {},
   "outputs": [
    {
     "data": {
      "image/png": "[encoded data removed]",
      "text/plain": [
       "<Figure size 640x480 with 1 Axes>"
      ]
     },
     "metadata": {},
     "output_type": "display_data"
    }
   ],
   "source": [
    "plt.hist(X_[:, 1], 10);"
   ]
  },
  {
   "cell_type": "code",
   "execution_count": null,
   "metadata": {},
   "outputs": [],
   "source": []
  }
 ],
 "metadata": {
  "kernelspec": {
   "display_name": "Python [conda env:.conda-jax_py38]",
   "language": "python",
   "name": "conda-env-.conda-jax_py38-py"
  },
  "language_info": {
   "codemirror_mode": {
    "name": "ipython",
    "version": 3
   },
   "file_extension": ".py",
   "mimetype": "text/x-python",
   "name": "python",
   "nbconvert_exporter": "python",
   "pygments_lexer": "ipython3",
   "version": "3.8.5"
  }
 },
 "nbformat": 4,
 "nbformat_minor": 4
}
