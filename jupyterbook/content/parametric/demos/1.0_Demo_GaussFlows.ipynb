{
 "cells": [
  {
   "cell_type": "markdown",
   "id": "happy-constant",
   "metadata": {},
   "source": [
    "# Demo"
   ]
  },
  {
   "cell_type": "code",
   "execution_count": 1,
   "id": "mysterious-producer",
   "metadata": {},
   "outputs": [],
   "source": [
    "#@title Install Packages\n",
    "# %%capture\n",
    "try:\n",
    "    import sys, os\n",
    "    from pyprojroot import here\n",
    "\n",
    "    # spyder up to find the root\n",
    "    root = here(project_files=[\".here\"])\n",
    "\n",
    "    # append to path\n",
    "    sys.path.append(str(root))\n",
    "except ModuleNotFoundError:\n",
    "    %%capture\n",
    "    import os\n",
    "    os.system(\"pip install objax wandb chex\")\n",
    "    os.system(\"pip install git+https://github.com/IPL-UV/rbig_jax.git#egg=rbig_jax\")"
   ]
  },
  {
   "cell_type": "code",
   "execution_count": 6,
   "id": "correct-exhaust",
   "metadata": {},
   "outputs": [
    {
     "name": "stdout",
     "output_type": "stream",
     "text": [
      "The autoreload extension is already loaded. To reload it, use:\n",
      "  %reload_ext autoreload\n"
     ]
    }
   ],
   "source": [
    "# jax packages\n",
    "import jax\n",
    "import jax.numpy as np\n",
    "from jax.config import config\n",
    "# import chex\n",
    "config.update(\"jax_enable_x64\", False)\n",
    "\n",
    "import numpy as onp\n",
    "from functools import partial\n",
    "import objax\n",
    "import chex\n",
    "from pprint import pprint\n",
    "\n",
    "# library functions\n",
    "from rbig_jax.data import get_classic\n",
    "from rbig_jax.plots import plot_joint, plot_joint_prob, plot_info_loss\n",
    "from rbig_jax.transforms.parametric.mixture import MixtureGaussianCDF\n",
    "from rbig_jax.transforms.logit import Logit\n",
    "from rbig_jax.transforms.inversecdf import InverseGaussCDF\n",
    "from rbig_jax.transforms.parametric import HouseHolder\n",
    "from rbig_jax.transforms.base import CompositeTransform\n",
    "# from rbig_jax.models.gaussflow import GaussianizationFlow\n",
    "\n",
    "\n",
    "# logging\n",
    "import tqdm\n",
    "import wandb\n",
    "\n",
    "# plot methods\n",
    "import matplotlib.pyplot as plt\n",
    "import seaborn as sns\n",
    "sns.reset_defaults()\n",
    "sns.set_context(context=\"talk\", font_scale=0.7)\n",
    "\n",
    "%matplotlib inline\n",
    "%load_ext autoreload\n",
    "%autoreload 2"
   ]
  },
  {
   "cell_type": "markdown",
   "id": "worst-differential",
   "metadata": {},
   "source": [
    "## Demo Data"
   ]
  },
  {
   "cell_type": "code",
   "execution_count": 68,
   "id": "turkish-classification",
   "metadata": {},
   "outputs": [
    {
     "data": {
      "text/plain": [
       "<seaborn.axisgrid.JointGrid at 0x7f450f86af40>"
      ]
     },
     "execution_count": 68,
     "metadata": {},
     "output_type": "execute_result"
    },
    {
     "data": {
      "image/png": "[encoded data removed]",
      "text/plain": [
       "<Figure size 432x432 with 3 Axes>"
      ]
     },
     "metadata": {
      "needs_background": "light"
     },
     "output_type": "display_data"
    }
   ],
   "source": [
    "# %%wandb\n",
    "# get data\n",
    "\n",
    "n_samples = 5_000\n",
    "n_features = 2\n",
    "\n",
    "\n",
    "data = get_classic(n_samples)\n",
    "\n",
    "# plot data\n",
    "sns.jointplot(data[:, 0], data[:, 1], s=5, color='blue')"
   ]
  },
  {
   "cell_type": "markdown",
   "id": "adjustable-sarah",
   "metadata": {},
   "source": [
    "### Model"
   ]
  },
  {
   "cell_type": "code",
   "execution_count": 69,
   "id": "reserved-local",
   "metadata": {},
   "outputs": [],
   "source": [
    "# model hyperparameters\n",
    "n_components = 20\n",
    "n_reflections = 2\n",
    "n_features = data.shape[1]\n",
    "\n",
    "\n",
    "n_layers = 4\n",
    "\n",
    "transforms = []\n",
    "\n",
    "for _ in range(n_layers):\n",
    "    # mixture gaussian cdf distribution, f:[-inf,inf] -> [0,1]\n",
    "    transforms.append(\n",
    "        MixtureGaussianCDF(n_components=n_components)\n",
    "    )\n",
    "    # Logit quantile function, f:[0,1] -> [-inf,inf]\n",
    "    transforms.append(\n",
    "        Logit()\n",
    "    )\n",
    "    # orthogonal rotation layer\n",
    "    transforms.append(\n",
    "        HouseHolder(n_reflections=n_reflections)\n",
    "    )\n",
    "    \n",
    "# compose all transformations into a single chain\n",
    "init_func = CompositeTransform(transforms)\n",
    "\n",
    "# initialize base distribution\n",
    "base_dist = jax.scipy.stats.norm"
   ]
  },
  {
   "cell_type": "code",
   "execution_count": 70,
   "id": "governing-intranet",
   "metadata": {},
   "outputs": [],
   "source": [
    "seed = 123\n",
    "flow_rng = jax.random.PRNGKey(seed)\n",
    "\n",
    "# initialize parameters, forward and inverse function\n",
    "params, forward_transform, inverse_transform = init_func(flow_rng, n_features)"
   ]
  },
  {
   "cell_type": "markdown",
   "id": "industrial-commerce",
   "metadata": {},
   "source": [
    "### Loss Function"
   ]
  },
  {
   "cell_type": "code",
   "execution_count": 71,
   "id": "waiting-desire",
   "metadata": {},
   "outputs": [],
   "source": [
    "def nll_loss(params, inputs):\n",
    "    # forward transformation from chain\n",
    "    z, logabsdet = forward_transform(params, inputs)\n",
    "    \n",
    "    # latent probability\n",
    "    latent_prob = base_dist.logpdf(z)\n",
    "    \n",
    "    # log probability\n",
    "    log_prob = latent_prob.sum(axis=1) + logabsdet\n",
    "    \n",
    "    # negative log-likelihood\n",
    "    return - log_prob.mean()"
   ]
  },
  {
   "cell_type": "code",
   "execution_count": 72,
   "id": "corresponding-deficit",
   "metadata": {},
   "outputs": [
    {
     "data": {
      "text/plain": [
       "DeviceArray(55.76823, dtype=float32)"
      ]
     },
     "execution_count": 72,
     "metadata": {},
     "output_type": "execute_result"
    }
   ],
   "source": [
    "nll_loss(params, data)"
   ]
  },
  {
   "cell_type": "markdown",
   "id": "direct-oriental",
   "metadata": {},
   "source": [
    "### Optimizer"
   ]
  },
  {
   "cell_type": "code",
   "execution_count": 73,
   "id": "breeding-animation",
   "metadata": {},
   "outputs": [],
   "source": [
    "from jax.experimental import optimizers\n",
    "\n",
    "lr = 0.05\n",
    "epochs = 100\n",
    "batch_size = 128\n",
    "\n",
    "\n",
    "opt_init, opt_update, get_params = optimizers.adam(step_size=lr)\n",
    "opt_state = opt_init(params)"
   ]
  },
  {
   "cell_type": "markdown",
   "id": "industrial-developer",
   "metadata": {},
   "source": [
    "### Grad Step"
   ]
  },
  {
   "cell_type": "code",
   "execution_count": 74,
   "id": "worldwide-negative",
   "metadata": {},
   "outputs": [],
   "source": [
    "def step(i, opt_state, inputs):\n",
    "    params = get_params(opt_state)\n",
    "    loss, gradients = jax.value_and_grad(nll_loss)(params, inputs)\n",
    "    return loss, opt_update(i, gradients, opt_state)\n",
    "\n",
    "train_op = jax.jit(step)"
   ]
  },
  {
   "cell_type": "markdown",
   "id": "unlimited-flood",
   "metadata": {},
   "source": [
    "### Optimization"
   ]
  },
  {
   "cell_type": "code",
   "execution_count": 75,
   "id": "micro-fifty",
   "metadata": {},
   "outputs": [
    {
     "name": "stderr",
     "output_type": "stream",
     "text": [
      "100%|██████████| 100/100 [00:39<00:00,  2.53it/s, loss=1.4919]\n"
     ]
    }
   ],
   "source": [
    "import itertools\n",
    "from jax import device_put\n",
    "import tqdm\n",
    "from jax import random\n",
    "\n",
    "\n",
    "# initialize parameters\n",
    "key = random.PRNGKey(123)\n",
    "itercount = itertools.count()\n",
    "permute_rng, rng = random.split(key)\n",
    "\n",
    "train_data = np.array(data)\n",
    "\n",
    "losses = list()\n",
    "\n",
    "pbar = tqdm.trange(epochs)\n",
    "\n",
    "itercount = itertools.count()\n",
    "\n",
    "with pbar:\n",
    "    for i in pbar:\n",
    "\n",
    "        # batch processing\n",
    "        permute_rng, rng = random.split(rng)\n",
    "\n",
    "        # randomly shuffle the data\n",
    "        train_data = random.permutation(permute_rng, train_data)\n",
    "\n",
    "        # Train\n",
    "        avg_loss = []\n",
    "\n",
    "        for batch_index in range(0, n_samples, batch_size):\n",
    "            # compute loss\n",
    "            loss, opt_state = train_op(\n",
    "                next(itercount), \n",
    "                opt_state,\n",
    "                train_data[batch_index:batch_index+batch_size],\n",
    "            )\n",
    "            \n",
    "            \n",
    "            # append batch\n",
    "            avg_loss.append(float(loss))\n",
    "        # average loss\n",
    "        batch_loss = np.mean(np.stack(avg_loss))\n",
    "\n",
    "        # Log losses\n",
    "        losses.append(batch_loss)\n",
    "        pbar.set_postfix({\"loss\": f\"{batch_loss:.4f}\"})"
   ]
  },
  {
   "cell_type": "code",
   "execution_count": null,
   "id": "saving-willow",
   "metadata": {},
   "outputs": [],
   "source": []
  },
  {
   "cell_type": "code",
   "execution_count": null,
   "id": "alleged-picture",
   "metadata": {},
   "outputs": [],
   "source": []
  },
  {
   "cell_type": "code",
   "execution_count": 8,
   "id": "thermal-inside",
   "metadata": {},
   "outputs": [],
   "source": [
    "from typing import List\n",
    "\n",
    "class GaussianizationFlow:\n",
    "    def __init__(\n",
    "        self, rng, n_features: int, bijections: List, base_dist: None, \n",
    "    ):\n",
    "        # initialize bijections\n",
    "        self.init_func = CompositeTransform(bijections)\n",
    "        \n",
    "        # create Gaussinization block\n",
    "        \n",
    "        self.n_features = n_features\n",
    "        self.bijections = bijections\n",
    "        \n",
    "        # create base distribution\n",
    "        if base_dist is None:\n",
    "            base_dist = jax.scipy.stats.norm\n",
    "\n",
    "        self.base_dist = base_dist\n",
    "    \n",
    "    def init_params(self, rng, n_features):\n",
    "        \n",
    "        params, forward_transform, inverse_transform = self.init_func(flow_rng, n_features)\n",
    "        \n",
    "        self.forward_chain = forward_transform\n",
    "        self.inverse_chain = inverse_transform\n",
    "        \n",
    "        return params\n",
    "\n",
    "    def __call__(self, params, X):\n",
    "        return self.bijections(params, X)\n",
    "\n",
    "    def transform(self, params, X):\n",
    "        return self.forward_transform(params, X)\n",
    "\n",
    "    def inverse_transform(self, params, X):\n",
    "        return self.bijections.inverse(params, X)\n",
    "\n",
    "    def log_det_jacobian(self, params, X):\n",
    "        _, logabsdet = self.bijections(params, X)\n",
    "        return logabsdet\n",
    "\n",
    "    def score_samples(self, params, X):\n",
    "        z, logabsdet = self.bijections(params, X)\n",
    "\n",
    "        log_prob = self.base_dist.logpdf(z)\n",
    "\n",
    "        return log_prob.sum(axis=1) + logabsdet\n",
    "\n",
    "    def score(self, params, X):\n",
    "        return -self.score_samples(params, X).mean()\n",
    "\n",
    "#     def sample(self, n_samples: int):\n",
    "\n",
    "#         X_gauss = objax.random.normal(\n",
    "#             (n_samples, self.n_features), generator=self.generator\n",
    "#         )\n",
    "#         return self.inverse_transform(X_gauss)\n"
   ]
  },
  {
   "cell_type": "code",
   "execution_count": null,
   "id": "light-presence",
   "metadata": {},
   "outputs": [],
   "source": []
  },
  {
   "cell_type": "code",
   "execution_count": null,
   "id": "interior-reflection",
   "metadata": {},
   "outputs": [],
   "source": []
  },
  {
   "cell_type": "code",
   "execution_count": null,
   "id": "north-lawyer",
   "metadata": {},
   "outputs": [],
   "source": []
  },
  {
   "cell_type": "code",
   "execution_count": 41,
   "id": "affecting-chicago",
   "metadata": {},
   "outputs": [],
   "source": [
    "# model hyperparameters\n",
    "n_components = 20\n",
    "n_reflections = 2\n",
    "generator = objax.random.Generator(123)\n",
    "learn_temperature = False\n",
    "n_features = data.shape[1]\n",
    "\n",
    "\n",
    "n_layers = 4\n",
    "\n",
    "transforms = []\n",
    "\n",
    "for _ in range(n_layers):\n",
    "    # mixture gaussian cdf distribution, f:[-inf,inf] -> [0,1]\n",
    "    transforms.append(\n",
    "        MixtureGaussianCDF(n_features=n_features, n_components=n_components)\n",
    "    )\n",
    "    # Logit quantile function, f:[0,1] -> [-inf,inf]\n",
    "    transforms.append(\n",
    "        Logit(learn_temperature=learn_temperature)\n",
    "    )\n",
    "    # orthogonal rotation layer\n",
    "    transforms.append(\n",
    "        HouseHolder(n_features=n_features, n_reflections=n_reflections, generator=generator)\n",
    "    )\n",
    "    \n",
    "# compose all transformations into a single chain\n",
    "transform = CompositeTransform(transforms)\n",
    "\n",
    "# initialize base distribution\n",
    "base_dist = jax.scipy.stats.norm\n",
    "\n",
    "# initialize Model\n",
    "gf_model = GaussianizationFlow(n_features=n_features, bijections=transform, base_dist=base_dist)"
   ]
  },
  {
   "cell_type": "code",
   "execution_count": 42,
   "id": "electrical-arthur",
   "metadata": {},
   "outputs": [
    {
     "name": "stdout",
     "output_type": "stream",
     "text": [
      "25\n"
     ]
    }
   ],
   "source": [
    "pprint(len(gf_model.vars()))"
   ]
  },
  {
   "cell_type": "markdown",
   "id": "ignored-pizza",
   "metadata": {},
   "source": [
    "#### Loss Function"
   ]
  },
  {
   "cell_type": "code",
   "execution_count": 43,
   "id": "indoor-allocation",
   "metadata": {},
   "outputs": [],
   "source": [
    "# vectorized the model to allow for batches\n",
    "# model_vectorized = objax.Vectorize(model, vc=model.vars())\n",
    "\n",
    "# model_jitted = objax.Jit(model, vc=model.vars())\n",
    "\n",
    "\n",
    "@objax.Function.with_vars(gf_model.vars())\n",
    "def nll_loss(x):\n",
    "    return gf_model.score(x)"
   ]
  },
  {
   "cell_type": "code",
   "execution_count": 44,
   "id": "trained-cutting",
   "metadata": {},
   "outputs": [
    {
     "data": {
      "text/plain": [
       "DeviceArray(44.37001, dtype=float32)"
      ]
     },
     "execution_count": 44,
     "metadata": {},
     "output_type": "execute_result"
    }
   ],
   "source": [
    "nll_loss(data)"
   ]
  },
  {
   "cell_type": "markdown",
   "id": "gorgeous-charter",
   "metadata": {},
   "source": [
    "##### Optimizer"
   ]
  },
  {
   "cell_type": "code",
   "execution_count": 45,
   "id": "spiritual-carolina",
   "metadata": {},
   "outputs": [],
   "source": [
    "# define the optimizer\n",
    "opt = objax.optimizer.Adam(gf_model.vars())\n",
    "\n",
    "# get grad values\n",
    "gv = objax.GradValues(nll_loss, gf_model.vars())\n",
    "lr = 0.05\n",
    "epochs = 100\n",
    "batch_size = 128\n",
    "\n",
    "@objax.Function.with_vars(gf_model.vars() + opt.vars())\n",
    "def train_op(x):\n",
    "    g, v = gv(x)  # returns gradients, loss\n",
    "    opt(lr, g)\n",
    "    return v\n",
    "\n",
    "# This line is optional: it is compiling the code to make it faster.\n",
    "train_op = objax.Jit(train_op)"
   ]
  },
  {
   "cell_type": "markdown",
   "id": "unable-quantum",
   "metadata": {},
   "source": [
    "#### Testing"
   ]
  },
  {
   "cell_type": "code",
   "execution_count": 46,
   "id": "conscious-promotion",
   "metadata": {},
   "outputs": [
    {
     "name": "stderr",
     "output_type": "stream",
     "text": [
      "100%|██████████| 100/100 [00:33<00:00,  2.94it/s, loss=1.4586]\n"
     ]
    }
   ],
   "source": [
    "import itertools\n",
    "from jax import device_put\n",
    "import tqdm\n",
    "from jax import random\n",
    "\n",
    "\n",
    "# initialize parameters\n",
    "key = random.PRNGKey(123)\n",
    "itercount = itertools.count()\n",
    "permute_rng, rng = random.split(key)\n",
    "\n",
    "train_data = np.array(data)\n",
    "\n",
    "losses = list()\n",
    "\n",
    "pbar = tqdm.trange(epochs)\n",
    "\n",
    "with pbar:\n",
    "    for i in pbar:\n",
    "\n",
    "        # batch processing\n",
    "        permute_rng, rng = random.split(rng)\n",
    "\n",
    "        # randomly shuffle the data\n",
    "        train_data = random.permutation(permute_rng, train_data)\n",
    "\n",
    "        # Train\n",
    "        avg_loss = []\n",
    "\n",
    "        for batch_index in range(0, n_samples, batch_size):\n",
    "            # compute loss\n",
    "            loss = float(train_op( train_data[batch_index:batch_index+batch_size])[0])\n",
    "            # append batch\n",
    "            avg_loss.append(loss)\n",
    "        # average loss\n",
    "        batch_loss = np.mean(np.stack(avg_loss))\n",
    "\n",
    "        # Log losses\n",
    "        losses.append(batch_loss)\n",
    "        pbar.set_postfix({\"loss\": f\"{batch_loss:.4f}\"})"
   ]
  },
  {
   "cell_type": "markdown",
   "id": "stuck-iceland",
   "metadata": {},
   "source": [
    "#### Losses"
   ]
  },
  {
   "cell_type": "code",
   "execution_count": 76,
   "id": "durable-pattern",
   "metadata": {},
   "outputs": [
    {
     "data": {
      "text/plain": [
       "[<matplotlib.lines.Line2D at 0x7f450fdaae80>]"
      ]
     },
     "execution_count": 76,
     "metadata": {},
     "output_type": "execute_result"
    },
    {
     "data": {
      "image/png": "[encoded data removed]",
      "text/plain": [
       "<Figure size 432x288 with 1 Axes>"
      ]
     },
     "metadata": {
      "needs_background": "light"
     },
     "output_type": "display_data"
    }
   ],
   "source": [
    "plt.plot(losses)"
   ]
  },
  {
   "cell_type": "code",
   "execution_count": 77,
   "id": "facial-relations",
   "metadata": {},
   "outputs": [],
   "source": [
    "final_params = get_params(opt_state)"
   ]
  },
  {
   "cell_type": "markdown",
   "id": "intensive-designer",
   "metadata": {},
   "source": [
    "#### Forward Transformation"
   ]
  },
  {
   "cell_type": "code",
   "execution_count": 78,
   "id": "unavailable-great",
   "metadata": {},
   "outputs": [
    {
     "name": "stdout",
     "output_type": "stream",
     "text": [
      "CPU times: user 967 ms, sys: 61.8 ms, total: 1.03 s\n",
      "Wall time: 683 ms\n"
     ]
    }
   ],
   "source": [
    "%%time\n",
    "# forward transformation\n",
    "z, _ = forward_transform(final_params, data)"
   ]
  },
  {
   "cell_type": "code",
   "execution_count": 79,
   "id": "partial-occasion",
   "metadata": {},
   "outputs": [
    {
     "data": {
      "text/plain": [
       "<seaborn.axisgrid.JointGrid at 0x7f4521afd5e0>"
      ]
     },
     "execution_count": 79,
     "metadata": {},
     "output_type": "execute_result"
    },
    {
     "data": {
      "image/png": "[encoded data removed]",
      "text/plain": [
       "<Figure size 432x432 with 3 Axes>"
      ]
     },
     "metadata": {
      "needs_background": "light"
     },
     "output_type": "display_data"
    }
   ],
   "source": [
    "sns.jointplot(z[:, 0], z[:, 1], s=5, color='red')"
   ]
  },
  {
   "cell_type": "markdown",
   "id": "thick-naples",
   "metadata": {},
   "source": [
    "#### Inverse Transformation"
   ]
  },
  {
   "cell_type": "code",
   "execution_count": 80,
   "id": "fallen-mirror",
   "metadata": {},
   "outputs": [
    {
     "name": "stdout",
     "output_type": "stream",
     "text": [
      "CPU times: user 6.35 s, sys: 0 ns, total: 6.35 s\n",
      "Wall time: 6.34 s\n"
     ]
    }
   ],
   "source": [
    "%%time\n",
    "# inverse transformation\n",
    "inverse_transform_jitted = jax.jit(inverse_transform)\n",
    "X_approx , _ = inverse_transform_jitted(final_params, z)"
   ]
  },
  {
   "cell_type": "code",
   "execution_count": null,
   "id": "hydraulic-hardwood",
   "metadata": {},
   "outputs": [],
   "source": [
    "sns.jointplot(X_approx[:, 0], X_approx[:, 1], s=5, color='green')"
   ]
  },
  {
   "cell_type": "markdown",
   "id": "aggregate-dealer",
   "metadata": {},
   "source": [
    "### Application I - Generating Samples"
   ]
  },
  {
   "cell_type": "code",
   "execution_count": 52,
   "id": "bronze-austria",
   "metadata": {},
   "outputs": [
    {
     "name": "stdout",
     "output_type": "stream",
     "text": [
      "CPU times: user 6.05 s, sys: 9.3 ms, total: 6.06 s\n",
      "Wall time: 6.06 s\n"
     ]
    }
   ],
   "source": [
    "%%time\n",
    "# generate samples in the latent domain\n",
    "n_gen_samples = 10_000\n",
    "\n",
    "z_samples = jax.random.normal(rng, shape=(n_gen_samples, 2))\n",
    "\n",
    "# inverse transformation\n",
    "X_samples , _ = inverse_transform_jitted(final_params, z_samples)"
   ]
  },
  {
   "cell_type": "code",
   "execution_count": 53,
   "id": "documentary-locator",
   "metadata": {},
   "outputs": [
    {
     "data": {
      "text/plain": [
       "<seaborn.axisgrid.JointGrid at 0x7f450ff77a00>"
      ]
     },
     "execution_count": 53,
     "metadata": {},
     "output_type": "execute_result"
    },
    {
     "data": {
      "image/png": "[encoded data removed]",
      "text/plain": [
       "<Figure size 432x432 with 3 Axes>"
      ]
     },
     "metadata": {
      "needs_background": "light"
     },
     "output_type": "display_data"
    }
   ],
   "source": [
    "sns.jointplot(X_samples[:, 0], X_samples[:, 1], s=5, color='purple')"
   ]
  },
  {
   "cell_type": "markdown",
   "id": "located-pharmaceutical",
   "metadata": {},
   "source": [
    "### Probability Density Estimation"
   ]
  },
  {
   "cell_type": "code",
   "execution_count": 54,
   "id": "indoor-viking",
   "metadata": {},
   "outputs": [
    {
     "name": "stdout",
     "output_type": "stream",
     "text": [
      "CPU times: user 783 ms, sys: 63.3 ms, total: 846 ms\n",
      "Wall time: 675 ms\n"
     ]
    }
   ],
   "source": [
    "%%time\n",
    "# log probability\n",
    "# X_log_prob = gf_model.score_samples(np.array(data))\n",
    "\n",
    "# forward transformation\n",
    "z, logabsdet = forward_transform(final_params, data)\n",
    "\n",
    "# latent probability\n",
    "latent_prob = base_dist.logpdf(z)\n",
    "\n",
    "# log probability\n",
    "X_log_prob = latent_prob.sum(axis=1) + logabsdet"
   ]
  },
  {
   "cell_type": "code",
   "execution_count": 55,
   "id": "unsigned-lincoln",
   "metadata": {},
   "outputs": [
    {
     "data": {
      "image/png": "[encoded data removed]",
      "text/plain": [
       "<Figure size 432x288 with 2 Axes>"
      ]
     },
     "metadata": {
      "needs_background": "light"
     },
     "output_type": "display_data"
    }
   ],
   "source": [
    "cmap = \"Reds\"\n",
    "probs = X_log_prob\n",
    "# probs = np.clip(probs, 0.0, 1.0)\n",
    "probs = np.clip(probs, None, 0.0)\n",
    "title = \"Log Probability\"\n",
    "\n",
    "fig, ax = plt.subplots()\n",
    "h = ax.scatter(data[:, 0], data[:, 1], s=1, c=probs, cmap=cmap, vmax=0.0)\n",
    "plt.xlabel(\"X\")\n",
    "plt.ylabel(\"Y\")\n",
    "plt.colorbar(h)\n",
    "ax.set_title(title)\n",
    "plt.tight_layout()"
   ]
  },
  {
   "cell_type": "markdown",
   "id": "golden-warning",
   "metadata": {},
   "source": [
    "### Probability"
   ]
  },
  {
   "cell_type": "code",
   "execution_count": 56,
   "id": "orange-canal",
   "metadata": {},
   "outputs": [],
   "source": [
    "ngrid = 1_000\n",
    "buffer = 0.1\n",
    "xline = np.linspace(data[:,0].min()-buffer, data[:,0].max()+buffer, ngrid)\n",
    "yline = np.linspace(data[:,1].min()-buffer, data[:,1].max()+buffer, ngrid)\n",
    "xgrid, ygrid = np.meshgrid(xline, yline)\n",
    "xyinput = np.concatenate([xgrid.reshape(-1, 1), ygrid.reshape(-1, 1)], axis=1)"
   ]
  },
  {
   "cell_type": "code",
   "execution_count": 57,
   "id": "stuck-quantum",
   "metadata": {},
   "outputs": [
    {
     "name": "stdout",
     "output_type": "stream",
     "text": [
      "CPU times: user 36.4 s, sys: 12.1 s, total: 48.6 s\n",
      "Wall time: 8.16 s\n"
     ]
    }
   ],
   "source": [
    "%%time\n",
    "# log probability\n",
    "# log_prob = gf_model.score_samples(np.array(xyinput))\n",
    "# forward transformation\n",
    "z, logabsdet = forward_transform(final_params, np.array(xyinput))\n",
    "\n",
    "# latent probability\n",
    "latent_prob = base_dist.logpdf(z)\n",
    "\n",
    "# log probability\n",
    "X_log_prob = latent_prob.sum(axis=1) + logabsdet"
   ]
  },
  {
   "cell_type": "code",
   "execution_count": 58,
   "id": "enormous-guitar",
   "metadata": {},
   "outputs": [
    {
     "data": {
      "image/png": "[encoded data removed]",
      "text/plain": [
       "<Figure size 432x288 with 2 Axes>"
      ]
     },
     "metadata": {
      "needs_background": "light"
     },
     "output_type": "display_data"
    }
   ],
   "source": [
    "cmap = \"Reds\"\n",
    "probs = np.exp(X_log_prob)\n",
    "# probs = np.clip(probs, 0.0, 1.0)\n",
    "title = \"Probability\"\n",
    "\n",
    "fig, ax = plt.subplots()\n",
    "h = ax.scatter(xyinput[:, 0], xyinput[:, 1], s=1, c=probs,  cmap=cmap, vmin=0.0, vmax=1.0)\n",
    "plt.xlabel(\"X\")\n",
    "plt.ylabel(\"Y\")\n",
    "plt.colorbar(h)\n",
    "ax.set_title(title)\n",
    "plt.tight_layout()"
   ]
  },
  {
   "cell_type": "markdown",
   "id": "bearing-trademark",
   "metadata": {},
   "source": [
    "### Negative Log-Likelihood"
   ]
  },
  {
   "cell_type": "code",
   "execution_count": 59,
   "id": "irish-short",
   "metadata": {},
   "outputs": [
    {
     "name": "stdout",
     "output_type": "stream",
     "text": [
      "Negative Log-Likelihood: 1.4574163\n"
     ]
    }
   ],
   "source": [
    "nll = nll_loss(final_params, data)\n",
    "\n",
    "print(\"Negative Log-Likelihood:\", nll)"
   ]
  },
  {
   "cell_type": "code",
   "execution_count": null,
   "id": "covered-orbit",
   "metadata": {},
   "outputs": [],
   "source": []
  }
 ],
 "metadata": {
  "kernelspec": {
   "display_name": "Python [conda env:.conda-jax_py38]",
   "language": "python",
   "name": "conda-env-.conda-jax_py38-py"
  },
  "language_info": {
   "codemirror_mode": {
    "name": "ipython",
    "version": 3
   },
   "file_extension": ".py",
   "mimetype": "text/x-python",
   "name": "python",
   "nbconvert_exporter": "python",
   "pygments_lexer": "ipython3",
   "version": "3.8.5"
  }
 },
 "nbformat": 4,
 "nbformat_minor": 5
}
