{
 "cells": [
  {
   "source": [
    "# Mutual Information"
   ],
   "cell_type": "markdown",
   "metadata": {}
  },
  {
   "cell_type": "code",
   "execution_count": 39,
   "metadata": {},
   "outputs": [],
   "source": [
    "#@title Install Packages\n",
    "# %%capture\n",
    "try:\n",
    "    import sys, os\n",
    "    from pyprojroot import here\n",
    "\n",
    "    # spyder up to find the root\n",
    "    root = here(project_files=[\".here\"])\n",
    "\n",
    "    # append to path\n",
    "    sys.path.append(str(here()))\n",
    "except ModuleNotFoundError:\n",
    "    import os\n",
    "    os.system(\"pip install git+https://github.com/IPL-UV/rbig_jax.git#egg=rbig_jax\")\n",
    "    \n",
    "finally:\n",
    "    # import library functions\n",
    "    from rbig_jax.data import get_classic\n",
    "    from rbig_jax.plots import plot_joint, plot_joint_prob, plot_info_loss\n",
    "    from rbig_jax.information.mi import rbig_mutual_info, rbig_mutual_info_sum"
   ]
  },
  {
   "cell_type": "code",
   "execution_count": 8,
   "metadata": {},
   "outputs": [],
   "source": [
    "# jax packages\n",
    "import jax\n",
    "import jax.numpy as np\n",
    "from jax.config import config\n",
    "import chex\n",
    "config.update(\"jax_enable_x64\", False)\n",
    "\n",
    "import numpy as onp\n",
    "from functools import partial\n",
    "\n",
    "# logging\n",
    "import tqdm\n",
    "import wandb\n",
    "\n",
    "# plot methods\n",
    "import matplotlib.pyplot as plt\n",
    "import seaborn as sns\n",
    "sns.reset_defaults()\n",
    "sns.set_context(context=\"talk\", font_scale=0.7)\n",
    "\n",
    "%matplotlib inline\n",
    "%load_ext autoreload\n",
    "%autoreload 2"
   ]
  },
  {
   "cell_type": "markdown",
   "metadata": {},
   "source": [
    "## Demo Data"
   ]
  },
  {
   "cell_type": "code",
   "execution_count": 9,
   "metadata": {},
   "outputs": [
    {
     "output_type": "stream",
     "name": "stderr",
     "text": [
      "/home/emmanuel/.conda/envs/jax_py38/lib/python3.8/site-packages/jax/lib/xla_bridge.py:130: UserWarning: No GPU/TPU found, falling back to CPU.\n  warnings.warn('No GPU/TPU found, falling back to CPU.')\n"
     ]
    }
   ],
   "source": [
    "#Parameters\n",
    "n_samples = 10000\n",
    "d_dimensions = 10\n",
    "\n",
    "seed = 123\n",
    "\n",
    "rng = onp.random.RandomState(seed)\n",
    "\n",
    "# Generate random Data\n",
    "A = rng.rand(2 * d_dimensions, 2 * d_dimensions)\n",
    "\n",
    "# Covariance Matrix\n",
    "C = A @ A.T\n",
    "mu = np.zeros((2 * d_dimensions))\n",
    "\n",
    "dat_all = rng.multivariate_normal(mu, C, n_samples)\n",
    "\n",
    "CX = C[:d_dimensions, :d_dimensions]\n",
    "CY = C[d_dimensions:, d_dimensions:]\n",
    "\n",
    "X = dat_all[:, :d_dimensions]\n",
    "Y = dat_all[:, d_dimensions:]"
   ]
  },
  {
   "cell_type": "code",
   "execution_count": 10,
   "metadata": {},
   "outputs": [
    {
     "output_type": "stream",
     "name": "stdout",
     "text": [
      "MI: 8.0710\n"
     ]
    }
   ],
   "source": [
    "H_X = 0.5 * np.log(2 * np.pi * np.exp(1) * np.abs(np.linalg.det(CX)))\n",
    "H_Y = 0.5 * np.log(2 * np.pi * np.exp(1) * np.abs(np.linalg.det(CY)))\n",
    "H = 0.5 * np.log(2 * np.pi * np.exp(1) * np.abs(np.linalg.det(C)))\n",
    "\n",
    "mi_original = H_X + H_Y - H\n",
    "mi_original *= np.log(2)\n",
    "\n",
    "print(f\"MI: {mi_original:.4f}\")"
   ]
  },
  {
   "source": [
    "## Mutual Information with RBIG"
   ],
   "cell_type": "markdown",
   "metadata": {}
  },
  {
   "cell_type": "code",
   "execution_count": 36,
   "metadata": {},
   "outputs": [
    {
     "output_type": "stream",
     "name": "stdout",
     "text": [
      "CPU times: user 33 s, sys: 14.2 s, total: 47.1 s\nWall time: 27.8 s\n"
     ]
    }
   ],
   "source": [
    "%%time\n",
    "\n",
    "zero_tolerance = 30\n",
    "\n",
    "X = np.array(X, np.float32)\n",
    "Y = np.array(Y, np.float32)\n",
    "\n",
    "mi_XY_rbig = rbig_mutual_info(\n",
    "    X=X.block_until_ready(),\n",
    "    Y=Y.block_until_ready(),\n",
    "    zero_tolerance=zero_tolerance,\n",
    ")\n"
   ]
  },
  {
   "cell_type": "code",
   "execution_count": 37,
   "metadata": {},
   "outputs": [
    {
     "output_type": "stream",
     "name": "stdout",
     "text": [
      "RBIG MIXY: 6.97406\nRBIG MIx: 6.42184\nRBIG MIy: 8.46860\n"
     ]
    }
   ],
   "source": [
    "\n",
    "print(f\"RBIG MIXY: {mi_XY_rbig.mi_X:.5f}\")\n",
    "print(f\"RBIG MIx: {mi_XY_rbig.mi_Y:.5f}\")\n",
    "print(f\"RBIG MIy: {mi_XY_rbig.mi_XY:.5f}\")"
   ]
  },
  {
   "source": [
    "### Summation Version\n",
    "\n",
    "\n",
    "$$\n",
    "I(\\mathbf{X};\\mathbf{Y}) = H(\\mathbf{X}) + H(\\mathbf{Y}) - H(\\mathbf{X},\\mathbf{Y})\n",
    "$$"
   ],
   "cell_type": "markdown",
   "metadata": {}
  },
  {
   "cell_type": "code",
   "execution_count": 45,
   "metadata": {},
   "outputs": [
    {
     "output_type": "stream",
     "name": "stdout",
     "text": [
      "CPU times: user 32.7 s, sys: 13.3 s, total: 46 s\nWall time: 27.8 s\n"
     ]
    }
   ],
   "source": [
    "%%time\n",
    "\n",
    "zero_tolerance = 30\n",
    "\n",
    "X = np.array(X, np.float32)\n",
    "Y = np.array(Y, np.float32)\n",
    "\n",
    "mi_XY_rbig = rbig_mutual_info_sum(\n",
    "    X=X.block_until_ready(),\n",
    "    Y=Y.block_until_ready(),\n",
    "    zero_tolerance=zero_tolerance,\n",
    ")\n"
   ]
  },
  {
   "cell_type": "code",
   "execution_count": 46,
   "metadata": {},
   "outputs": [
    {
     "output_type": "stream",
     "name": "stdout",
     "text": [
      "RBIG H_X: 26.95807\nRBIG H_Y: 27.42295\nRBIG H_XY: 44.69664\nRBIG I_XY: 9.68437\n"
     ]
    }
   ],
   "source": [
    "print(f\"RBIG H_X: {mi_XY_rbig.H_X:.5f}\")\n",
    "print(f\"RBIG H_Y: {mi_XY_rbig.H_Y:.5f}\")\n",
    "print(f\"RBIG H_XY: {mi_XY_rbig.H_XY:.5f}\")\n",
    "print(f\"RBIG I_XY: {mi_XY_rbig.mi_XY:.5f}\")"
   ]
  },
  {
   "cell_type": "code",
   "execution_count": null,
   "metadata": {},
   "outputs": [],
   "source": []
  }
 ],
 "metadata": {
  "kernelspec": {
   "display_name": "Python 3",
   "language": "python",
   "name": "python3"
  },
  "language_info": {
   "codemirror_mode": {
    "name": "ipython",
    "version": 3
   },
   "file_extension": ".py",
   "mimetype": "text/x-python",
   "name": "python",
   "nbconvert_exporter": "python",
   "pygments_lexer": "ipython3",
   "version": "3.8.5-final"
  }
 },
 "nbformat": 4,
 "nbformat_minor": 4
}