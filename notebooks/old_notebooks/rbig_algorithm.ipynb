{
 "cells": [
  {
   "cell_type": "markdown",
   "metadata": {},
   "source": [
    "# Walkthrough - RBIG"
   ]
  },
  {
   "cell_type": "code",
   "execution_count": 1,
   "metadata": {},
   "outputs": [],
   "source": [
    "import sys\n",
    "sys.path.append(\"../\")\n",
    "\n",
    "# jax packages\n",
    "import jax\n",
    "import jax.numpy as np\n",
    "from jax.config import config\n",
    "import chex\n",
    "config.update(\"jax_enable_x64\", True)\n",
    "\n",
    "import numpy as onp\n",
    "from functools import partial\n",
    "\n",
    "# library parameters\n",
    "from rbig_jax.data import get_classic\n",
    "from rbig_jax.information.reduction import information_reduction\n",
    "from rbig_jax.plots import plot_info_loss, plot_joint, plot_joint_prob\n",
    "from rbig_jax.transforms.gaussian import init_params\n",
    "from rbig_jax.transforms.rbig import rbig_init\n",
    "\n",
    "# logging\n",
    "import tqdm\n",
    "import wandb\n",
    "\n",
    "# plot methods\n",
    "import matplotlib.pyplot as plt\n",
    "import seaborn as sns\n",
    "sns.reset_defaults()\n",
    "sns.set_context(context=\"talk\", font_scale=0.7)\n",
    "\n",
    "%matplotlib inline\n",
    "%load_ext autoreload\n",
    "%autoreload 2"
   ]
  },
  {
   "cell_type": "code",
   "execution_count": 2,
   "metadata": {},
   "outputs": [],
   "source": [
    "t = iter(range(10))"
   ]
  },
  {
   "cell_type": "code",
   "execution_count": 3,
   "metadata": {},
   "outputs": [
    {
     "data": {
      "text/plain": [
       "0"
      ]
     },
     "execution_count": 3,
     "metadata": {},
     "output_type": "execute_result"
    }
   ],
   "source": [
    "next(t)"
   ]
  },
  {
   "cell_type": "code",
   "execution_count": 4,
   "metadata": {},
   "outputs": [
    {
     "data": {
      "image/png": "[encoded data removed]",
      "text/plain": [
       "<Figure size 432x288 with 1 Axes>"
      ]
     },
     "metadata": {
      "needs_background": "light"
     },
     "output_type": "display_data"
    }
   ],
   "source": [
    "# get data\n",
    "data = get_classic(100)\n",
    "\n",
    "# plot data\n",
    "plt.hist(data[:, 1], 10);"
   ]
  },
  {
   "cell_type": "markdown",
   "metadata": {},
   "source": [
    "## Logging"
   ]
  },
  {
   "cell_type": "code",
   "execution_count": 5,
   "metadata": {},
   "outputs": [
    {
     "data": {
      "text/html": [
       "\n",
       "                Logging results to <a href=\"https://wandb.com\" target=\"_blank\">Weights & Biases</a> <a href=\"https://docs.wandb.com/integrations/jupyter.html\" target=\"_blank\">(Documentation)</a>.<br/>\n",
       "                Project page: <a href=\"https://app.wandb.ai/emanjohnson91/rbigjax-demo-2d\" target=\"_blank\">https://app.wandb.ai/emanjohnson91/rbigjax-demo-2d</a><br/>\n",
       "                Run page: <a href=\"https://app.wandb.ai/emanjohnson91/rbigjax-demo-2d/runs/9ss4y9tp\" target=\"_blank\">https://app.wandb.ai/emanjohnson91/rbigjax-demo-2d/runs/9ss4y9tp</a><br/>\n",
       "            "
      ],
      "text/plain": [
       "<IPython.core.display.HTML object>"
      ]
     },
     "metadata": {},
     "output_type": "display_data"
    },
    {
     "data": {
      "text/plain": [
       "W&B Run: https://app.wandb.ai/emanjohnson91/rbigjax-demo-2d/runs/9ss4y9tp"
      ]
     },
     "execution_count": 5,
     "metadata": {},
     "output_type": "execute_result"
    }
   ],
   "source": [
    "wandb.init(project=\"rbigjax-demo-2d\", entity=\"emanjohnson91\")\n"
   ]
  },
  {
   "cell_type": "code",
   "execution_count": 6,
   "metadata": {},
   "outputs": [
    {
     "name": "stderr",
     "output_type": "stream",
     "text": [
      "\u001b[34m\u001b[1mwandb\u001b[0m: Wandb version 0.10.4 is available!  To upgrade, please run:\n",
      "\u001b[34m\u001b[1mwandb\u001b[0m:  $ pip install wandb --upgrade\n"
     ]
    }
   ],
   "source": [
    "\n",
    "# config parameters\n",
    "wandb.config.n_samples = 10_000\n",
    "wandb.config.dataset = \"classic\"\n",
    "wandb.config.method = \"histogram\"\n",
    "wandb.config.support_extension = 10\n",
    "wandb.config.precision = 50\n",
    "wandb.config.alpha = 0.0\n",
    "wandb.config.n_layers = 20"
   ]
  },
  {
   "cell_type": "markdown",
   "metadata": {},
   "source": [
    "## Data"
   ]
  },
  {
   "cell_type": "code",
   "execution_count": 7,
   "metadata": {},
   "outputs": [],
   "source": [
    "def plot_joint(data, color: str = \"red\", title: str = \"\", kind=\"kde\", logger=None):\n",
    "\n",
    "    plt.figure()\n",
    "    sns.jointplot(x=data[:, 0], y=data[:, 1], kind=kind, color=color)\n",
    "    plt.xlabel(\"X\")\n",
    "    plt.ylabel(\"Y\")\n",
    "    plt.suptitle(title)\n",
    "    plt.tight_layout()\n",
    "    plt.show()\n",
    "    \n",
    "\n",
    "def plot_joint_prob(data, probs, cmap=\"Reds\", title=\"\", logger=None):\n",
    "\n",
    "    fig, ax = plt.subplots()\n",
    "    h = ax.scatter(data[:, 0], data[:, 1], s=1, c=probs, cmap=cmap)\n",
    "    plt.xlabel(\"X\")\n",
    "    plt.ylabel(\"Y\")\n",
    "    plt.colorbar(h,)\n",
    "    ax.set_title(title)\n",
    "    plt.tight_layout()\n",
    "    plt.show()"
   ]
  },
  {
   "cell_type": "code",
   "execution_count": 8,
   "metadata": {},
   "outputs": [
    {
     "data": {
      "text/plain": [
       "<Figure size 432x288 with 0 Axes>"
      ]
     },
     "metadata": {},
     "output_type": "display_data"
    },
    {
     "data": {
      "image/png": "[encoded data removed]",
      "text/plain": [
       "<Figure size 432x432 with 3 Axes>"
      ]
     },
     "metadata": {
      "needs_background": "light"
     },
     "output_type": "display_data"
    }
   ],
   "source": [
    "# %%wandb\n",
    "# get data\n",
    "data = get_classic(1_000)\n",
    "\n",
    "# plot data\n",
    "plot_joint(data, \"blue\", \"Original Data\", logger=False)"
   ]
  },
  {
   "cell_type": "markdown",
   "metadata": {},
   "source": [
    "## Initialization\n",
    "\n",
    "First we need to initialize our RBIG method with some parameters. For example, which marginal gaussianization method, what precision do we want, and what rotation method do we want.\n",
    "\n",
    "* `method` - the method used to marginally transform the data. We have histogram or kde currently implemented\n",
    "* `support_extension` - this is the amount we want to extend the support for our marginal distributions. Higher values indicate higher\n",
    "* `precision` - we use interpolation because it is much faster. So the CDF, PDF and PPF are interpolation schemes. This value will allow one to have more \"precision\" for the estimated quantities but it will be slower."
   ]
  },
  {
   "cell_type": "code",
   "execution_count": 9,
   "metadata": {},
   "outputs": [],
   "source": [
    "from rbig_jax.transforms.rbig import forward_transform, inverse_transform"
   ]
  },
  {
   "cell_type": "code",
   "execution_count": 11,
   "metadata": {},
   "outputs": [],
   "source": [
    "# get the init function\n",
    "fit_forward_func = rbig_init(\n",
    "    method=\"histogram\",\n",
    "    support_ext=10,\n",
    "    precision=100,\n",
    "    alpha=1e-5\n",
    ")"
   ]
  },
  {
   "cell_type": "code",
   "execution_count": 12,
   "metadata": {},
   "outputs": [
    {
     "name": "stderr",
     "output_type": "stream",
     "text": [
      "/home/emmanuel/.conda/envs/jax_py38/lib/python3.8/site-packages/jax/lib/xla_bridge.py:130: UserWarning: No GPU/TPU found, falling back to CPU.\n",
      "  warnings.warn('No GPU/TPU found, falling back to CPU.')\n"
     ]
    }
   ],
   "source": [
    "# fit forward function\n",
    "Xtrans, ldX, params = fit_forward_func(data)\n",
    "\n",
    "# forward function\n",
    "Xtrans_, ldX_ = forward_transform(params, data)\n",
    "\n",
    "# checks to make sure they're the same\n",
    "chex.assert_tree_all_close(Xtrans, Xtrans_, rtol=1e-5)\n",
    "chex.assert_tree_all_close(ldX, ldX_, rtol=1e-5)\n",
    "chex.assert_shape(Xtrans, (1_000, 2))"
   ]
  },
  {
   "cell_type": "code",
   "execution_count": 12,
   "metadata": {},
   "outputs": [
    {
     "data": {
      "text/plain": [
       "<Figure size 432x288 with 0 Axes>"
      ]
     },
     "metadata": {},
     "output_type": "display_data"
    },
    {
     "data": {
      "image/png": "[encoded data removed]",
      "text/plain": [
       "<Figure size 432x432 with 3 Axes>"
      ]
     },
     "metadata": {
      "needs_background": "light"
     },
     "output_type": "display_data"
    }
   ],
   "source": [
    "plot_joint(Xtrans, \"blue\", \"Transform\", logger=False)"
   ]
  },
  {
   "cell_type": "markdown",
   "metadata": {},
   "source": [
    "### Inverse Transformation"
   ]
  },
  {
   "cell_type": "code",
   "execution_count": 13,
   "metadata": {},
   "outputs": [],
   "source": [
    "data_ = inverse_transform(params, Xtrans)\n",
    "\n",
    "chex.assert_tree_all_close(data_, data, rtol=1e-5)"
   ]
  },
  {
   "cell_type": "code",
   "execution_count": 14,
   "metadata": {},
   "outputs": [
    {
     "data": {
      "text/plain": [
       "<Figure size 432x288 with 0 Axes>"
      ]
     },
     "metadata": {},
     "output_type": "display_data"
    },
    {
     "data": {
      "image/png": "[encoded data removed]",
      "text/plain": [
       "<Figure size 432x432 with 3 Axes>"
      ]
     },
     "metadata": {
      "needs_background": "light"
     },
     "output_type": "display_data"
    }
   ],
   "source": [
    "plot_joint(data_, \"blue\", \"Transform\", logger=False)"
   ]
  },
  {
   "cell_type": "markdown",
   "metadata": {},
   "source": [
    "### Speed\n",
    "\n",
    "We can use the `jit` method to speed up our code considerably. We simply need to jit our forward function and our inverse function."
   ]
  },
  {
   "cell_type": "markdown",
   "metadata": {},
   "source": [
    "#### Non-Jitted"
   ]
  },
  {
   "cell_type": "code",
   "execution_count": 15,
   "metadata": {},
   "outputs": [
    {
     "name": "stdout",
     "output_type": "stream",
     "text": [
      "281 ms ± 6.55 ms per loop (mean ± std. dev. of 7 runs, 1 loop each)\n",
      "580 µs ± 10.7 µs per loop (mean ± std. dev. of 7 runs, 1000 loops each)\n",
      "541 µs ± 15.2 µs per loop (mean ± std. dev. of 7 runs, 1000 loops each)\n"
     ]
    }
   ],
   "source": [
    "%timeit Xtrans, ldX, params = fit_forward_func(data)\n",
    "%timeit _ = forward_transform(params, data)\n",
    "%timeit _ = inverse_transform(params, Xtrans)"
   ]
  },
  {
   "cell_type": "markdown",
   "metadata": {},
   "source": [
    "#### Jitted"
   ]
  },
  {
   "cell_type": "code",
   "execution_count": 17,
   "metadata": {},
   "outputs": [],
   "source": [
    "# get the init function\n",
    "fit_forward_func = rbig_init(\n",
    "    method=\"histogram\",\n",
    "    support_ext=10,\n",
    "    precision=100,\n",
    "    alpha=1e-5\n",
    ")\n",
    "# fit_forward_func_jitted = jax.jit(fit_forward_func)\n",
    "# Xtrans, ldX, params = fit_forward_func_jitted(data)\n",
    "# forward_func_jitted = jax.jit(forward_transform)\n",
    "# inverse_func_jitted = jax.jit(inverse_transform)"
   ]
  },
  {
   "cell_type": "code",
   "execution_count": 18,
   "metadata": {},
   "outputs": [
    {
     "name": "stdout",
     "output_type": "stream",
     "text": [
      "1.12 ms ± 244 µs per loop (mean ± std. dev. of 7 runs, 1000 loops each)\n",
      "357 µs ± 34.1 µs per loop (mean ± std. dev. of 7 runs, 1 loop each)\n",
      "226 µs ± 36.9 µs per loop (mean ± std. dev. of 7 runs, 1 loop each)\n"
     ]
    }
   ],
   "source": [
    "%timeit _ = fit_forward_func_jitted(data)\n",
    "%timeit _ = forward_func_jitted(params, data)\n",
    "%timeit _ = inverse_func_jitted(params, Xtrans)"
   ]
  },
  {
   "cell_type": "markdown",
   "metadata": {},
   "source": [
    "## Training\n",
    "\n",
    "So now we have our step function and we need some kinda of condition. We will do 3 conditions:\n",
    "\n",
    "1. We need a maximum number of layers\n",
    "2. We need a minimum number of layers\n",
    "3. We need no changes between a running loss"
   ]
  },
  {
   "cell_type": "markdown",
   "metadata": {},
   "source": [
    "## State"
   ]
  },
  {
   "cell_type": "code",
   "execution_count": 19,
   "metadata": {},
   "outputs": [],
   "source": [
    "from collections import namedtuple\n",
    "\n",
    "TrainState = namedtuple(\n",
    "    \"TrainState\", [\n",
    "        \"n_layers\", # number of layers \n",
    "        \"info_loss\", # information loss\n",
    "        \"params\",\n",
    "        \"X\",\n",
    "        \"Xldj\"\n",
    "    ]\n",
    ")\n"
   ]
  },
  {
   "cell_type": "markdown",
   "metadata": {},
   "source": [
    "## Stopping Criteria"
   ]
  },
  {
   "cell_type": "code",
   "execution_count": 21,
   "metadata": {},
   "outputs": [],
   "source": [
    "max_layers = 100\n",
    "min_layers = 10\n",
    "threshold = 0.25\n",
    "tol_layers = 10\n",
    "\n",
    "\n",
    "def condition_fun(state):\n",
    "    # stopping criterial\n",
    "    stop_crit = jax.lax.bitwise_and(\n",
    "        jax.lax.bitwise_not(state.n_layers < min_layers), \n",
    "        state.n_layers > max_layers\n",
    "    )\n",
    "    stop_crit = jax.lax.bitwise_not(stop_crit)\n",
    "    info_sum = np.sum(state.info_loss[state.n_layers:state.n_layers+tol_layers])\n",
    "    \n",
    "    info_crit = jax.lax.bitwise_not(bool(int(info_sum)))\n",
    "    print(stop_crit, info_sum, info_crit)\n",
    "    return info_crit\n",
    "#     # information loss criteria\n",
    "#     if state.n_layers > tol_layers:\n",
    "#         return stop_crit\n",
    "#     else:\n",
    "#         info_crit = state.info_loss[-tol_layers:].sum() == 0.0\n",
    "#         return np.logical_or(stop_crit, info_crit) "
   ]
  },
  {
   "cell_type": "code",
   "execution_count": 22,
   "metadata": {},
   "outputs": [
    {
     "data": {
      "text/plain": [
       "False"
      ]
     },
     "execution_count": 22,
     "metadata": {},
     "output_type": "execute_result"
    }
   ],
   "source": [
    "bool(int(0.0))"
   ]
  },
  {
   "cell_type": "markdown",
   "metadata": {},
   "source": [
    "### Condition 1\n",
    "\n",
    "We have `n_layers=1`. "
   ]
  },
  {
   "cell_type": "code",
   "execution_count": 23,
   "metadata": {},
   "outputs": [
    {
     "name": "stdout",
     "output_type": "stream",
     "text": [
      "True 0.0 True\n"
     ]
    },
    {
     "data": {
      "text/plain": [
       "DeviceArray(True, dtype=bool)"
      ]
     },
     "execution_count": 23,
     "metadata": {},
     "output_type": "execute_result"
    }
   ],
   "source": [
    "from collections import namedtuple\n",
    "\n",
    "TrainState = namedtuple(\n",
    "    \"TrainState\", [\n",
    "        \"n_layers\", # number of layers \n",
    "        \"info_loss\", # information loss\n",
    "        \"params\",\n",
    "        \"X\",\n",
    "        \"Xldj\"\n",
    "    ]\n",
    ")\n",
    "\n",
    "train_state = TrainState(\n",
    "    n_layers=0,\n",
    "    info_loss=np.pad(np.zeros((max_layers,)), (tol_layers,0)),\n",
    "    params=[],\n",
    "    X=data,\n",
    "    Xldj=np.zeros(data.shape)\n",
    ")\n",
    "\n",
    "condition_fun(train_state)"
   ]
  },
  {
   "cell_type": "markdown",
   "metadata": {},
   "source": [
    "#### Condition 2"
   ]
  },
  {
   "cell_type": "code",
   "execution_count": 24,
   "metadata": {},
   "outputs": [
    {
     "name": "stdout",
     "output_type": "stream",
     "text": [
      "True 0.0 True\n"
     ]
    },
    {
     "data": {
      "text/plain": [
       "DeviceArray(True, dtype=bool)"
      ]
     },
     "execution_count": 24,
     "metadata": {},
     "output_type": "execute_result"
    }
   ],
   "source": [
    "train_state = TrainState(\n",
    "    n_layers=15,\n",
    "    info_loss=np.pad(np.zeros((max_layers,)), (tol_layers,0)),\n",
    "    params=[],\n",
    "    X=data,\n",
    "    Xldj=np.zeros(data.shape)\n",
    ")\n",
    "\n",
    "condition_fun(train_state)"
   ]
  },
  {
   "cell_type": "markdown",
   "metadata": {},
   "source": [
    "#### Condition 3"
   ]
  },
  {
   "cell_type": "code",
   "execution_count": 25,
   "metadata": {},
   "outputs": [
    {
     "name": "stdout",
     "output_type": "stream",
     "text": [
      "False 0.0 True\n"
     ]
    },
    {
     "data": {
      "text/plain": [
       "DeviceArray(True, dtype=bool)"
      ]
     },
     "execution_count": 25,
     "metadata": {},
     "output_type": "execute_result"
    }
   ],
   "source": [
    "train_state = TrainState(\n",
    "    n_layers=150,\n",
    "    info_loss=np.pad(np.zeros((max_layers,)), (tol_layers,0)),\n",
    "    params=[],\n",
    "    X=data,\n",
    "    Xldj=np.zeros(data.shape)\n",
    "    \n",
    ")\n",
    "\n",
    "condition_fun(train_state)"
   ]
  },
  {
   "cell_type": "code",
   "execution_count": 26,
   "metadata": {},
   "outputs": [],
   "source": [
    "# tol_zeros = 2\n",
    "\n",
    "# t = np.concatenate([np.ones(10), np.zeros(5)])\n",
    "# t_padded = np.pad(t, (tol_zeros-1, 0))\n",
    "\n",
    "# t_padded"
   ]
  },
  {
   "cell_type": "code",
   "execution_count": 27,
   "metadata": {},
   "outputs": [],
   "source": [
    "# for i in range(t.shape[0]):\n",
    "#     print(i)\n",
    "#     # select window\n",
    "#     window = t_padded[i:i+tol_zeros]\n",
    "    \n",
    "#     # take the sum\n",
    "#     window_sum = np.sum(window)\n",
    "#     print(f\"Layer: {i}, Sum: {window_sum}\")"
   ]
  },
  {
   "cell_type": "code",
   "execution_count": 28,
   "metadata": {},
   "outputs": [],
   "source": [
    "# itms = [10, 5, 2, 1, 0, 0, 0, 0, 0, 0]\n",
    "# max_layers = len(itms)\n",
    "\n",
    "# its = []"
   ]
  },
  {
   "cell_type": "markdown",
   "metadata": {},
   "source": [
    "### 3 - Training Loop"
   ]
  },
  {
   "cell_type": "code",
   "execution_count": 29,
   "metadata": {},
   "outputs": [],
   "source": [
    "# t = np.pad(np.zeros((max_layers,)), (tol_layers,0))\n",
    "# np.zeros((max_layers,)).shape, t.shape"
   ]
  },
  {
   "cell_type": "code",
   "execution_count": 30,
   "metadata": {},
   "outputs": [],
   "source": [
    "data = get_classic(10_000)\n",
    "\n",
    "max_layers = 100\n",
    "min_layers = 10\n",
    "threshold = 0.25\n",
    "tol_layers = 10\n",
    "\n",
    "\n",
    "def condition_fun(state):\n",
    "    # stopping criterial\n",
    "    stop_crit = jax.lax.bitwise_and(\n",
    "        jax.lax.bitwise_not(state.n_layers < min_layers), \n",
    "        state.n_layers > max_layers\n",
    "    )\n",
    "    stop_crit = jax.lax.bitwise_not(stop_crit)\n",
    "    info_sum = np.sum(state.info_loss[state.n_layers:state.n_layers+tol_layers])\n",
    "    \n",
    "    info_crit = info_sum > 0.0\n",
    "    print(info_sum, info_crit)\n",
    "    return info_crit\n",
    "# data = np.array(onp.random.randn(10_000, 10))\n",
    "\n",
    "init_loss = np.pad(np.zeros((max_layers,)), (tol_layers-1,0))\n",
    "init_loss = jax.ops.index_update(train_state.info_loss, tol_layers, 1.0)\n",
    "train_state = TrainState(\n",
    "    n_layers=0,\n",
    "    info_loss=init_loss,\n",
    "    params=[],\n",
    "    X=data,\n",
    "    Xldj=np.zeros(data.shape)\n",
    "    \n",
    ")\n",
    "\n",
    "it_jitted = jax.jit(information_reduction)\n",
    "\n",
    "def body(train_state):\n",
    "    X, Xldj, params = fit_forward_func(train_state.X)\n",
    "\n",
    "    # calculate the information loss\n",
    "    it = information_reduction(train_state.X, X)\n",
    "\n",
    "    # update the train state\n",
    "    train_state = TrainState(\n",
    "        n_layers=train_state.n_layers + 1,\n",
    "        info_loss=jax.ops.index_update(train_state.info_loss, tol_layers + train_state.n_layers, it),\n",
    "        params=train_state.params + [params],\n",
    "        X=X,\n",
    "        Xldj=train_state.Xldj + Xldj\n",
    "    )\n",
    "#     print(it, condition_fun(train_state))\n",
    "    return train_state"
   ]
  },
  {
   "cell_type": "code",
   "execution_count": 31,
   "metadata": {},
   "outputs": [
    {
     "data": {
      "text/plain": [
       "DeviceArray(False, dtype=bool)"
      ]
     },
     "execution_count": 31,
     "metadata": {},
     "output_type": "execute_result"
    }
   ],
   "source": [
    "jax.lax.bitwise_not(0.01 > 0.0)"
   ]
  },
  {
   "cell_type": "code",
   "execution_count": 32,
   "metadata": {},
   "outputs": [],
   "source": [
    "\n",
    "def loss_func(X, X_log_det):\n",
    "    # calculate probability\n",
    "    log_prob = jax.scipy.stats.norm.logpdf(X).sum(axis=1)\n",
    "    \n",
    "    likelihood = log_prob + X_log_det.sum(axis=1)\n",
    "    # log likelihood\n",
    "    return - likelihood.mean()"
   ]
  },
  {
   "cell_type": "code",
   "execution_count": 40,
   "metadata": {},
   "outputs": [
    {
     "name": "stdout",
     "output_type": "stream",
     "text": [
      "10\n"
     ]
    }
   ],
   "source": [
    "from collections import namedtuple\n",
    "\n",
    "TrainState = namedtuple(\n",
    "    \"TrainState\", [\n",
    "        \"n_layers\", # number of layers \n",
    "        \"info_loss\", # information loss\n",
    "        \"params\",\n",
    "        \"X\",\n",
    "        \"Xldj\"\n",
    "    ]\n",
    ")\n",
    "\n",
    "print(tol_layers)\n",
    "\n",
    "def init_state(X: np.ndarray, stopping_criteria: str=\"info\", tol_layers: int=10, min_layers: int=10, max_layers: int=1_000):\n",
    "    \n",
    "    # initialize loss vector\n",
    "\n",
    "    \n",
    "    # initialize train state\n",
    "#     print(tol_layers)\n",
    "\n",
    "    if stopping_criteria == \"info\":\n",
    "        \n",
    "        # init loss with stopping criteria\n",
    "        init_loss = np.pad(np.zeros((max_layers,)), (tol_layers,0))\n",
    "        init_loss = jax.ops.index_update(init_loss, np.arange(0, tol_layers, dtype=int), 1.0)\n",
    "        train_state = TrainState(\n",
    "            n_layers=0,\n",
    "            info_loss=init_loss,\n",
    "            params=[],\n",
    "            X=X,\n",
    "            Xldj=np.zeros(X.shape)\n",
    "\n",
    "        )\n",
    "        def condition_func(state):\n",
    "            \n",
    "            layers = state.info_loss[state.n_layers:tol_layers + state.n_layers]\n",
    "#             plt.figure()\n",
    "#             plt.plot(np.linspace(state.n_layers, tol_layers + state.n_layers, num=len(layers)), layers)\n",
    "#             plt.show()\n",
    "            info_sum = np.sum(np.abs(layers))\n",
    "#             print(state.n_layers, tol_layers + state.n_layers, info_sum)\n",
    "            info_crit = info_sum > 0.0\n",
    "            return info_crit\n",
    "#             t = jax.lax.cond(\n",
    "#                 info_sum > 0.0,\n",
    "#                 info_sum, lambda x: True,\n",
    "#                 info_sum, lambda x: False)\n",
    "#             return t\n",
    "        \n",
    "#         return train_state, condition_func\n",
    "    \n",
    "    elif stopping_criteria == \"max\":\n",
    "        # init loss with\n",
    "        train_state = TrainState(\n",
    "            n_layers=0,\n",
    "            info_loss=np.zeros((max_layers,)),\n",
    "            params=[],\n",
    "            X=X,\n",
    "            Xldj=np.zeros(X.shape)\n",
    "\n",
    "        )\n",
    "        def condition_func(state):\n",
    "            # stopping criteria\n",
    "            stop_crit = jax.lax.bitwise_and(\n",
    "                jax.lax.bitwise_not(state.n_layers < min_layers), \n",
    "                state.n_layers > max_layers\n",
    "            )\n",
    "            stop_crit = jax.lax.bitwise_not(stop_crit)\n",
    "\n",
    "            return stop_crit\n",
    "        \n",
    "#         return train_state, condition_func\n",
    "    else:\n",
    "        raise ValueError(f\"Unrecognized stopping_criteria: {stopping_criteria}\")\n",
    "        \n",
    "    def body(state):\n",
    "        X, Xldj, params = fit_forward_func(state.X)\n",
    "\n",
    "        # calculate the information loss\n",
    "        it = information_reduction(state.X, X)\n",
    "#         print(\"UPDATE:\", tol_layers + state.n_layers)\n",
    "\n",
    "        # update the train state\\\n",
    "#         print(tol_layers)\n",
    "        state = TrainState(\n",
    "            n_layers=state.n_layers + 1,\n",
    "            info_loss=jax.ops.index_update(state.info_loss, tol_layers + state.n_layers, it),\n",
    "            params=state.params + [params],\n",
    "            X=X,\n",
    "            Xldj=state.Xldj + Xldj\n",
    "        )\n",
    "    #     print(it, condition_fun(train_state))\n",
    "        return state\n",
    "    \n",
    "    return train_state, condition_func, body\n",
    "\n",
    "\n",
    "\n",
    "# print(\"InitLoss Shape:\", init_loss.shape)\n",
    "# train_state = TrainState(\n",
    "#     n_layers=0,\n",
    "#     info_loss=init_loss,\n",
    "#     params=[],\n",
    "#     X=data,\n",
    "#     Xldj=np.zeros(data.shape)\n",
    "    \n",
    "# )\n",
    "# condition_fun(train_state)"
   ]
  },
  {
   "cell_type": "code",
   "execution_count": 41,
   "metadata": {},
   "outputs": [],
   "source": [
    "# tol_layer = 50\n",
    "\n",
    "# train_state, cond_func = init_state(data, \"info\", tol_layers=tol_layers)\n",
    "\n",
    "# def body(train_state):\n",
    "#     X, Xldj, params = fit_forward_func_jitted(train_state.X)\n",
    "\n",
    "#     # calculate the information loss\n",
    "#     it = information_reduction(train_state.X, X)\n",
    "#     print(\"UPDATE:\", tol_layers + state.n_layers)\n",
    "\n",
    "#     # update the train state\n",
    "#     state = TrainState(\n",
    "#         n_layers=state.n_layers + 1,\n",
    "#         info_loss=jax.ops.index_update(state.info_loss, tol_layers + state.n_layers, it),\n",
    "#         params=state.params + [params],\n",
    "#         X=X,\n",
    "#         Xldj=state.Xldj + Xldj\n",
    "#     )\n",
    "# #     print(it, condition_fun(train_state))\n",
    "#     return state"
   ]
  },
  {
   "cell_type": "code",
   "execution_count": 42,
   "metadata": {},
   "outputs": [
    {
     "name": "stdout",
     "output_type": "stream",
     "text": [
      "CPU times: user 2min 18s, sys: 21.5 s, total: 2min 40s\n",
      "Wall time: 14.2 s\n"
     ]
    }
   ],
   "source": [
    "%%time\n",
    "tol_layers = 10\n",
    "data = get_classic(10_000)\n",
    "# data = np.array(onp.random.randn(100_000, 100))\n",
    "train_state, cond_func, body = init_state(data, \"info\", tol_layers=tol_layers)\n",
    "\n",
    "\n",
    "while cond_func(train_state):\n",
    "#     print(train_state.n_layers)\n",
    "    train_state = body(train_state)\n",
    "    \n",
    "#     loss = loss_func(train_state.X, train_state.Xldj)\n",
    "#     losses.append(loss)"
   ]
  },
  {
   "cell_type": "code",
   "execution_count": 43,
   "metadata": {},
   "outputs": [],
   "source": [
    "def information_loss(state):\n",
    "    return train_state.info_loss[tol_layers:tol_layers+train_state.n_layers]"
   ]
  },
  {
   "cell_type": "code",
   "execution_count": 44,
   "metadata": {},
   "outputs": [
    {
     "name": "stdout",
     "output_type": "stream",
     "text": [
      "28\n"
     ]
    }
   ],
   "source": [
    "info_loss = information_loss(train_state)\n",
    "print(train_state.n_layers)"
   ]
  },
  {
   "cell_type": "code",
   "execution_count": 45,
   "metadata": {},
   "outputs": [
    {
     "data": {
      "text/plain": [
       "Text(0.5, 1.0, 'Information Loss, n=28')"
      ]
     },
     "execution_count": 45,
     "metadata": {},
     "output_type": "execute_result"
    },
    {
     "data": {
      "image/png": "[encoded data removed]",
      "text/plain": [
       "<Figure size 432x288 with 1 Axes>"
      ]
     },
     "metadata": {
      "needs_background": "light"
     },
     "output_type": "display_data"
    }
   ],
   "source": [
    "plt.plot(np.cumsum(np.array(info_loss)))\n",
    "plt.title(f\"Information Loss, n={train_state.n_layers}\")"
   ]
  },
  {
   "cell_type": "code",
   "execution_count": 39,
   "metadata": {},
   "outputs": [
    {
     "data": {
      "text/plain": [
       "<Figure size 432x288 with 0 Axes>"
      ]
     },
     "metadata": {},
     "output_type": "display_data"
    },
    {
     "data": {
      "image/png": "[encoded data removed]",
      "text/plain": [
       "<Figure size 432x432 with 3 Axes>"
      ]
     },
     "metadata": {
      "needs_background": "light"
     },
     "output_type": "display_data"
    }
   ],
   "source": [
    "plot_joint(train_state.X)"
   ]
  },
  {
   "cell_type": "markdown",
   "metadata": {},
   "source": [
    "### Invertible"
   ]
  },
  {
   "cell_type": "code",
   "execution_count": 47,
   "metadata": {},
   "outputs": [
    {
     "name": "stdout",
     "output_type": "stream",
     "text": [
      "Time Taken: 0.6586\n"
     ]
    }
   ],
   "source": [
    "import time\n",
    "from typing import List\n",
    "\n",
    "\n",
    "def rbig_inverse_transform(X: np.ndarray, params: List) -> np.ndarray:\n",
    "#     init_val = X\n",
    "    for iparam in reversed(params):\n",
    "        X = inverse_func_jitted(iparam, X)\n",
    "#         init_val = X\n",
    "    return X\n",
    "\n",
    "t0 = time.time()\n",
    "\n",
    "data_approx = rbig_inverse_transform(train_state.X, train_state.params)\n",
    "print(f\"Time Taken: {(time.time() - t0):.4f}\")\n",
    "\n",
    "# check that the forward and inverse are close\n",
    "chex.assert_tree_all_close(data, data_approx)"
   ]
  },
  {
   "cell_type": "code",
   "execution_count": 49,
   "metadata": {},
   "outputs": [],
   "source": [
    "chex.assert_tree_all_close(data, data_approx, rtol=1e-7)"
   ]
  },
  {
   "cell_type": "markdown",
   "metadata": {},
   "source": [
    "In this particular example, I was able to get it up to a maximum tolerance of 1e-9. This is pretty good."
   ]
  },
  {
   "cell_type": "code",
   "execution_count": null,
   "metadata": {},
   "outputs": [],
   "source": []
  },
  {
   "cell_type": "code",
   "execution_count": 50,
   "metadata": {},
   "outputs": [
    {
     "name": "stdout",
     "output_type": "stream",
     "text": [
      "80.1 ms ± 324 µs per loop (mean ± std. dev. of 7 runs, 10 loops each)\n"
     ]
    }
   ],
   "source": [
    "%timeit _ = rbig_inverse_transform(train_state.X, train_state.params)"
   ]
  },
  {
   "cell_type": "code",
   "execution_count": 51,
   "metadata": {},
   "outputs": [
    {
     "data": {
      "text/plain": [
       "<Figure size 432x288 with 0 Axes>"
      ]
     },
     "metadata": {},
     "output_type": "display_data"
    },
    {
     "data": {
      "image/png": "[encoded data removed]",
      "text/plain": [
       "<Figure size 432x432 with 3 Axes>"
      ]
     },
     "metadata": {
      "needs_background": "light"
     },
     "output_type": "display_data"
    }
   ],
   "source": [
    "plot_joint(data_approx)"
   ]
  },
  {
   "cell_type": "code",
   "execution_count": 142,
   "metadata": {},
   "outputs": [],
   "source": []
  },
  {
   "cell_type": "code",
   "execution_count": null,
   "metadata": {},
   "outputs": [],
   "source": [
    "t0 = time.time()\n",
    "init_val = train_state.X\n",
    "for iparam in reversed(train_state.params):\n",
    "    X = inverse_func_jitted(iparam, init_val)\n",
    "    init_val = X\n",
    "print(f\"Time Taken: {(time.time() - t0):.4f}\")"
   ]
  },
  {
   "cell_type": "markdown",
   "metadata": {},
   "source": [
    "### Forward Transformation"
   ]
  },
  {
   "cell_type": "code",
   "execution_count": null,
   "metadata": {},
   "outputs": [],
   "source": [
    "data_new = "
   ]
  },
  {
   "cell_type": "code",
   "execution_count": 59,
   "metadata": {},
   "outputs": [
    {
     "name": "stdout",
     "output_type": "stream",
     "text": [
      "Time Taken: 0.4648\n",
      "Time Taken: 0.7312\n"
     ]
    }
   ],
   "source": [
    "import time\n",
    "t0 = time.time()\n",
    "init_val = data\n",
    "for iparam in train_state.params:\n",
    "    X, _ = forward_transform(iparam, init_val)\n",
    "    init_val = X\n",
    "print(f\"Time Taken: {(time.time() - t0):.4f}\")\n",
    "    \n",
    "t0 = time.time()\n",
    "init_val = data\n",
    "for iparam in train_state.params:\n",
    "    X, _ = forward_func_jitted(iparam, init_val)\n",
    "    init_val = X\n",
    "print(f\"Time Taken: {(time.time() - t0):.4f}\")"
   ]
  },
  {
   "cell_type": "code",
   "execution_count": 60,
   "metadata": {},
   "outputs": [
    {
     "data": {
      "text/plain": [
       "<Figure size 432x288 with 0 Axes>"
      ]
     },
     "metadata": {},
     "output_type": "display_data"
    },
    {
     "data": {
      "image/png": "[encoded data removed]",
      "text/plain": [
       "<Figure size 432x432 with 3 Axes>"
      ]
     },
     "metadata": {
      "needs_background": "light"
     },
     "output_type": "display_data"
    }
   ],
   "source": [
    "plot_joint(init_val)"
   ]
  },
  {
   "cell_type": "markdown",
   "metadata": {},
   "source": [
    "#### Reverse Transformation"
   ]
  },
  {
   "cell_type": "code",
   "execution_count": 61,
   "metadata": {},
   "outputs": [
    {
     "name": "stdout",
     "output_type": "stream",
     "text": [
      "Time Taken: 0.4054\n",
      "Time Taken: 0.3998\n"
     ]
    }
   ],
   "source": [
    "t0 = time.time()\n",
    "init_val = train_state.X\n",
    "for iparam in reversed(train_state.params):\n",
    "    X = inverse_transform(iparam, init_val)\n",
    "    init_val = X\n",
    "print(f\"Time Taken: {(time.time() - t0):.4f}\")\n",
    "\n",
    "\n",
    "t0 = time.time()\n",
    "init_val = train_state.X\n",
    "for iparam in reversed(train_state.params):\n",
    "    X = inverse_func_jitted(iparam, init_val)\n",
    "    init_val = X\n",
    "print(f\"Time Taken: {(time.time() - t0):.4f}\")\n",
    "\n"
   ]
  },
  {
   "cell_type": "code",
   "execution_count": 62,
   "metadata": {},
   "outputs": [
    {
     "data": {
      "text/plain": [
       "<Figure size 432x288 with 0 Axes>"
      ]
     },
     "metadata": {},
     "output_type": "display_data"
    },
    {
     "data": {
      "image/png": "[encoded data removed]",
      "text/plain": [
       "<Figure size 432x432 with 3 Axes>"
      ]
     },
     "metadata": {
      "needs_background": "light"
     },
     "output_type": "display_data"
    }
   ],
   "source": [
    "plot_joint(init_val)"
   ]
  },
  {
   "cell_type": "code",
   "execution_count": 63,
   "metadata": {},
   "outputs": [
    {
     "data": {
      "text/plain": [
       "12"
      ]
     },
     "execution_count": 63,
     "metadata": {},
     "output_type": "execute_result"
    }
   ],
   "source": [
    "train_state.n_layers"
   ]
  }
 ],
 "metadata": {
  "kernelspec": {
   "display_name": "Python [conda env:.conda-jax_py38]",
   "language": "python",
   "name": "conda-env-.conda-jax_py38-py"
  },
  "language_info": {
   "codemirror_mode": {
    "name": "ipython",
    "version": 3
   },
   "file_extension": ".py",
   "mimetype": "text/x-python",
   "name": "python",
   "nbconvert_exporter": "python",
   "pygments_lexer": "ipython3",
   "version": "3.8.5"
  }
 },
 "nbformat": 4,
 "nbformat_minor": 4
}
