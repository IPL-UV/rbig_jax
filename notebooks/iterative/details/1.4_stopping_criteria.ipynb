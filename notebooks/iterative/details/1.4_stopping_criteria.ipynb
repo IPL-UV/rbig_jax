{
 "cells": [
  {
   "cell_type": "markdown",
   "metadata": {},
   "source": [
    "# 1.4 - Stopping Criteria"
   ]
  },
  {
   "cell_type": "code",
   "execution_count": 1,
   "metadata": {},
   "outputs": [],
   "source": [
    "#@title Install Packages\n",
    "try:\n",
    "    import sys, os\n",
    "    from pyprojroot import here\n",
    "\n",
    "    # spyder up to find the root\n",
    "    root = here(project_files=[\".here\"])\n",
    "\n",
    "    # append to path\n",
    "    sys.path.append(str(here()))\n",
    "    \n",
    "    # library parameters\n",
    "    from rbig_jax.data import get_classic\n",
    "    from rbig_jax.plots import plot_info_loss, plot_joint, plot_joint_prob\n",
    "except ModuleNotFoundError:\n",
    "    %%capture\n",
    "    import os\n",
    "    os.system(\"pip install objax chex\")\n",
    "    os.system(\"pip install git+https://github.com/IPL-UV/rbig_jax.git#egg=rbig_jax\")"
   ]
  },
  {
   "cell_type": "code",
   "execution_count": 2,
   "metadata": {},
   "outputs": [],
   "source": [
    "# jax packages\n",
    "import jax\n",
    "import jax.numpy as np\n",
    "from jax.config import config\n",
    "import chex\n",
    "config.update(\"jax_enable_x64\", False)\n",
    "\n",
    "import numpy as onp\n",
    "from functools import partial\n",
    "\n",
    "# logging\n",
    "import tqdm\n",
    "import wandb\n",
    "\n",
    "# plot methods\n",
    "import matplotlib.pyplot as plt\n",
    "import seaborn as sns\n",
    "sns.reset_defaults()\n",
    "sns.set_context(context=\"talk\", font_scale=0.7)\n",
    "\n",
    "%matplotlib inline\n",
    "%load_ext autoreload\n",
    "%autoreload 2"
   ]
  },
  {
   "cell_type": "markdown",
   "metadata": {},
   "source": [
    "## Data"
   ]
  },
  {
   "cell_type": "code",
   "execution_count": 3,
   "metadata": {},
   "outputs": [
    {
     "data": {
      "text/plain": [
       "<Figure size 432x288 with 0 Axes>"
      ]
     },
     "metadata": {},
     "output_type": "display_data"
    },
    {
     "data": {
      "image/png": "[encoded data removed]",
      "text/plain": [
       "<Figure size 432x432 with 3 Axes>"
      ]
     },
     "metadata": {
      "needs_background": "light"
     },
     "output_type": "display_data"
    }
   ],
   "source": [
    "# %%wandb\n",
    "# get data\n",
    "n_samples = 2_000\n",
    "n_features = 2\n",
    "data = get_classic(n_samples)\n",
    "\n",
    "# plot data\n",
    "plt.figure()\n",
    "sns.jointplot(data[:, 0], data[:, 1])\n",
    "plt.suptitle('Data Domain')\n",
    "plt.show()"
   ]
  },
  {
   "cell_type": "markdown",
   "metadata": {},
   "source": [
    "## Initialization\n",
    "\n",
    "First we need to initialize our RBIG method with some parameters. For example, which marginal gaussianization method, what precision do we want, and what rotation method do we want.\n",
    "\n",
    "* `method` - the method used to marginally transform the data. We have histogram or kde currently implemented\n",
    "* `support_extension` - this is the amount we want to extend the support for our marginal distributions. Higher values indicate higher\n",
    "* `precision` - we use interpolation because it is much faster. So the CDF, PDF and PPF are interpolation schemes. This value will allow one to have more \"precision\" for the estimated quantities but it will be slower."
   ]
  },
  {
   "cell_type": "code",
   "execution_count": 4,
   "metadata": {},
   "outputs": [
    {
     "name": "stderr",
     "output_type": "stream",
     "text": [
      "/home/emmanuel/.conda/envs/jax_py38/lib/python3.8/site-packages/jax/lib/xla_bridge.py:130: UserWarning: No GPU/TPU found, falling back to CPU.\n",
      "  warnings.warn('No GPU/TPU found, falling back to CPU.')\n"
     ]
    }
   ],
   "source": [
    "X = np.array(data, dtype=np.float32)"
   ]
  },
  {
   "cell_type": "markdown",
   "metadata": {},
   "source": [
    "## Gaussianization"
   ]
  },
  {
   "cell_type": "code",
   "execution_count": 5,
   "metadata": {},
   "outputs": [],
   "source": [
    "from rbig_jax.transforms.block import get_default_rbig_block\n",
    "\n",
    "# initialize with default block parameters\n",
    "fit_transform_func, forward_f, grad_f, inverse_f = get_default_rbig_block(\n",
    "    n_samples=n_samples)\n",
    "\n",
    "# optional, compiles the function to make it faster\n",
    "fit_transform_func_jitted = jax.jit(fit_transform_func)\n",
    "forward_f_jitted = jax.jit(forward_f)\n",
    "grad_f_jitted = jax.jit(grad_f)\n",
    "inverse_f_jitted = jax.jit(inverse_f)"
   ]
  },
  {
   "cell_type": "markdown",
   "metadata": {},
   "source": [
    "### Fixed Number of Layers"
   ]
  },
  {
   "cell_type": "code",
   "execution_count": 50,
   "metadata": {},
   "outputs": [],
   "source": [
    "from chex import dataclass\n",
    "\n",
    "@dataclass\n",
    "class MaxLoss:\n",
    "    layer: int\n",
    "    max_layers: int"
   ]
  },
  {
   "cell_type": "code",
   "execution_count": 51,
   "metadata": {},
   "outputs": [],
   "source": [
    "def max_condition(state):\n",
    "    loss_state, x, params = state\n",
    "    return loss_state.layer <= loss_state.max_layers"
   ]
  },
  {
   "cell_type": "code",
   "execution_count": 55,
   "metadata": {},
   "outputs": [
    {
     "name": "stdout",
     "output_type": "stream",
     "text": [
      "CPU times: user 29.8 ms, sys: 8.06 ms, total: 37.9 ms\n",
      "Wall time: 11.1 ms\n"
     ]
    }
   ],
   "source": [
    "%%time\n",
    "\n",
    "n_layers = 20\n",
    "\n",
    "params = []\n",
    "losses = []\n",
    "ilayer = 0\n",
    "X_g = X\n",
    "\n",
    "state = MaxLoss(layer=0, max_layers=n_layers), X_g, params\n",
    "\n",
    "max_condition(state)\n",
    "\n",
    "while max_condition(state):\n",
    "    \n",
    "    loss_state, x, params = state\n",
    "    \n",
    "    # compute \n",
    "    X_g, layer_params = fit_transform_func_jitted(X_g)\n",
    "    \n",
    "    params.append(layer_params)  \n",
    "    \n",
    "    state = MaxLoss(layer=loss_state.layer + 1, max_layers=loss_state.max_layers), X_g, params\n",
    "    \n",
    "      "
   ]
  },
  {
   "cell_type": "code",
   "execution_count": null,
   "metadata": {},
   "outputs": [],
   "source": [
    "def max_layer_condition(ilayer, true_fun, false_fun, operand):\n",
    "    if pred:\n",
    "        return true_fun(operand)\n",
    "    else:\n",
    "        return false_fun(operand)"
   ]
  },
  {
   "cell_type": "code",
   "execution_count": null,
   "metadata": {},
   "outputs": [],
   "source": [
    "def info_change_condition(pred, true_fun, false_fun, operand):\n",
    "    if pred:\n",
    "        return true_fun(operand)\n",
    "    else:\n",
    "        return false_fun(operand)"
   ]
  },
  {
   "cell_type": "code",
   "execution_count": null,
   "metadata": {},
   "outputs": [],
   "source": []
  },
  {
   "cell_type": "code",
   "execution_count": 69,
   "metadata": {
    "collapsed": true,
    "jupyter": {
     "outputs_hidden": true
    }
   },
   "outputs": [
    {
     "ename": "ConcretizationTypeError",
     "evalue": "Abstract tracer value encountered where concrete value is expected.\n\nThe problem arose with the `bool` function. \n\nWhile tracing the function body at <ipython-input-69-551858eab1c5>:7, this concrete value was not available in Python because it depends on the value of the arguments to body at <ipython-input-69-551858eab1c5>:7 at flattened positions [0], and the computation of these values is being staged out (that is, delayed rather than executed eagerly).\n\nYou can use transformation parameters such as `static_argnums` for `jit` to avoid tracing particular arguments of transformed functions, though at the cost of more recompiles.\n\nSee https://jax.readthedocs.io/en/latest/faq.html#abstract-tracer-value-encountered-where-concrete-value-is-expected-error for more information.\n\nEncountered tracer value: Traced<ShapedArray(bool[])>with<DynamicJaxprTrace(level=1/0)>",
     "output_type": "error",
     "traceback": [
      "\u001b[0;31m---------------------------------------------------------------------------\u001b[0m",
      "\u001b[0;31mConcretizationTypeError\u001b[0m                   Traceback (most recent call last)",
      "\u001b[0;32m<ipython-input-69-551858eab1c5>\u001b[0m in \u001b[0;36m<module>\u001b[0;34m\u001b[0m\n\u001b[1;32m     21\u001b[0m     \u001b[0;32mreturn\u001b[0m \u001b[0mstate\u001b[0m\u001b[0;34m\u001b[0m\u001b[0;34m\u001b[0m\u001b[0m\n\u001b[1;32m     22\u001b[0m \u001b[0;34m\u001b[0m\u001b[0m\n\u001b[0;32m---> 23\u001b[0;31m \u001b[0mfinal_state\u001b[0m \u001b[0;34m=\u001b[0m \u001b[0mjax\u001b[0m\u001b[0;34m.\u001b[0m\u001b[0mlax\u001b[0m\u001b[0;34m.\u001b[0m\u001b[0mwhile_loop\u001b[0m\u001b[0;34m(\u001b[0m\u001b[0mmax_condition\u001b[0m\u001b[0;34m,\u001b[0m \u001b[0mbody\u001b[0m\u001b[0;34m,\u001b[0m \u001b[0minit_state\u001b[0m\u001b[0;34m)\u001b[0m\u001b[0;34m\u001b[0m\u001b[0;34m\u001b[0m\u001b[0m\n\u001b[0m\u001b[1;32m     24\u001b[0m \u001b[0;34m\u001b[0m\u001b[0m\n\u001b[1;32m     25\u001b[0m \u001b[0mprint\u001b[0m\u001b[0;34m(\u001b[0m\u001b[0mfinal_state\u001b[0m\u001b[0;34m[\u001b[0m\u001b[0;36m1\u001b[0m\u001b[0;34m]\u001b[0m\u001b[0;34m[\u001b[0m\u001b[0;34m:\u001b[0m\u001b[0;36m10\u001b[0m\u001b[0;34m]\u001b[0m\u001b[0;34m.\u001b[0m\u001b[0mshape\u001b[0m\u001b[0;34m)\u001b[0m\u001b[0;34m\u001b[0m\u001b[0;34m\u001b[0m\u001b[0m\n",
      "\u001b[0;32m~/.conda/envs/jax_py38/lib/python3.8/site-packages/jax/lax/lax_control_flow.py\u001b[0m in \u001b[0;36mwhile_loop\u001b[0;34m(cond_fun, body_fun, init_val)\u001b[0m\n\u001b[1;32m    269\u001b[0m   \u001b[0minit_avals\u001b[0m \u001b[0;34m=\u001b[0m \u001b[0mtuple\u001b[0m\u001b[0;34m(\u001b[0m\u001b[0m_map\u001b[0m\u001b[0;34m(\u001b[0m\u001b[0m_abstractify\u001b[0m\u001b[0;34m,\u001b[0m \u001b[0minit_vals\u001b[0m\u001b[0;34m)\u001b[0m\u001b[0;34m)\u001b[0m\u001b[0;34m\u001b[0m\u001b[0;34m\u001b[0m\u001b[0m\n\u001b[1;32m    270\u001b[0m   \u001b[0mcond_jaxpr\u001b[0m\u001b[0;34m,\u001b[0m \u001b[0mcond_consts\u001b[0m\u001b[0;34m,\u001b[0m \u001b[0mcond_tree\u001b[0m \u001b[0;34m=\u001b[0m \u001b[0m_initial_style_jaxpr\u001b[0m\u001b[0;34m(\u001b[0m\u001b[0mcond_fun\u001b[0m\u001b[0;34m,\u001b[0m \u001b[0min_tree\u001b[0m\u001b[0;34m,\u001b[0m \u001b[0minit_avals\u001b[0m\u001b[0;34m)\u001b[0m\u001b[0;34m\u001b[0m\u001b[0;34m\u001b[0m\u001b[0m\n\u001b[0;32m--> 271\u001b[0;31m   \u001b[0mbody_jaxpr\u001b[0m\u001b[0;34m,\u001b[0m \u001b[0mbody_consts\u001b[0m\u001b[0;34m,\u001b[0m \u001b[0mbody_tree\u001b[0m \u001b[0;34m=\u001b[0m \u001b[0m_initial_style_jaxpr\u001b[0m\u001b[0;34m(\u001b[0m\u001b[0mbody_fun\u001b[0m\u001b[0;34m,\u001b[0m \u001b[0min_tree\u001b[0m\u001b[0;34m,\u001b[0m \u001b[0minit_avals\u001b[0m\u001b[0;34m)\u001b[0m\u001b[0;34m\u001b[0m\u001b[0;34m\u001b[0m\u001b[0m\n\u001b[0m\u001b[1;32m    272\u001b[0m   \u001b[0;32mif\u001b[0m \u001b[0;32mnot\u001b[0m \u001b[0mtreedef_is_leaf\u001b[0m\u001b[0;34m(\u001b[0m\u001b[0mcond_tree\u001b[0m\u001b[0;34m)\u001b[0m \u001b[0;32mor\u001b[0m \u001b[0mlen\u001b[0m\u001b[0;34m(\u001b[0m\u001b[0mcond_jaxpr\u001b[0m\u001b[0;34m.\u001b[0m\u001b[0mout_avals\u001b[0m\u001b[0;34m)\u001b[0m \u001b[0;34m!=\u001b[0m \u001b[0;36m1\u001b[0m\u001b[0;34m:\u001b[0m\u001b[0;34m\u001b[0m\u001b[0;34m\u001b[0m\u001b[0m\n\u001b[1;32m    273\u001b[0m     \u001b[0mmsg\u001b[0m \u001b[0;34m=\u001b[0m \u001b[0;34m\"cond_fun must return a boolean scalar, but got pytree {}.\"\u001b[0m\u001b[0;34m\u001b[0m\u001b[0;34m\u001b[0m\u001b[0m\n",
      "\u001b[0;32m~/.conda/envs/jax_py38/lib/python3.8/site-packages/jax/lax/lax_control_flow.py\u001b[0m in \u001b[0;36m_initial_style_jaxpr\u001b[0;34m(fun, in_tree, in_avals)\u001b[0m\n\u001b[1;32m     70\u001b[0m \u001b[0;34m@\u001b[0m\u001b[0mcache\u001b[0m\u001b[0;34m(\u001b[0m\u001b[0;34m)\u001b[0m\u001b[0;34m\u001b[0m\u001b[0;34m\u001b[0m\u001b[0m\n\u001b[1;32m     71\u001b[0m \u001b[0;32mdef\u001b[0m \u001b[0m_initial_style_jaxpr\u001b[0m\u001b[0;34m(\u001b[0m\u001b[0mfun\u001b[0m\u001b[0;34m:\u001b[0m \u001b[0mCallable\u001b[0m\u001b[0;34m,\u001b[0m \u001b[0min_tree\u001b[0m\u001b[0;34m,\u001b[0m \u001b[0min_avals\u001b[0m\u001b[0;34m)\u001b[0m\u001b[0;34m:\u001b[0m\u001b[0;34m\u001b[0m\u001b[0;34m\u001b[0m\u001b[0m\n\u001b[0;32m---> 72\u001b[0;31m   \u001b[0mjaxpr\u001b[0m\u001b[0;34m,\u001b[0m \u001b[0mout_avals\u001b[0m\u001b[0;34m,\u001b[0m \u001b[0mconsts\u001b[0m\u001b[0;34m,\u001b[0m \u001b[0mout_tree\u001b[0m \u001b[0;34m=\u001b[0m \u001b[0m_initial_style_open_jaxpr\u001b[0m\u001b[0;34m(\u001b[0m\u001b[0mfun\u001b[0m\u001b[0;34m,\u001b[0m \u001b[0min_tree\u001b[0m\u001b[0;34m,\u001b[0m \u001b[0min_avals\u001b[0m\u001b[0;34m)\u001b[0m\u001b[0;34m\u001b[0m\u001b[0;34m\u001b[0m\u001b[0m\n\u001b[0m\u001b[1;32m     73\u001b[0m   \u001b[0mclosed_jaxpr\u001b[0m \u001b[0;34m=\u001b[0m \u001b[0mcore\u001b[0m\u001b[0;34m.\u001b[0m\u001b[0mClosedJaxpr\u001b[0m\u001b[0;34m(\u001b[0m\u001b[0mpe\u001b[0m\u001b[0;34m.\u001b[0m\u001b[0mconvert_constvars_jaxpr\u001b[0m\u001b[0;34m(\u001b[0m\u001b[0mjaxpr\u001b[0m\u001b[0;34m)\u001b[0m\u001b[0;34m,\u001b[0m \u001b[0;34m(\u001b[0m\u001b[0;34m)\u001b[0m\u001b[0;34m)\u001b[0m\u001b[0;34m\u001b[0m\u001b[0;34m\u001b[0m\u001b[0m\n\u001b[1;32m     74\u001b[0m   \u001b[0;32mreturn\u001b[0m \u001b[0mclosed_jaxpr\u001b[0m\u001b[0;34m,\u001b[0m \u001b[0mconsts\u001b[0m\u001b[0;34m,\u001b[0m \u001b[0mout_tree\u001b[0m\u001b[0;34m\u001b[0m\u001b[0;34m\u001b[0m\u001b[0m\n",
      "\u001b[0;32m~/.conda/envs/jax_py38/lib/python3.8/site-packages/jax/lax/lax_control_flow.py\u001b[0m in \u001b[0;36m_initial_style_open_jaxpr\u001b[0;34m(fun, in_tree, in_avals)\u001b[0m\n\u001b[1;32m     65\u001b[0m \u001b[0;32mdef\u001b[0m \u001b[0m_initial_style_open_jaxpr\u001b[0m\u001b[0;34m(\u001b[0m\u001b[0mfun\u001b[0m\u001b[0;34m:\u001b[0m \u001b[0mCallable\u001b[0m\u001b[0;34m,\u001b[0m \u001b[0min_tree\u001b[0m\u001b[0;34m,\u001b[0m \u001b[0min_avals\u001b[0m\u001b[0;34m)\u001b[0m\u001b[0;34m:\u001b[0m\u001b[0;34m\u001b[0m\u001b[0;34m\u001b[0m\u001b[0m\n\u001b[1;32m     66\u001b[0m   \u001b[0mwrapped_fun\u001b[0m\u001b[0;34m,\u001b[0m \u001b[0mout_tree\u001b[0m \u001b[0;34m=\u001b[0m \u001b[0mflatten_fun_nokwargs\u001b[0m\u001b[0;34m(\u001b[0m\u001b[0mlu\u001b[0m\u001b[0;34m.\u001b[0m\u001b[0mwrap_init\u001b[0m\u001b[0;34m(\u001b[0m\u001b[0mfun\u001b[0m\u001b[0;34m)\u001b[0m\u001b[0;34m,\u001b[0m \u001b[0min_tree\u001b[0m\u001b[0;34m)\u001b[0m\u001b[0;34m\u001b[0m\u001b[0;34m\u001b[0m\u001b[0m\n\u001b[0;32m---> 67\u001b[0;31m   \u001b[0mjaxpr\u001b[0m\u001b[0;34m,\u001b[0m \u001b[0mout_avals\u001b[0m\u001b[0;34m,\u001b[0m \u001b[0mconsts\u001b[0m \u001b[0;34m=\u001b[0m \u001b[0mpe\u001b[0m\u001b[0;34m.\u001b[0m\u001b[0mtrace_to_jaxpr_dynamic\u001b[0m\u001b[0;34m(\u001b[0m\u001b[0mwrapped_fun\u001b[0m\u001b[0;34m,\u001b[0m \u001b[0min_avals\u001b[0m\u001b[0;34m)\u001b[0m\u001b[0;34m\u001b[0m\u001b[0;34m\u001b[0m\u001b[0m\n\u001b[0m\u001b[1;32m     68\u001b[0m   \u001b[0;32mreturn\u001b[0m \u001b[0mjaxpr\u001b[0m\u001b[0;34m,\u001b[0m \u001b[0mout_avals\u001b[0m\u001b[0;34m,\u001b[0m \u001b[0mconsts\u001b[0m\u001b[0;34m,\u001b[0m \u001b[0mout_tree\u001b[0m\u001b[0;34m(\u001b[0m\u001b[0;34m)\u001b[0m\u001b[0;34m\u001b[0m\u001b[0;34m\u001b[0m\u001b[0m\n\u001b[1;32m     69\u001b[0m \u001b[0;34m\u001b[0m\u001b[0m\n",
      "\u001b[0;32m~/.conda/envs/jax_py38/lib/python3.8/site-packages/jax/interpreters/partial_eval.py\u001b[0m in \u001b[0;36mtrace_to_jaxpr_dynamic\u001b[0;34m(fun, in_avals)\u001b[0m\n\u001b[1;32m   1007\u001b[0m     \u001b[0mmain\u001b[0m\u001b[0;34m.\u001b[0m\u001b[0msource_info\u001b[0m \u001b[0;34m=\u001b[0m \u001b[0mfun_sourceinfo\u001b[0m\u001b[0;34m(\u001b[0m\u001b[0mfun\u001b[0m\u001b[0;34m.\u001b[0m\u001b[0mf\u001b[0m\u001b[0;34m)\u001b[0m  \u001b[0;31m# type: ignore\u001b[0m\u001b[0;34m\u001b[0m\u001b[0;34m\u001b[0m\u001b[0m\n\u001b[1;32m   1008\u001b[0m     \u001b[0mmain\u001b[0m\u001b[0;34m.\u001b[0m\u001b[0mjaxpr_stack\u001b[0m \u001b[0;34m=\u001b[0m \u001b[0;34m(\u001b[0m\u001b[0;34m)\u001b[0m  \u001b[0;31m# type: ignore\u001b[0m\u001b[0;34m\u001b[0m\u001b[0;34m\u001b[0m\u001b[0m\n\u001b[0;32m-> 1009\u001b[0;31m     \u001b[0mjaxpr\u001b[0m\u001b[0;34m,\u001b[0m \u001b[0mout_avals\u001b[0m\u001b[0;34m,\u001b[0m \u001b[0mconsts\u001b[0m \u001b[0;34m=\u001b[0m \u001b[0mtrace_to_subjaxpr_dynamic\u001b[0m\u001b[0;34m(\u001b[0m\u001b[0mfun\u001b[0m\u001b[0;34m,\u001b[0m \u001b[0mmain\u001b[0m\u001b[0;34m,\u001b[0m \u001b[0min_avals\u001b[0m\u001b[0;34m)\u001b[0m\u001b[0;34m\u001b[0m\u001b[0;34m\u001b[0m\u001b[0m\n\u001b[0m\u001b[1;32m   1010\u001b[0m     \u001b[0;32mdel\u001b[0m \u001b[0mmain\u001b[0m\u001b[0;34m\u001b[0m\u001b[0;34m\u001b[0m\u001b[0m\n\u001b[1;32m   1011\u001b[0m   \u001b[0;32mreturn\u001b[0m \u001b[0mjaxpr\u001b[0m\u001b[0;34m,\u001b[0m \u001b[0mout_avals\u001b[0m\u001b[0;34m,\u001b[0m \u001b[0mconsts\u001b[0m\u001b[0;34m\u001b[0m\u001b[0;34m\u001b[0m\u001b[0m\n",
      "\u001b[0;32m~/.conda/envs/jax_py38/lib/python3.8/site-packages/jax/interpreters/partial_eval.py\u001b[0m in \u001b[0;36mtrace_to_subjaxpr_dynamic\u001b[0;34m(fun, main, in_avals)\u001b[0m\n\u001b[1;32m   1017\u001b[0m     \u001b[0mtrace\u001b[0m \u001b[0;34m=\u001b[0m \u001b[0mDynamicJaxprTrace\u001b[0m\u001b[0;34m(\u001b[0m\u001b[0mmain\u001b[0m\u001b[0;34m,\u001b[0m \u001b[0mcore\u001b[0m\u001b[0;34m.\u001b[0m\u001b[0mcur_sublevel\u001b[0m\u001b[0;34m(\u001b[0m\u001b[0;34m)\u001b[0m\u001b[0;34m)\u001b[0m\u001b[0;34m\u001b[0m\u001b[0;34m\u001b[0m\u001b[0m\n\u001b[1;32m   1018\u001b[0m     \u001b[0min_tracers\u001b[0m \u001b[0;34m=\u001b[0m \u001b[0mmap\u001b[0m\u001b[0;34m(\u001b[0m\u001b[0mtrace\u001b[0m\u001b[0;34m.\u001b[0m\u001b[0mnew_arg\u001b[0m\u001b[0;34m,\u001b[0m \u001b[0min_avals\u001b[0m\u001b[0;34m)\u001b[0m\u001b[0;34m\u001b[0m\u001b[0;34m\u001b[0m\u001b[0m\n\u001b[0;32m-> 1019\u001b[0;31m     \u001b[0mans\u001b[0m \u001b[0;34m=\u001b[0m \u001b[0mfun\u001b[0m\u001b[0;34m.\u001b[0m\u001b[0mcall_wrapped\u001b[0m\u001b[0;34m(\u001b[0m\u001b[0;34m*\u001b[0m\u001b[0min_tracers\u001b[0m\u001b[0;34m)\u001b[0m\u001b[0;34m\u001b[0m\u001b[0;34m\u001b[0m\u001b[0m\n\u001b[0m\u001b[1;32m   1020\u001b[0m     \u001b[0mout_tracers\u001b[0m \u001b[0;34m=\u001b[0m \u001b[0mmap\u001b[0m\u001b[0;34m(\u001b[0m\u001b[0mtrace\u001b[0m\u001b[0;34m.\u001b[0m\u001b[0mfull_raise\u001b[0m\u001b[0;34m,\u001b[0m \u001b[0mans\u001b[0m\u001b[0;34m)\u001b[0m\u001b[0;34m\u001b[0m\u001b[0;34m\u001b[0m\u001b[0m\n\u001b[1;32m   1021\u001b[0m   \u001b[0mjaxpr\u001b[0m\u001b[0;34m,\u001b[0m \u001b[0mout_avals\u001b[0m\u001b[0;34m,\u001b[0m \u001b[0mconsts\u001b[0m \u001b[0;34m=\u001b[0m \u001b[0mframe\u001b[0m\u001b[0;34m.\u001b[0m\u001b[0mto_jaxpr\u001b[0m\u001b[0;34m(\u001b[0m\u001b[0min_tracers\u001b[0m\u001b[0;34m,\u001b[0m \u001b[0mout_tracers\u001b[0m\u001b[0;34m)\u001b[0m\u001b[0;34m\u001b[0m\u001b[0;34m\u001b[0m\u001b[0m\n",
      "\u001b[0;32m~/.conda/envs/jax_py38/lib/python3.8/site-packages/jax/linear_util.py\u001b[0m in \u001b[0;36mcall_wrapped\u001b[0;34m(self, *args, **kwargs)\u001b[0m\n\u001b[1;32m    149\u001b[0m \u001b[0;34m\u001b[0m\u001b[0m\n\u001b[1;32m    150\u001b[0m     \u001b[0;32mtry\u001b[0m\u001b[0;34m:\u001b[0m\u001b[0;34m\u001b[0m\u001b[0;34m\u001b[0m\u001b[0m\n\u001b[0;32m--> 151\u001b[0;31m       \u001b[0mans\u001b[0m \u001b[0;34m=\u001b[0m \u001b[0mself\u001b[0m\u001b[0;34m.\u001b[0m\u001b[0mf\u001b[0m\u001b[0;34m(\u001b[0m\u001b[0;34m*\u001b[0m\u001b[0margs\u001b[0m\u001b[0;34m,\u001b[0m \u001b[0;34m**\u001b[0m\u001b[0mdict\u001b[0m\u001b[0;34m(\u001b[0m\u001b[0mself\u001b[0m\u001b[0;34m.\u001b[0m\u001b[0mparams\u001b[0m\u001b[0;34m,\u001b[0m \u001b[0;34m**\u001b[0m\u001b[0mkwargs\u001b[0m\u001b[0;34m)\u001b[0m\u001b[0;34m)\u001b[0m\u001b[0;34m\u001b[0m\u001b[0;34m\u001b[0m\u001b[0m\n\u001b[0m\u001b[1;32m    152\u001b[0m     \u001b[0;32mexcept\u001b[0m\u001b[0;34m:\u001b[0m\u001b[0;34m\u001b[0m\u001b[0;34m\u001b[0m\u001b[0m\n\u001b[1;32m    153\u001b[0m       \u001b[0;31m# Some transformations yield from inside context managers, so we have to\u001b[0m\u001b[0;34m\u001b[0m\u001b[0;34m\u001b[0m\u001b[0;34m\u001b[0m\u001b[0m\n",
      "\u001b[0;32m<ipython-input-69-551858eab1c5>\u001b[0m in \u001b[0;36mbody\u001b[0;34m(state)\u001b[0m\n\u001b[1;32m     10\u001b[0m     \u001b[0mx\u001b[0m\u001b[0;34m,\u001b[0m \u001b[0m_\u001b[0m \u001b[0;34m=\u001b[0m \u001b[0mfit_transform_func_jitted\u001b[0m\u001b[0;34m(\u001b[0m\u001b[0mx\u001b[0m\u001b[0;34m)\u001b[0m\u001b[0;34m\u001b[0m\u001b[0;34m\u001b[0m\u001b[0m\n\u001b[1;32m     11\u001b[0m \u001b[0;34m\u001b[0m\u001b[0m\n\u001b[0;32m---> 12\u001b[0;31m     \u001b[0;32mif\u001b[0m \u001b[0mloss_state\u001b[0m\u001b[0;34m.\u001b[0m\u001b[0mlayer\u001b[0m \u001b[0;34m==\u001b[0m \u001b[0;36m1\u001b[0m\u001b[0;34m:\u001b[0m\u001b[0;34m\u001b[0m\u001b[0;34m\u001b[0m\u001b[0m\n\u001b[0m\u001b[1;32m     13\u001b[0m         \u001b[0mi\u001b[0m \u001b[0;34m=\u001b[0m \u001b[0;36m1\u001b[0m\u001b[0;34m\u001b[0m\u001b[0;34m\u001b[0m\u001b[0m\n\u001b[1;32m     14\u001b[0m     \u001b[0;32melse\u001b[0m\u001b[0;34m:\u001b[0m\u001b[0;34m\u001b[0m\u001b[0;34m\u001b[0m\u001b[0m\n",
      "\u001b[0;32m~/.conda/envs/jax_py38/lib/python3.8/site-packages/jax/core.py\u001b[0m in \u001b[0;36m__bool__\u001b[0;34m(self)\u001b[0m\n\u001b[1;32m    505\u001b[0m   \u001b[0;32mdef\u001b[0m \u001b[0m__getitem__\u001b[0m\u001b[0;34m(\u001b[0m\u001b[0mself\u001b[0m\u001b[0;34m,\u001b[0m \u001b[0midx\u001b[0m\u001b[0;34m)\u001b[0m\u001b[0;34m:\u001b[0m \u001b[0;32mreturn\u001b[0m \u001b[0mself\u001b[0m\u001b[0;34m.\u001b[0m\u001b[0maval\u001b[0m\u001b[0;34m.\u001b[0m\u001b[0m_getitem\u001b[0m\u001b[0;34m(\u001b[0m\u001b[0mself\u001b[0m\u001b[0;34m,\u001b[0m \u001b[0midx\u001b[0m\u001b[0;34m)\u001b[0m\u001b[0;34m\u001b[0m\u001b[0;34m\u001b[0m\u001b[0m\n\u001b[1;32m    506\u001b[0m   \u001b[0;32mdef\u001b[0m \u001b[0m__nonzero__\u001b[0m\u001b[0;34m(\u001b[0m\u001b[0mself\u001b[0m\u001b[0;34m)\u001b[0m\u001b[0;34m:\u001b[0m \u001b[0;32mreturn\u001b[0m \u001b[0mself\u001b[0m\u001b[0;34m.\u001b[0m\u001b[0maval\u001b[0m\u001b[0;34m.\u001b[0m\u001b[0m_nonzero\u001b[0m\u001b[0;34m(\u001b[0m\u001b[0mself\u001b[0m\u001b[0;34m)\u001b[0m\u001b[0;34m\u001b[0m\u001b[0;34m\u001b[0m\u001b[0m\n\u001b[0;32m--> 507\u001b[0;31m   \u001b[0;32mdef\u001b[0m \u001b[0m__bool__\u001b[0m\u001b[0;34m(\u001b[0m\u001b[0mself\u001b[0m\u001b[0;34m)\u001b[0m\u001b[0;34m:\u001b[0m \u001b[0;32mreturn\u001b[0m \u001b[0mself\u001b[0m\u001b[0;34m.\u001b[0m\u001b[0maval\u001b[0m\u001b[0;34m.\u001b[0m\u001b[0m_bool\u001b[0m\u001b[0;34m(\u001b[0m\u001b[0mself\u001b[0m\u001b[0;34m)\u001b[0m\u001b[0;34m\u001b[0m\u001b[0;34m\u001b[0m\u001b[0m\n\u001b[0m\u001b[1;32m    508\u001b[0m   \u001b[0;32mdef\u001b[0m \u001b[0m__int__\u001b[0m\u001b[0;34m(\u001b[0m\u001b[0mself\u001b[0m\u001b[0;34m)\u001b[0m\u001b[0;34m:\u001b[0m \u001b[0;32mreturn\u001b[0m \u001b[0mself\u001b[0m\u001b[0;34m.\u001b[0m\u001b[0maval\u001b[0m\u001b[0;34m.\u001b[0m\u001b[0m_int\u001b[0m\u001b[0;34m(\u001b[0m\u001b[0mself\u001b[0m\u001b[0;34m)\u001b[0m\u001b[0;34m\u001b[0m\u001b[0;34m\u001b[0m\u001b[0m\n\u001b[1;32m    509\u001b[0m   \u001b[0;32mdef\u001b[0m \u001b[0m__long__\u001b[0m\u001b[0;34m(\u001b[0m\u001b[0mself\u001b[0m\u001b[0;34m)\u001b[0m\u001b[0;34m:\u001b[0m \u001b[0;32mreturn\u001b[0m \u001b[0mself\u001b[0m\u001b[0;34m.\u001b[0m\u001b[0maval\u001b[0m\u001b[0;34m.\u001b[0m\u001b[0m_long\u001b[0m\u001b[0;34m(\u001b[0m\u001b[0mself\u001b[0m\u001b[0;34m)\u001b[0m\u001b[0;34m\u001b[0m\u001b[0;34m\u001b[0m\u001b[0m\n",
      "\u001b[0;32m~/.conda/envs/jax_py38/lib/python3.8/site-packages/jax/core.py\u001b[0m in \u001b[0;36merror\u001b[0;34m(self, arg)\u001b[0m\n\u001b[1;32m    863\u001b[0m                       f\"or `jnp.array(x, {fun.__name__})` instead.\")\n\u001b[1;32m    864\u001b[0m   \u001b[0;32mdef\u001b[0m \u001b[0merror\u001b[0m\u001b[0;34m(\u001b[0m\u001b[0mself\u001b[0m\u001b[0;34m,\u001b[0m \u001b[0marg\u001b[0m\u001b[0;34m)\u001b[0m\u001b[0;34m:\u001b[0m\u001b[0;34m\u001b[0m\u001b[0;34m\u001b[0m\u001b[0m\n\u001b[0;32m--> 865\u001b[0;31m     \u001b[0mraise_concretization_error\u001b[0m\u001b[0;34m(\u001b[0m\u001b[0marg\u001b[0m\u001b[0;34m,\u001b[0m \u001b[0mfname_context\u001b[0m\u001b[0;34m)\u001b[0m\u001b[0;34m\u001b[0m\u001b[0;34m\u001b[0m\u001b[0m\n\u001b[0m\u001b[1;32m    866\u001b[0m   \u001b[0;32mreturn\u001b[0m \u001b[0merror\u001b[0m\u001b[0;34m\u001b[0m\u001b[0;34m\u001b[0m\u001b[0m\n\u001b[1;32m    867\u001b[0m \u001b[0;34m\u001b[0m\u001b[0m\n",
      "\u001b[0;32m~/.conda/envs/jax_py38/lib/python3.8/site-packages/jax/core.py\u001b[0m in \u001b[0;36mraise_concretization_error\u001b[0;34m(val, context)\u001b[0m\n\u001b[1;32m    852\u001b[0m          \u001b[0;34m\"See https://jax.readthedocs.io/en/latest/faq.html#abstract-tracer-value-encountered-where-concrete-value-is-expected-error for more information.\\n\\n\"\u001b[0m\u001b[0;34m\u001b[0m\u001b[0;34m\u001b[0m\u001b[0m\n\u001b[1;32m    853\u001b[0m           f\"Encountered tracer value: {val}\")\n\u001b[0;32m--> 854\u001b[0;31m   \u001b[0;32mraise\u001b[0m \u001b[0mConcretizationTypeError\u001b[0m\u001b[0;34m(\u001b[0m\u001b[0mmsg\u001b[0m\u001b[0;34m)\u001b[0m\u001b[0;34m\u001b[0m\u001b[0;34m\u001b[0m\u001b[0m\n\u001b[0m\u001b[1;32m    855\u001b[0m \u001b[0;34m\u001b[0m\u001b[0m\n\u001b[1;32m    856\u001b[0m \u001b[0;34m\u001b[0m\u001b[0m\n",
      "\u001b[0;31mConcretizationTypeError\u001b[0m: Abstract tracer value encountered where concrete value is expected.\n\nThe problem arose with the `bool` function. \n\nWhile tracing the function body at <ipython-input-69-551858eab1c5>:7, this concrete value was not available in Python because it depends on the value of the arguments to body at <ipython-input-69-551858eab1c5>:7 at flattened positions [0], and the computation of these values is being staged out (that is, delayed rather than executed eagerly).\n\nYou can use transformation parameters such as `static_argnums` for `jit` to avoid tracing particular arguments of transformed functions, though at the cost of more recompiles.\n\nSee https://jax.readthedocs.io/en/latest/faq.html#abstract-tracer-value-encountered-where-concrete-value-is-expected-error for more information.\n\nEncountered tracer value: Traced<ShapedArray(bool[])>with<DynamicJaxprTrace(level=1/0)>"
     ]
    }
   ],
   "source": [
    "init_state = MaxLoss(layer=0, max_layers=n_layers), X_g\n",
    "\n",
    "def max_condition(state):\n",
    "    loss_state, x = state\n",
    "    verdict = lax.cond(True, )\n",
    "    return loss_state.layer <= loss_state.max_layers\n",
    "\n",
    "def body(state):\n",
    "    loss_state, x = state\n",
    "\n",
    "    x, _ = fit_transform_func_jitted(x)\n",
    "    \n",
    "    if loss_state.layer == 1:\n",
    "        i = 1\n",
    "    else:\n",
    "        loss_state.layer == 10\n",
    "        i = 0\n",
    "    \n",
    "    params.append(layer_params)  \n",
    "    state = MaxLoss(layer=loss_state.layer + 1, max_layers=loss_state.max_layers), x\n",
    "    \n",
    "    return state\n",
    "    \n",
    "final_state = jax.lax.while_loop(max_condition, body, init_state)\n",
    "\n",
    "print(final_state[1][:10].shape)"
   ]
  },
  {
   "cell_type": "code",
   "execution_count": 66,
   "metadata": {},
   "outputs": [
    {
     "name": "stdout",
     "output_type": "stream",
     "text": [
      "(2000, 2)\n"
     ]
    }
   ],
   "source": []
  },
  {
   "cell_type": "code",
   "execution_count": 59,
   "metadata": {
    "collapsed": true,
    "jupyter": {
     "outputs_hidden": true
    }
   },
   "outputs": [
    {
     "ename": "TypeError",
     "evalue": "body_fun output and input must have same type structure, got PyTreeDef(tuple, [PyTreeDef(<class '__main__.MaxLoss'>[PyTreeDef(dict[['layer', 'max_layers']], [*,*])], [*,*]),*,PyTreeDef(list, [PyTreeDef(<class 'rbig_jax.transforms.block.RBIGBlockParams'>[PyTreeDef(dict[['empirical_pdf', 'quantiles', 'rotation', 'support', 'support_pdf']], [*,*,*,*,*])], [*,*,*,*,*]),PyTreeDef(<class 'rbig_jax.transforms.block.RBIGBlockParams'>[PyTreeDef(dict[['empirical_pdf', 'quantiles', 'rotation', 'support', 'support_pdf']], [*,*,*,*,*])], [*,*,*,*,*]),PyTreeDef(<class 'rbig_jax.transforms.block.RBIGBlockParams'>[PyTreeDef(dict[['empirical_pdf', 'quantiles', 'rotation', 'support', 'support_pdf']], [*,*,*,*,*])], [*,*,*,*,*]),PyTreeDef(<class 'rbig_jax.transforms.block.RBIGBlockParams'>[PyTreeDef(dict[['empirical_pdf', 'quantiles', 'rotation', 'support', 'support_pdf']], [*,*,*,*,*])], [*,*,*,*,*]),PyTreeDef(<class 'rbig_jax.transforms.block.RBIGBlockParams'>[PyTreeDef(dict[['empirical_pdf', 'quantiles', 'rotation', 'support', 'support_pdf']], [*,*,*,*,*])], [*,*,*,*,*]),PyTreeDef(<class 'rbig_jax.transforms.block.RBIGBlockParams'>[PyTreeDef(dict[['empirical_pdf', 'quantiles', 'rotation', 'support', 'support_pdf']], [*,*,*,*,*])], [*,*,*,*,*]),PyTreeDef(<class 'rbig_jax.transforms.block.RBIGBlockParams'>[PyTreeDef(dict[['empirical_pdf', 'quantiles', 'rotation', 'support', 'support_pdf']], [*,*,*,*,*])], [*,*,*,*,*]),PyTreeDef(<class 'rbig_jax.transforms.block.RBIGBlockParams'>[PyTreeDef(dict[['empirical_pdf', 'quantiles', 'rotation', 'support', 'support_pdf']], [*,*,*,*,*])], [*,*,*,*,*]),PyTreeDef(<class 'rbig_jax.transforms.block.RBIGBlockParams'>[PyTreeDef(dict[['empirical_pdf', 'quantiles', 'rotation', 'support', 'support_pdf']], [*,*,*,*,*])], [*,*,*,*,*]),PyTreeDef(<class 'rbig_jax.transforms.block.RBIGBlockParams'>[PyTreeDef(dict[['empirical_pdf', 'quantiles', 'rotation', 'support', 'support_pdf']], [*,*,*,*,*])], [*,*,*,*,*]),PyTreeDef(<class 'rbig_jax.transforms.block.RBIGBlockParams'>[PyTreeDef(dict[['empirical_pdf', 'quantiles', 'rotation', 'support', 'support_pdf']], [*,*,*,*,*])], [*,*,*,*,*]),PyTreeDef(<class 'rbig_jax.transforms.block.RBIGBlockParams'>[PyTreeDef(dict[['empirical_pdf', 'quantiles', 'rotation', 'support', 'support_pdf']], [*,*,*,*,*])], [*,*,*,*,*]),PyTreeDef(<class 'rbig_jax.transforms.block.RBIGBlockParams'>[PyTreeDef(dict[['empirical_pdf', 'quantiles', 'rotation', 'support', 'support_pdf']], [*,*,*,*,*])], [*,*,*,*,*]),PyTreeDef(<class 'rbig_jax.transforms.block.RBIGBlockParams'>[PyTreeDef(dict[['empirical_pdf', 'quantiles', 'rotation', 'support', 'support_pdf']], [*,*,*,*,*])], [*,*,*,*,*]),PyTreeDef(<class 'rbig_jax.transforms.block.RBIGBlockParams'>[PyTreeDef(dict[['empirical_pdf', 'quantiles', 'rotation', 'support', 'support_pdf']], [*,*,*,*,*])], [*,*,*,*,*]),PyTreeDef(<class 'rbig_jax.transforms.block.RBIGBlockParams'>[PyTreeDef(dict[['empirical_pdf', 'quantiles', 'rotation', 'support', 'support_pdf']], [*,*,*,*,*])], [*,*,*,*,*]),PyTreeDef(<class 'rbig_jax.transforms.block.RBIGBlockParams'>[PyTreeDef(dict[['empirical_pdf', 'quantiles', 'rotation', 'support', 'support_pdf']], [*,*,*,*,*])], [*,*,*,*,*]),PyTreeDef(<class 'rbig_jax.transforms.block.RBIGBlockParams'>[PyTreeDef(dict[['empirical_pdf', 'quantiles', 'rotation', 'support', 'support_pdf']], [*,*,*,*,*])], [*,*,*,*,*]),PyTreeDef(<class 'rbig_jax.transforms.block.RBIGBlockParams'>[PyTreeDef(dict[['empirical_pdf', 'quantiles', 'rotation', 'support', 'support_pdf']], [*,*,*,*,*])], [*,*,*,*,*]),PyTreeDef(<class 'rbig_jax.transforms.block.RBIGBlockParams'>[PyTreeDef(dict[['empirical_pdf', 'quantiles', 'rotation', 'support', 'support_pdf']], [*,*,*,*,*])], [*,*,*,*,*]),PyTreeDef(<class 'rbig_jax.transforms.block.RBIGBlockParams'>[PyTreeDef(dict[['empirical_pdf', 'quantiles', 'rotation', 'support', 'support_pdf']], [*,*,*,*,*])], [*,*,*,*,*]),PyTreeDef(<class 'rbig_jax.transforms.block.RBIGBlockParams'>[PyTreeDef(dict[['empirical_pdf', 'quantiles', 'rotation', 'support', 'support_pdf']], [*,*,*,*,*])], [*,*,*,*,*])])]) and PyTreeDef(tuple, [PyTreeDef(<class '__main__.MaxLoss'>[PyTreeDef(dict[['layer', 'max_layers']], [*,*])], [*,*]),*,PyTreeDef(list, [PyTreeDef(<class 'rbig_jax.transforms.block.RBIGBlockParams'>[PyTreeDef(dict[['empirical_pdf', 'quantiles', 'rotation', 'support', 'support_pdf']], [*,*,*,*,*])], [*,*,*,*,*]),PyTreeDef(<class 'rbig_jax.transforms.block.RBIGBlockParams'>[PyTreeDef(dict[['empirical_pdf', 'quantiles', 'rotation', 'support', 'support_pdf']], [*,*,*,*,*])], [*,*,*,*,*]),PyTreeDef(<class 'rbig_jax.transforms.block.RBIGBlockParams'>[PyTreeDef(dict[['empirical_pdf', 'quantiles', 'rotation', 'support', 'support_pdf']], [*,*,*,*,*])], [*,*,*,*,*]),PyTreeDef(<class 'rbig_jax.transforms.block.RBIGBlockParams'>[PyTreeDef(dict[['empirical_pdf', 'quantiles', 'rotation', 'support', 'support_pdf']], [*,*,*,*,*])], [*,*,*,*,*]),PyTreeDef(<class 'rbig_jax.transforms.block.RBIGBlockParams'>[PyTreeDef(dict[['empirical_pdf', 'quantiles', 'rotation', 'support', 'support_pdf']], [*,*,*,*,*])], [*,*,*,*,*]),PyTreeDef(<class 'rbig_jax.transforms.block.RBIGBlockParams'>[PyTreeDef(dict[['empirical_pdf', 'quantiles', 'rotation', 'support', 'support_pdf']], [*,*,*,*,*])], [*,*,*,*,*]),PyTreeDef(<class 'rbig_jax.transforms.block.RBIGBlockParams'>[PyTreeDef(dict[['empirical_pdf', 'quantiles', 'rotation', 'support', 'support_pdf']], [*,*,*,*,*])], [*,*,*,*,*]),PyTreeDef(<class 'rbig_jax.transforms.block.RBIGBlockParams'>[PyTreeDef(dict[['empirical_pdf', 'quantiles', 'rotation', 'support', 'support_pdf']], [*,*,*,*,*])], [*,*,*,*,*]),PyTreeDef(<class 'rbig_jax.transforms.block.RBIGBlockParams'>[PyTreeDef(dict[['empirical_pdf', 'quantiles', 'rotation', 'support', 'support_pdf']], [*,*,*,*,*])], [*,*,*,*,*]),PyTreeDef(<class 'rbig_jax.transforms.block.RBIGBlockParams'>[PyTreeDef(dict[['empirical_pdf', 'quantiles', 'rotation', 'support', 'support_pdf']], [*,*,*,*,*])], [*,*,*,*,*]),PyTreeDef(<class 'rbig_jax.transforms.block.RBIGBlockParams'>[PyTreeDef(dict[['empirical_pdf', 'quantiles', 'rotation', 'support', 'support_pdf']], [*,*,*,*,*])], [*,*,*,*,*]),PyTreeDef(<class 'rbig_jax.transforms.block.RBIGBlockParams'>[PyTreeDef(dict[['empirical_pdf', 'quantiles', 'rotation', 'support', 'support_pdf']], [*,*,*,*,*])], [*,*,*,*,*]),PyTreeDef(<class 'rbig_jax.transforms.block.RBIGBlockParams'>[PyTreeDef(dict[['empirical_pdf', 'quantiles', 'rotation', 'support', 'support_pdf']], [*,*,*,*,*])], [*,*,*,*,*]),PyTreeDef(<class 'rbig_jax.transforms.block.RBIGBlockParams'>[PyTreeDef(dict[['empirical_pdf', 'quantiles', 'rotation', 'support', 'support_pdf']], [*,*,*,*,*])], [*,*,*,*,*]),PyTreeDef(<class 'rbig_jax.transforms.block.RBIGBlockParams'>[PyTreeDef(dict[['empirical_pdf', 'quantiles', 'rotation', 'support', 'support_pdf']], [*,*,*,*,*])], [*,*,*,*,*]),PyTreeDef(<class 'rbig_jax.transforms.block.RBIGBlockParams'>[PyTreeDef(dict[['empirical_pdf', 'quantiles', 'rotation', 'support', 'support_pdf']], [*,*,*,*,*])], [*,*,*,*,*]),PyTreeDef(<class 'rbig_jax.transforms.block.RBIGBlockParams'>[PyTreeDef(dict[['empirical_pdf', 'quantiles', 'rotation', 'support', 'support_pdf']], [*,*,*,*,*])], [*,*,*,*,*]),PyTreeDef(<class 'rbig_jax.transforms.block.RBIGBlockParams'>[PyTreeDef(dict[['empirical_pdf', 'quantiles', 'rotation', 'support', 'support_pdf']], [*,*,*,*,*])], [*,*,*,*,*]),PyTreeDef(<class 'rbig_jax.transforms.block.RBIGBlockParams'>[PyTreeDef(dict[['empirical_pdf', 'quantiles', 'rotation', 'support', 'support_pdf']], [*,*,*,*,*])], [*,*,*,*,*]),PyTreeDef(<class 'rbig_jax.transforms.block.RBIGBlockParams'>[PyTreeDef(dict[['empirical_pdf', 'quantiles', 'rotation', 'support', 'support_pdf']], [*,*,*,*,*])], [*,*,*,*,*]),PyTreeDef(<class 'rbig_jax.transforms.block.RBIGBlockParams'>[PyTreeDef(dict[['empirical_pdf', 'quantiles', 'rotation', 'support', 'support_pdf']], [*,*,*,*,*])], [*,*,*,*,*])])]).",
     "output_type": "error",
     "traceback": [
      "\u001b[0;31m---------------------------------------------------------------------------\u001b[0m",
      "\u001b[0;31mTypeError\u001b[0m                                 Traceback (most recent call last)",
      "\u001b[0;32m<ipython-input-59-7c4d70e89b92>\u001b[0m in \u001b[0;36m<module>\u001b[0;34m\u001b[0m\n\u001b[1;32m     11\u001b[0m     \u001b[0;32mreturn\u001b[0m \u001b[0mstate\u001b[0m\u001b[0;34m\u001b[0m\u001b[0;34m\u001b[0m\u001b[0m\n\u001b[1;32m     12\u001b[0m \u001b[0;34m\u001b[0m\u001b[0m\n\u001b[0;32m---> 13\u001b[0;31m \u001b[0mfinal_state\u001b[0m \u001b[0;34m=\u001b[0m \u001b[0mjax\u001b[0m\u001b[0;34m.\u001b[0m\u001b[0mlax\u001b[0m\u001b[0;34m.\u001b[0m\u001b[0mwhile_loop\u001b[0m\u001b[0;34m(\u001b[0m\u001b[0mmax_condition\u001b[0m\u001b[0;34m,\u001b[0m \u001b[0mbody\u001b[0m\u001b[0;34m,\u001b[0m \u001b[0minit_state\u001b[0m\u001b[0;34m)\u001b[0m\u001b[0;34m\u001b[0m\u001b[0;34m\u001b[0m\u001b[0m\n\u001b[0m",
      "\u001b[0;32m~/.conda/envs/jax_py38/lib/python3.8/site-packages/jax/lax/lax_control_flow.py\u001b[0m in \u001b[0;36mwhile_loop\u001b[0;34m(cond_fun, body_fun, init_val)\u001b[0m\n\u001b[1;32m    279\u001b[0m   \u001b[0min_tree_children\u001b[0m \u001b[0;34m=\u001b[0m \u001b[0min_tree\u001b[0m\u001b[0;34m.\u001b[0m\u001b[0mchildren\u001b[0m\u001b[0;34m(\u001b[0m\u001b[0;34m)\u001b[0m\u001b[0;34m\u001b[0m\u001b[0;34m\u001b[0m\u001b[0m\n\u001b[1;32m    280\u001b[0m   \u001b[0;32massert\u001b[0m \u001b[0mlen\u001b[0m\u001b[0;34m(\u001b[0m\u001b[0min_tree_children\u001b[0m\u001b[0;34m)\u001b[0m \u001b[0;34m==\u001b[0m \u001b[0;36m1\u001b[0m\u001b[0;34m\u001b[0m\u001b[0;34m\u001b[0m\u001b[0m\n\u001b[0;32m--> 281\u001b[0;31m   _check_tree_and_avals(\"body_fun output and input\",\n\u001b[0m\u001b[1;32m    282\u001b[0m                         \u001b[0mbody_tree\u001b[0m\u001b[0;34m,\u001b[0m \u001b[0mbody_jaxpr\u001b[0m\u001b[0;34m.\u001b[0m\u001b[0mout_avals\u001b[0m\u001b[0;34m,\u001b[0m\u001b[0;34m\u001b[0m\u001b[0;34m\u001b[0m\u001b[0m\n\u001b[1;32m    283\u001b[0m                         in_tree_children[0], init_avals)\n",
      "\u001b[0;32m~/.conda/envs/jax_py38/lib/python3.8/site-packages/jax/lax/lax_control_flow.py\u001b[0m in \u001b[0;36m_check_tree_and_avals\u001b[0;34m(what, tree1, avals1, tree2, avals2)\u001b[0m\n\u001b[1;32m   1871\u001b[0m   \u001b[0;32mif\u001b[0m \u001b[0mtree1\u001b[0m \u001b[0;34m!=\u001b[0m \u001b[0mtree2\u001b[0m\u001b[0;34m:\u001b[0m\u001b[0;34m\u001b[0m\u001b[0;34m\u001b[0m\u001b[0m\n\u001b[1;32m   1872\u001b[0m     \u001b[0mmsg\u001b[0m \u001b[0;34m=\u001b[0m \u001b[0;34m(\u001b[0m\u001b[0;34m\"{} must have same type structure, got {} and {}.\"\u001b[0m\u001b[0;34m)\u001b[0m\u001b[0;34m\u001b[0m\u001b[0;34m\u001b[0m\u001b[0m\n\u001b[0;32m-> 1873\u001b[0;31m     \u001b[0;32mraise\u001b[0m \u001b[0mTypeError\u001b[0m\u001b[0;34m(\u001b[0m\u001b[0mmsg\u001b[0m\u001b[0;34m.\u001b[0m\u001b[0mformat\u001b[0m\u001b[0;34m(\u001b[0m\u001b[0mwhat\u001b[0m\u001b[0;34m,\u001b[0m \u001b[0mtree1\u001b[0m\u001b[0;34m,\u001b[0m \u001b[0mtree2\u001b[0m\u001b[0;34m)\u001b[0m\u001b[0;34m)\u001b[0m\u001b[0;34m\u001b[0m\u001b[0;34m\u001b[0m\u001b[0m\n\u001b[0m\u001b[1;32m   1874\u001b[0m   \u001b[0;32mif\u001b[0m \u001b[0;32mnot\u001b[0m \u001b[0mall\u001b[0m\u001b[0;34m(\u001b[0m\u001b[0msafe_map\u001b[0m\u001b[0;34m(\u001b[0m\u001b[0mtypematch\u001b[0m\u001b[0;34m,\u001b[0m \u001b[0mavals1\u001b[0m\u001b[0;34m,\u001b[0m \u001b[0mavals2\u001b[0m\u001b[0;34m)\u001b[0m\u001b[0;34m)\u001b[0m\u001b[0;34m:\u001b[0m\u001b[0;34m\u001b[0m\u001b[0;34m\u001b[0m\u001b[0m\n\u001b[1;32m   1875\u001b[0m     msg = (\"{} must have identical types, \"\n",
      "\u001b[0;31mTypeError\u001b[0m: body_fun output and input must have same type structure, got PyTreeDef(tuple, [PyTreeDef(<class '__main__.MaxLoss'>[PyTreeDef(dict[['layer', 'max_layers']], [*,*])], [*,*]),*,PyTreeDef(list, [PyTreeDef(<class 'rbig_jax.transforms.block.RBIGBlockParams'>[PyTreeDef(dict[['empirical_pdf', 'quantiles', 'rotation', 'support', 'support_pdf']], [*,*,*,*,*])], [*,*,*,*,*]),PyTreeDef(<class 'rbig_jax.transforms.block.RBIGBlockParams'>[PyTreeDef(dict[['empirical_pdf', 'quantiles', 'rotation', 'support', 'support_pdf']], [*,*,*,*,*])], [*,*,*,*,*]),PyTreeDef(<class 'rbig_jax.transforms.block.RBIGBlockParams'>[PyTreeDef(dict[['empirical_pdf', 'quantiles', 'rotation', 'support', 'support_pdf']], [*,*,*,*,*])], [*,*,*,*,*]),PyTreeDef(<class 'rbig_jax.transforms.block.RBIGBlockParams'>[PyTreeDef(dict[['empirical_pdf', 'quantiles', 'rotation', 'support', 'support_pdf']], [*,*,*,*,*])], [*,*,*,*,*]),PyTreeDef(<class 'rbig_jax.transforms.block.RBIGBlockParams'>[PyTreeDef(dict[['empirical_pdf', 'quantiles', 'rotation', 'support', 'support_pdf']], [*,*,*,*,*])], [*,*,*,*,*]),PyTreeDef(<class 'rbig_jax.transforms.block.RBIGBlockParams'>[PyTreeDef(dict[['empirical_pdf', 'quantiles', 'rotation', 'support', 'support_pdf']], [*,*,*,*,*])], [*,*,*,*,*]),PyTreeDef(<class 'rbig_jax.transforms.block.RBIGBlockParams'>[PyTreeDef(dict[['empirical_pdf', 'quantiles', 'rotation', 'support', 'support_pdf']], [*,*,*,*,*])], [*,*,*,*,*]),PyTreeDef(<class 'rbig_jax.transforms.block.RBIGBlockParams'>[PyTreeDef(dict[['empirical_pdf', 'quantiles', 'rotation', 'support', 'support_pdf']], [*,*,*,*,*])], [*,*,*,*,*]),PyTreeDef(<class 'rbig_jax.transforms.block.RBIGBlockParams'>[PyTreeDef(dict[['empirical_pdf', 'quantiles', 'rotation', 'support', 'support_pdf']], [*,*,*,*,*])], [*,*,*,*,*]),PyTreeDef(<class 'rbig_jax.transforms.block.RBIGBlockParams'>[PyTreeDef(dict[['empirical_pdf', 'quantiles', 'rotation', 'support', 'support_pdf']], [*,*,*,*,*])], [*,*,*,*,*]),PyTreeDef(<class 'rbig_jax.transforms.block.RBIGBlockParams'>[PyTreeDef(dict[['empirical_pdf', 'quantiles', 'rotation', 'support', 'support_pdf']], [*,*,*,*,*])], [*,*,*,*,*]),PyTreeDef(<class 'rbig_jax.transforms.block.RBIGBlockParams'>[PyTreeDef(dict[['empirical_pdf', 'quantiles', 'rotation', 'support', 'support_pdf']], [*,*,*,*,*])], [*,*,*,*,*]),PyTreeDef(<class 'rbig_jax.transforms.block.RBIGBlockParams'>[PyTreeDef(dict[['empirical_pdf', 'quantiles', 'rotation', 'support', 'support_pdf']], [*,*,*,*,*])], [*,*,*,*,*]),PyTreeDef(<class 'rbig_jax.transforms.block.RBIGBlockParams'>[PyTreeDef(dict[['empirical_pdf', 'quantiles', 'rotation', 'support', 'support_pdf']], [*,*,*,*,*])], [*,*,*,*,*]),PyTreeDef(<class 'rbig_jax.transforms.block.RBIGBlockParams'>[PyTreeDef(dict[['empirical_pdf', 'quantiles', 'rotation', 'support', 'support_pdf']], [*,*,*,*,*])], [*,*,*,*,*]),PyTreeDef(<class 'rbig_jax.transforms.block.RBIGBlockParams'>[PyTreeDef(dict[['empirical_pdf', 'quantiles', 'rotation', 'support', 'support_pdf']], [*,*,*,*,*])], [*,*,*,*,*]),PyTreeDef(<class 'rbig_jax.transforms.block.RBIGBlockParams'>[PyTreeDef(dict[['empirical_pdf', 'quantiles', 'rotation', 'support', 'support_pdf']], [*,*,*,*,*])], [*,*,*,*,*]),PyTreeDef(<class 'rbig_jax.transforms.block.RBIGBlockParams'>[PyTreeDef(dict[['empirical_pdf', 'quantiles', 'rotation', 'support', 'support_pdf']], [*,*,*,*,*])], [*,*,*,*,*]),PyTreeDef(<class 'rbig_jax.transforms.block.RBIGBlockParams'>[PyTreeDef(dict[['empirical_pdf', 'quantiles', 'rotation', 'support', 'support_pdf']], [*,*,*,*,*])], [*,*,*,*,*]),PyTreeDef(<class 'rbig_jax.transforms.block.RBIGBlockParams'>[PyTreeDef(dict[['empirical_pdf', 'quantiles', 'rotation', 'support', 'support_pdf']], [*,*,*,*,*])], [*,*,*,*,*]),PyTreeDef(<class 'rbig_jax.transforms.block.RBIGBlockParams'>[PyTreeDef(dict[['empirical_pdf', 'quantiles', 'rotation', 'support', 'support_pdf']], [*,*,*,*,*])], [*,*,*,*,*]),PyTreeDef(<class 'rbig_jax.transforms.block.RBIGBlockParams'>[PyTreeDef(dict[['empirical_pdf', 'quantiles', 'rotation', 'support', 'support_pdf']], [*,*,*,*,*])], [*,*,*,*,*])])]) and PyTreeDef(tuple, [PyTreeDef(<class '__main__.MaxLoss'>[PyTreeDef(dict[['layer', 'max_layers']], [*,*])], [*,*]),*,PyTreeDef(list, [PyTreeDef(<class 'rbig_jax.transforms.block.RBIGBlockParams'>[PyTreeDef(dict[['empirical_pdf', 'quantiles', 'rotation', 'support', 'support_pdf']], [*,*,*,*,*])], [*,*,*,*,*]),PyTreeDef(<class 'rbig_jax.transforms.block.RBIGBlockParams'>[PyTreeDef(dict[['empirical_pdf', 'quantiles', 'rotation', 'support', 'support_pdf']], [*,*,*,*,*])], [*,*,*,*,*]),PyTreeDef(<class 'rbig_jax.transforms.block.RBIGBlockParams'>[PyTreeDef(dict[['empirical_pdf', 'quantiles', 'rotation', 'support', 'support_pdf']], [*,*,*,*,*])], [*,*,*,*,*]),PyTreeDef(<class 'rbig_jax.transforms.block.RBIGBlockParams'>[PyTreeDef(dict[['empirical_pdf', 'quantiles', 'rotation', 'support', 'support_pdf']], [*,*,*,*,*])], [*,*,*,*,*]),PyTreeDef(<class 'rbig_jax.transforms.block.RBIGBlockParams'>[PyTreeDef(dict[['empirical_pdf', 'quantiles', 'rotation', 'support', 'support_pdf']], [*,*,*,*,*])], [*,*,*,*,*]),PyTreeDef(<class 'rbig_jax.transforms.block.RBIGBlockParams'>[PyTreeDef(dict[['empirical_pdf', 'quantiles', 'rotation', 'support', 'support_pdf']], [*,*,*,*,*])], [*,*,*,*,*]),PyTreeDef(<class 'rbig_jax.transforms.block.RBIGBlockParams'>[PyTreeDef(dict[['empirical_pdf', 'quantiles', 'rotation', 'support', 'support_pdf']], [*,*,*,*,*])], [*,*,*,*,*]),PyTreeDef(<class 'rbig_jax.transforms.block.RBIGBlockParams'>[PyTreeDef(dict[['empirical_pdf', 'quantiles', 'rotation', 'support', 'support_pdf']], [*,*,*,*,*])], [*,*,*,*,*]),PyTreeDef(<class 'rbig_jax.transforms.block.RBIGBlockParams'>[PyTreeDef(dict[['empirical_pdf', 'quantiles', 'rotation', 'support', 'support_pdf']], [*,*,*,*,*])], [*,*,*,*,*]),PyTreeDef(<class 'rbig_jax.transforms.block.RBIGBlockParams'>[PyTreeDef(dict[['empirical_pdf', 'quantiles', 'rotation', 'support', 'support_pdf']], [*,*,*,*,*])], [*,*,*,*,*]),PyTreeDef(<class 'rbig_jax.transforms.block.RBIGBlockParams'>[PyTreeDef(dict[['empirical_pdf', 'quantiles', 'rotation', 'support', 'support_pdf']], [*,*,*,*,*])], [*,*,*,*,*]),PyTreeDef(<class 'rbig_jax.transforms.block.RBIGBlockParams'>[PyTreeDef(dict[['empirical_pdf', 'quantiles', 'rotation', 'support', 'support_pdf']], [*,*,*,*,*])], [*,*,*,*,*]),PyTreeDef(<class 'rbig_jax.transforms.block.RBIGBlockParams'>[PyTreeDef(dict[['empirical_pdf', 'quantiles', 'rotation', 'support', 'support_pdf']], [*,*,*,*,*])], [*,*,*,*,*]),PyTreeDef(<class 'rbig_jax.transforms.block.RBIGBlockParams'>[PyTreeDef(dict[['empirical_pdf', 'quantiles', 'rotation', 'support', 'support_pdf']], [*,*,*,*,*])], [*,*,*,*,*]),PyTreeDef(<class 'rbig_jax.transforms.block.RBIGBlockParams'>[PyTreeDef(dict[['empirical_pdf', 'quantiles', 'rotation', 'support', 'support_pdf']], [*,*,*,*,*])], [*,*,*,*,*]),PyTreeDef(<class 'rbig_jax.transforms.block.RBIGBlockParams'>[PyTreeDef(dict[['empirical_pdf', 'quantiles', 'rotation', 'support', 'support_pdf']], [*,*,*,*,*])], [*,*,*,*,*]),PyTreeDef(<class 'rbig_jax.transforms.block.RBIGBlockParams'>[PyTreeDef(dict[['empirical_pdf', 'quantiles', 'rotation', 'support', 'support_pdf']], [*,*,*,*,*])], [*,*,*,*,*]),PyTreeDef(<class 'rbig_jax.transforms.block.RBIGBlockParams'>[PyTreeDef(dict[['empirical_pdf', 'quantiles', 'rotation', 'support', 'support_pdf']], [*,*,*,*,*])], [*,*,*,*,*]),PyTreeDef(<class 'rbig_jax.transforms.block.RBIGBlockParams'>[PyTreeDef(dict[['empirical_pdf', 'quantiles', 'rotation', 'support', 'support_pdf']], [*,*,*,*,*])], [*,*,*,*,*]),PyTreeDef(<class 'rbig_jax.transforms.block.RBIGBlockParams'>[PyTreeDef(dict[['empirical_pdf', 'quantiles', 'rotation', 'support', 'support_pdf']], [*,*,*,*,*])], [*,*,*,*,*]),PyTreeDef(<class 'rbig_jax.transforms.block.RBIGBlockParams'>[PyTreeDef(dict[['empirical_pdf', 'quantiles', 'rotation', 'support', 'support_pdf']], [*,*,*,*,*])], [*,*,*,*,*])])])."
     ]
    }
   ],
   "source": [
    "init_state = MaxLoss(layer=0, max_layers=n_layers), X_g, params\n",
    "\n",
    "def body(state):\n",
    "    loss_state, x, params = state\n",
    "\n",
    "    x, layer_params = fit_transform_func_jitted(x)\n",
    "    \n",
    "    params.append(layer_params)  \n",
    "    state = MaxLoss(layer=loss_state.layer + 1, max_layers=loss_state.max_layers), x, params\n",
    "    \n",
    "    return state\n",
    "    \n",
    "final_state = jax.lax.while_loop(max_condition, body, init_state)"
   ]
  },
  {
   "cell_type": "code",
   "execution_count": null,
   "metadata": {},
   "outputs": [],
   "source": []
  },
  {
   "cell_type": "code",
   "execution_count": 56,
   "metadata": {},
   "outputs": [
    {
     "data": {
      "text/plain": [
       "<Figure size 432x288 with 0 Axes>"
      ]
     },
     "metadata": {},
     "output_type": "display_data"
    },
    {
     "data": {
      "image/png": "[encoded data removed]",
      "text/plain": [
       "<Figure size 432x432 with 3 Axes>"
      ]
     },
     "metadata": {
      "needs_background": "light"
     },
     "output_type": "display_data"
    }
   ],
   "source": [
    "plot_joint(X_g, kind=\"kde\")"
   ]
  },
  {
   "cell_type": "markdown",
   "metadata": {},
   "source": [
    "## Negative Log-Likelihood"
   ]
  },
  {
   "cell_type": "markdown",
   "metadata": {},
   "source": [
    "#### Loss Function"
   ]
  },
  {
   "cell_type": "code",
   "execution_count": 8,
   "metadata": {},
   "outputs": [],
   "source": [
    "@jax.jit\n",
    "def nll_loss(X_gauss, X_ldj):\n",
    "    latent_prob = jax.scipy.stats.norm.logpdf(X_g)\n",
    "\n",
    "    log_prob = (latent_prob + X_ldj).sum(-1)\n",
    "    return - log_prob.mean()"
   ]
  },
  {
   "cell_type": "markdown",
   "metadata": {},
   "source": [
    "#### Training"
   ]
  },
  {
   "cell_type": "code",
   "execution_count": 9,
   "metadata": {},
   "outputs": [
    {
     "name": "stderr",
     "output_type": "stream",
     "text": [
      "/home/emmanuel/.conda/envs/jax_py38/lib/python3.8/site-packages/jax/lax/lax.py:6190: UserWarning: Explicitly requested dtype float64 requested in array is not available, and will be truncated to dtype float32. To enable more dtypes, set the jax_enable_x64 configuration option or the JAX_ENABLE_X64 shell environment variable. See https://github.com/google/jax#current-gotchas for more.\n",
      "  warnings.warn(msg.format(dtype, fun_name , truncated_dtype))\n"
     ]
    },
    {
     "name": "stdout",
     "output_type": "stream",
     "text": [
      "CPU times: user 1 s, sys: 57.6 ms, total: 1.06 s\n",
      "Wall time: 900 ms\n"
     ]
    }
   ],
   "source": [
    "%%time\n",
    "\n",
    "X_g_ = X\n",
    "X_ldj = np.zeros_like(X)\n",
    "nll_losses = []\n",
    "for iparam in params:\n",
    "\n",
    "    X_g_, iX_ldj = grad_f_jitted(iparam, X_g_)\n",
    "    X_ldj += iX_ldj\n",
    "    \n",
    "    nll_losses.append(nll_loss(X_g_, X_ldj))\n",
    "    \n",
    "chex.assert_tree_all_close(X_g_, X_g)"
   ]
  },
  {
   "cell_type": "markdown",
   "metadata": {},
   "source": [
    "#### Plot Losses"
   ]
  },
  {
   "cell_type": "code",
   "execution_count": 10,
   "metadata": {},
   "outputs": [
    {
     "data": {
      "image/png": "[encoded data removed]",
      "text/plain": [
       "<Figure size 432x288 with 1 Axes>"
      ]
     },
     "metadata": {
      "needs_background": "light"
     },
     "output_type": "display_data"
    }
   ],
   "source": [
    "\n",
    "plt.figure()\n",
    "plt.plot(nll_losses)\n",
    "plt.title('Negative Log-Likelihood')\n",
    "plt.show()"
   ]
  },
  {
   "cell_type": "markdown",
   "metadata": {},
   "source": [
    "### Negative Log-Likelihood (Change per layer)"
   ]
  },
  {
   "cell_type": "code",
   "execution_count": 11,
   "metadata": {},
   "outputs": [
    {
     "name": "stdout",
     "output_type": "stream",
     "text": [
      "CPU times: user 165 ms, sys: 35.1 ms, total: 200 ms\n",
      "Wall time: 43.8 ms\n"
     ]
    }
   ],
   "source": [
    "%%time\n",
    "\n",
    "X_g_ = X\n",
    "X_ldj = np.zeros_like(X)\n",
    "nll_change_losses = []\n",
    "for iparam in params:\n",
    "\n",
    "    X_g_, iX_ldj = grad_f_jitted(iparam, X_g_)\n",
    "    X_ldj += iX_ldj\n",
    "    \n",
    "    nll_change_losses.append(nll_loss(X_g_, iX_ldj))\n",
    "    \n",
    "chex.assert_tree_all_close(X_g_, X_g)"
   ]
  },
  {
   "cell_type": "code",
   "execution_count": 12,
   "metadata": {},
   "outputs": [
    {
     "data": {
      "image/png": "[encoded data removed]",
      "text/plain": [
       "<Figure size 432x288 with 1 Axes>"
      ]
     },
     "metadata": {
      "needs_background": "light"
     },
     "output_type": "display_data"
    }
   ],
   "source": [
    "plt.figure()\n",
    "plt.plot(nll_change_losses)\n",
    "plt.title('Change in Log-Likelihood')\n",
    "plt.show()"
   ]
  },
  {
   "cell_type": "markdown",
   "metadata": {},
   "source": [
    "## Information Loss"
   ]
  },
  {
   "cell_type": "markdown",
   "metadata": {},
   "source": [
    "#### Loss Function"
   ]
  },
  {
   "cell_type": "code",
   "execution_count": 13,
   "metadata": {},
   "outputs": [],
   "source": [
    "from rbig_jax.information.total_corr import init_information_reduction_loss"
   ]
  },
  {
   "cell_type": "code",
   "execution_count": 14,
   "metadata": {},
   "outputs": [],
   "source": [
    "# information reduction loss\n",
    "info_loss_f = init_information_reduction_loss(n_samples=n_samples, base=2, p=0.1)\n",
    "\n",
    "\n",
    "loss_f_jitted = jax.jit(info_loss_f)  # much faster!"
   ]
  },
  {
   "cell_type": "code",
   "execution_count": 181,
   "metadata": {},
   "outputs": [],
   "source": [
    "import chex\n",
    "\n",
    "@chex.dataclass\n",
    "class InfoLossState:\n",
    "    max_layers: int\n",
    "    ilayer: int\n",
    "    info_loss: chex.Array\n",
    "    \n",
    "def get_minimum_zeroth_element(x: chex.Array, window_size: int = 10) -> int:\n",
    "\n",
    "    # window for the convolution\n",
    "    window = np.ones(window_size) / window_size\n",
    "\n",
    "    # rolling average\n",
    "    x_cumsum_window = np.convolve(np.abs(x), window, \"valid\")\n",
    "\n",
    "    # get minimum zeroth element\n",
    "    min_idx = int(np.min(np.argwhere(x_cumsum_window == 0.0)[0]))\n",
    "    return min_idx\n",
    "    \n",
    "    \n",
    "# window for the convolution\n",
    "zero_tolerance = 20\n",
    "window = np.ones(zero_tolerance) / zero_tolerance\n",
    "\n",
    "\n"
   ]
  },
  {
   "cell_type": "code",
   "execution_count": 182,
   "metadata": {},
   "outputs": [
    {
     "data": {
      "text/plain": [
       "DeviceArray(True, dtype=bool)"
      ]
     },
     "execution_count": 182,
     "metadata": {},
     "output_type": "execute_result"
    }
   ],
   "source": [
    "# initialize state\n",
    "max_layers = 10_000\n",
    "ilayer = 0\n",
    "init_state = InfoLossState(\n",
    "    max_layers=max_layers,\n",
    "    ilayer=ilayer,\n",
    "    info_loss=np.ones(max_layers)#np.array([10.]*20 + [0.0] * 5)#np.ones(max_layers)\n",
    ")\n",
    "\n",
    "\n",
    "condition(init_state)"
   ]
  },
  {
   "cell_type": "code",
   "execution_count": null,
   "metadata": {},
   "outputs": [],
   "source": []
  },
  {
   "cell_type": "markdown",
   "metadata": {},
   "source": [
    "#### Training"
   ]
  },
  {
   "cell_type": "code",
   "execution_count": 183,
   "metadata": {},
   "outputs": [
    {
     "name": "stdout",
     "output_type": "stream",
     "text": [
      "CPU times: user 546 ms, sys: 59.2 ms, total: 605 ms\n",
      "Wall time: 395 ms\n"
     ]
    }
   ],
   "source": [
    "%%time\n",
    "\n",
    "n_layers = 50\n",
    "\n",
    "params = []\n",
    "info_losses = []\n",
    "ilayer = 0\n",
    "X_g = X\n",
    "\n",
    "# initialize state\n",
    "max_layers = 50\n",
    "ilayer = 0\n",
    "state = InfoLossState(\n",
    "    max_layers=max_layers,\n",
    "    ilayer=ilayer,\n",
    "    info_loss=np.ones(max_layers)\n",
    ")\n",
    "\n",
    "while condition(state):\n",
    "    \n",
    "    layer_loss = jax.partial(loss_f_jitted, X_before=X_g)\n",
    "    \n",
    "    # compute \n",
    "    X_g, layer_params = fit_transform_func_jitted(X_g)\n",
    "    \n",
    "    # get information reduction\n",
    "    layer_loss = layer_loss(X_after=X_g)\n",
    "    \n",
    "    # update layer loss\n",
    "    info_losses = jax.ops.index_update(\n",
    "                state.info_loss, state.ilayer, layer_loss\n",
    "            )\n",
    "    state = InfoLossState(\n",
    "        max_layers=max_layers,\n",
    "        ilayer=state.ilayer + 1,\n",
    "        info_loss=info_losses\n",
    "    )\n",
    "  \n",
    "    \n",
    "info_losses = np.stack(state.info_loss[:state.ilayer])"
   ]
  },
  {
   "cell_type": "code",
   "execution_count": 184,
   "metadata": {},
   "outputs": [
    {
     "data": {
      "image/png": "[encoded data removed]",
      "text/plain": [
       "<Figure size 432x288 with 1 Axes>"
      ]
     },
     "metadata": {
      "needs_background": "light"
     },
     "output_type": "display_data"
    }
   ],
   "source": [
    "plt.figure()\n",
    "plt.plot(info_losses)\n",
    "plt.title('Information Reduction')\n",
    "plt.show()"
   ]
  },
  {
   "cell_type": "markdown",
   "metadata": {},
   "source": [
    "#### Total Correlation"
   ]
  },
  {
   "cell_type": "code",
   "execution_count": 185,
   "metadata": {},
   "outputs": [],
   "source": [
    "total_corr = np.cumsum(info_losses)"
   ]
  },
  {
   "cell_type": "code",
   "execution_count": 186,
   "metadata": {},
   "outputs": [
    {
     "data": {
      "image/png": "[encoded data removed]",
      "text/plain": [
       "<Figure size 432x288 with 1 Axes>"
      ]
     },
     "metadata": {
      "needs_background": "light"
     },
     "output_type": "display_data"
    }
   ],
   "source": [
    "plt.figure()\n",
    "plt.plot(total_corr)\n",
    "plt.ylabel('Total Correlation')\n",
    "plt.xlabel(\"Layers\")\n",
    "plt.show()"
   ]
  },
  {
   "cell_type": "code",
   "execution_count": 187,
   "metadata": {},
   "outputs": [
    {
     "name": "stdout",
     "output_type": "stream",
     "text": [
      "Total Correlation: 1.0715\n"
     ]
    }
   ],
   "source": [
    "print(f\"Total Correlation: {info_losses.sum():.4f}\")"
   ]
  },
  {
   "cell_type": "markdown",
   "metadata": {},
   "source": [
    "## Optimal Gaussianization"
   ]
  },
  {
   "cell_type": "code",
   "execution_count": null,
   "metadata": {},
   "outputs": [],
   "source": [
    "info_sum = np.sum(np.abs(layers))"
   ]
  },
  {
   "cell_type": "code",
   "execution_count": 22,
   "metadata": {},
   "outputs": [
    {
     "name": "stdout",
     "output_type": "stream",
     "text": [
      "CPU times: user 98.1 ms, sys: 27.2 ms, total: 125 ms\n",
      "Wall time: 35.8 ms\n"
     ]
    }
   ],
   "source": [
    "%%time\n",
    "\n",
    "n_layers = 15\n",
    "\n",
    "params = []\n",
    "info_losses = []\n",
    "ilayer = 0\n",
    "X_g = X\n",
    "\n",
    "while ilayer < n_layers:\n",
    "    \n",
    "    layer_loss = jax.partial(loss_f_jitted, X_before=X_g)\n",
    "    \n",
    "    # compute \n",
    "    X_g, layer_params = fit_transform_func_jitted(X_g)\n",
    "    \n",
    "    info_losses.append(layer_loss(X_after=X_g))\n",
    "        \n",
    "    # increment\n",
    "    ilayer += 1   \n",
    "    \n",
    "info_losses = np.stack(info_losses)"
   ]
  },
  {
   "cell_type": "code",
   "execution_count": 24,
   "metadata": {},
   "outputs": [
    {
     "data": {
      "image/png": "[encoded data removed]",
      "text/plain": [
       "<Figure size 432x288 with 1 Axes>"
      ]
     },
     "metadata": {
      "needs_background": "light"
     },
     "output_type": "display_data"
    }
   ],
   "source": [
    "plt.figure()\n",
    "plt.plot(info_losses)\n",
    "plt.ylabel('Information Reduction')\n",
    "plt.xlabel(\"Layers\")\n",
    "plt.show()"
   ]
  },
  {
   "cell_type": "code",
   "execution_count": null,
   "metadata": {},
   "outputs": [],
   "source": []
  }
 ],
 "metadata": {
  "kernelspec": {
   "display_name": "Python [conda env:.conda-jax_py38]",
   "language": "python",
   "name": "conda-env-.conda-jax_py38-py"
  },
  "language_info": {
   "codemirror_mode": {
    "name": "ipython",
    "version": 3
   },
   "file_extension": ".py",
   "mimetype": "text/x-python",
   "name": "python",
   "nbconvert_exporter": "python",
   "pygments_lexer": "ipython3",
   "version": "3.8.5"
  }
 },
 "nbformat": 4,
 "nbformat_minor": 4
}
