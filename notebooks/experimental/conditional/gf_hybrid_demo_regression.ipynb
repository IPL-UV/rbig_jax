{
 "cells": [
  {
   "cell_type": "markdown",
   "id": "laden-sugar",
   "metadata": {},
   "source": [
    "# Demo - Conditional Gaussianization Flow (Regression)"
   ]
  },
  {
   "cell_type": "code",
   "execution_count": 1,
   "id": "patent-interaction",
   "metadata": {},
   "outputs": [],
   "source": [
    "# @title Install Packages\n",
    "# %%capture\n",
    "try:\n",
    "    import sys, os\n",
    "    from pyprojroot import here\n",
    "\n",
    "    # spyder up to find the root\n",
    "    root = here(project_files=[\".here\"])\n",
    "\n",
    "    # append to path\n",
    "    sys.path.append(str(root))\n",
    "except ModuleNotFoundError:\n",
    "    import os\n",
    "\n",
    "\n",
    "    !pip install git+https://github.com/IPL-UV/rbig_jax.git"
   ]
  },
  {
   "cell_type": "code",
   "execution_count": 2,
   "id": "congressional-artwork",
   "metadata": {},
   "outputs": [
    {
     "name": "stdout",
     "output_type": "stream",
     "text": [
      "INFO:tensorflow:Enabling eager execution\n",
      "INFO:tensorflow:Enabling v2 tensorshape\n",
      "INFO:tensorflow:Enabling resource variables\n",
      "INFO:tensorflow:Enabling tensor equality\n",
      "INFO:tensorflow:Enabling control flow v2\n"
     ]
    },
    {
     "name": "stderr",
     "output_type": "stream",
     "text": [
      "WARNING:absl:No GPU/TPU found, falling back to CPU. (Set TF_CPP_MIN_LOG_LEVEL=0 and rerun for more info.)\n"
     ]
    }
   ],
   "source": [
    "# jax packages\n",
    "import jax\n",
    "import jax.numpy as jnp\n",
    "from jax.config import config\n",
    "\n",
    "# import chex\n",
    "config.update(\"jax_enable_x64\", False)\n",
    "\n",
    "import objax\n",
    "import chex\n",
    "import numpy as np\n",
    "from functools import partial\n",
    "\n",
    "\n",
    "KEY = jax.random.PRNGKey(seed=123)\n",
    "\n",
    "# logging\n",
    "import tqdm\n",
    "\n",
    "# plot methods\n",
    "import matplotlib.pyplot as plt\n",
    "from matplotlib import cm\n",
    "import seaborn as sns\n",
    "import corner\n",
    "from IPython.display import HTML\n",
    "\n",
    "sns.reset_defaults()\n",
    "sns.set_context(context=\"talk\", font_scale=0.7)\n",
    "\n",
    "%load_ext lab_black\n",
    "%matplotlib inline\n",
    "%load_ext autoreload\n",
    "%autoreload 2"
   ]
  },
  {
   "cell_type": "markdown",
   "id": "dress-desert",
   "metadata": {},
   "source": [
    "## Demo Data"
   ]
  },
  {
   "cell_type": "code",
   "execution_count": 3,
   "id": "purple-kennedy",
   "metadata": {},
   "outputs": [
    {
     "name": "stderr",
     "output_type": "stream",
     "text": [
      "/home/emmanuel/.conda/envs/jax_py38/lib/python3.8/site-packages/jax/_src/numpy/lax_numpy.py:5256: UserWarning: Explicitly requested dtype <class 'jax._src.numpy.lax_numpy.int64'> requested in astype is not available, and will be truncated to dtype int32. To enable more dtypes, set the jax_enable_x64 configuration option or the JAX_ENABLE_X64 shell environment variable. See https://github.com/google/jax#current-gotchas for more.\n",
      "  lax._check_user_dtype_supported(dtype, \"astype\")\n"
     ]
    }
   ],
   "source": [
    "from distrax._src.distributions.categorical import Categorical\n",
    "from distrax._src.distributions.mixture_same_family import MixtureSameFamily\n",
    "from distrax._src.distributions.bernoulli import Bernoulli\n",
    "from distrax._src.distributions.uniform import Uniform\n",
    "from distrax._src.distributions.normal import Normal\n",
    "from tensorflow_probability.substrates import jax as tfp\n",
    "import uncertainty_toolbox.viz as uviz\n",
    "import uncertainty_toolbox.metrics as umetric\n",
    "import uncertainty_toolbox.data as udata\n",
    "\n",
    "tfd = tfp.distributions\n",
    "logits = jnp.array([0.33, 0.33, 0.33])\n",
    "probs = jax.nn.softmax(logits, axis=-1)\n",
    "x_cat_dist = Categorical(probs=probs)\n",
    "norm_dist = Normal(loc=[-4.0, 0.0, 4.0], scale=[0.4, 0.6, 0.4])\n",
    "mix_dist = MixtureSameFamily(x_cat_dist, norm_dist)"
   ]
  },
  {
   "cell_type": "code",
   "execution_count": 4,
   "id": "desperate-stress",
   "metadata": {},
   "outputs": [],
   "source": [
    "def synthetic_mixture(n_samples: int = 1_000, X=None):\n",
    "    if X is None:\n",
    "        logits = jnp.array([1.0, 1.0, 1.0])\n",
    "        probs = jax.nn.softmax(logits, axis=-1)\n",
    "        x_cat_dist = Categorical(probs=probs)\n",
    "        norm_dist = Normal(loc=[-4.0, 0.0, 4.0], scale=[0.7, 0.6, 0.7])\n",
    "        mix_dist = MixtureSameFamily(x_cat_dist, norm_dist)\n",
    "        X_samples = mix_dist.sample(seed=123, sample_shape=(n_samples,))\n",
    "    else:\n",
    "        X_samples = X\n",
    "    loc = np.sin(X_samples.ravel())\n",
    "    scale = np.exp(np.cos(X_samples.ravel()))\n",
    "    Y = np.random.normal(loc, scale)[:, None]\n",
    "    return X_samples[:, None], Y\n",
    "\n",
    "\n",
    "def synthetic_bowtie(n_samples: int = 1_000, X=None):\n",
    "    if X is None:\n",
    "        X = jnp.linspace(0, 4 * jnp.pi, n_samples)[:, None]\n",
    "    loc = np.sin(X.ravel())\n",
    "    scale = np.exp(np.cos(X.ravel()))\n",
    "    Y = np.random.normal(loc, scale)[:, None]\n",
    "    return X, Y\n",
    "\n",
    "\n",
    "def noisy_near_square_wave(n_samples, y_noise=0.05, seed=123, x_noise=0.3):\n",
    "    rng = np.random.RandomState(seed)\n",
    "    X_mu = np.linspace(-10, 10, n_samples)\n",
    "    X = X_mu + x_noise * rng.randn(*X_mu.shape)\n",
    "\n",
    "    # sort the values\n",
    "    idx = np.argsort(X)\n",
    "    X_mu = X_mu[idx]\n",
    "    X = X[idx]\n",
    "\n",
    "    f = lambda x: np.sin(1.0 * np.pi / 1.6 * np.cos(5 + 0.5 * x))\n",
    "    rng = np.random.RandomState(seed + 1)\n",
    "    Y = f(X_mu) + y_noise * rng.randn(*X_mu.shape)\n",
    "    return X_mu[:, None], X[:, None], Y[:, None]\n",
    "\n",
    "\n",
    "def near_square_wave(n_samples, noise=0.3, seed=123):\n",
    "    X = np.linspace(-10, 10, n_samples)\n",
    "    f = lambda x: np.sin(1.0 * np.pi / 1.6 * np.cos(5 + 0.5 * x))\n",
    "    rng = np.random.RandomState(seed)\n",
    "    Y = f(X) + noise * rng.randn(X.shape[0])\n",
    "    return X, Y\n",
    "\n",
    "\n",
    "def synthetic_heteroscedastic(\n",
    "    n_samples: int = 1_000, noise: float = 0.3, dataset: str = \"bowtie\", seed: int = 123\n",
    "):\n",
    "    # Load an example dataset of 100 predictions, uncertainties, and observations\n",
    "    if dataset == \"bowtie\":\n",
    "        *_, Y, X = udata.synthetic_bowtie(n_samples)\n",
    "    elif dataset == \"hetero\":\n",
    "        *_, Y, X = udata.synthetic_heteroscedastic(n_samples)\n",
    "    elif dataset == \"mixture\":\n",
    "        *_, Y, X = udata.synthetic_mixture(n_samples)\n",
    "    elif dataset == \"sine\":\n",
    "        *_, Y, X = udata.synthetic_sine_heteroscedastic(n_samples)\n",
    "    elif dataset == \"nearsquare\":\n",
    "        X = np.linspace(-10, 10, n_samples)\n",
    "        f = lambda x: np.sin(1.0 * np.pi / 1.6 * np.cos(5 + 0.5 * x))\n",
    "        rng = np.random.RandomState(seed)\n",
    "        Y = f(X) + noise * rng.randn(X.shape[0])\n",
    "    else:\n",
    "        raise ValueError(f\"{dataset} not available\")\n",
    "\n",
    "    return X[:, None], Y[:, None]"
   ]
  },
  {
   "cell_type": "code",
   "execution_count": 5,
   "id": "impossible-major",
   "metadata": {},
   "outputs": [],
   "source": [
    "import tensorflow_datasets as tfds\n",
    "import tensorflow as tf\n",
    "from sklearn import datasets\n",
    "import tensorflow_datasets as tfds\n",
    "from typing import Iterator, Mapping\n",
    "import numpy as np\n",
    "\n",
    "Batch = Mapping[str, np.ndarray]\n",
    "\n",
    "\n",
    "def load_dataset(\n",
    "    n_samples: int,\n",
    "    batch_size: int,\n",
    "    seed: int,\n",
    "    n_features: int = 2,\n",
    "    noise: float = 0.05,\n",
    "    dataset: str = \"nearsquare\",\n",
    ") -> Iterator[Batch]:\n",
    "    # make random normally distributed data\n",
    "    rng = np.random.RandomState(seed)\n",
    "    #     _, X, Y = noisy_near_square_wave(n_samples, x_noise=0.5, y_noise=0.05, seed=seed)\n",
    "    X, Y = synthetic_mixture(n_samples,)\n",
    "    ds = tf.data.Dataset.from_tensor_slices((X, Y))\n",
    "    ds = ds.shuffle(buffer_size=10 * batch_size)\n",
    "    ds = ds.batch(batch_size)\n",
    "    ds = ds.prefetch(buffer_size=5)\n",
    "    ds = ds.repeat()\n",
    "    return iter(tfds.as_numpy(ds))"
   ]
  },
  {
   "cell_type": "code",
   "execution_count": 6,
   "id": "international-ownership",
   "metadata": {},
   "outputs": [
    {
     "name": "stderr",
     "output_type": "stream",
     "text": [
      "/home/emmanuel/.conda/envs/jax_py38/lib/python3.8/site-packages/jax/_src/numpy/lax_numpy.py:5256: UserWarning: Explicitly requested dtype <class 'jax._src.numpy.lax_numpy.int64'> requested in astype is not available, and will be truncated to dtype int32. To enable more dtypes, set the jax_enable_x64 configuration option or the JAX_ENABLE_X64 shell environment variable. See https://github.com/google/jax#current-gotchas for more.\n",
      "  lax._check_user_dtype_supported(dtype, \"astype\")\n"
     ]
    }
   ],
   "source": [
    "# train/valid dataset loaders\n",
    "# wandb_logger.config.batch_size = 128\n",
    "n_init_samples = 1_000\n",
    "n_train = 1_000\n",
    "\n",
    "init_ds = load_dataset(n_init_samples, n_init_samples, 123)\n",
    "\n",
    "# demo batch\n",
    "init_X, init_Y = next(init_ds)"
   ]
  },
  {
   "cell_type": "code",
   "execution_count": 7,
   "id": "finnish-asset",
   "metadata": {},
   "outputs": [
    {
     "data": {
      "text/plain": [
       "((1000, 1), (1000, 1))"
      ]
     },
     "execution_count": 7,
     "metadata": {},
     "output_type": "execute_result"
    }
   ],
   "source": [
    "init_Y.shape, init_X.shape"
   ]
  },
  {
   "cell_type": "code",
   "execution_count": 42,
   "id": "crucial-failing",
   "metadata": {},
   "outputs": [
    {
     "data": {
      "image/png": "[encoded data removed]",
      "text/plain": [
       "<Figure size 432x288 with 1 Axes>"
      ]
     },
     "metadata": {},
     "output_type": "display_data"
    }
   ],
   "source": [
    "fig, ax = plt.subplots()\n",
    "\n",
    "ax.scatter(init_X, init_Y, s=20)\n",
    "ax.set(xticks=[], yticks=[])\n",
    "plt.show()\n",
    "fig.savefig(\"hybrid_reg_data_xy\")"
   ]
  },
  {
   "cell_type": "code",
   "execution_count": 11,
   "id": "japanese-learning",
   "metadata": {},
   "outputs": [
    {
     "data": {
      "image/png": "[encoded data removed]",
      "text/plain": [
       "<Figure size 244.8x244.8 with 1 Axes>"
      ]
     },
     "metadata": {
      "needs_background": "light"
     },
     "output_type": "display_data"
    }
   ],
   "source": [
    "# plot data\n",
    "fig = corner.corner(init_X, color=\"blue\", hist_bin_factor=2)\n",
    "fig.savefig(\"hybrid_reg_data_x\")"
   ]
  },
  {
   "cell_type": "markdown",
   "id": "surgical-bearing",
   "metadata": {},
   "source": [
    "## DataLoader"
   ]
  },
  {
   "cell_type": "code",
   "execution_count": 12,
   "id": "remarkable-lawrence",
   "metadata": {},
   "outputs": [],
   "source": [
    "from typing import Optional\n",
    "from chex import Array\n",
    "from einops import rearrange\n",
    "\n",
    "PRNGKey = Array\n",
    "\n",
    "\n",
    "def prepare_data(batch: Batch) -> Array:\n",
    "    inputs, labels = batch\n",
    "\n",
    "    # select image from tfds\n",
    "    inputs = inputs.astype(jnp.float32)\n",
    "    labels = labels.astype(jnp.float32)\n",
    "\n",
    "    # make 1D\n",
    "    #     labels = jnp.expand_dims(labels, axis=-1)\n",
    "\n",
    "    return inputs, labels"
   ]
  },
  {
   "cell_type": "markdown",
   "id": "private-arrival",
   "metadata": {},
   "source": [
    "## Model"
   ]
  },
  {
   "cell_type": "code",
   "execution_count": 13,
   "id": "filled-bahrain",
   "metadata": {},
   "outputs": [
    {
     "name": "stderr",
     "output_type": "stream",
     "text": [
      "/home/emmanuel/.conda/envs/jax_py38/lib/python3.8/site-packages/jax/_src/numpy/lax_numpy.py:5256: UserWarning: Explicitly requested dtype <class 'jax._src.numpy.lax_numpy.int64'> requested in astype is not available, and will be truncated to dtype int32. To enable more dtypes, set the jax_enable_x64 configuration option or the JAX_ENABLE_X64 shell environment variable. See https://github.com/google/jax#current-gotchas for more.\n",
      "  lax._check_user_dtype_supported(dtype, \"astype\")\n"
     ]
    }
   ],
   "source": [
    "from rbig_jax.models.gaussflow import init_default_gf_model\n",
    "\n",
    "# initialization data\n",
    "n_init_samples = 1_000\n",
    "\n",
    "init_ds = load_dataset(n_init_samples, n_init_samples, 123)\n",
    "# demo batch\n",
    "init_ds = next(init_ds)\n",
    "X_init, Y_init = prepare_data(init_ds)\n",
    "X_init, Y_init = np.array(X_init), np.array(Y_init)\n",
    "\n",
    "\n",
    "# marginal uniformization\n",
    "mixture = \"gaussian\"\n",
    "n_components = 5\n",
    "init_mixcdf = \"gmm\"\n",
    "\n",
    "# inverse cdf\n",
    "inverse_cdf = \"gaussian\"\n",
    "\n",
    "# rotation transformation\n",
    "n_reflections = 2\n",
    "init_rotation = \"random\"\n",
    "\n",
    "# nn params\n",
    "n_blocks = 3"
   ]
  },
  {
   "cell_type": "code",
   "execution_count": 14,
   "id": "innovative-caribbean",
   "metadata": {},
   "outputs": [
    {
     "data": {
      "text/plain": [
       "((1000, 1), (1000, 1))"
      ]
     },
     "execution_count": 14,
     "metadata": {},
     "output_type": "execute_result"
    }
   ],
   "source": [
    "X_init.shape, Y_init.shape"
   ]
  },
  {
   "cell_type": "code",
   "execution_count": 15,
   "id": "fatty-statement",
   "metadata": {},
   "outputs": [
    {
     "name": "stderr",
     "output_type": "stream",
     "text": [
      "Initializing - Block: 3 | Layer 8: 100%|██████████| 3/3 [00:02<00:00,  1.39it/s]\n"
     ]
    }
   ],
   "source": [
    "# init model\n",
    "gf_model = init_default_gf_model(\n",
    "    shape=X_init.shape[1:],\n",
    "    X=X_init,\n",
    "    n_blocks=n_blocks,\n",
    "    mixture=mixture,\n",
    "    n_components=n_components,\n",
    "    init_mixcdf=init_mixcdf,\n",
    "    inverse_cdf=inverse_cdf,\n",
    "    init_rotation=init_rotation,\n",
    "    n_reflections=n_reflections,\n",
    ")"
   ]
  },
  {
   "cell_type": "markdown",
   "id": "designed-shock",
   "metadata": {},
   "source": [
    "### Plot Initial Layers"
   ]
  },
  {
   "cell_type": "code",
   "execution_count": 16,
   "id": "resistant-stupid",
   "metadata": {},
   "outputs": [
    {
     "name": "stdout",
     "output_type": "stream",
     "text": [
      "CPU times: user 589 ms, sys: 34 ms, total: 623 ms\n",
      "Wall time: 563 ms\n"
     ]
    },
    {
     "data": {
      "text/plain": [
       "DeviceArray(2.1506565, dtype=float32)"
      ]
     },
     "execution_count": 16,
     "metadata": {},
     "output_type": "execute_result"
    }
   ],
   "source": [
    "%%time\n",
    "\n",
    "# X_g = gf_model.forward(X_init)\n",
    "# X_g, X_ldj = gf_model.forward_and_log_det(X_init)\n",
    "\n",
    "gf_model.score(X_init)"
   ]
  },
  {
   "cell_type": "code",
   "execution_count": 17,
   "id": "identical-convergence",
   "metadata": {
    "tags": []
   },
   "outputs": [
    {
     "data": {
      "image/png": "[encoded data removed]",
      "text/plain": [
       "<Figure size 244.8x244.8 with 1 Axes>"
      ]
     },
     "metadata": {
      "needs_background": "light"
     },
     "output_type": "display_data"
    },
    {
     "data": {
      "image/png": "[encoded data removed]",
      "text/plain": [
       "<Figure size 244.8x244.8 with 1 Axes>"
      ]
     },
     "metadata": {
      "needs_background": "light"
     },
     "output_type": "display_data"
    },
    {
     "data": {
      "image/png": "[encoded data removed]",
      "text/plain": [
       "<Figure size 244.8x244.8 with 1 Axes>"
      ]
     },
     "metadata": {
      "needs_background": "light"
     },
     "output_type": "display_data"
    }
   ],
   "source": [
    "X_g = X_init.copy()\n",
    "\n",
    "for ibijector in gf_model.bijectors:\n",
    "\n",
    "    X_g = ibijector.forward(X_g)\n",
    "\n",
    "    if ibijector.name == \"HouseHolder\":\n",
    "        fig = corner.corner(np.array(X_g), color=\"red\", hist_bin_factor=2)"
   ]
  },
  {
   "cell_type": "markdown",
   "id": "italic-interview",
   "metadata": {},
   "source": [
    "### Conditional Model"
   ]
  },
  {
   "cell_type": "code",
   "execution_count": 18,
   "id": "received-malaysia",
   "metadata": {},
   "outputs": [],
   "source": [
    "from distrax._src.distributions.log_stddev_normal import LogStddevNormal\n",
    "from typing import Sequence, Callable, Tuple\n",
    "import flax\n",
    "from flax import linen as nn\n",
    "from flax import struct\n",
    "\n",
    "\n",
    "class ExplicitMLP(nn.Module):\n",
    "    features: Sequence[int]\n",
    "\n",
    "    def setup(self):\n",
    "        # we automatically know what to do with lists, dicts of submodules\n",
    "        self.layers = [nn.Dense(feat) for feat in self.features]\n",
    "        # for single submodules, we would just write:\n",
    "        # self.layer1 = nn.Dense(self, feat1)\n",
    "\n",
    "    def __call__(self, inputs):\n",
    "        x = inputs\n",
    "        for i, lyr in enumerate(self.layers):\n",
    "            x = lyr(x)\n",
    "            if i != len(self.layers) - 1:\n",
    "                x = nn.relu(x)\n",
    "        return x\n",
    "\n",
    "\n",
    "const = jnp.log(jnp.expm1(1.0))\n",
    "\n",
    "\n",
    "@struct.dataclass\n",
    "class ConditionalModel:\n",
    "    params: dict\n",
    "    model: Callable = struct.field(pytree_node=False)\n",
    "\n",
    "    def forward(self, inputs) -> Tuple[Array, Array]:\n",
    "        # forward pass for params\n",
    "        outputs = self.model.apply(self.params, inputs)\n",
    "        # split params\n",
    "        split = outputs.shape[1] // 2\n",
    "\n",
    "        # compute means and log stds\n",
    "        means = outputs[..., :split]\n",
    "        log_stds = outputs[..., split:]\n",
    "\n",
    "        dist = LogStddevNormal(loc=means, log_scale=log_stds)\n",
    "\n",
    "        return dist"
   ]
  },
  {
   "cell_type": "code",
   "execution_count": 21,
   "id": "seasonal-painting",
   "metadata": {},
   "outputs": [],
   "source": [
    "from distrax._src.distributions.normal import Normal\n",
    "\n",
    "# create model\n",
    "input_features = X_init.shape[1]\n",
    "# model = nn.Dense(features=input_features * 2)\n",
    "model = ExplicitMLP(features=[64, 64, 2])\n",
    "# create dummy variable\n",
    "rng, model_rng = jax.random.split(KEY, 2)\n",
    "params = model.init(model_rng, X_init)"
   ]
  },
  {
   "cell_type": "code",
   "execution_count": 22,
   "id": "complicated-court",
   "metadata": {},
   "outputs": [
    {
     "data": {
      "text/plain": [
       "((1000, 1), (1000, 1))"
      ]
     },
     "execution_count": 22,
     "metadata": {},
     "output_type": "execute_result"
    }
   ],
   "source": [
    "# initialize conditional model\n",
    "cond_model = ConditionalModel(params=params, model=model)\n",
    "\n",
    "# forward pass\n",
    "y_dist = cond_model.forward(X_init)\n",
    "y_dist.mean().shape, y_dist.stddev().shape"
   ]
  },
  {
   "cell_type": "code",
   "execution_count": 23,
   "id": "eligible-israeli",
   "metadata": {},
   "outputs": [],
   "source": [
    "from rbig_jax.transforms.base import Bijector, BijectorChain\n",
    "from typing import Iterable\n",
    "from chex import dataclass\n",
    "from distrax._src.distributions.distribution import Distribution\n",
    "import abc\n",
    "\n",
    "\n",
    "@struct.dataclass\n",
    "class GFRegressor(BijectorChain):\n",
    "    bijectors: Iterable[Bijector]\n",
    "    base_dist: Distribution = struct.field(pytree_node=False)\n",
    "    encoder: Callable\n",
    "    trade_off: float = struct.field(pytree_node=False)\n",
    "\n",
    "    def predict(self, inputs: Array):\n",
    "        # forward through latent\n",
    "        z = self.forward(inputs)\n",
    "\n",
    "        # push through encoder\n",
    "        return self.encoder.forward(z)\n",
    "\n",
    "    def score_gen(self, inputs):\n",
    "\n",
    "        # forward propagation\n",
    "        z, log_det = self.forward_and_log_det(inputs)\n",
    "\n",
    "        # calculate log probability\n",
    "        latent_prob = self.base_dist.log_prob(z).sum(axis=1) + log_det.sum(axis=1)\n",
    "\n",
    "        return latent_prob\n",
    "\n",
    "    def score(self, inputs, outputs):\n",
    "\n",
    "        # forward propagation\n",
    "        z, log_det = self.forward_and_log_det(inputs)\n",
    "\n",
    "        y_dist = self.encoder.forward(z)\n",
    "\n",
    "        # latent distribution\n",
    "        regress_loss = y_dist.log_prob(outputs).sum(axis=1)\n",
    "\n",
    "        regress_loss = -jnp.mean(regress_loss, axis=0)\n",
    "\n",
    "        # calculate log probability\n",
    "        latent_prob = self.base_dist.log_prob(z).sum(axis=1) + log_det.sum(axis=1)\n",
    "\n",
    "        gen_loss = -jnp.mean(latent_prob)\n",
    "\n",
    "        return regress_loss + self.trade_off * gen_loss\n",
    "\n",
    "    def sample(self, seed: int, n_samples: int):\n",
    "        raise NotImplementedError()\n",
    "\n",
    "\n",
    "#         # generate Gaussian samples\n",
    "#         X_g_samples = self.base_dist.sample(seed=seed, sample_shape=n_samples)\n",
    "#         # # inverse transformation\n",
    "#         return self.inverse(X_g_samples)"
   ]
  },
  {
   "cell_type": "code",
   "execution_count": 24,
   "id": "boxed-egypt",
   "metadata": {},
   "outputs": [
    {
     "data": {
      "text/plain": [
       "1.0"
      ]
     },
     "execution_count": 24,
     "metadata": {},
     "output_type": "execute_result"
    }
   ],
   "source": [
    "from distrax._src.distributions.normal import Normal\n",
    "\n",
    "cgf_model = GFRegressor(\n",
    "    bijectors=gf_model.bijectors,\n",
    "    base_dist=Normal(0.0, 1.0),\n",
    "    encoder=cond_model,\n",
    "    trade_off=1.0,\n",
    ")\n",
    "cgf_model.trade_off"
   ]
  },
  {
   "cell_type": "markdown",
   "id": "attractive-measure",
   "metadata": {},
   "source": [
    "#### Training"
   ]
  },
  {
   "cell_type": "code",
   "execution_count": 25,
   "id": "engaged-bubble",
   "metadata": {},
   "outputs": [],
   "source": [
    "from chex import dataclass\n",
    "\n",
    "\n",
    "def loss_fn(model, batch: Batch) -> Array:\n",
    "\n",
    "    inputs, outputs = prepare_data(batch)\n",
    "\n",
    "    return model.score(inputs, outputs)\n",
    "\n",
    "\n",
    "@jax.jit\n",
    "def eval_fn(model, batch: Batch) -> Array:\n",
    "\n",
    "    inputs, outputs = prepare_data(batch)\n",
    "\n",
    "    return model.score(inputs, outputs)"
   ]
  },
  {
   "cell_type": "code",
   "execution_count": 26,
   "id": "funky-shaft",
   "metadata": {},
   "outputs": [
    {
     "name": "stderr",
     "output_type": "stream",
     "text": [
      "/home/emmanuel/.conda/envs/jax_py38/lib/python3.8/site-packages/jax/_src/numpy/lax_numpy.py:5256: UserWarning: Explicitly requested dtype <class 'jax._src.numpy.lax_numpy.int64'> requested in astype is not available, and will be truncated to dtype int32. To enable more dtypes, set the jax_enable_x64 configuration option or the JAX_ENABLE_X64 shell environment variable. See https://github.com/google/jax#current-gotchas for more.\n",
      "  lax._check_user_dtype_supported(dtype, \"astype\")\n"
     ]
    },
    {
     "name": "stdout",
     "output_type": "stream",
     "text": [
      "Initial NLL Loss (Train): 4.3090\n",
      "Initial NLL Loss (Train): 4.3090\n"
     ]
    }
   ],
   "source": [
    "init_ds = load_dataset(n_init_samples, n_init_samples, 123)\n",
    "\n",
    "nll_loss = loss_fn(cgf_model, next(init_ds))\n",
    "print(f\"Initial NLL Loss (Train): {nll_loss:.4f}\")\n",
    "\n",
    "\n",
    "nll_loss = eval_fn(cgf_model, next(init_ds))\n",
    "print(f\"Initial NLL Loss (Train): {nll_loss:.4f}\")"
   ]
  },
  {
   "cell_type": "markdown",
   "id": "pretty-invasion",
   "metadata": {},
   "source": [
    "### Optimizer"
   ]
  },
  {
   "cell_type": "code",
   "execution_count": 28,
   "id": "indian-secret",
   "metadata": {},
   "outputs": [],
   "source": [
    "from rbig_jax.training.parametric import init_optimizer\n",
    "\n",
    "# optimizer params\n",
    "\n",
    "eval_frequency = 50\n",
    "learning_rate = 1e-3\n",
    "\n",
    "n_epochs = 5_000\n",
    "# initialize optimizer\n",
    "optimizer = init_optimizer(\n",
    "    \"adam\",\n",
    "    lr=learning_rate,\n",
    "    cosine_decay_steps=n_epochs,\n",
    "    gradient_norm_clip=1.0,\n",
    "    alpha=1e-2,\n",
    ")\n",
    "# intialize optimizer state\n",
    "opt_state = optimizer.init(cgf_model)"
   ]
  },
  {
   "cell_type": "markdown",
   "id": "temporal-enemy",
   "metadata": {},
   "source": [
    "### Train Step"
   ]
  },
  {
   "cell_type": "code",
   "execution_count": 29,
   "id": "fatal-kelly",
   "metadata": {},
   "outputs": [],
   "source": [
    "from typing import Tuple, Any\n",
    "import optax\n",
    "\n",
    "OptState = Any\n",
    "\n",
    "\n",
    "@jax.jit\n",
    "def update(\n",
    "    params: dataclass, opt_state: OptState, batch: Batch\n",
    ") -> Tuple[dataclass, OptState]:\n",
    "    \"\"\"Single SGD update step.\"\"\"\n",
    "    # calculate the loss AND the gradients\n",
    "    loss, grads = jax.value_and_grad(loss_fn)(params, batch)\n",
    "\n",
    "    # update the gradients\n",
    "    updates, new_opt_state = optimizer.update(grads, opt_state)\n",
    "\n",
    "    # update the parameters\n",
    "    new_params = optax.apply_updates(params, updates)\n",
    "\n",
    "    # return loss AND new opt_state\n",
    "    return new_params, new_opt_state, loss"
   ]
  },
  {
   "cell_type": "markdown",
   "id": "attached-chess",
   "metadata": {},
   "source": [
    "### Train Loop"
   ]
  },
  {
   "cell_type": "code",
   "execution_count": 30,
   "id": "acquired-essay",
   "metadata": {},
   "outputs": [],
   "source": [
    "train_ds = load_dataset(n_train, 256, 123)\n",
    "valid_ds = load_dataset(2_000, 1_000, 123 + 100)\n",
    "\n",
    "\n",
    "metrics = {\n",
    "    \"train_step\": list(),\n",
    "    \"train_loss\": list(),\n",
    "    \"valid_step\": list(),\n",
    "    \"valid_loss\": list(),\n",
    "}\n",
    "\n",
    "\n",
    "eval_loss = 0.0"
   ]
  },
  {
   "cell_type": "code",
   "execution_count": 31,
   "id": "reflected-dictionary",
   "metadata": {},
   "outputs": [
    {
     "name": "stderr",
     "output_type": "stream",
     "text": [
      "Train Loss: 3.5527 | Valid Loss: 3.4536: 100%|██████████| 5000/5000 [00:31<00:00, 156.78it/s]\n"
     ]
    }
   ],
   "source": [
    "# %%wandb\n",
    "\n",
    "import tqdm\n",
    "\n",
    "\n",
    "with tqdm.trange(n_epochs) as pbar:\n",
    "    for step in pbar:\n",
    "        cgf_model, opt_state, loss = update(cgf_model, opt_state, next(train_ds))\n",
    "\n",
    "        pbar.set_description(f\"Train Loss: {loss:.4f} | Valid Loss: {eval_loss:.4f}\")\n",
    "        #         wandb.log({\"train_loss\": float(loss), \"training_step\": step})\n",
    "        metrics[\"train_step\"].append(step)\n",
    "        metrics[\"train_loss\"].append(loss)\n",
    "\n",
    "        if step % eval_frequency == 0:\n",
    "            eval_loss = eval_fn(cgf_model, next(valid_ds))\n",
    "\n",
    "            pbar.set_description(\n",
    "                f\"Train Loss: {loss:.4f} | Valid Loss: {eval_loss:.4f}\"\n",
    "            )\n",
    "            #             wandb.log({\"validation_loss\": float(eval_loss), \"training_step\": step})\n",
    "            metrics[\"valid_step\"].append(step)\n",
    "            metrics[\"valid_loss\"].append(eval_loss)"
   ]
  },
  {
   "cell_type": "markdown",
   "id": "atlantic-printing",
   "metadata": {},
   "source": [
    "### Results"
   ]
  },
  {
   "cell_type": "markdown",
   "id": "familiar-destination",
   "metadata": {},
   "source": [
    "#### Losses"
   ]
  },
  {
   "cell_type": "code",
   "execution_count": 32,
   "id": "hungry-browser",
   "metadata": {},
   "outputs": [
    {
     "data": {
      "image/png": "[encoded data removed]",
      "text/plain": [
       "<Figure size 432x288 with 1 Axes>"
      ]
     },
     "metadata": {
      "needs_background": "light"
     },
     "output_type": "display_data"
    }
   ],
   "source": [
    "fig, ax = plt.subplots()\n",
    "ax.plot(\n",
    "    metrics[\"train_step\"], metrics[\"train_loss\"], label=\"Training Loss\", color=\"blue\"\n",
    ")\n",
    "ax.plot(\n",
    "    metrics[\"valid_step\"],\n",
    "    metrics[\"valid_loss\"],\n",
    "    label=\"Validation Loss\",\n",
    "    color=\"orange\",\n",
    ")\n",
    "ax.set(\n",
    "    xlabel=\"Iterations\", ylabel=\"Negative Log-Likelihood\",\n",
    ")\n",
    "plt.legend()\n",
    "plt.tight_layout()\n",
    "plt.show()"
   ]
  },
  {
   "cell_type": "markdown",
   "id": "touched-quarter",
   "metadata": {},
   "source": [
    "### Log Probability"
   ]
  },
  {
   "cell_type": "markdown",
   "id": "sound-gregory",
   "metadata": {},
   "source": [
    "#### Plot: Original Density"
   ]
  },
  {
   "cell_type": "code",
   "execution_count": 267,
   "id": "acceptable-experiment",
   "metadata": {},
   "outputs": [],
   "source": [
    "# X_plot, Y_plot = near_square_wave(10_000, 0.3)\n",
    "_, X_plot, Y_plot = noisy_near_square_wave(10_000, x_noise=0.5, y_noise=0.05, seed=42)"
   ]
  },
  {
   "cell_type": "code",
   "execution_count": 33,
   "id": "coastal-biology",
   "metadata": {},
   "outputs": [],
   "source": [
    "n_plot_samples = 10_000\n",
    "rng = np.random.RandomState(42)\n",
    "X_plot = np.linspace(init_X.min(), init_X.max(), n_plot_samples)[:, None]\n",
    "_, Y_plot = synthetic_mixture(None, X_plot)"
   ]
  },
  {
   "cell_type": "code",
   "execution_count": 34,
   "id": "diagnostic-nicholas",
   "metadata": {},
   "outputs": [],
   "source": [
    "y_dist = cgf_model.predict(X_plot)"
   ]
  },
  {
   "cell_type": "code",
   "execution_count": 35,
   "id": "pressing-westminster",
   "metadata": {},
   "outputs": [
    {
     "data": {
      "image/png": "[encoded data removed]",
      "text/plain": [
       "<Figure size 432x288 with 1 Axes>"
      ]
     },
     "metadata": {
      "needs_background": "light"
     },
     "output_type": "display_data"
    }
   ],
   "source": [
    "fig, ax = plt.subplots()\n",
    "plt.plot(X_plot, y_dist.mean(), color=\"black\")\n",
    "plt.plot(\n",
    "    X_plot,\n",
    "    y_dist.mean() + 1.96 * y_dist.stddev(),\n",
    "    color=\"orange\",\n",
    "    linestyle=\"--\",\n",
    "    linewidth=4,\n",
    ")\n",
    "plt.plot(\n",
    "    X_plot,\n",
    "    y_dist.mean() - 1.96 * y_dist.stddev(),\n",
    "    color=\"orange\",\n",
    "    linestyle=\"--\",\n",
    "    linewidth=4,\n",
    ")\n",
    "ax.scatter(X_init, Y_init, s=5)\n",
    "plt.tight_layout()\n",
    "plt.show()"
   ]
  },
  {
   "cell_type": "code",
   "execution_count": 36,
   "id": "gothic-pattern",
   "metadata": {},
   "outputs": [],
   "source": [
    "import uncertainty_toolbox.viz as uviz\n",
    "import uncertainty_toolbox.metrics as umetric"
   ]
  },
  {
   "cell_type": "code",
   "execution_count": 37,
   "id": "danish-defeat",
   "metadata": {},
   "outputs": [
    {
     "name": "stdout",
     "output_type": "stream",
     "text": [
      " (1/n) Calculating accuracy metrics\n",
      " (2/n) Calculating average calibration metrics\n"
     ]
    },
    {
     "name": "stderr",
     "output_type": "stream",
     "text": [
      "  0%|          | 0/10 [00:00<?, ?it/s]"
     ]
    },
    {
     "name": "stdout",
     "output_type": "stream",
     "text": [
      " (3/n) Calculating adversarial group calibration metrics\n",
      "  [1/2] for mean absolute calibration error\n",
      "Measuring adversarial group calibration by spanning group size between 0.0 and 1.0, in 10 intervals\n"
     ]
    },
    {
     "name": "stderr",
     "output_type": "stream",
     "text": [
      "100%|██████████| 10/10 [00:11<00:00,  1.18s/it]\n",
      "  0%|          | 0/10 [00:00<?, ?it/s]"
     ]
    },
    {
     "name": "stdout",
     "output_type": "stream",
     "text": [
      "  [2/2] for root mean squared calibration error\n",
      "Measuring adversarial group calibration by spanning group size between 0.0 and 1.0, in 10 intervals\n"
     ]
    },
    {
     "name": "stderr",
     "output_type": "stream",
     "text": [
      "100%|██████████| 10/10 [00:09<00:00,  1.09it/s]\n"
     ]
    },
    {
     "name": "stdout",
     "output_type": "stream",
     "text": [
      " (4/n) Calculating sharpness metrics\n",
      " (n/n) Calculating proper scoring rule metrics\n",
      "**Finished Calculating All Metrics**\n",
      "\n",
      "\n",
      "===================== Accuracy Metrics =====================\n",
      "  MAE           1.025\n",
      "  RMSE          1.531\n",
      "  MDAE          0.620\n",
      "  MARPD         108.566\n",
      "  R2            0.103\n",
      "  Correlation   0.345\n",
      "=============== Average Calibration Metrics ================\n",
      "  Root-mean-squared Calibration Error   0.013\n",
      "  Mean-absolute Calibration Error       0.011\n",
      "  Miscalibration Area                   0.012\n",
      "========== Adversarial Group Calibration Metrics ===========\n",
      "  Mean-absolute Adversarial Group Calibration Error\n",
      "     Group Size: 0.11 -- Calibration Error: 0.022\n",
      "     Group Size: 0.56 -- Calibration Error: 0.015\n",
      "     Group Size: 1.00 -- Calibration Error: 0.011\n",
      "  Root-mean-squared Adversarial Group Calibration Error\n",
      "     Group Size: 0.11 -- Calibration Error: 0.028\n",
      "     Group Size: 0.56 -- Calibration Error: 0.018\n",
      "     Group Size: 1.00 -- Calibration Error: 0.013\n",
      "==================== Sharpness Metrics =====================\n",
      "  Sharpness   1.716\n",
      "=================== Scoring Rule Metrics ===================\n",
      "  Negative-log-likelihood   1.472\n",
      "  CRPS                      0.733\n",
      "  Check Score               0.370\n",
      "  Interval Score            3.645\n"
     ]
    }
   ],
   "source": [
    "# Compute all uncertainty metrics\n",
    "metrics = umetric.get_all_metrics(\n",
    "    y_dist.mean().ravel(), y_dist.stddev().ravel(), Y_plot.ravel(),\n",
    ")"
   ]
  },
  {
   "cell_type": "code",
   "execution_count": 38,
   "id": "median-telephone",
   "metadata": {},
   "outputs": [
    {
     "data": {
      "image/png": "[encoded data removed]",
      "text/plain": [
       "<Figure size 360x360 with 1 Axes>"
      ]
     },
     "metadata": {
      "needs_background": "light"
     },
     "output_type": "display_data"
    }
   ],
   "source": [
    "uviz.plot_xy(\n",
    "    y_dist.mean().ravel(),\n",
    "    y_dist.stddev().ravel(),\n",
    "    Y_plot.ravel(),\n",
    "    X_plot.ravel(),\n",
    "    n_subset=500,\n",
    ")\n",
    "plt.savefig(\"hybrid_reg_pred\")"
   ]
  },
  {
   "cell_type": "code",
   "execution_count": 274,
   "id": "disabled-credits",
   "metadata": {},
   "outputs": [
    {
     "data": {
      "image/png": "[encoded data removed]",
      "text/plain": [
       "<Figure size 360x360 with 1 Axes>"
      ]
     },
     "metadata": {
      "needs_background": "light"
     },
     "output_type": "display_data"
    }
   ],
   "source": [
    "uviz.plot_intervals(\n",
    "    y_dist.mean().ravel(), y_dist.stddev().ravel(), Y_plot.ravel(), n_subset=500,\n",
    ")"
   ]
  },
  {
   "cell_type": "code",
   "execution_count": 275,
   "id": "limiting-nylon",
   "metadata": {},
   "outputs": [
    {
     "data": {
      "image/png": "[encoded data removed]",
      "text/plain": [
       "<Figure size 360x360 with 1 Axes>"
      ]
     },
     "metadata": {
      "needs_background": "light"
     },
     "output_type": "display_data"
    }
   ],
   "source": [
    "uviz.plot_intervals_ordered(\n",
    "    y_dist.mean().ravel(), y_dist.stddev().ravel(), Y_plot.ravel(), n_subset=100\n",
    ")"
   ]
  },
  {
   "cell_type": "code",
   "execution_count": 39,
   "id": "compound-tender",
   "metadata": {},
   "outputs": [
    {
     "data": {
      "image/png": "[encoded data removed]",
      "text/plain": [
       "<Figure size 360x360 with 1 Axes>"
      ]
     },
     "metadata": {
      "needs_background": "light"
     },
     "output_type": "display_data"
    }
   ],
   "source": [
    "uviz.plot_calibration(y_dist.mean().ravel(), y_dist.stddev().ravel(), Y_plot.ravel())\n",
    "plt.savefig(\"hybrid_reg_calib\")"
   ]
  },
  {
   "cell_type": "code",
   "execution_count": 40,
   "id": "signal-october",
   "metadata": {},
   "outputs": [],
   "source": [
    "X_log_prob = cgf_model.score_gen(X_plot)"
   ]
  },
  {
   "cell_type": "code",
   "execution_count": 41,
   "id": "vocal-zimbabwe",
   "metadata": {},
   "outputs": [
    {
     "data": {
      "image/png": "[encoded data removed]",
      "text/plain": [
       "<Figure size 432x288 with 1 Axes>"
      ]
     },
     "metadata": {
      "needs_background": "light"
     },
     "output_type": "display_data"
    }
   ],
   "source": [
    "fig, ax = plt.subplots()\n",
    "ax.hist(init_X, bins=100, density=True)\n",
    "ax.plot(X_plot, np.exp(X_log_prob), linewidth=3, color=\"black\")\n",
    "plt.show()\n",
    "fig.savefig(\"hybrid_reg_x_dist\")"
   ]
  },
  {
   "cell_type": "code",
   "execution_count": 280,
   "id": "hungarian-impression",
   "metadata": {},
   "outputs": [
    {
     "data": {
      "image/png": "[encoded data removed]",
      "text/plain": [
       "<Figure size 244.8x244.8 with 1 Axes>"
      ]
     },
     "metadata": {
      "needs_background": "light"
     },
     "output_type": "display_data"
    },
    {
     "data": {
      "image/png": "[encoded data removed]",
      "text/plain": [
       "<Figure size 244.8x244.8 with 1 Axes>"
      ]
     },
     "metadata": {
      "needs_background": "light"
     },
     "output_type": "display_data"
    },
    {
     "data": {
      "image/png": "[encoded data removed]",
      "text/plain": [
       "<Figure size 244.8x244.8 with 1 Axes>"
      ]
     },
     "metadata": {
      "needs_background": "light"
     },
     "output_type": "display_data"
    }
   ],
   "source": [
    "X_g = X_init.copy()\n",
    "\n",
    "for ibijector in cgf_model.bijectors:\n",
    "\n",
    "    X_g = ibijector.forward(X_g)\n",
    "\n",
    "    if ibijector.name == \"HouseHolder\":\n",
    "        fig = corner.corner(np.array(X_g), color=\"red\", hist_bin_factor=2)"
   ]
  },
  {
   "cell_type": "code",
   "execution_count": 25,
   "id": "baking-microphone",
   "metadata": {},
   "outputs": [],
   "source": [
    "# %%time\n",
    "# n_gen_samples = 100_000\n",
    "# pred_batch_size = 10_000\n",
    "# X_samples = []\n",
    "# for _ in tqdm.trange(n_gen_samples // pred_batch_size):\n",
    "\n",
    "#     X_samples.append(final_bijector.sample(seed=123, n_samples=pred_batch_size))"
   ]
  },
  {
   "cell_type": "markdown",
   "id": "another-provincial",
   "metadata": {},
   "source": [
    "## Saving/Loading Model"
   ]
  },
  {
   "cell_type": "markdown",
   "id": "knowing-forge",
   "metadata": {},
   "source": [
    "#### Save Model"
   ]
  },
  {
   "cell_type": "code",
   "execution_count": 34,
   "id": "neither-connecticut",
   "metadata": {},
   "outputs": [
    {
     "data": {
      "text/plain": [
       "['gf_model.pickle']"
      ]
     },
     "execution_count": 34,
     "metadata": {},
     "output_type": "execute_result"
    }
   ],
   "source": [
    "import joblib\n",
    "\n",
    "joblib.dump(cgf_model, \"gf_model.pickle\")"
   ]
  },
  {
   "cell_type": "markdown",
   "id": "cheap-replacement",
   "metadata": {},
   "source": [
    "#### Load Model"
   ]
  },
  {
   "cell_type": "code",
   "execution_count": 35,
   "id": "coral-viking",
   "metadata": {},
   "outputs": [],
   "source": [
    "rbig_model_loaded = joblib.load(\"gf_model.pickle\")"
   ]
  },
  {
   "cell_type": "code",
   "execution_count": null,
   "id": "heated-jewel",
   "metadata": {},
   "outputs": [],
   "source": []
  },
  {
   "cell_type": "code",
   "execution_count": null,
   "id": "understood-pleasure",
   "metadata": {},
   "outputs": [],
   "source": []
  },
  {
   "cell_type": "code",
   "execution_count": null,
   "id": "dimensional-forward",
   "metadata": {},
   "outputs": [],
   "source": []
  }
 ],
 "metadata": {
  "kernelspec": {
   "display_name": "Python [conda env:.conda-jax_py38]",
   "language": "python",
   "name": "conda-env-.conda-jax_py38-py"
  },
  "language_info": {
   "codemirror_mode": {
    "name": "ipython",
    "version": 3
   },
   "file_extension": ".py",
   "mimetype": "text/x-python",
   "name": "python",
   "nbconvert_exporter": "python",
   "pygments_lexer": "ipython3",
   "version": "3.8.5"
  }
 },
 "nbformat": 4,
 "nbformat_minor": 5
}
