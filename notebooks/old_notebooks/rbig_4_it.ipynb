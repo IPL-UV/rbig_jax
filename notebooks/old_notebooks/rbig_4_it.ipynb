{
 "cells": [
  {
   "cell_type": "markdown",
   "metadata": {},
   "source": [
    "state.info_loss# Walkthrough - RBIG"
   ]
  },
  {
   "cell_type": "code",
   "execution_count": 1,
   "metadata": {},
   "outputs": [],
   "source": [
    "import sys\n",
    "sys.path.append(\"../\")\n",
    "\n",
    "# jax packages\n",
    "import jax\n",
    "import jax.numpy as np\n",
    "from jax.config import config\n",
    "import chex\n",
    "config.update(\"jax_enable_x64\", True)\n",
    "\n",
    "import numpy as onp\n",
    "from functools import partial\n",
    "\n",
    "# library functions\n",
    "\n",
    "# library functions\n",
    "from rbig_jax.data import get_classic\n",
    "from rbig_jax.plots import plot_info_loss, plot_joint\n",
    "# from rbig_jax.rbig import RBIG\n",
    "# from rbig_jax.data import get_classic\n",
    "# from rbig_jax.information.rbig import rbig_init\n",
    "# from rbig_jax.information.reduction import information_reduction\n",
    "# from rbig_jax.information.entropy import histogram_entropy\n",
    "# from rbig_jax.plots.info import plot_total_corr\n",
    "# from rbig_jax.plots.joint import plot_joint\n",
    "# from rbig_jax.plots.prob import plot_joint_prob\n",
    "# from rbig_jax.transforms.gaussian import init_params\n",
    "\n",
    "# logging\n",
    "import tqdm\n",
    "import wandb\n",
    "\n",
    "# plot methods\n",
    "import matplotlib.pyplot as plt\n",
    "import seaborn as sns\n",
    "sns.reset_defaults()\n",
    "sns.set_context(context=\"talk\", font_scale=0.7)\n",
    "\n",
    "%matplotlib inline\n",
    "%load_ext autoreload\n",
    "%autoreload 2"
   ]
  },
  {
   "cell_type": "markdown",
   "metadata": {},
   "source": [
    "## Data"
   ]
  },
  {
   "cell_type": "code",
   "execution_count": 2,
   "metadata": {},
   "outputs": [
    {
     "data": {
      "text/plain": [
       "<Figure size 432x288 with 0 Axes>"
      ]
     },
     "metadata": {},
     "output_type": "display_data"
    },
    {
     "data": {
      "image/png": "[encoded data removed]",
      "text/plain": [
       "<Figure size 432x432 with 3 Axes>"
      ]
     },
     "metadata": {
      "needs_background": "light"
     },
     "output_type": "display_data"
    }
   ],
   "source": [
    "# %%wandb\n",
    "# get data\n",
    "data = get_classic(1_000)\n",
    "\n",
    "# plot data\n",
    "plot_joint(data, \"blue\", \"Original Data\", kind='kde', logger=False)"
   ]
  },
  {
   "cell_type": "markdown",
   "metadata": {},
   "source": [
    "## Initialization\n",
    "\n",
    "First we need to initialize our RBIG method with some parameters. For example, which marginal gaussianization method, what precision do we want, and what rotation method do we want.\n",
    "\n",
    "* `method` - the method used to marginally transform the data. We have histogram or kde currently implemented\n",
    "* `support_extension` - this is the amount we want to extend the support for our marginal distributions. Higher values indicate higher\n",
    "* `precision` - we use interpolation because it is much faster. So the CDF, PDF and PPF are interpolation schemes. This value will allow one to have more \"precision\" for the estimated quantities but it will be slower."
   ]
  },
  {
   "cell_type": "markdown",
   "metadata": {},
   "source": [
    "## Training\n",
    "\n",
    "So now we have our step function and we need some kinda of condition. We will do 3 conditions:\n",
    "\n",
    "1. We need a maximum number of layers\n",
    "2. We need a minimum number of layers\n",
    "3. We need no changes between a running loss"
   ]
  },
  {
   "cell_type": "code",
   "execution_count": 3,
   "metadata": {},
   "outputs": [],
   "source": [
    "# Params\n",
    "method= \"histogram\"\n",
    "support_ext= 10\n",
    "precision= 1_000\n",
    "alpha= 1e-5\n",
    "min_layers= 10\n",
    "max_layers= 100\n",
    "tol_layers= 50\n",
    "threshold= 0.25"
   ]
  },
  {
   "cell_type": "code",
   "execution_count": 4,
   "metadata": {},
   "outputs": [
    {
     "name": "stderr",
     "output_type": "stream",
     "text": [
      "/home/emmanuel/.conda/envs/jax_py38/lib/python3.8/site-packages/jax/lib/xla_bridge.py:130: UserWarning: No GPU/TPU found, falling back to CPU.\n",
      "  warnings.warn('No GPU/TPU found, falling back to CPU.')\n"
     ]
    }
   ],
   "source": [
    "from rbig_jax.information.rbig import rbig_init\n",
    "from rbig_jax.information.total_corr import information_reduction\n",
    "from collections import namedtuple\n",
    "\n",
    "# initialize state\n",
    "TrainState = namedtuple(\n",
    "    \"TrainState\", [\n",
    "        \"n_layers\", # number of layers \n",
    "        \"info_loss\", # information loss\n",
    "        \"X\",\n",
    "    ]\n",
    ")\n",
    "\n",
    "# init RBIG params getter\n",
    "rbig_params_init = rbig_init(\n",
    "    method=method, support_ext=support_ext, precision=precision, alpha=alpha,\n",
    ")\n",
    "\n",
    "# # compile function (faster)\n",
    "# rbig_params_init = jax.jit(rbig_params_init)\n",
    "# _ = rbig_params_init(data[:10])\n",
    "\n",
    "# init loss with stopping criteria\n",
    "init_loss = np.pad(np.zeros((max_layers,)), (tol_layers, 0))\n",
    "init_loss = jax.ops.index_update(\n",
    "    init_loss, np.arange(0, tol_layers, dtype=int), 1.0\n",
    ")\n",
    "# print(init_loss)\n",
    "train_state = TrainState(n_layers=0, info_loss=init_loss, X=data)"
   ]
  },
  {
   "cell_type": "code",
   "execution_count": 5,
   "metadata": {},
   "outputs": [],
   "source": [
    "import jax.numpy as jnp\n",
    "\n",
    "def condition(state):\n",
    "\n",
    "    # get relevant layers (moving window)\n",
    "    layers = state.info_loss[state.n_layers : tol_layers + state.n_layers]\n",
    "#     print(layers)\n",
    "    info_sum = np.sum(np.abs(layers))\n",
    "\n",
    "    # condition - there needs to be some loss of info\n",
    "    info_crit = info_sum == 0.0\n",
    "    verdict = jax.lax.bitwise_not(info_crit)\n",
    "#     print(f\"Info: {info_sum}, verdict: {verdict}\")\n",
    "    return verdict\n",
    "\n",
    "\n",
    "def body(train_state):\n",
    "    Xtrans = rbig_params_init(train_state.X)\n",
    "\n",
    "    # calculate the information loss\n",
    "    it = information_reduction(train_state.X, Xtrans)\n",
    "    \n",
    "    return TrainState(\n",
    "        n_layers=train_state.n_layers + 1,\n",
    "        info_loss=jax.ops.index_update(train_state.info_loss, tol_layers + train_state.n_layers, it),\n",
    "        X=Xtrans,\n",
    "    )"
   ]
  },
  {
   "cell_type": "code",
   "execution_count": 6,
   "metadata": {},
   "outputs": [
    {
     "name": "stdout",
     "output_type": "stream",
     "text": [
      "CPU times: user 54.3 s, sys: 4min 57s, total: 5min 52s\n",
      "Wall time: 37.2 s\n"
     ]
    }
   ],
   "source": [
    "%%time\n",
    "\n",
    "while condition(train_state):\n",
    "    train_state = body(train_state)"
   ]
  },
  {
   "cell_type": "code",
   "execution_count": 7,
   "metadata": {},
   "outputs": [
    {
     "data": {
      "image/png": "[encoded data removed]",
      "text/plain": [
       "<Figure size 432x288 with 1 Axes>"
      ]
     },
     "metadata": {
      "needs_background": "light"
     },
     "output_type": "display_data"
    }
   ],
   "source": [
    "plot_info_loss(train_state.info_loss, n_layers=train_state.n_layers)"
   ]
  },
  {
   "cell_type": "markdown",
   "metadata": {},
   "source": [
    "### Speed"
   ]
  },
  {
   "cell_type": "code",
   "execution_count": 8,
   "metadata": {},
   "outputs": [
    {
     "name": "stdout",
     "output_type": "stream",
     "text": [
      "CPU times: user 16 µs, sys: 78 µs, total: 94 µs\n",
      "Wall time: 101 µs\n"
     ]
    }
   ],
   "source": [
    "%%time\n",
    "# print(init_loss)\n",
    "train_state = TrainState(n_layers=0, info_loss=init_loss, X=data)\n",
    "# \n",
    "body_jitted = jax.jit(body)\n",
    "# _ = body_jitted(train_state)"
   ]
  },
  {
   "cell_type": "code",
   "execution_count": 9,
   "metadata": {},
   "outputs": [
    {
     "name": "stdout",
     "output_type": "stream",
     "text": [
      "CPU times: user 19.9 s, sys: 1min 8s, total: 1min 27s\n",
      "Wall time: 16.1 s\n"
     ]
    }
   ],
   "source": [
    "%%time\n",
    "\n",
    "while condition(train_state):\n",
    "    train_state = body_jitted(train_state)"
   ]
  },
  {
   "cell_type": "code",
   "execution_count": 10,
   "metadata": {},
   "outputs": [
    {
     "data": {
      "image/png": "[encoded data removed]",
      "text/plain": [
       "<Figure size 432x288 with 1 Axes>"
      ]
     },
     "metadata": {
      "needs_background": "light"
     },
     "output_type": "display_data"
    }
   ],
   "source": [
    "plot_info_loss(train_state.info_loss, n_layers=train_state.n_layers)"
   ]
  },
  {
   "cell_type": "code",
   "execution_count": null,
   "metadata": {},
   "outputs": [],
   "source": []
  },
  {
   "cell_type": "code",
   "execution_count": 11,
   "metadata": {},
   "outputs": [
    {
     "data": {
      "text/plain": [
       "DeviceArray([1.        , 1.        , 1.        , 1.        , 1.        ,\n",
       "             1.        , 1.        , 1.        , 1.        , 1.        ,\n",
       "             1.        , 1.        , 1.        , 1.        , 1.        ,\n",
       "             1.        , 1.        , 1.        , 1.        , 1.        ,\n",
       "             1.        , 1.        , 1.        , 1.        , 1.        ,\n",
       "             1.        , 1.        , 1.        , 1.        , 1.        ,\n",
       "             1.        , 1.        , 1.        , 1.        , 1.        ,\n",
       "             1.        , 1.        , 1.        , 1.        , 1.        ,\n",
       "             1.        , 1.        , 1.        , 1.        , 1.        ,\n",
       "             1.        , 1.        , 1.        , 1.        , 1.        ,\n",
       "             0.58918961, 0.16489241, 0.1837185 , 0.04619229, 0.        ,\n",
       "             0.06285402, 0.        , 0.        , 0.        , 0.        ,\n",
       "             0.        , 0.        , 0.        , 0.        , 0.        ,\n",
       "             0.        , 0.        , 0.        , 0.        , 0.        ,\n",
       "             0.        , 0.        , 0.        , 0.        , 0.        ,\n",
       "             0.        , 0.        , 0.        , 0.        , 0.        ,\n",
       "             0.        , 0.        , 0.        , 0.        , 0.        ,\n",
       "             0.        , 0.        , 0.        , 0.        , 0.        ,\n",
       "             0.        , 0.        , 0.        , 0.        , 0.        ,\n",
       "             0.        , 0.        , 0.        , 0.        , 0.02095987,\n",
       "             0.02515177, 0.        , 0.        , 0.        , 0.        ,\n",
       "             0.        , 0.        , 0.        , 0.        , 0.05302361,\n",
       "             0.        , 0.        , 0.        , 0.        , 0.        ,\n",
       "             0.        , 0.        , 0.        , 0.        , 0.05362968,\n",
       "             0.        , 0.0215643 , 0.        , 0.06536069, 0.        ,\n",
       "             0.        , 0.        , 0.        , 0.        , 0.        ,\n",
       "             0.        , 0.        , 0.        , 0.        , 0.        ,\n",
       "             0.        , 0.        , 0.        , 0.        , 0.        ,\n",
       "             0.        , 0.05428792, 0.        , 0.        , 0.        ,\n",
       "             0.        , 0.        , 0.        , 0.07551304, 0.        ],            dtype=float64)"
      ]
     },
     "execution_count": 11,
     "metadata": {},
     "output_type": "execute_result"
    }
   ],
   "source": [
    "train_state.info_loss"
   ]
  },
  {
   "cell_type": "code",
   "execution_count": 12,
   "metadata": {},
   "outputs": [
    {
     "ename": "NameError",
     "evalue": "name 'state' is not defined",
     "output_type": "error",
     "traceback": [
      "\u001b[0;31m---------------------------------------------------------------------------\u001b[0m",
      "\u001b[0;31mNameError\u001b[0m                                 Traceback (most recent call last)",
      "\u001b[0;32m<ipython-input-12-202074563d3b>\u001b[0m in \u001b[0;36m<module>\u001b[0;34m\u001b[0m\n\u001b[0;32m----> 1\u001b[0;31m \u001b[0mstate\u001b[0m\u001b[0;34m\u001b[0m\u001b[0;34m\u001b[0m\u001b[0m\n\u001b[0m",
      "\u001b[0;31mNameError\u001b[0m: name 'state' is not defined"
     ]
    }
   ],
   "source": [
    "state"
   ]
  },
  {
   "cell_type": "markdown",
   "metadata": {},
   "source": [
    "### RBIG 4 IT\n"
   ]
  },
  {
   "cell_type": "code",
   "execution_count": 15,
   "metadata": {},
   "outputs": [],
   "source": [
    "from rbig_jax.information.total_corr import rbig_total_corr"
   ]
  },
  {
   "cell_type": "code",
   "execution_count": 16,
   "metadata": {},
   "outputs": [
    {
     "name": "stdout",
     "output_type": "stream",
     "text": [
      "CPU times: user 51.3 s, sys: 3.39 s, total: 54.7 s\n",
      "Wall time: 26 s\n"
     ]
    }
   ],
   "source": [
    "%%time\n",
    "\n",
    "data = get_classic(10_000)\n",
    "\n",
    "state = rbig_total_corr(data, threshold=0.25)"
   ]
  },
  {
   "cell_type": "code",
   "execution_count": 17,
   "metadata": {},
   "outputs": [
    {
     "name": "stdout",
     "output_type": "stream",
     "text": [
      "Mutual Info: 0.7170\n",
      "Entropy: 2.3646\n"
     ]
    }
   ],
   "source": [
    "print(f\"Mutual Info: {state.total_corr:.4f}\")\n",
    "print(f\"Entropy: {state.entropy:.4f}\")"
   ]
  },
  {
   "cell_type": "code",
   "execution_count": 18,
   "metadata": {},
   "outputs": [
    {
     "data": {
      "image/png": "[encoded data removed]",
      "text/plain": [
       "<Figure size 432x288 with 1 Axes>"
      ]
     },
     "metadata": {
      "needs_background": "light"
     },
     "output_type": "display_data"
    }
   ],
   "source": [
    "plot_info_loss(state.info_loss, n_layers=state.n_layers)"
   ]
  },
  {
   "cell_type": "code",
   "execution_count": 19,
   "metadata": {},
   "outputs": [
    {
     "data": {
      "text/plain": [
       "<Figure size 432x288 with 0 Axes>"
      ]
     },
     "metadata": {},
     "output_type": "display_data"
    },
    {
     "data": {
      "image/png": "[encoded data removed]",
      "text/plain": [
       "<Figure size 432x432 with 3 Axes>"
      ]
     },
     "metadata": {
      "needs_background": "light"
     },
     "output_type": "display_data"
    }
   ],
   "source": [
    "plot_joint(state.data, \"red\", \"Transformed Data\", kind='kde', logger=False)"
   ]
  },
  {
   "cell_type": "markdown",
   "metadata": {},
   "source": [
    "### Total Correlation"
   ]
  },
  {
   "cell_type": "markdown",
   "metadata": {},
   "source": [
    "#### Sample Data"
   ]
  },
  {
   "cell_type": "code",
   "execution_count": 21,
   "metadata": {},
   "outputs": [],
   "source": [
    "from sklearn.utils import check_random_state\n",
    "\n",
    "#Parameters\n",
    "n_samples = 10_000\n",
    "d_dimensions = 10\n",
    "\n",
    "seed = 123\n",
    "\n",
    "rng = check_random_state(seed)\n",
    "\n",
    "# Generate random normal data\n",
    "data_original = rng.randn(n_samples, d_dimensions)\n",
    "\n",
    "# Generate random Data\n",
    "A = rng.rand(d_dimensions, d_dimensions)\n",
    "\n",
    "data = data_original @ A\n",
    "\n",
    "# covariance matrix\n",
    "C = A.T @ A\n",
    "vv = onp.diag(C)"
   ]
  },
  {
   "cell_type": "markdown",
   "metadata": {},
   "source": [
    "#### Original "
   ]
  },
  {
   "cell_type": "code",
   "execution_count": 22,
   "metadata": {},
   "outputs": [
    {
     "name": "stdout",
     "output_type": "stream",
     "text": [
      "TC: 9.9326\n"
     ]
    }
   ],
   "source": [
    "tc_original = onp.log(onp.sqrt(vv)).sum() - 0.5 * onp.log(onp.linalg.det(C))\n",
    "\n",
    "print(f\"TC: {tc_original:.4f}\")"
   ]
  },
  {
   "cell_type": "markdown",
   "metadata": {},
   "source": [
    "#### RBIG"
   ]
  },
  {
   "cell_type": "code",
   "execution_count": 23,
   "metadata": {},
   "outputs": [
    {
     "name": "stdout",
     "output_type": "stream",
     "text": [
      "Total Correlation: 9.8999\n",
      "CPU times: user 39.5 s, sys: 53.8 s, total: 1min 33s\n",
      "Wall time: 36.6 s\n"
     ]
    }
   ],
   "source": [
    "%%time\n",
    "\n",
    "state = rbig_total_corr(data, threshold=0.25)\n",
    "\n",
    "print(f'Total Correlation: {state.total_corr:.4f}')"
   ]
  },
  {
   "cell_type": "markdown",
   "metadata": {},
   "source": [
    "### Entropy"
   ]
  },
  {
   "cell_type": "markdown",
   "metadata": {},
   "source": [
    "#### Sample Data"
   ]
  },
  {
   "cell_type": "code",
   "execution_count": 24,
   "metadata": {},
   "outputs": [],
   "source": [
    "#Parameters\n",
    "n_samples = 10_000\n",
    "d_dimensions = 10\n",
    "\n",
    "seed = 123\n",
    "\n",
    "rng = check_random_state(seed)\n",
    "\n",
    "# Generate random normal data\n",
    "data_original = rng.randn(n_samples, d_dimensions)\n",
    "\n",
    "# Generate random Data\n",
    "A = rng.rand(d_dimensions, d_dimensions)\n",
    "\n",
    "data = data_original @ A"
   ]
  },
  {
   "cell_type": "markdown",
   "metadata": {},
   "source": [
    "#### True Entropy"
   ]
  },
  {
   "cell_type": "code",
   "execution_count": 25,
   "metadata": {},
   "outputs": [
    {
     "name": "stdout",
     "output_type": "stream",
     "text": [
      "Hx: 28.7639\n",
      "H: 22.7575\n"
     ]
    }
   ],
   "source": [
    "from rbig_jax.information.entropy import histogram_entropy\n",
    "\n",
    "Hx = jax.vmap(histogram_entropy, in_axes=(0, None))(data.T, 2)\n",
    "\n",
    "print(f\"Hx: {Hx.sum():.4f}\")\n",
    "\n",
    "H_original = Hx.sum() + np.log2(np.abs(np.linalg.det(A)))\n",
    "\n",
    "# H_original *= np.log(2)\n",
    "\n",
    "print(f\"H: {H_original:.4f}\")"
   ]
  },
  {
   "cell_type": "markdown",
   "metadata": {},
   "source": [
    "### RBIG"
   ]
  },
  {
   "cell_type": "code",
   "execution_count": 26,
   "metadata": {},
   "outputs": [
    {
     "name": "stdout",
     "output_type": "stream",
     "text": [
      "Entropy: 18.8640\n",
      "CPU times: user 36.6 s, sys: 1min 4s, total: 1min 40s\n",
      "Wall time: 32.3 s\n"
     ]
    }
   ],
   "source": [
    "%%time\n",
    "state = rbig_total_corr(data, threshold=0.25)\n",
    "\n",
    "print(f'Entropy: {state.entropy:.4f}')"
   ]
  },
  {
   "cell_type": "markdown",
   "metadata": {},
   "source": [
    "### Mutual Information"
   ]
  },
  {
   "cell_type": "code",
   "execution_count": 27,
   "metadata": {},
   "outputs": [],
   "source": [
    "#Parameters\n",
    "n_samples = 10000\n",
    "d_dimensions = 10\n",
    "\n",
    "seed = 123\n",
    "\n",
    "rng = check_random_state(seed)\n",
    "\n",
    "# Generate random Data\n",
    "A = rng.rand(2 * d_dimensions, 2 * d_dimensions)\n",
    "\n",
    "# Covariance Matrix\n",
    "C = A @ A.T\n",
    "mu = np.zeros((2 * d_dimensions))\n",
    "\n",
    "dat_all = rng.multivariate_normal(mu, C, n_samples)\n",
    "\n",
    "CX = C[:d_dimensions, :d_dimensions]\n",
    "CY = C[d_dimensions:, d_dimensions:]\n",
    "\n",
    "X = dat_all[:, :d_dimensions]\n",
    "Y = dat_all[:, d_dimensions:]"
   ]
  },
  {
   "cell_type": "markdown",
   "metadata": {},
   "source": [
    "#### Real Mutual Information"
   ]
  },
  {
   "cell_type": "code",
   "execution_count": 28,
   "metadata": {},
   "outputs": [
    {
     "name": "stdout",
     "output_type": "stream",
     "text": [
      "MI: 8.0713\n"
     ]
    }
   ],
   "source": [
    "H_X = 0.5 * np.log(2 * np.pi * np.exp(1) * np.abs(np.linalg.det(CX)))\n",
    "H_Y = 0.5 * np.log(2 * np.pi * np.exp(1) * np.abs(np.linalg.det(CY)))\n",
    "H = 0.5 * np.log(2 * np.pi * np.exp(1) * np.abs(np.linalg.det(C)))\n",
    "\n",
    "mi_original = H_X + H_Y - H\n",
    "mi_original *= np.log(2)\n",
    "\n",
    "print(f\"MI: {mi_original:.4f}\")"
   ]
  },
  {
   "cell_type": "markdown",
   "metadata": {},
   "source": [
    "#### RBIG"
   ]
  },
  {
   "cell_type": "code",
   "execution_count": 29,
   "metadata": {},
   "outputs": [],
   "source": [
    "from rbig_jax.information.mi import rbig_mutual_info"
   ]
  },
  {
   "cell_type": "code",
   "execution_count": 30,
   "metadata": {},
   "outputs": [
    {
     "ename": "NameError",
     "evalue": "name 'fit_forward_func_jitted' is not defined",
     "output_type": "error",
     "traceback": [
      "\u001b[0;31m---------------------------------------------------------------------------\u001b[0m",
      "\u001b[0;31mNameError\u001b[0m                                 Traceback (most recent call last)",
      "\u001b[0;32m<timed exec>\u001b[0m in \u001b[0;36m<module>\u001b[0;34m\u001b[0m\n",
      "\u001b[0;31mNameError\u001b[0m: name 'fit_forward_func_jitted' is not defined"
     ]
    }
   ],
   "source": [
    "%%time\n",
    "state = rbig_mutual_info(np.array(X), np.array(Y), fit_forward_func_jitted)"
   ]
  },
  {
   "cell_type": "code",
   "execution_count": 31,
   "metadata": {},
   "outputs": [
    {
     "ename": "AttributeError",
     "evalue": "'RBIGEntropy' object has no attribute 'mutual_info'",
     "output_type": "error",
     "traceback": [
      "\u001b[0;31m---------------------------------------------------------------------------\u001b[0m",
      "\u001b[0;31mAttributeError\u001b[0m                            Traceback (most recent call last)",
      "\u001b[0;32m<ipython-input-31-405f688e2fcc>\u001b[0m in \u001b[0;36m<module>\u001b[0;34m\u001b[0m\n\u001b[0;32m----> 1\u001b[0;31m \u001b[0mprint\u001b[0m\u001b[0;34m(\u001b[0m\u001b[0;34mf\"Mutual Info, MI(X,Y): {state.mutual_info:.4f}\"\u001b[0m\u001b[0;34m)\u001b[0m\u001b[0;34m\u001b[0m\u001b[0;34m\u001b[0m\u001b[0m\n\u001b[0m\u001b[1;32m      2\u001b[0m \u001b[0mprint\u001b[0m\u001b[0;34m(\u001b[0m\u001b[0;34mf\"Mutual Info, MI(X): {state.MIx:.4f}\"\u001b[0m\u001b[0;34m)\u001b[0m\u001b[0;34m\u001b[0m\u001b[0;34m\u001b[0m\u001b[0m\n\u001b[1;32m      3\u001b[0m \u001b[0mprint\u001b[0m\u001b[0;34m(\u001b[0m\u001b[0;34mf\"Mutual Info, MI(Y): {state.MIy:.4f}\"\u001b[0m\u001b[0;34m)\u001b[0m\u001b[0;34m\u001b[0m\u001b[0;34m\u001b[0m\u001b[0m\n",
      "\u001b[0;31mAttributeError\u001b[0m: 'RBIGEntropy' object has no attribute 'mutual_info'"
     ]
    }
   ],
   "source": [
    "print(f\"Mutual Info, MI(X,Y): {state.mutual_info:.4f}\")\n",
    "print(f\"Mutual Info, MI(X): {state.MIx:.4f}\")\n",
    "print(f\"Mutual Info, MI(Y): {state.MIy:.4f}\")"
   ]
  },
  {
   "cell_type": "code",
   "execution_count": null,
   "metadata": {},
   "outputs": [],
   "source": []
  },
  {
   "cell_type": "code",
   "execution_count": null,
   "metadata": {},
   "outputs": [],
   "source": []
  },
  {
   "cell_type": "code",
   "execution_count": null,
   "metadata": {},
   "outputs": [],
   "source": []
  }
 ],
 "metadata": {
  "kernelspec": {
   "display_name": "Python [conda env:.conda-jax_py38]",
   "language": "python",
   "name": "conda-env-.conda-jax_py38-py"
  },
  "language_info": {
   "codemirror_mode": {
    "name": "ipython",
    "version": 3
   },
   "file_extension": ".py",
   "mimetype": "text/x-python",
   "name": "python",
   "nbconvert_exporter": "python",
   "pygments_lexer": "ipython3",
   "version": "3.8.5"
  }
 },
 "nbformat": 4,
 "nbformat_minor": 4
}
