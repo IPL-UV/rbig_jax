{
 "cells": [
  {
   "cell_type": "markdown",
   "metadata": {},
   "source": [
    "# Walkthrough - RBIG"
   ]
  },
  {
   "cell_type": "code",
   "execution_count": 1,
   "metadata": {},
   "outputs": [],
   "source": [
    "import sys\n",
    "sys.path.append(\"../\")\n",
    "\n",
    "# jax packages\n",
    "import jax\n",
    "import jax.numpy as np\n",
    "from jax.config import config\n",
    "import chex\n",
    "config.update(\"jax_enable_x64\", True)\n",
    "\n",
    "import numpy as onp\n",
    "from functools import partial\n",
    "\n",
    "# library functions\n",
    "from rbig_jax.data import get_classic\n",
    "from rbig_jax.information.rbig import rbig_init\n",
    "from rbig_jax.information.reduction import information_reduction\n",
    "from rbig_jax.information.entropy import histogram_entropy\n",
    "from rbig_jax.plots.info import plot_total_corr\n",
    "from rbig_jax.plots.joint import plot_joint\n",
    "from rbig_jax.plots.prob import plot_joint_prob\n",
    "from rbig_jax.transforms.gaussian import init_params\n",
    "\n",
    "# logging\n",
    "import tqdm\n",
    "import wandb\n",
    "\n",
    "# plot methods\n",
    "import matplotlib.pyplot as plt\n",
    "import seaborn as sns\n",
    "sns.reset_defaults()\n",
    "sns.set_context(context=\"talk\", font_scale=0.7)\n",
    "\n",
    "%matplotlib inline\n",
    "%load_ext autoreload\n",
    "%autoreload 2"
   ]
  },
  {
   "cell_type": "code",
   "execution_count": 2,
   "metadata": {},
   "outputs": [
    {
     "data": {
      "image/png": "[encoded data removed]",
      "text/plain": [
       "<Figure size 432x288 with 1 Axes>"
      ]
     },
     "metadata": {
      "needs_background": "light"
     },
     "output_type": "display_data"
    }
   ],
   "source": [
    "# get data\n",
    "data = get_classic(100)\n",
    "\n",
    "# plot data\n",
    "plt.hist(data[:, 1], 10);"
   ]
  },
  {
   "cell_type": "markdown",
   "metadata": {},
   "source": [
    "## Logging"
   ]
  },
  {
   "cell_type": "code",
   "execution_count": 3,
   "metadata": {},
   "outputs": [
    {
     "data": {
      "text/html": [
       "\n",
       "                Logging results to <a href=\"https://wandb.com\" target=\"_blank\">Weights & Biases</a> <a href=\"https://docs.wandb.com/integrations/jupyter.html\" target=\"_blank\">(Documentation)</a>.<br/>\n",
       "                Project page: <a href=\"https://app.wandb.ai/emanjohnson91/rbigjax-demo-2d\" target=\"_blank\">https://app.wandb.ai/emanjohnson91/rbigjax-demo-2d</a><br/>\n",
       "                Run page: <a href=\"https://app.wandb.ai/emanjohnson91/rbigjax-demo-2d/runs/1dw74b7y\" target=\"_blank\">https://app.wandb.ai/emanjohnson91/rbigjax-demo-2d/runs/1dw74b7y</a><br/>\n",
       "            "
      ],
      "text/plain": [
       "<IPython.core.display.HTML object>"
      ]
     },
     "metadata": {},
     "output_type": "display_data"
    },
    {
     "data": {
      "text/plain": [
       "W&B Run: https://app.wandb.ai/emanjohnson91/rbigjax-demo-2d/runs/1dw74b7y"
      ]
     },
     "execution_count": 3,
     "metadata": {},
     "output_type": "execute_result"
    }
   ],
   "source": [
    "wandb.init(project=\"rbigjax-demo-2d\", entity=\"emanjohnson91\")\n"
   ]
  },
  {
   "cell_type": "code",
   "execution_count": 4,
   "metadata": {},
   "outputs": [
    {
     "name": "stderr",
     "output_type": "stream",
     "text": [
      "Failed to query for notebook name, you can set it manually with the WANDB_NOTEBOOK_NAME environment variable\n",
      "\u001b[34m\u001b[1mwandb\u001b[0m: Wandb version 0.9.7 is available!  To upgrade, please run:\n",
      "\u001b[34m\u001b[1mwandb\u001b[0m:  $ pip install wandb --upgrade\n"
     ]
    }
   ],
   "source": [
    "\n",
    "# config parameters\n",
    "wandb.config.n_samples = 10_000\n",
    "wandb.config.dataset = \"classic\"\n",
    "wandb.config.method = \"histogram\"\n",
    "wandb.config.support_extension = 10\n",
    "wandb.config.precision = 50\n",
    "wandb.config.alpha = 0.0\n",
    "wandb.config.n_layers = 20"
   ]
  },
  {
   "cell_type": "markdown",
   "metadata": {},
   "source": [
    "## Data"
   ]
  },
  {
   "cell_type": "code",
   "execution_count": 5,
   "metadata": {},
   "outputs": [],
   "source": [
    "def plot_joint(data, color: str = \"red\", title: str = \"\", kind=\"kde\", logger=None):\n",
    "\n",
    "    plt.figure()\n",
    "    sns.jointplot(x=data[:, 0], y=data[:, 1], kind=kind, color=color)\n",
    "    plt.xlabel(\"X\")\n",
    "    plt.ylabel(\"Y\")\n",
    "    plt.suptitle(title)\n",
    "    plt.tight_layout()\n",
    "    plt.show()\n",
    "    \n",
    "\n",
    "def plot_joint_prob(data, probs, cmap=\"Reds\", title=\"\", logger=None):\n",
    "\n",
    "    fig, ax = plt.subplots()\n",
    "    h = ax.scatter(data[:, 0], data[:, 1], s=1, c=probs, cmap=cmap)\n",
    "    plt.xlabel(\"X\")\n",
    "    plt.ylabel(\"Y\")\n",
    "    plt.colorbar(h,)\n",
    "    ax.set_title(title)\n",
    "    plt.tight_layout()\n",
    "    plt.show()"
   ]
  },
  {
   "cell_type": "code",
   "execution_count": 6,
   "metadata": {},
   "outputs": [
    {
     "data": {
      "text/plain": [
       "<Figure size 432x288 with 0 Axes>"
      ]
     },
     "metadata": {},
     "output_type": "display_data"
    },
    {
     "data": {
      "image/png": "[encoded data removed]",
      "text/plain": [
       "<Figure size 432x432 with 3 Axes>"
      ]
     },
     "metadata": {
      "needs_background": "light"
     },
     "output_type": "display_data"
    }
   ],
   "source": [
    "# %%wandb\n",
    "# get data\n",
    "data = get_classic(1_000)\n",
    "\n",
    "# plot data\n",
    "plot_joint(data, \"blue\", \"Original Data\", logger=False)"
   ]
  },
  {
   "cell_type": "markdown",
   "metadata": {},
   "source": [
    "## Initialization\n",
    "\n",
    "First we need to initialize our RBIG method with some parameters. For example, which marginal gaussianization method, what precision do we want, and what rotation method do we want.\n",
    "\n",
    "* `method` - the method used to marginally transform the data. We have histogram or kde currently implemented\n",
    "* `support_extension` - this is the amount we want to extend the support for our marginal distributions. Higher values indicate higher\n",
    "* `precision` - we use interpolation because it is much faster. So the CDF, PDF and PPF are interpolation schemes. This value will allow one to have more \"precision\" for the estimated quantities but it will be slower."
   ]
  },
  {
   "cell_type": "code",
   "execution_count": 7,
   "metadata": {},
   "outputs": [],
   "source": [
    "\n",
    "\n",
    "# get the init function\n",
    "fit_forward_func = rbig_init(\n",
    "    method=\"histogram\",\n",
    "    support_ext=10,\n",
    "    precision=50,\n",
    "    alpha=1e-5\n",
    ")"
   ]
  },
  {
   "cell_type": "code",
   "execution_count": 8,
   "metadata": {},
   "outputs": [
    {
     "name": "stderr",
     "output_type": "stream",
     "text": [
      "/home/emmanuel/.conda/envs/jax_py38/lib/python3.8/site-packages/jax/lib/xla_bridge.py:130: UserWarning: No GPU/TPU found, falling back to CPU.\n",
      "  warnings.warn('No GPU/TPU found, falling back to CPU.')\n"
     ]
    }
   ],
   "source": [
    "# fit forward function\n",
    "Xtrans = fit_forward_func(data)\n",
    "\n",
    "chex.assert_shape(Xtrans, (1_000, 2))"
   ]
  },
  {
   "cell_type": "code",
   "execution_count": 9,
   "metadata": {},
   "outputs": [
    {
     "data": {
      "text/plain": [
       "<Figure size 432x288 with 0 Axes>"
      ]
     },
     "metadata": {},
     "output_type": "display_data"
    },
    {
     "data": {
      "image/png": "[encoded data removed]",
      "text/plain": [
       "<Figure size 432x432 with 3 Axes>"
      ]
     },
     "metadata": {
      "needs_background": "light"
     },
     "output_type": "display_data"
    }
   ],
   "source": [
    "plot_joint(Xtrans, \"blue\", \"Transform\", logger=False)"
   ]
  },
  {
   "cell_type": "markdown",
   "metadata": {},
   "source": [
    "### Speed\n",
    "\n",
    "We can use the `jit` method to speed up our code considerably. We simply need to jit our forward function and our inverse function."
   ]
  },
  {
   "cell_type": "markdown",
   "metadata": {},
   "source": [
    "#### Non-Jitted"
   ]
  },
  {
   "cell_type": "code",
   "execution_count": 10,
   "metadata": {},
   "outputs": [
    {
     "name": "stdout",
     "output_type": "stream",
     "text": [
      "226 ms ± 1.8 ms per loop (mean ± std. dev. of 7 runs, 10 loops each)\n"
     ]
    }
   ],
   "source": [
    "%timeit Xtrans = fit_forward_func(data)"
   ]
  },
  {
   "cell_type": "markdown",
   "metadata": {},
   "source": [
    "#### Jitted"
   ]
  },
  {
   "cell_type": "code",
   "execution_count": 11,
   "metadata": {},
   "outputs": [],
   "source": [
    "# get the init function\n",
    "fit_forward_func = rbig_init(\n",
    "    method=\"histogram\",\n",
    "    support_ext=10,\n",
    "    precision=100,\n",
    "    alpha=1e-5\n",
    ")\n",
    "fit_forward_func_jitted = jax.jit(fit_forward_func)\n",
    "Xtrans = fit_forward_func_jitted(data)"
   ]
  },
  {
   "cell_type": "code",
   "execution_count": 12,
   "metadata": {},
   "outputs": [
    {
     "name": "stdout",
     "output_type": "stream",
     "text": [
      "678 µs ± 212 µs per loop (mean ± std. dev. of 7 runs, 1000 loops each)\n"
     ]
    }
   ],
   "source": [
    "%timeit _ = fit_forward_func_jitted(data)"
   ]
  },
  {
   "cell_type": "markdown",
   "metadata": {},
   "source": [
    "## Training\n",
    "\n",
    "So now we have our step function and we need some kinda of condition. We will do 3 conditions:\n",
    "\n",
    "1. We need a maximum number of layers\n",
    "2. We need a minimum number of layers\n",
    "3. We need no changes between a running loss"
   ]
  },
  {
   "cell_type": "code",
   "execution_count": 14,
   "metadata": {},
   "outputs": [],
   "source": [
    "from collections import namedtuple\n",
    "\n",
    "data = get_classic(10_000)\n",
    "# data = np.array(onp.random.randn(10_000, 100))\n",
    "\n",
    "max_layers = 100\n",
    "min_layers = 10\n",
    "threshold = 0.25\n",
    "tol_layers = 50\n",
    "\n",
    "TrainState = namedtuple(\n",
    "    \"TrainState\", [\n",
    "        \"n_layers\", # number of layers \n",
    "        \"info_loss\", # information loss\n",
    "        \"X\",\n",
    "    ]\n",
    ")\n",
    "\n",
    "train_state = TrainState(\n",
    "    n_layers=0,\n",
    "    info_loss=np.zeros((1_000,)),\n",
    "    X=data,\n",
    "    \n",
    ")\n",
    "\n",
    "\n",
    "\n",
    "@jax.jit\n",
    "def condition_fun(state):\n",
    "    # stopping criterial\n",
    "    stop_crit = jax.lax.bitwise_and(\n",
    "        jax.lax.bitwise_not(state.n_layers < min_layers), \n",
    "        state.n_layers > max_layers\n",
    "    )\n",
    "    stop_crit = jax.lax.bitwise_not(stop_crit)\n",
    "    return stop_crit\n",
    "\n",
    "condition_fun(train_state)\n",
    "# train_state = (\n",
    "#     0, np.zeros((1_000,)), data\n",
    "    \n",
    "# )\n",
    "# information reduction function\n",
    "it_jitted = jax.jit(information_reduction)\n",
    "\n",
    "# body function\n",
    "def body_jitted(train_state):\n",
    "    Xtrans = fit_forward_func_jitted(train_state.X)\n",
    "\n",
    "    # calculate the information loss\n",
    "    it = it_jitted(train_state.X, Xtrans)\n",
    "\n",
    "\n",
    "    return TrainState(\n",
    "        train_state.n_layers + 1,\n",
    "        jax.ops.index_update(train_state.info_loss, train_state.n_layers+1, it),\n",
    "        Xtrans,\n",
    "    )\n",
    "\n"
   ]
  },
  {
   "cell_type": "code",
   "execution_count": 15,
   "metadata": {},
   "outputs": [
    {
     "name": "stdout",
     "output_type": "stream",
     "text": [
      "CPU times: user 9.38 s, sys: 49.7 ms, total: 9.43 s\n",
      "Wall time: 9.39 s\n"
     ]
    }
   ],
   "source": [
    "%%time\n",
    "state = jax.lax.while_loop(condition_fun, body_jitted, train_state)"
   ]
  },
  {
   "cell_type": "code",
   "execution_count": 22,
   "metadata": {},
   "outputs": [
    {
     "data": {
      "text/plain": [
       "array(101, dtype=int64)"
      ]
     },
     "execution_count": 22,
     "metadata": {},
     "output_type": "execute_result"
    }
   ],
   "source": [
    "state"
   ]
  },
  {
   "cell_type": "code",
   "execution_count": 23,
   "metadata": {},
   "outputs": [
    {
     "data": {
      "text/plain": [
       "[<matplotlib.lines.Line2D at 0x7f576d10aac0>]"
      ]
     },
     "execution_count": 23,
     "metadata": {},
     "output_type": "execute_result"
    },
    {
     "data": {
      "image/png": "[encoded data removed]",
      "text/plain": [
       "<Figure size 432x288 with 1 Axes>"
      ]
     },
     "metadata": {
      "needs_background": "light"
     },
     "output_type": "display_data"
    }
   ],
   "source": [
    "plt.plot(onp.array(np.cumsum(state[1]))[:onp.array(state[0])])"
   ]
  },
  {
   "cell_type": "markdown",
   "metadata": {},
   "source": [
    "### RBIG 4 IT\n"
   ]
  },
  {
   "cell_type": "code",
   "execution_count": 92,
   "metadata": {},
   "outputs": [],
   "source": [
    "from rbig_jax.information.total_corr import rbig_total_corr"
   ]
  },
  {
   "cell_type": "code",
   "execution_count": 94,
   "metadata": {},
   "outputs": [],
   "source": [
    "state = rbig_total_corr(data, fit_forward_func_jitted)"
   ]
  },
  {
   "cell_type": "code",
   "execution_count": 96,
   "metadata": {},
   "outputs": [
    {
     "name": "stdout",
     "output_type": "stream",
     "text": [
      "Mutual Info: 9.9093\n",
      "Entropy: 18.8546\n"
     ]
    }
   ],
   "source": [
    "print(f\"Mutual Info: {state.mutual_info:.4f}\")\n",
    "print(f\"Entropy: {state.entropy:.4f}\")"
   ]
  },
  {
   "cell_type": "markdown",
   "metadata": {},
   "source": [
    "### Total Correlation"
   ]
  },
  {
   "cell_type": "markdown",
   "metadata": {},
   "source": [
    "#### Sample Data"
   ]
  },
  {
   "cell_type": "code",
   "execution_count": 97,
   "metadata": {},
   "outputs": [],
   "source": [
    "from sklearn.utils import check_random_state\n",
    "\n",
    "#Parameters\n",
    "n_samples = 10_000\n",
    "d_dimensions = 10\n",
    "\n",
    "seed = 123\n",
    "\n",
    "rng = check_random_state(seed)\n",
    "\n",
    "# Generate random normal data\n",
    "data_original = rng.randn(n_samples, d_dimensions)\n",
    "\n",
    "# Generate random Data\n",
    "A = rng.rand(d_dimensions, d_dimensions)\n",
    "\n",
    "data = data_original @ A\n",
    "\n",
    "# covariance matrix\n",
    "C = A.T @ A\n",
    "vv = onp.diag(C)"
   ]
  },
  {
   "cell_type": "markdown",
   "metadata": {},
   "source": [
    "#### Original "
   ]
  },
  {
   "cell_type": "code",
   "execution_count": 55,
   "metadata": {},
   "outputs": [
    {
     "name": "stdout",
     "output_type": "stream",
     "text": [
      "TC: 9.9326\n"
     ]
    }
   ],
   "source": [
    "tc_original = onp.log(onp.sqrt(vv)).sum() - 0.5 * onp.log(onp.linalg.det(C))\n",
    "\n",
    "print(f\"TC: {tc_original:.4f}\")"
   ]
  },
  {
   "cell_type": "markdown",
   "metadata": {},
   "source": [
    "#### RBIG"
   ]
  },
  {
   "cell_type": "code",
   "execution_count": 98,
   "metadata": {},
   "outputs": [
    {
     "name": "stdout",
     "output_type": "stream",
     "text": [
      "Total Correlation: 9.9093\n"
     ]
    }
   ],
   "source": [
    "state = rbig_total_corr(data, fit_forward_func_jitted)\n",
    "\n",
    "print(f'Total Correlation: {state.mutual_info:.4f}')"
   ]
  },
  {
   "cell_type": "markdown",
   "metadata": {},
   "source": [
    "### Entropy"
   ]
  },
  {
   "cell_type": "markdown",
   "metadata": {},
   "source": [
    "#### Sample Data"
   ]
  },
  {
   "cell_type": "code",
   "execution_count": 99,
   "metadata": {},
   "outputs": [],
   "source": [
    "#Parameters\n",
    "n_samples = 10_000\n",
    "d_dimensions = 10\n",
    "\n",
    "seed = 123\n",
    "\n",
    "rng = check_random_state(seed)\n",
    "\n",
    "# Generate random normal data\n",
    "data_original = rng.randn(n_samples, d_dimensions)\n",
    "\n",
    "# Generate random Data\n",
    "A = rng.rand(d_dimensions, d_dimensions)\n",
    "\n",
    "data = data_original @ A"
   ]
  },
  {
   "cell_type": "markdown",
   "metadata": {},
   "source": [
    "#### True Entropy"
   ]
  },
  {
   "cell_type": "code",
   "execution_count": 100,
   "metadata": {},
   "outputs": [
    {
     "name": "stdout",
     "output_type": "stream",
     "text": [
      "Hx: 28.7639\n",
      "H: 22.7575\n"
     ]
    }
   ],
   "source": [
    "Hx = jax.vmap(histogram_entropy, in_axes=(0, None))(data.T, 2)\n",
    "\n",
    "print(f\"Hx: {Hx.sum():.4f}\")\n",
    "\n",
    "H_original = Hx.sum() + np.log2(np.abs(np.linalg.det(A)))\n",
    "\n",
    "# H_original *= np.log(2)\n",
    "\n",
    "print(f\"H: {H_original:.4f}\")"
   ]
  },
  {
   "cell_type": "markdown",
   "metadata": {},
   "source": [
    "### RBIG"
   ]
  },
  {
   "cell_type": "code",
   "execution_count": 103,
   "metadata": {},
   "outputs": [
    {
     "name": "stdout",
     "output_type": "stream",
     "text": [
      "Entropy: 18.8546\n",
      "CPU times: user 15.9 s, sys: 15.8 s, total: 31.8 s\n",
      "Wall time: 14.5 s\n"
     ]
    }
   ],
   "source": [
    "%%time\n",
    "state = rbig_total_corr(data, fit_forward_func_jitted)\n",
    "\n",
    "print(f'Entropy: {state.entropy:.4f}')"
   ]
  },
  {
   "cell_type": "markdown",
   "metadata": {},
   "source": [
    "### Mutual Information"
   ]
  },
  {
   "cell_type": "code",
   "execution_count": 112,
   "metadata": {},
   "outputs": [],
   "source": [
    "#Parameters\n",
    "n_samples = 10000\n",
    "d_dimensions = 10\n",
    "\n",
    "seed = 123\n",
    "\n",
    "rng = check_random_state(seed)\n",
    "\n",
    "# Generate random Data\n",
    "A = rng.rand(2 * d_dimensions, 2 * d_dimensions)\n",
    "\n",
    "# Covariance Matrix\n",
    "C = A @ A.T\n",
    "mu = np.zeros((2 * d_dimensions))\n",
    "\n",
    "dat_all = rng.multivariate_normal(mu, C, n_samples)\n",
    "\n",
    "CX = C[:d_dimensions, :d_dimensions]\n",
    "CY = C[d_dimensions:, d_dimensions:]\n",
    "\n",
    "X = dat_all[:, :d_dimensions]\n",
    "Y = dat_all[:, d_dimensions:]"
   ]
  },
  {
   "cell_type": "markdown",
   "metadata": {},
   "source": [
    "#### Real Mutual Information"
   ]
  },
  {
   "cell_type": "code",
   "execution_count": 113,
   "metadata": {},
   "outputs": [
    {
     "name": "stdout",
     "output_type": "stream",
     "text": [
      "MI: 8.0713\n"
     ]
    }
   ],
   "source": [
    "H_X = 0.5 * np.log(2 * np.pi * np.exp(1) * np.abs(np.linalg.det(CX)))\n",
    "H_Y = 0.5 * np.log(2 * np.pi * np.exp(1) * np.abs(np.linalg.det(CY)))\n",
    "H = 0.5 * np.log(2 * np.pi * np.exp(1) * np.abs(np.linalg.det(C)))\n",
    "\n",
    "mi_original = H_X + H_Y - H\n",
    "mi_original *= np.log(2)\n",
    "\n",
    "print(f\"MI: {mi_original:.4f}\")"
   ]
  },
  {
   "cell_type": "markdown",
   "metadata": {},
   "source": [
    "#### RBIG"
   ]
  },
  {
   "cell_type": "code",
   "execution_count": 134,
   "metadata": {},
   "outputs": [],
   "source": [
    "from rbig_jax.information.mi import rbig_mutual_info"
   ]
  },
  {
   "cell_type": "code",
   "execution_count": 135,
   "metadata": {},
   "outputs": [
    {
     "name": "stdout",
     "output_type": "stream",
     "text": [
      "CPU times: user 56.9 s, sys: 3min 56s, total: 4min 53s\n",
      "Wall time: 35 s\n"
     ]
    }
   ],
   "source": [
    "%%time\n",
    "state = rbig_mutual_info(np.array(X), np.array(Y), fit_forward_func_jitted)"
   ]
  },
  {
   "cell_type": "code",
   "execution_count": 136,
   "metadata": {},
   "outputs": [
    {
     "name": "stdout",
     "output_type": "stream",
     "text": [
      "Mutual Info, MI(X,Y): 7.6302\n",
      "Mutual Info, MI(X): 6.9740\n",
      "Mutual Info, MI(Y): 6.4250\n"
     ]
    }
   ],
   "source": [
    "print(f\"Mutual Info, MI(X,Y): {state.mutual_info:.4f}\")\n",
    "print(f\"Mutual Info, MI(X): {state.MIx:.4f}\")\n",
    "print(f\"Mutual Info, MI(Y): {state.MIy:.4f}\")"
   ]
  }
 ],
 "metadata": {
  "kernelspec": {
   "display_name": "Python [conda env:.conda-jax_py38]",
   "language": "python",
   "name": "conda-env-.conda-jax_py38-py"
  },
  "language_info": {
   "codemirror_mode": {
    "name": "ipython",
    "version": 3
   },
   "file_extension": ".py",
   "mimetype": "text/x-python",
   "name": "python",
   "nbconvert_exporter": "python",
   "pygments_lexer": "ipython3",
   "version": "3.8.5"
  }
 },
 "nbformat": 4,
 "nbformat_minor": 4
}
