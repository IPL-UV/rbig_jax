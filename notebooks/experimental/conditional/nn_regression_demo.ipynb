{
 "cells": [
  {
   "cell_type": "markdown",
   "id": "future-manual",
   "metadata": {},
   "source": [
    "# Regression Demo - Neural Network"
   ]
  },
  {
   "cell_type": "code",
   "execution_count": 1,
   "id": "fallen-article",
   "metadata": {},
   "outputs": [],
   "source": [
    "# @title Install Packages\n",
    "# %%capture\n",
    "try:\n",
    "    import sys, os\n",
    "    from pyprojroot import here\n",
    "\n",
    "    # spyder up to find the root\n",
    "    root = here(project_files=[\".here\"])\n",
    "\n",
    "    # append to path\n",
    "    sys.path.append(str(root))\n",
    "except ModuleNotFoundError:\n",
    "    import os\n",
    "\n",
    "    os.system(\"pip install objax chex\")\n",
    "    os.system(\"pip install git+https://github.com/IPL-UV/rbig_jax.git#egg=rbig_jax\")"
   ]
  },
  {
   "cell_type": "code",
   "execution_count": 2,
   "id": "accessible-closure",
   "metadata": {},
   "outputs": [
    {
     "name": "stdout",
     "output_type": "stream",
     "text": [
      "INFO:tensorflow:Enabling eager execution\n",
      "INFO:tensorflow:Enabling v2 tensorshape\n",
      "INFO:tensorflow:Enabling resource variables\n",
      "INFO:tensorflow:Enabling tensor equality\n",
      "INFO:tensorflow:Enabling control flow v2\n"
     ]
    },
    {
     "name": "stderr",
     "output_type": "stream",
     "text": [
      "WARNING:absl:No GPU/TPU found, falling back to CPU. (Set TF_CPP_MIN_LOG_LEVEL=0 and rerun for more info.)\n"
     ]
    }
   ],
   "source": [
    "# jax packages\n",
    "import jax\n",
    "import jax.numpy as jnp\n",
    "from jax.config import config\n",
    "\n",
    "# import chex\n",
    "config.update(\"jax_enable_x64\", False)\n",
    "\n",
    "import objax\n",
    "import chex\n",
    "import numpy as np\n",
    "from functools import partial\n",
    "\n",
    "# library functions\n",
    "from rbig_jax.transforms.parametric.mixture.logistic import InitMixtureLogisticCDF\n",
    "from rbig_jax.transforms.parametric.mixture.gaussian import InitMixtureGaussianCDF\n",
    "from rbig_jax.transforms.logit import InitLogitTransform\n",
    "from rbig_jax.transforms.inversecdf import InitInverseGaussCDF\n",
    "from rbig_jax.transforms.parametric.householder import InitHouseHolder\n",
    "from distrax._src.bijectors.sigmoid import Sigmoid\n",
    "from distrax._src.bijectors.inverse import Inverse\n",
    "\n",
    "\n",
    "KEY = jax.random.PRNGKey(seed=123)\n",
    "\n",
    "# logging\n",
    "import tqdm\n",
    "import wandb\n",
    "\n",
    "# plot methods\n",
    "import matplotlib.pyplot as plt\n",
    "from matplotlib import cm\n",
    "import seaborn as sns\n",
    "import corner\n",
    "from IPython.display import HTML\n",
    "\n",
    "sns.reset_defaults()\n",
    "sns.set_context(context=\"talk\", font_scale=0.7)\n",
    "\n",
    "%load_ext lab_black\n",
    "%matplotlib inline\n",
    "%load_ext autoreload\n",
    "%autoreload 2"
   ]
  },
  {
   "cell_type": "markdown",
   "id": "medium-advisory",
   "metadata": {},
   "source": [
    "## Demo Data"
   ]
  },
  {
   "cell_type": "code",
   "execution_count": 416,
   "id": "potential-catalog",
   "metadata": {},
   "outputs": [],
   "source": [
    "import tensorflow_datasets as tfds\n",
    "import tensorflow as tf\n",
    "from sklearn import datasets\n",
    "import tensorflow_datasets as tfds\n",
    "from typing import Iterator, Mapping\n",
    "import numpy as np\n",
    "\n",
    "Batch = Mapping[str, np.ndarray]\n",
    "\n",
    "\n",
    "def load_dataset(\n",
    "    n_train: int,\n",
    "    batch_size: int,\n",
    "    seed: int,\n",
    "    n_samples: int = 2_000,\n",
    "    n_features: int = 2,\n",
    "    noise: float = 0.05,\n",
    ") -> Iterator[Batch]:\n",
    "    # make random normally distributed data\n",
    "    rng = np.random.RandomState(seed)\n",
    "    X = np.linspace(-2.5, 2.5, n_samples)[:, None]\n",
    "    y = X ** 3 + 0.5 * (X ** 3 * rng.randn(n_samples, 1))\n",
    "    #     X, y = datasets.make_regression(\n",
    "    #         n_samples=n_samples, n_features=n_features, noise=noise, random_state=seed,\n",
    "    #     )\n",
    "    ds = tf.data.Dataset.from_tensor_slices((X, y))\n",
    "    ds = ds.shuffle(buffer_size=10 * batch_size)\n",
    "    ds = ds.batch(batch_size)\n",
    "    ds = ds.prefetch(buffer_size=5)\n",
    "    ds = ds.repeat()\n",
    "    return iter(tfds.as_numpy(ds))"
   ]
  },
  {
   "cell_type": "code",
   "execution_count": 419,
   "id": "productive-congress",
   "metadata": {},
   "outputs": [],
   "source": [
    "# train/valid dataset loaders\n",
    "# wandb_logger.config.batch_size = 128\n",
    "n_init_samples = 1_000\n",
    "n_train = 1_000\n",
    "\n",
    "init_ds = load_dataset(n_init_samples, n_init_samples, 123)\n",
    "\n",
    "# demo batch\n",
    "init_X, init_Y = next(init_ds)"
   ]
  },
  {
   "cell_type": "code",
   "execution_count": 420,
   "id": "specialized-petersburg",
   "metadata": {},
   "outputs": [
    {
     "data": {
      "image/png": "[encoded data removed]",
      "text/plain": [
       "<Figure size 432x288 with 1 Axes>"
      ]
     },
     "metadata": {
      "needs_background": "light"
     },
     "output_type": "display_data"
    }
   ],
   "source": [
    "fig, ax = plt.subplots()\n",
    "\n",
    "ax.scatter(init_X, init_Y)\n",
    "plt.show()"
   ]
  },
  {
   "cell_type": "code",
   "execution_count": 421,
   "id": "blank-monaco",
   "metadata": {},
   "outputs": [
    {
     "data": {
      "image/png": "[encoded data removed]",
      "text/plain": [
       "<Figure size 244.8x244.8 with 1 Axes>"
      ]
     },
     "metadata": {
      "needs_background": "light"
     },
     "output_type": "display_data"
    }
   ],
   "source": [
    "# plot data\n",
    "fig = corner.corner(init_X, color=\"blue\", hist_bin_factor=2)"
   ]
  },
  {
   "cell_type": "markdown",
   "id": "listed-panama",
   "metadata": {},
   "source": [
    "## DataLoader"
   ]
  },
  {
   "cell_type": "code",
   "execution_count": 422,
   "id": "subject-injection",
   "metadata": {},
   "outputs": [],
   "source": [
    "from typing import Optional\n",
    "from chex import Array\n",
    "from einops import rearrange\n",
    "\n",
    "PRNGKey = Array\n",
    "\n",
    "\n",
    "def prepare_data(batch: Batch) -> Array:\n",
    "    inputs, labels = batch\n",
    "\n",
    "    # select image from tfds\n",
    "    inputs = inputs.astype(jnp.float32)\n",
    "    labels = labels.astype(jnp.float32)\n",
    "\n",
    "    # make 1D\n",
    "    #     labels = jnp.expand_dims(labels, axis=-1)\n",
    "\n",
    "    return inputs, labels"
   ]
  },
  {
   "cell_type": "markdown",
   "id": "separated-passage",
   "metadata": {},
   "source": [
    "### Init Data"
   ]
  },
  {
   "cell_type": "code",
   "execution_count": 423,
   "id": "completed-forest",
   "metadata": {},
   "outputs": [],
   "source": [
    "# initialization data\n",
    "n_init_samples = 1_000\n",
    "\n",
    "init_ds = load_dataset(n_init_samples, n_init_samples, 123)\n",
    "# demo batch\n",
    "init_ds = next(init_ds)\n",
    "X_init, Y_init = prepare_data(init_ds)\n",
    "X_init, Y_init = np.array(X_init), np.array(Y_init)"
   ]
  },
  {
   "cell_type": "markdown",
   "id": "theoretical-replacement",
   "metadata": {},
   "source": [
    "## Simple Model"
   ]
  },
  {
   "cell_type": "code",
   "execution_count": 424,
   "id": "recovered-battlefield",
   "metadata": {},
   "outputs": [],
   "source": [
    "from typing import Sequence, Callable, Tuple\n",
    "import flax\n",
    "from flax import linen as nn\n",
    "from flax import struct\n",
    "\n",
    "\n",
    "class ExplicitMLP(nn.Module):\n",
    "    features: Sequence[int]\n",
    "\n",
    "    def setup(self):\n",
    "        # we automatically know what to do with lists, dicts of submodules\n",
    "        self.layers = [nn.Dense(feat) for feat in self.features]\n",
    "        # for single submodules, we would just write:\n",
    "        # self.layer1 = nn.Dense(self, feat1)\n",
    "\n",
    "    def __call__(self, inputs):\n",
    "        x = inputs\n",
    "        for i, lyr in enumerate(self.layers):\n",
    "            x = lyr(x)\n",
    "            if i != len(self.layers) - 1:\n",
    "                x = nn.relu(x)\n",
    "        return x\n",
    "\n",
    "\n",
    "@struct.dataclass\n",
    "class ConditionalModel:\n",
    "    params: dict\n",
    "    model: Callable = struct.field(pytree_node=False)\n",
    "\n",
    "    def forward(self, inputs) -> Tuple[Array, Array]:\n",
    "        # forward pass for params\n",
    "        outputs = self.model.apply(self.params, inputs)\n",
    "\n",
    "        return outputs"
   ]
  },
  {
   "cell_type": "code",
   "execution_count": 425,
   "id": "indirect-collapse",
   "metadata": {},
   "outputs": [],
   "source": [
    "from distrax._src.distributions.normal import Normal\n",
    "\n",
    "# create model\n",
    "input_features = X_init.shape[1]\n",
    "# model = nn.Dense(features=input_features * 2)\n",
    "model = ExplicitMLP(features=[40, 20, 10, 1])\n",
    "# create dummy variable\n",
    "rng, model_rng = jax.random.split(KEY, 2)\n",
    "params = model.init(model_rng, X_init)"
   ]
  },
  {
   "cell_type": "code",
   "execution_count": 426,
   "id": "friendly-murder",
   "metadata": {},
   "outputs": [],
   "source": [
    "# initialize conditional model\n",
    "cond_model = ConditionalModel(params=params, model=model)\n",
    "\n",
    "# y_mu, y_std = model.forward(X_init)\n",
    "y_mu = cond_model.forward(X_init)"
   ]
  },
  {
   "cell_type": "code",
   "execution_count": 427,
   "id": "included-latvia",
   "metadata": {},
   "outputs": [
    {
     "data": {
      "text/plain": [
       "<matplotlib.collections.PathCollection at 0x7fbac0564880>"
      ]
     },
     "execution_count": 427,
     "metadata": {},
     "output_type": "execute_result"
    },
    {
     "data": {
      "image/png": "[encoded data removed]",
      "text/plain": [
       "<Figure size 432x288 with 1 Axes>"
      ]
     },
     "metadata": {
      "needs_background": "light"
     },
     "output_type": "display_data"
    }
   ],
   "source": [
    "plt.scatter(X_init, y_mu)"
   ]
  },
  {
   "cell_type": "markdown",
   "id": "previous-april",
   "metadata": {},
   "source": [
    "#### Loss Functions"
   ]
  },
  {
   "cell_type": "code",
   "execution_count": 428,
   "id": "compliant-broadcast",
   "metadata": {},
   "outputs": [],
   "source": [
    "from chex import dataclass\n",
    "\n",
    "\n",
    "def mse_loss(y_true, y_pred):\n",
    "\n",
    "    loss = jnp.mean((y_true - y_pred) ** 2)\n",
    "\n",
    "    return loss\n",
    "\n",
    "\n",
    "def loss_fn(model, batch: Batch) -> Array:\n",
    "\n",
    "    inputs, outputs = prepare_data(batch)\n",
    "\n",
    "    # negative log likelihood loss\n",
    "    y_pred = model.forward(inputs)\n",
    "\n",
    "    loss = mse_loss(outputs, y_pred)\n",
    "\n",
    "    return loss\n",
    "\n",
    "\n",
    "@jax.jit\n",
    "def eval_fn(model, batch: Batch) -> Array:\n",
    "\n",
    "    inputs, outputs = prepare_data(batch)\n",
    "\n",
    "    # negative log likelihood loss\n",
    "    y_pred = model.forward(inputs)\n",
    "\n",
    "    loss = mse_loss(outputs, y_pred)\n",
    "\n",
    "    return loss"
   ]
  },
  {
   "cell_type": "code",
   "execution_count": 429,
   "id": "hired-tractor",
   "metadata": {},
   "outputs": [
    {
     "name": "stdout",
     "output_type": "stream",
     "text": [
      "Initial NLL Loss (Train): 46.6972\n",
      "Initial NLL Loss (Train): 40.4017\n"
     ]
    }
   ],
   "source": [
    "init_ds = load_dataset(n_init_samples, n_init_samples, 123)\n",
    "\n",
    "nll_loss = loss_fn(cond_model, next(init_ds))\n",
    "print(f\"Initial NLL Loss (Train): {nll_loss:.4f}\")\n",
    "\n",
    "\n",
    "nll_loss = eval_fn(cond_model, next(init_ds))\n",
    "print(f\"Initial NLL Loss (Train): {nll_loss:.4f}\")"
   ]
  },
  {
   "cell_type": "markdown",
   "id": "allied-excitement",
   "metadata": {},
   "source": [
    "#### Optimizer"
   ]
  },
  {
   "cell_type": "code",
   "execution_count": 430,
   "id": "necessary-lender",
   "metadata": {},
   "outputs": [],
   "source": [
    "from rbig_jax.training.parametric import init_optimizer\n",
    "\n",
    "# optimizer params\n",
    "\n",
    "eval_frequency = 50\n",
    "learning_rate = 1e-3\n",
    "\n",
    "n_epochs = 5_000\n",
    "# initialize optimizer\n",
    "optimizer = init_optimizer(\n",
    "    \"adam\",\n",
    "    n_epochs=n_epochs,\n",
    "    lr=learning_rate,\n",
    "    cosine_decay_steps=n_epochs,\n",
    "    warmup=None,\n",
    "    gradient_clip=15.0,\n",
    "    alpha=1e-2,\n",
    ")\n",
    "# intialize optimizer state\n",
    "opt_state = optimizer.init(cond_model)"
   ]
  },
  {
   "cell_type": "markdown",
   "id": "north-coordination",
   "metadata": {},
   "source": [
    "#### Train Step"
   ]
  },
  {
   "cell_type": "code",
   "execution_count": 431,
   "id": "placed-diversity",
   "metadata": {},
   "outputs": [],
   "source": [
    "from typing import Tuple, Any\n",
    "import optax\n",
    "\n",
    "OptState = Any\n",
    "\n",
    "\n",
    "@jax.jit\n",
    "def update(\n",
    "    params: dataclass, opt_state: OptState, batch: Batch\n",
    ") -> Tuple[dataclass, OptState]:\n",
    "    \"\"\"Single SGD update step.\"\"\"\n",
    "    # calculate the loss AND the gradients\n",
    "    loss, grads = jax.value_and_grad(loss_fn)(params, batch)\n",
    "\n",
    "    # update the gradients\n",
    "    updates, new_opt_state = optimizer.update(grads, opt_state)\n",
    "\n",
    "    # update the parameters\n",
    "    new_params = optax.apply_updates(params, updates)\n",
    "\n",
    "    # return loss AND new opt_state\n",
    "    return new_params, new_opt_state, loss"
   ]
  },
  {
   "cell_type": "markdown",
   "id": "educational-excuse",
   "metadata": {},
   "source": [
    "#### Train Lopp"
   ]
  },
  {
   "cell_type": "code",
   "execution_count": 432,
   "id": "rental-recovery",
   "metadata": {},
   "outputs": [],
   "source": [
    "train_ds = load_dataset(n_train, 128, 123)\n",
    "valid_ds = load_dataset(2_000, 128, 123 + 100)\n",
    "\n",
    "\n",
    "metrics = {\n",
    "    \"train_step\": list(),\n",
    "    \"train_loss\": list(),\n",
    "    \"valid_step\": list(),\n",
    "    \"valid_loss\": list(),\n",
    "}\n",
    "\n",
    "\n",
    "eval_loss = 0.0"
   ]
  },
  {
   "cell_type": "code",
   "execution_count": 433,
   "id": "ongoing-annotation",
   "metadata": {},
   "outputs": [
    {
     "name": "stderr",
     "output_type": "stream",
     "text": [
      "Train Loss: 9.0161 | Valid Loss: 5.7948: 100%|██████████| 5000/5000 [00:09<00:00, 554.20it/s]  \n"
     ]
    }
   ],
   "source": [
    "# %%wandb\n",
    "\n",
    "import tqdm\n",
    "\n",
    "\n",
    "with tqdm.trange(n_epochs) as pbar:\n",
    "    for step in pbar:\n",
    "        cond_model, opt_state, loss = update(cond_model, opt_state, next(train_ds))\n",
    "\n",
    "        pbar.set_description(f\"Train Loss: {loss:.4f} | Valid Loss: {eval_loss:.4f}\")\n",
    "        #         wandb.log({\"train_loss\": float(loss), \"training_step\": step})\n",
    "        metrics[\"train_step\"].append(step)\n",
    "        metrics[\"train_loss\"].append(loss)\n",
    "\n",
    "        if step % eval_frequency == 0:\n",
    "            eval_loss = eval_fn(cond_model, next(valid_ds))\n",
    "\n",
    "            pbar.set_description(\n",
    "                f\"Train Loss: {loss:.4f} | Valid Loss: {eval_loss:.4f}\"\n",
    "            )\n",
    "            #             wandb.log({\"validation_loss\": float(eval_loss), \"training_step\": step})\n",
    "            metrics[\"valid_step\"].append(step)\n",
    "            metrics[\"valid_loss\"].append(eval_loss)"
   ]
  },
  {
   "cell_type": "markdown",
   "id": "uniform-scanner",
   "metadata": {},
   "source": [
    "### Results"
   ]
  },
  {
   "cell_type": "markdown",
   "id": "personal-drove",
   "metadata": {},
   "source": [
    "#### Losses"
   ]
  },
  {
   "cell_type": "code",
   "execution_count": 434,
   "id": "final-edwards",
   "metadata": {},
   "outputs": [
    {
     "data": {
      "image/png": "[encoded data removed]",
      "text/plain": [
       "<Figure size 432x288 with 1 Axes>"
      ]
     },
     "metadata": {
      "needs_background": "light"
     },
     "output_type": "display_data"
    }
   ],
   "source": [
    "fig, ax = plt.subplots()\n",
    "ax.plot(\n",
    "    metrics[\"train_step\"], metrics[\"train_loss\"], label=\"Training Loss\", color=\"blue\"\n",
    ")\n",
    "ax.plot(\n",
    "    metrics[\"valid_step\"],\n",
    "    metrics[\"valid_loss\"],\n",
    "    label=\"Validation Loss\",\n",
    "    color=\"orange\",\n",
    ")\n",
    "ax.set(\n",
    "    xlabel=\"Iterations\", ylabel=\"Mean Squared Error\",\n",
    ")\n",
    "plt.legend()\n",
    "plt.tight_layout()\n",
    "plt.show()"
   ]
  },
  {
   "cell_type": "markdown",
   "id": "regulation-yorkshire",
   "metadata": {},
   "source": [
    "#### Predictions"
   ]
  },
  {
   "cell_type": "code",
   "execution_count": 449,
   "id": "suitable-above",
   "metadata": {},
   "outputs": [],
   "source": [
    "n_plot_samples = 1_000\n",
    "rng = np.random.RandomState(42)\n",
    "# X_plot = np.sort(rng.randn(n_plot_samples, 1))\n",
    "X_plot = np.linspace(-2.5, 2.5, n_plot_samples)[:, None]\n",
    "plot_ds = load_dataset(n_init_samples, n_init_samples, 123)\n",
    "\n",
    "# demo batch\n",
    "X_data, Y_data = next(plot_ds)"
   ]
  },
  {
   "cell_type": "code",
   "execution_count": 450,
   "id": "compatible-brick",
   "metadata": {},
   "outputs": [],
   "source": [
    "y_mu = cond_model.forward(X_plot)"
   ]
  },
  {
   "cell_type": "code",
   "execution_count": 451,
   "id": "designing-import",
   "metadata": {},
   "outputs": [
    {
     "data": {
      "image/png": "[encoded data removed]",
      "text/plain": [
       "<Figure size 432x288 with 1 Axes>"
      ]
     },
     "metadata": {
      "needs_background": "light"
     },
     "output_type": "display_data"
    }
   ],
   "source": [
    "fig, ax = plt.subplots()\n",
    "ax.plot(X_plot, y_mu, color=\"orange\")\n",
    "ax.scatter(X_data, Y_data, s=10)\n",
    "plt.show()"
   ]
  },
  {
   "cell_type": "markdown",
   "id": "weighted-mixer",
   "metadata": {},
   "source": [
    "## Mean + Variance Model"
   ]
  },
  {
   "cell_type": "code",
   "execution_count": 452,
   "id": "professional-cemetery",
   "metadata": {},
   "outputs": [],
   "source": [
    "const = jnp.log(jnp.expm1(1.0))\n",
    "\n",
    "\n",
    "@struct.dataclass\n",
    "class ConditionalModel:\n",
    "    params: dict\n",
    "    model: Callable = struct.field(pytree_node=False)\n",
    "\n",
    "    def forward(self, inputs) -> Tuple[Array, Array]:\n",
    "        # forward pass for params\n",
    "        outputs = self.model.apply(self.params, inputs)\n",
    "        # split params\n",
    "        split = outputs.shape[1] // 2\n",
    "\n",
    "        # compute means and log stds\n",
    "        means = outputs[..., :split]\n",
    "        log_stds = outputs[..., split:]\n",
    "\n",
    "        dist = LogStddevNormal(loc=means, log_scale=log_stds)\n",
    "\n",
    "        return dist"
   ]
  },
  {
   "cell_type": "code",
   "execution_count": 453,
   "id": "ideal-evanescence",
   "metadata": {},
   "outputs": [],
   "source": [
    "from distrax._src.distributions.normal import Normal\n",
    "\n",
    "# create model\n",
    "input_features = X_init.shape[1]\n",
    "# model = nn.Dense(features=input_features * 2)\n",
    "model = ExplicitMLP(features=[40, 20, 10, 2])\n",
    "# create dummy variable\n",
    "rng, model_rng = jax.random.split(KEY, 2)\n",
    "params = model.init(model_rng, X_init)"
   ]
  },
  {
   "cell_type": "code",
   "execution_count": 454,
   "id": "spoken-prince",
   "metadata": {},
   "outputs": [
    {
     "data": {
      "text/plain": [
       "((1000, 1), (1000, 1))"
      ]
     },
     "execution_count": 454,
     "metadata": {},
     "output_type": "execute_result"
    }
   ],
   "source": [
    "# initialize conditional model\n",
    "cond_model = ConditionalModel(params=params, model=model)\n",
    "\n",
    "# forward pass\n",
    "y_dist = cond_model.forward(X_init)\n",
    "y_dist.mean().shape, y_dist.stddev().shape"
   ]
  },
  {
   "cell_type": "code",
   "execution_count": 455,
   "id": "latter-mexico",
   "metadata": {},
   "outputs": [],
   "source": [
    "# y_mu, y_std = model.forward(X_init)\n",
    "y_dist = cond_model.forward(X_init)"
   ]
  },
  {
   "cell_type": "code",
   "execution_count": 456,
   "id": "commercial-groove",
   "metadata": {},
   "outputs": [
    {
     "data": {
      "text/plain": [
       "<matplotlib.collections.PathCollection at 0x7fbaa079c6a0>"
      ]
     },
     "execution_count": 456,
     "metadata": {},
     "output_type": "execute_result"
    },
    {
     "data": {
      "image/png": "[encoded data removed]",
      "text/plain": [
       "<Figure size 432x288 with 1 Axes>"
      ]
     },
     "metadata": {
      "needs_background": "light"
     },
     "output_type": "display_data"
    }
   ],
   "source": [
    "plt.scatter(X_init, y_dist.mean())\n",
    "plt.scatter(X_init, y_dist.mean() + 1.96 * y_dist.stddev())\n",
    "plt.scatter(X_init, y_dist.mean() - 1.96 * y_dist.stddev())"
   ]
  },
  {
   "cell_type": "markdown",
   "id": "superior-consumer",
   "metadata": {},
   "source": [
    "### Loss Function"
   ]
  },
  {
   "cell_type": "code",
   "execution_count": 457,
   "id": "frank-sustainability",
   "metadata": {},
   "outputs": [],
   "source": [
    "from chex import dataclass\n",
    "from distrax._src.distributions.log_stddev_normal import LogStddevNormal\n",
    "\n",
    "\n",
    "def nll_loss(y_mu, y_std, y_true):\n",
    "\n",
    "    dist = LogStddevNormal(loc=y_mu, log_scale=y_std)\n",
    "\n",
    "    nll = dist.log_prob(y_true).sum(axis=1)\n",
    "\n",
    "    return -jnp.mean(nll)\n",
    "\n",
    "\n",
    "def loss_fn(model, batch: Batch) -> Array:\n",
    "\n",
    "    inputs, outputs = prepare_data(batch)\n",
    "\n",
    "    y_dist = model.forward(inputs)\n",
    "\n",
    "    nll = y_dist.log_prob(outputs).sum(axis=1)\n",
    "\n",
    "    return -jnp.mean(nll, axis=0)\n",
    "\n",
    "\n",
    "@jax.jit\n",
    "def eval_fn(model, batch: Batch) -> Array:\n",
    "\n",
    "    inputs, outputs = prepare_data(batch)\n",
    "\n",
    "    y_dist = model.forward(inputs)\n",
    "\n",
    "    nll = y_dist.log_prob(outputs).sum(axis=1)\n",
    "\n",
    "    return -jnp.mean(nll, axis=0)"
   ]
  },
  {
   "cell_type": "code",
   "execution_count": 458,
   "id": "descending-seating",
   "metadata": {},
   "outputs": [
    {
     "name": "stdout",
     "output_type": "stream",
     "text": [
      "Initial NLL Loss (Train): 500.5966\n",
      "Initial NLL Loss (Train): 491.9180\n"
     ]
    }
   ],
   "source": [
    "init_ds = load_dataset(n_init_samples, n_init_samples, 123)\n",
    "\n",
    "nll_loss = loss_fn(cond_model, next(init_ds))\n",
    "print(f\"Initial NLL Loss (Train): {nll_loss:.4f}\")\n",
    "\n",
    "init_ds = load_dataset(n_init_samples, n_init_samples, 123)\n",
    "nll_loss = eval_fn(cond_model, next(init_ds))\n",
    "print(f\"Initial NLL Loss (Train): {nll_loss:.4f}\")"
   ]
  },
  {
   "cell_type": "markdown",
   "id": "regulation-paper",
   "metadata": {},
   "source": [
    "### Optimizer"
   ]
  },
  {
   "cell_type": "code",
   "execution_count": 459,
   "id": "alternate-mapping",
   "metadata": {},
   "outputs": [],
   "source": [
    "from rbig_jax.training.parametric import init_optimizer\n",
    "\n",
    "# optimizer params\n",
    "\n",
    "eval_frequency = 50\n",
    "learning_rate = 1e-3\n",
    "\n",
    "n_epochs = 10_000\n",
    "# initialize optimizer\n",
    "optimizer = init_optimizer(\n",
    "    \"adam\",\n",
    "    n_epochs=n_epochs,\n",
    "    lr=learning_rate,\n",
    "    cosine_decay_steps=n_epochs,\n",
    "    warmup=None,\n",
    "    gradient_clip=15.0,\n",
    "    alpha=1e-2,\n",
    ")\n",
    "# intialize optimizer state\n",
    "opt_state = optimizer.init(cond_model)"
   ]
  },
  {
   "cell_type": "markdown",
   "id": "billion-distribution",
   "metadata": {},
   "source": [
    "### Train Loop"
   ]
  },
  {
   "cell_type": "code",
   "execution_count": 460,
   "id": "found-glenn",
   "metadata": {},
   "outputs": [],
   "source": [
    "train_ds = load_dataset(n_train, 128, 123)\n",
    "valid_ds = load_dataset(2_000, 128, 123 + 100)\n",
    "\n",
    "\n",
    "metrics = {\n",
    "    \"train_step\": list(),\n",
    "    \"train_loss\": list(),\n",
    "    \"valid_step\": list(),\n",
    "    \"valid_loss\": list(),\n",
    "}\n",
    "\n",
    "\n",
    "eval_loss = 0.0"
   ]
  },
  {
   "cell_type": "code",
   "execution_count": 461,
   "id": "hazardous-registration",
   "metadata": {},
   "outputs": [
    {
     "name": "stderr",
     "output_type": "stream",
     "text": [
      "Train Loss: 0.7367 | Valid Loss: 0.6908: 100%|██████████| 10000/10000 [00:16<00:00, 603.07it/s] \n"
     ]
    }
   ],
   "source": [
    "# %%wandb\n",
    "\n",
    "import tqdm\n",
    "\n",
    "\n",
    "with tqdm.trange(n_epochs) as pbar:\n",
    "    for step in pbar:\n",
    "        cond_model, opt_state, loss = update(cond_model, opt_state, next(train_ds))\n",
    "\n",
    "        pbar.set_description(f\"Train Loss: {loss:.4f} | Valid Loss: {eval_loss:.4f}\")\n",
    "        #         wandb.log({\"train_loss\": float(loss), \"training_step\": step})\n",
    "        metrics[\"train_step\"].append(step)\n",
    "        metrics[\"train_loss\"].append(loss)\n",
    "\n",
    "        if step % eval_frequency == 0:\n",
    "            eval_loss = eval_fn(cond_model, next(valid_ds))\n",
    "\n",
    "            pbar.set_description(\n",
    "                f\"Train Loss: {loss:.4f} | Valid Loss: {eval_loss:.4f}\"\n",
    "            )\n",
    "            #             wandb.log({\"validation_loss\": float(eval_loss), \"training_step\": step})\n",
    "            metrics[\"valid_step\"].append(step)\n",
    "            metrics[\"valid_loss\"].append(eval_loss)"
   ]
  },
  {
   "cell_type": "markdown",
   "id": "removed-supply",
   "metadata": {},
   "source": [
    "### Results"
   ]
  },
  {
   "cell_type": "markdown",
   "id": "norwegian-silence",
   "metadata": {},
   "source": [
    "#### Losses"
   ]
  },
  {
   "cell_type": "code",
   "execution_count": 462,
   "id": "municipal-deadline",
   "metadata": {},
   "outputs": [
    {
     "data": {
      "image/png": "[encoded data removed]",
      "text/plain": [
       "<Figure size 432x288 with 1 Axes>"
      ]
     },
     "metadata": {
      "needs_background": "light"
     },
     "output_type": "display_data"
    }
   ],
   "source": [
    "fig, ax = plt.subplots()\n",
    "ax.plot(\n",
    "    metrics[\"train_step\"], metrics[\"train_loss\"], label=\"Training Loss\", color=\"blue\"\n",
    ")\n",
    "ax.plot(\n",
    "    metrics[\"valid_step\"],\n",
    "    metrics[\"valid_loss\"],\n",
    "    label=\"Validation Loss\",\n",
    "    color=\"orange\",\n",
    ")\n",
    "ax.set(\n",
    "    xlabel=\"Iterations\", ylabel=\"Negative Log-Likelihood\",\n",
    ")\n",
    "plt.legend()\n",
    "plt.tight_layout()\n",
    "plt.show()"
   ]
  },
  {
   "cell_type": "markdown",
   "id": "racial-antibody",
   "metadata": {},
   "source": [
    "#### Predictions"
   ]
  },
  {
   "cell_type": "code",
   "execution_count": 463,
   "id": "offshore-queensland",
   "metadata": {},
   "outputs": [],
   "source": [
    "n_plot_samples = 1_000\n",
    "rng = np.random.RandomState(42)\n",
    "# X_plot = np.sort(rng.randn(n_plot_samples, 1))\n",
    "X_plot = np.linspace(-2.5, 2.5, n_plot_samples)[:, None]\n",
    "plot_ds = load_dataset(n_init_samples, n_init_samples, 123)\n",
    "\n",
    "# demo batch\n",
    "X_data, Y_data = next(plot_ds)"
   ]
  },
  {
   "cell_type": "code",
   "execution_count": 464,
   "id": "timely-cheat",
   "metadata": {},
   "outputs": [],
   "source": [
    "y_dist = cond_model.forward(X_plot)"
   ]
  },
  {
   "cell_type": "code",
   "execution_count": 465,
   "id": "premium-original",
   "metadata": {},
   "outputs": [
    {
     "data": {
      "image/png": "[encoded data removed]",
      "text/plain": [
       "<Figure size 432x288 with 1 Axes>"
      ]
     },
     "metadata": {
      "needs_background": "light"
     },
     "output_type": "display_data"
    }
   ],
   "source": [
    "fig, ax = plt.subplots()\n",
    "plt.plot(X_plot, y_dist.mean(), color=\"orange\")\n",
    "plt.plot(X_plot, y_dist.mean() + 1.96 * y_dist.stddev(), color=\"orange\")\n",
    "plt.plot(X_plot, y_dist.mean() - 1.96 * y_dist.stddev(), color=\"orange\")\n",
    "ax.scatter(X_data, Y_data, s=10)\n",
    "plt.show()"
   ]
  },
  {
   "cell_type": "code",
   "execution_count": 466,
   "id": "metropolitan-piece",
   "metadata": {},
   "outputs": [
    {
     "data": {
      "text/plain": [
       "['hetero_nn.pickle']"
      ]
     },
     "execution_count": 466,
     "metadata": {},
     "output_type": "execute_result"
    }
   ],
   "source": [
    "import joblib\n",
    "\n",
    "joblib.dump(cond_model, \"hetero_nn.pickle\")"
   ]
  },
  {
   "cell_type": "code",
   "execution_count": 467,
   "id": "empty-meaning",
   "metadata": {},
   "outputs": [],
   "source": [
    "hetero_nn = joblib.load(\"hetero_nn.pickle\")"
   ]
  },
  {
   "cell_type": "code",
   "execution_count": null,
   "id": "timely-newport",
   "metadata": {},
   "outputs": [],
   "source": []
  },
  {
   "cell_type": "markdown",
   "id": "thermal-genetics",
   "metadata": {},
   "source": [
    "## Heteroscedastic Distribution"
   ]
  },
  {
   "cell_type": "code",
   "execution_count": 468,
   "id": "pending-graphics",
   "metadata": {},
   "outputs": [],
   "source": [
    "def f(X, seed=42):\n",
    "    loc = jnp.sin(X.ravel())\n",
    "    scale = jnp.exp(jnp.cos(X.ravel()))\n",
    "    return np.random.normal(loc, scale)"
   ]
  },
  {
   "cell_type": "code",
   "execution_count": 472,
   "id": "collectible-theorem",
   "metadata": {},
   "outputs": [],
   "source": [
    "X = jnp.linspace(0, 4 * jnp.pi, 10_000)[:, None]\n",
    "y = f(X)"
   ]
  },
  {
   "cell_type": "code",
   "execution_count": 473,
   "id": "requested-modem",
   "metadata": {},
   "outputs": [
    {
     "data": {
      "text/plain": [
       "((10000, 1), (10000,))"
      ]
     },
     "execution_count": 473,
     "metadata": {},
     "output_type": "execute_result"
    }
   ],
   "source": [
    "X.shape, y.shape"
   ]
  },
  {
   "cell_type": "code",
   "execution_count": 474,
   "id": "czech-filename",
   "metadata": {},
   "outputs": [
    {
     "data": {
      "text/plain": [
       "<matplotlib.collections.PathCollection at 0x7fbaa03b42b0>"
      ]
     },
     "execution_count": 474,
     "metadata": {},
     "output_type": "execute_result"
    },
    {
     "data": {
      "image/png": "[encoded data removed]",
      "text/plain": [
       "<Figure size 432x288 with 1 Axes>"
      ]
     },
     "metadata": {
      "needs_background": "light"
     },
     "output_type": "display_data"
    }
   ],
   "source": [
    "plt.scatter(X, y)"
   ]
  },
  {
   "cell_type": "code",
   "execution_count": null,
   "id": "intensive-helping",
   "metadata": {},
   "outputs": [],
   "source": [
    "# initialize conditional model\n",
    "cond_model = ConditionalModel(params=params, model=model)\n",
    "\n",
    "# intialize optimizer state\n",
    "opt_state = optimizer.init(cond_model)"
   ]
  },
  {
   "cell_type": "code",
   "execution_count": null,
   "id": "explicit-mineral",
   "metadata": {},
   "outputs": [],
   "source": [
    "train_ds = load_dataset(n_train, 128, 123)\n",
    "valid_ds = load_dataset(2_000, 128, 123 + 100)\n",
    "\n",
    "\n",
    "metrics = {\n",
    "    \"train_step\": list(),\n",
    "    \"train_loss\": list(),\n",
    "    \"valid_step\": list(),\n",
    "    \"valid_loss\": list(),\n",
    "}\n",
    "\n",
    "\n",
    "eval_loss = 0.0"
   ]
  },
  {
   "cell_type": "code",
   "execution_count": null,
   "id": "contrary-afghanistan",
   "metadata": {},
   "outputs": [],
   "source": [
    "with tqdm.trange(n_epochs) as pbar:\n",
    "    for step in pbar:\n",
    "        cond_model, opt_state, loss = update(cond_model, opt_state, next(train_ds))\n",
    "\n",
    "        pbar.set_description(f\"Train Loss: {loss:.4f} | Valid Loss: {eval_loss:.4f}\")\n",
    "        #         wandb.log({\"train_loss\": float(loss), \"training_step\": step})\n",
    "        metrics[\"train_step\"].append(step)\n",
    "        metrics[\"train_loss\"].append(loss)\n",
    "\n",
    "        if step % eval_frequency == 0:\n",
    "            eval_loss = eval_fn(cond_model, next(valid_ds))\n",
    "\n",
    "            pbar.set_description(\n",
    "                f\"Train Loss: {loss:.4f} | Valid Loss: {eval_loss:.4f}\"\n",
    "            )\n",
    "            #             wandb.log({\"validation_loss\": float(eval_loss), \"training_step\": step})\n",
    "            metrics[\"valid_step\"].append(step)\n",
    "            metrics[\"valid_loss\"].append(eval_loss)"
   ]
  },
  {
   "cell_type": "code",
   "execution_count": null,
   "id": "several-impression",
   "metadata": {},
   "outputs": [],
   "source": []
  },
  {
   "cell_type": "code",
   "execution_count": 257,
   "id": "guilty-saturday",
   "metadata": {},
   "outputs": [
    {
     "name": "stderr",
     "output_type": "stream",
     "text": [
      "/home/emmanuel/.conda/envs/jax_py38/lib/python3.8/site-packages/jax/_src/numpy/lax_numpy.py:5256: UserWarning: Explicitly requested dtype <class 'jax._src.numpy.lax_numpy.int64'> requested in astype is not available, and will be truncated to dtype int32. To enable more dtypes, set the jax_enable_x64 configuration option or the JAX_ENABLE_X64 shell environment variable. See https://github.com/google/jax#current-gotchas for more.\n",
      "  lax._check_user_dtype_supported(dtype, \"astype\")\n"
     ]
    }
   ],
   "source": [
    "from distrax._src.distributions.categorical import Categorical\n",
    "from distrax._src.distributions.mixture_same_family import MixtureSameFamily\n",
    "from distrax._src.distributions.bernoulli import Bernoulli\n",
    "from distrax._src.distributions.uniform import Uniform\n",
    "\n",
    "tfd = tfp.distributions\n",
    "logits = jnp.array([0.33, 0.33, 0.33])\n",
    "probs = jax.nn.softmax(logits, axis=-1)\n",
    "x_cat_dist = Categorical(probs=probs)\n",
    "norm_dist = Normal(loc=[-4.0, 0.0, 4.0], scale=[0.4, 0.6, 0.4])\n",
    "\n",
    "mix_dist = MixtureSameFamily(x_cat_dist, norm_dist)"
   ]
  },
  {
   "cell_type": "code",
   "execution_count": 301,
   "id": "respective-engineering",
   "metadata": {},
   "outputs": [],
   "source": [
    "n_samples = 1_000\n",
    "\n",
    "X_samples = mix_dist.sample(seed=123, sample_shape=(n_samples,))"
   ]
  },
  {
   "cell_type": "code",
   "execution_count": 370,
   "id": "recreational-vegetarian",
   "metadata": {},
   "outputs": [
    {
     "data": {
      "image/png": "[encoded data removed]",
      "text/plain": [
       "<Figure size 432x288 with 1 Axes>"
      ]
     },
     "metadata": {
      "needs_background": "light"
     },
     "output_type": "display_data"
    }
   ],
   "source": [
    "fig, ax = plt.subplots()\n",
    "\n",
    "ax.hist(X_samples, bins=100, density=True)\n",
    "\n",
    "plt.show()"
   ]
  },
  {
   "cell_type": "code",
   "execution_count": 375,
   "id": "characteristic-andrew",
   "metadata": {},
   "outputs": [],
   "source": [
    "y = X_samples ** 3"
   ]
  },
  {
   "cell_type": "code",
   "execution_count": 376,
   "id": "bronze-virgin",
   "metadata": {},
   "outputs": [
    {
     "data": {
      "text/plain": [
       "<matplotlib.collections.PathCollection at 0x7fbb046d2550>"
      ]
     },
     "execution_count": 376,
     "metadata": {},
     "output_type": "execute_result"
    },
    {
     "data": {
      "image/png": "[encoded data removed]",
      "text/plain": [
       "<Figure size 432x288 with 1 Axes>"
      ]
     },
     "metadata": {
      "needs_background": "light"
     },
     "output_type": "display_data"
    }
   ],
   "source": [
    "plt.scatter(X_samples, y)"
   ]
  },
  {
   "cell_type": "code",
   "execution_count": 368,
   "id": "proprietary-blair",
   "metadata": {
    "tags": []
   },
   "outputs": [
    {
     "name": "stdout",
     "output_type": "stream",
     "text": [
      "-9.671867 9.700486\n"
     ]
    }
   ],
   "source": [
    "noise_norm_1 = Normal(0, 3)\n",
    "noise_cat_dist_2 = Uniform(low=-2.0, high=2.0)\n",
    "noise_norm_2 = Normal(0, 20)\n",
    "\n",
    "\n",
    "noise = noise_cat_dist_1.sample(seed=42, sample_shape=(n_samples,))\n",
    "y = X_samples ** 3\n",
    "# outskirts\n",
    "noise_samples = noise_norm_1.sample(seed=42, sample_shape=(n_samples,))\n",
    "print(noise_samples.min(), noise_samples.max())\n",
    "y += 2 * noise_samples\n",
    "# Middle\n",
    "noise_samples = noise_norm_2.sample(seed=42, sample_shape=(n_samples,))\n",
    "y += noise_cat_dist_2.prob(X_samples) * 5 * noise_samples"
   ]
  },
  {
   "cell_type": "code",
   "execution_count": 369,
   "id": "confirmed-upgrade",
   "metadata": {},
   "outputs": [
    {
     "data": {
      "text/plain": [
       "<matplotlib.collections.PathCollection at 0x7fbb741bbb50>"
      ]
     },
     "execution_count": 369,
     "metadata": {},
     "output_type": "execute_result"
    },
    {
     "data": {
      "image/png": "[encoded data removed]",
      "text/plain": [
       "<Figure size 432x288 with 1 Axes>"
      ]
     },
     "metadata": {
      "needs_background": "light"
     },
     "output_type": "display_data"
    }
   ],
   "source": [
    "plt.scatter(X_samples, y, s=10)"
   ]
  },
  {
   "cell_type": "code",
   "execution_count": null,
   "id": "floating-density",
   "metadata": {},
   "outputs": [],
   "source": []
  }
 ],
 "metadata": {
  "kernelspec": {
   "display_name": "Python [conda env:.conda-jax_py38]",
   "language": "python",
   "name": "conda-env-.conda-jax_py38-py"
  },
  "language_info": {
   "codemirror_mode": {
    "name": "ipython",
    "version": 3
   },
   "file_extension": ".py",
   "mimetype": "text/x-python",
   "name": "python",
   "nbconvert_exporter": "python",
   "pygments_lexer": "ipython3",
   "version": "3.8.5"
  }
 },
 "nbformat": 4,
 "nbformat_minor": 5
}
