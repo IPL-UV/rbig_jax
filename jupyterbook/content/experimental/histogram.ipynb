{
 "cells": [
  {
   "cell_type": "markdown",
   "metadata": {},
   "source": [
    "# Univariate Gaussianization"
   ]
  },
  {
   "cell_type": "code",
   "execution_count": 3,
   "metadata": {},
   "outputs": [],
   "source": [
    "#@title Install Packages\n",
    "try:\n",
    "    import sys, os\n",
    "    from pyprojroot import here\n",
    "\n",
    "    # spyder up to find the root\n",
    "    root = here(project_files=[\".here\", \"setup.py\"])\n",
    "\n",
    "    # append to path\n",
    "    sys.path.append(str(root))\n",
    "except ModuleNotFoundError:\n",
    "    import os\n",
    "    os.system(\"pip install objax chex\")\n",
    "    os.system(\"pip install git+https://github.com/IPL-UV/rbig_jax.git#egg=rbig_jax\")"
   ]
  },
  {
   "cell_type": "code",
   "execution_count": 4,
   "metadata": {},
   "outputs": [
    {
     "name": "stdout",
     "output_type": "stream",
     "text": [
      "The autoreload extension is already loaded. To reload it, use:\n",
      "  %reload_ext autoreload\n"
     ]
    }
   ],
   "source": [
    "# jax packages\n",
    "import jax\n",
    "import jax.numpy as jnp\n",
    "from jax.config import config\n",
    "import chex\n",
    "config.update(\"jax_enable_x64\", False)\n",
    "\n",
    "import numpy as np\n",
    "from functools import partial\n",
    "\n",
    "# library parameters\n",
    "from rbig_jax.data import get_classic\n",
    "from rbig_jax.plots import plot_info_loss, plot_joint, plot_joint_prob\n",
    "\n",
    "# logging\n",
    "import tqdm\n",
    "import wandb\n",
    "\n",
    "# plot methods\n",
    "import matplotlib.pyplot as plt\n",
    "import seaborn as sns\n",
    "sns.reset_defaults()\n",
    "sns.set_context(context=\"talk\", font_scale=0.7)\n",
    "\n",
    "%matplotlib inline\n",
    "%load_ext autoreload\n",
    "%autoreload 2"
   ]
  },
  {
   "cell_type": "code",
   "execution_count": 5,
   "metadata": {},
   "outputs": [],
   "source": [
    "# get data\n",
    "n_samples = 1_000\n",
    "n_features = 1\n",
    "data = get_classic(n_samples)[:, 1]"
   ]
  },
  {
   "cell_type": "markdown",
   "metadata": {},
   "source": [
    "## Initialization\n",
    "\n",
    "First we need to initialize our RBIG method with some parameters. For example, which marginal gaussianization method, what precision do we want, and what rotation method do we want.\n",
    "\n",
    "* `method` - the method used to marginally transform the data. We have histogram or kde currently implemented\n",
    "* `support_extension` - this is the amount we want to extend the support for our marginal distributions. Higher values indicate higher\n",
    "* `precision` - we use interpolation because it is much faster. So the CDF, PDF and PPF are interpolation schemes. This value will allow one to have more \"precision\" for the estimated quantities but it will be slower."
   ]
  },
  {
   "cell_type": "code",
   "execution_count": 6,
   "metadata": {},
   "outputs": [
    {
     "name": "stderr",
     "output_type": "stream",
     "text": [
      "WARNING:absl:No GPU/TPU found, falling back to CPU. (Set TF_CPP_MIN_LOG_LEVEL=0 and rerun for more info.)\n",
      "/home/emmanuel/.conda/envs/jax_py38/lib/python3.8/site-packages/seaborn/distributions.py:2557: FutureWarning: `distplot` is a deprecated function and will be removed in a future version. Please adapt your code to use either `displot` (a figure-level function with similar flexibility) or `histplot` (an axes-level function for histograms).\n",
      "  warnings.warn(msg, FutureWarning)\n"
     ]
    },
    {
     "data": {
      "text/plain": [
       "<AxesSubplot:ylabel='Density'>"
      ]
     },
     "execution_count": 6,
     "metadata": {},
     "output_type": "execute_result"
    },
    {
     "data": {
      "image/png": "[encoded data removed]",
      "text/plain": [
       "<Figure size 432x288 with 1 Axes>"
      ]
     },
     "metadata": {
      "needs_background": "light"
     },
     "output_type": "display_data"
    }
   ],
   "source": [
    "X = jnp.array(data, dtype=jnp.float32)\n",
    "\n",
    "sns.distplot(X, bins=100)"
   ]
  },
  {
   "cell_type": "markdown",
   "metadata": {},
   "source": [
    "## Histogram Transformation"
   ]
  },
  {
   "cell_type": "code",
   "execution_count": 7,
   "metadata": {},
   "outputs": [],
   "source": [
    "from rbig_jax.transforms.histogram import InitUniHistUniformize\n",
    "from rbig_jax.transforms.kde import InitKDEUniformize\n",
    "\n",
    "support_extension = 10\n",
    "alpha = 1e-5\n",
    "precision = 100\n",
    "nbins = int(jnp.sqrt(X.shape[0]))\n",
    "\n",
    "# initialize histogram transformation\n",
    "init_transform_func, forward_f, grad_f, inverse_f = InitUniHistUniformize(\n",
    "    n_samples=X.shape[0],\n",
    "    nbins=nbins,\n",
    "    support_extension=support_extension,\n",
    "    precision=precision,\n",
    "    alpha=alpha\n",
    ")"
   ]
  },
  {
   "cell_type": "code",
   "execution_count": 9,
   "metadata": {},
   "outputs": [],
   "source": [
    "X_u, params = init_transform_func(X)\n",
    "\n",
    "X_u, X_ldj_u = grad_f(params, X)"
   ]
  },
  {
   "cell_type": "code",
   "execution_count": 12,
   "metadata": {},
   "outputs": [
    {
     "data": {
      "text/plain": [
       "<seaborn.axisgrid.FacetGrid at 0x7ff5f019fb80>"
      ]
     },
     "execution_count": 12,
     "metadata": {},
     "output_type": "execute_result"
    },
    {
     "data": {
      "image/png": "[encoded data removed]",
      "text/plain": [
       "<Figure size 360x360 with 1 Axes>"
      ]
     },
     "metadata": {
      "needs_background": "light"
     },
     "output_type": "display_data"
    }
   ],
   "source": [
    "sns.displot(X_u, bins=100)"
   ]
  },
  {
   "cell_type": "code",
   "execution_count": null,
   "metadata": {},
   "outputs": [],
   "source": []
  },
  {
   "cell_type": "code",
   "execution_count": null,
   "metadata": {},
   "outputs": [],
   "source": []
  },
  {
   "cell_type": "markdown",
   "metadata": {},
   "source": [
    "### Training"
   ]
  },
  {
   "cell_type": "code",
   "execution_count": 13,
   "metadata": {},
   "outputs": [],
   "source": [
    "import jax.numpy as jnp\n",
    "from jax import scipy"
   ]
  },
  {
   "cell_type": "code",
   "execution_count": 37,
   "metadata": {},
   "outputs": [],
   "source": [
    "\n",
    "def log_prob(params, inputs):\n",
    "    \n",
    "    y, log_det = grad_f(params, inputs)\n",
    "    # uniform nothing\n",
    "    latent_prob = scipy.stats.norm.logpdf(y)\n",
    "    \n",
    "    # log probability\n",
    "    log_prob = latent_prob.sum(axis=1) + log_det.sum(axis=1)\n",
    "    \n",
    "    \n",
    "    return log_prob"
   ]
  },
  {
   "cell_type": "code",
   "execution_count": 38,
   "metadata": {},
   "outputs": [],
   "source": [
    "x_lprob = log_prob(params, X[:, None])"
   ]
  },
  {
   "cell_type": "code",
   "execution_count": 39,
   "metadata": {},
   "outputs": [
    {
     "data": {
      "text/plain": [
       "(DeviceArray(-5.494256, dtype=float32), DeviceArray(-1.240401, dtype=float32))"
      ]
     },
     "execution_count": 39,
     "metadata": {},
     "output_type": "execute_result"
    }
   ],
   "source": [
    "x_lprob.min(), x_lprob.max()"
   ]
  },
  {
   "cell_type": "code",
   "execution_count": 40,
   "metadata": {},
   "outputs": [],
   "source": [
    "def nll_loss(params, inputs):\n",
    "    \n",
    "    # negative log-likelihood\n",
    "    return - log_prob(params, inputs).mean()"
   ]
  },
  {
   "cell_type": "code",
   "execution_count": 41,
   "metadata": {},
   "outputs": [],
   "source": [
    "from jax.experimental import optimizers\n",
    "\n",
    "lr = 0.01\n",
    "epochs = 1_000\n",
    "batch_size = 128\n",
    "\n",
    "\n",
    "opt_init, opt_update, get_params = optimizers.adam(step_size=lr)\n",
    "opt_state = opt_init(params)"
   ]
  },
  {
   "cell_type": "code",
   "execution_count": 42,
   "metadata": {},
   "outputs": [],
   "source": [
    "X = np.array(data)\n",
    "\n",
    "loss, grads_params = jax.value_and_grad(nll_loss)(params, X[:, None])"
   ]
  },
  {
   "cell_type": "code",
   "execution_count": 43,
   "metadata": {},
   "outputs": [],
   "source": [
    "def step(i, opt_state, inputs):\n",
    "    # get the parameters from the state\n",
    "    params = get_params(opt_state)\n",
    "    # calculate the loss AND the gradients\n",
    "    loss, gradients = jax.value_and_grad(nll_loss)(params, inputs)\n",
    "    \n",
    "    # return loss AND new opt_state\n",
    "    return loss, opt_update(i, gradients, opt_state)\n",
    "\n",
    "# TO MAKE IT FAST\n",
    "train_op = jax.jit(step)"
   ]
  },
  {
   "cell_type": "code",
   "execution_count": 44,
   "metadata": {},
   "outputs": [
    {
     "name": "stderr",
     "output_type": "stream",
     "text": [
      "100%|██████████| 1000/1000 [00:18<00:00, 54.12it/s, loss=-3.0967]\n"
     ]
    }
   ],
   "source": [
    "import itertools\n",
    "from jax import device_put\n",
    "import tqdm\n",
    "from jax import random\n",
    "\n",
    "\n",
    "# initialize parameters\n",
    "key = random.PRNGKey(123)\n",
    "itercount = itertools.count()\n",
    "permute_rng, rng = random.split(key)\n",
    "\n",
    "train_data = jnp.array(X[:, None])\n",
    "\n",
    "losses = list()\n",
    "\n",
    "pbar = tqdm.trange(epochs)\n",
    "\n",
    "\n",
    "with pbar:\n",
    "    for i in pbar:\n",
    "\n",
    "        # batch processing\n",
    "        permute_rng, rng = random.split(rng)\n",
    "\n",
    "        # randomly shuffle the data\n",
    "        train_data = random.permutation(permute_rng, train_data)\n",
    "\n",
    "        # Train\n",
    "        avg_loss = []\n",
    "\n",
    "        for batch_index in range(0, n_samples, batch_size):\n",
    "            # compute loss\n",
    "            loss, opt_state = train_op(\n",
    "                next(itercount), \n",
    "                opt_state,\n",
    "                train_data[batch_index:batch_index+batch_size],\n",
    "            )\n",
    "            \n",
    "            \n",
    "            # append batch\n",
    "            avg_loss.append(float(loss))\n",
    "        # average loss\n",
    "        batch_loss = np.mean(np.stack(avg_loss))\n",
    "\n",
    "        # Log losses\n",
    "        losses.append(batch_loss)\n",
    "        pbar.set_postfix({\"loss\": f\"{batch_loss:.4f}\"})"
   ]
  },
  {
   "cell_type": "markdown",
   "metadata": {},
   "source": [
    "### Results"
   ]
  },
  {
   "cell_type": "code",
   "execution_count": 45,
   "metadata": {},
   "outputs": [
    {
     "data": {
      "text/plain": [
       "UniHistParams(support=DeviceArray([-1.7694528 , -1.732982  , -1.6965114 , -1.6600407 ,\n",
       "             -1.62357   , -1.5870993 , -1.5506285 , -1.5141578 ,\n",
       "             -2.20476   , -0.92814463, -1.3281149 , -1.3842522 ,\n",
       "             -1.3142335 , -1.2073436 , -1.212238  , -1.6432213 ,\n",
       "             -0.362998  , -1.2489077 , -0.92500967, -0.9230497 ,\n",
       "             -0.9336326 , -0.9401366 , -1.288557  , -0.564726  ,\n",
       "             -0.7798617 , -0.8232971 , -0.90156883, -1.053929  ,\n",
       "             -1.3332595 , -0.20821959, -0.7079279 , -0.0373549 ,\n",
       "             -0.5057336 , -0.45858175, -0.614836  , -0.59847283,\n",
       "             -0.45703244, -0.33811468, -0.34769243, -0.7913197 ,\n",
       "              0.1779279 ,  0.2211994 , -0.21841908, -0.06568412,\n",
       "             -0.0137197 ,  0.05314906,  0.14457457,  0.10024901,\n",
       "              0.2025156 ,  0.27438068,  0.22569482,  0.26955196,\n",
       "              0.38486987,  0.4396419 ,  0.48353386,  0.49624297,\n",
       "              0.56712013,  0.6033712 ,  0.61567795,  0.77930987,\n",
       "              0.8098997 ,  0.7930079 ,  0.91259646,  1.011691  ,\n",
       "              0.9825141 ,  1.0120894 ,  1.1494701 ,  1.1867115 ,\n",
       "              1.1505579 ,  1.0814533 ,  1.5402635 ,  1.6135404 ,\n",
       "              1.245152  ,  1.2253889 ,  1.4930236 ,  1.6019309 ,\n",
       "              1.3058952 ,  1.4876353 ,  1.5544504 ,  1.3800573 ,\n",
       "              1.3531739 ,  1.508906  ,  1.551678  ,  1.4998031 ,\n",
       "              1.5173963 ,  1.501438  ,  1.3262033 ,  1.5684309 ,\n",
       "              1.7079377 ,  1.3893788 ,  1.5763917 ,  1.6857544 ,\n",
       "              1.5858518 ,  1.6223226 ,  1.6587933 ,  1.6952641 ,\n",
       "              1.7317348 ,  1.7682053 ,  1.804676  ,  1.8411468 ],            dtype=float32), quantiles=DeviceArray([ 0.0000000e+00,  1.2121235e-04,  2.4242431e-04,\n",
       "              3.6363627e-04,  4.8484863e-04,  6.0606061e-04,\n",
       "              7.2727294e-04,  8.4848527e-04, -5.9852471e-05,\n",
       "              3.1540887e-05,  5.8432738e-03,  1.6146677e-02,\n",
       "              3.6252032e-03, -7.7855024e-03, -4.5684122e-02,\n",
       "              5.0956191e-06, -3.9749815e-05, -1.8881966e-04,\n",
       "              1.0705611e-03,  2.2342401e-02, -1.0164994e-02,\n",
       "              9.6105756e-03, -1.5450810e-07, -4.8903743e-08,\n",
       "              2.7166026e-02,  3.1155362e-03, -5.3736452e-02,\n",
       "             -3.6648553e-02,  4.1607173e-10, -1.3590011e-09,\n",
       "             -5.6044809e-03, -5.1474064e-03, -5.9495624e-02,\n",
       "             -5.1688928e-02, -2.3789277e-02, -2.4969686e-02,\n",
       "             -8.8339398e-11, -1.0346310e-09,  1.9699079e-01,\n",
       "              2.5042612e-10, -3.5325631e-12,  1.2146651e-01,\n",
       "              5.2207694e-34, -1.0880569e-34, -2.2467003e-35,\n",
       "             -4.4941629e-35,  8.3607862e-35,  1.6912939e-34,\n",
       "             -5.3665036e-35,  6.6761237e-34, -2.4720107e-35,\n",
       "             -7.4622712e-36,  9.7658211e-36,  1.4968833e-35,\n",
       "             -2.8959595e-35,  1.2859925e-35,  2.5050643e-35,\n",
       "             -4.3841081e-35, -6.5713607e-36,  8.6533618e-36,\n",
       "             -3.1479940e-35,  4.3372326e-36, -1.6612219e-35,\n",
       "              6.6643398e-36,  5.2605461e-02,  1.5872824e-35,\n",
       "             -4.4833400e-36,  9.1004096e-02,  2.1029365e-01,\n",
       "             -2.5507711e-35,  2.0953353e-35,  1.9377682e-01,\n",
       "              3.9235494e-01,  3.4854871e-01,  2.1938431e-01,\n",
       "              3.2172069e-01,  5.1776391e-01,  3.7557328e-01,\n",
       "              5.3881997e-01,  6.4608049e-01,  6.9455069e-01,\n",
       "              6.1516923e-01,  6.8579489e-01,  7.7560055e-01,\n",
       "              7.2787035e-01,  7.7712137e-01,  6.7976034e-01,\n",
       "              2.4232097e-01,  8.0251986e-01,  9.0359235e-01,\n",
       "              8.1745851e-01,  9.0158272e-01,  9.9915171e-01,\n",
       "              9.9927288e-01,  9.9939412e-01,  9.9951530e-01,\n",
       "              9.9963647e-01,  9.9975765e-01,  9.9987882e-01,\n",
       "              1.0000000e+00], dtype=float32), support_pdf=DeviceArray([ -1.5864285 ,  -1.5351337 ,  -1.5577754 ,  -9.601633  ,\n",
       "              -1.1912078 ,   0.40864375,  -1.1585839 ,  -1.3616871 ,\n",
       "              -1.1674522 ,  -0.31719974,  -0.77795273,  -0.44304025,\n",
       "              -7.434033  ,  -0.9180711 ,  28.500772  ,  -0.215671  ,\n",
       "              -0.33772996,  -0.40154406,  -0.5941033 ,  -0.3362054 ,\n",
       "               0.5940793 ,   0.29812947,   0.3099083 ,   0.31256223,\n",
       "             -29.627684  ,   0.7359435 ,  18.140686  ,   1.5066144 ,\n",
       "               1.5631777 ,   1.623201  ,   1.6126827 ,   1.61597   ,\n",
       "               1.6547871 ], dtype=float32), empirical_pdf=DeviceArray([ 0.0689551 ,  0.13375829,  0.25684646,  2.57936   ,\n",
       "             23.84377   ,  0.27389443,  0.23914732,  0.48236546,\n",
       "              0.73420435,  0.32306463,  0.60951656,  0.51302636,\n",
       "              2.5418441 , 43.73604   ,  5.2577524 ,  0.36909613,\n",
       "              0.6400705 ,  0.9293431 ,  1.4170147 ,  1.8320564 ,\n",
       "              0.9941384 ,  0.9802866 ,  1.1345078 ,  1.220912  ,\n",
       "              8.064542  , 57.594555  , 18.959385  ,  0.7734003 ,\n",
       "              0.7460296 ,  0.4707904 ,  0.26318252,  0.17458041,\n",
       "              0.0647255 ], dtype=float32))"
      ]
     },
     "execution_count": 45,
     "metadata": {},
     "output_type": "execute_result"
    }
   ],
   "source": [
    "final_params = get_params(opt_state)\n",
    "final_params"
   ]
  },
  {
   "cell_type": "markdown",
   "metadata": {},
   "source": [
    "#### CDF"
   ]
  },
  {
   "cell_type": "code",
   "execution_count": 46,
   "metadata": {},
   "outputs": [],
   "source": [
    "\n",
    "X_trans, X_ldj = grad_f(final_params, X[:, None])"
   ]
  },
  {
   "cell_type": "code",
   "execution_count": 47,
   "metadata": {},
   "outputs": [
    {
     "data": {
      "image/png": "[encoded data removed]",
      "text/plain": [
       "<Figure size 432x288 with 1 Axes>"
      ]
     },
     "metadata": {
      "needs_background": "light"
     },
     "output_type": "display_data"
    }
   ],
   "source": [
    "fig, ax = plt.subplots()\n",
    "sns.histplot(X_trans.squeeze(), bins=100, label=\"CDF\", fill=True, ax=ax, color='red')\n",
    "ax.legend()\n",
    "plt.show()"
   ]
  },
  {
   "cell_type": "markdown",
   "metadata": {},
   "source": [
    "#### Log PDF"
   ]
  },
  {
   "cell_type": "code",
   "execution_count": 48,
   "metadata": {},
   "outputs": [
    {
     "data": {
      "image/png": "[encoded data removed]",
      "text/plain": [
       "<Figure size 432x288 with 1 Axes>"
      ]
     },
     "metadata": {
      "needs_background": "light"
     },
     "output_type": "display_data"
    }
   ],
   "source": [
    "fig, ax = plt.subplots()\n",
    "sns.histplot(X_ldj.squeeze(), bins=100, label=\"Log PDF\", fill=True, ax=ax, color='red')\n",
    "ax.legend()\n",
    "plt.show()"
   ]
  },
  {
   "cell_type": "markdown",
   "metadata": {},
   "source": [
    "## 2D Example"
   ]
  },
  {
   "cell_type": "code",
   "execution_count": 113,
   "metadata": {},
   "outputs": [],
   "source": [
    "# get data\n",
    "n_samples = 1_000\n",
    "n_features = 1\n",
    "data = get_classic(n_samples)"
   ]
  },
  {
   "cell_type": "code",
   "execution_count": 114,
   "metadata": {},
   "outputs": [
    {
     "data": {
      "text/plain": [
       "<Figure size 432x288 with 0 Axes>"
      ]
     },
     "metadata": {},
     "output_type": "display_data"
    },
    {
     "data": {
      "image/png": "[encoded data removed]",
      "text/plain": [
       "<Figure size 432x432 with 3 Axes>"
      ]
     },
     "metadata": {
      "needs_background": "light"
     },
     "output_type": "display_data"
    }
   ],
   "source": [
    "# plot data\n",
    "plot_joint(data, \"blue\", \"Original Data\", kind='kde', logger=False)"
   ]
  },
  {
   "cell_type": "markdown",
   "metadata": {},
   "source": [
    "### Model"
   ]
  },
  {
   "cell_type": "code",
   "execution_count": 119,
   "metadata": {},
   "outputs": [],
   "source": [
    "from chex import Array, dataclass\n",
    "\n",
    "@dataclass\n",
    "class RQSplineParams:\n",
    "    x_pos : Array\n",
    "    y_pos : Array\n",
    "    knot_slopes : Array\n",
    "\n",
    "range_min = -10.0\n",
    "range_max = 10.0\n",
    "boundary_slopes = \"identity\"\n",
    "n_bins = 20\n",
    "n_features = 2\n",
    "rsq_params = jnp.zeros((n_features, 3 * n_bins + 1))\n",
    "\n",
    "# init model\n",
    "rqs_clf = RationalQuadraticSpline(rsq_params, range_min, range_max, boundary_slopes)\n",
    "\n",
    "# init params\n",
    "params = RQSplineParams(x_pos=rqs_clf.x_pos, y_pos=rqs_clf.y_pos, knot_slopes=rqs_clf.knot_slopes)"
   ]
  },
  {
   "cell_type": "markdown",
   "metadata": {},
   "source": [
    "### Training"
   ]
  },
  {
   "cell_type": "code",
   "execution_count": 120,
   "metadata": {},
   "outputs": [],
   "source": [
    "opt_init, opt_update, get_params = optimizers.adam(step_size=lr)\n",
    "opt_state = opt_init(params)"
   ]
  },
  {
   "cell_type": "code",
   "execution_count": 121,
   "metadata": {},
   "outputs": [
    {
     "name": "stderr",
     "output_type": "stream",
     "text": [
      "100%|██████████| 100/100 [00:05<00:00, 19.58it/s, loss=2.1271]\n"
     ]
    }
   ],
   "source": [
    "# initialize parameters\n",
    "key = random.PRNGKey(123)\n",
    "itercount = itertools.count()\n",
    "permute_rng, rng = random.split(key)\n",
    "\n",
    "train_data = jnp.array(data, jnp.float32)\n",
    "\n",
    "losses = list()\n",
    "\n",
    "pbar = tqdm.trange(epochs)\n",
    "\n",
    "\n",
    "with pbar:\n",
    "    for i in pbar:\n",
    "\n",
    "        # batch processing\n",
    "        permute_rng, rng = random.split(rng)\n",
    "\n",
    "        # randomly shuffle the data\n",
    "        train_data = random.permutation(permute_rng, train_data)\n",
    "\n",
    "        # Train\n",
    "        avg_loss = []\n",
    "\n",
    "        for batch_index in range(0, n_samples, batch_size):\n",
    "            # compute loss\n",
    "            loss, opt_state = train_op(\n",
    "                next(itercount), \n",
    "                opt_state,\n",
    "                train_data[batch_index:batch_index+batch_size],\n",
    "            )\n",
    "            \n",
    "            \n",
    "            # append batch\n",
    "            avg_loss.append(float(loss))\n",
    "        # average loss\n",
    "        batch_loss = np.mean(np.stack(avg_loss))\n",
    "\n",
    "        # Log losses\n",
    "        losses.append(batch_loss)\n",
    "        pbar.set_postfix({\"loss\": f\"{batch_loss:.4f}\"})"
   ]
  },
  {
   "cell_type": "markdown",
   "metadata": {},
   "source": [
    "### Results"
   ]
  },
  {
   "cell_type": "code",
   "execution_count": 122,
   "metadata": {},
   "outputs": [],
   "source": [
    "final_params = get_params(opt_state)"
   ]
  },
  {
   "cell_type": "markdown",
   "metadata": {},
   "source": [
    "#### CDF"
   ]
  },
  {
   "cell_type": "code",
   "execution_count": 123,
   "metadata": {},
   "outputs": [],
   "source": [
    "X_cdf, X_ldj = forward_and_log_det(final_params, train_data)"
   ]
  },
  {
   "cell_type": "code",
   "execution_count": 124,
   "metadata": {},
   "outputs": [
    {
     "data": {
      "text/plain": [
       "<Figure size 432x288 with 0 Axes>"
      ]
     },
     "metadata": {},
     "output_type": "display_data"
    },
    {
     "data": {
      "image/png": "[encoded data removed]",
      "text/plain": [
       "<Figure size 432x432 with 3 Axes>"
      ]
     },
     "metadata": {
      "needs_background": "light"
     },
     "output_type": "display_data"
    }
   ],
   "source": [
    "plot_joint(X_cdf, \"Red\", \"Marginal CDF\", kind='scatter', logger=False)"
   ]
  },
  {
   "cell_type": "code",
   "execution_count": null,
   "metadata": {},
   "outputs": [],
   "source": []
  }
 ],
 "metadata": {
  "kernelspec": {
   "display_name": "Python [conda env:.conda-jax_py38]",
   "language": "python",
   "name": "conda-env-.conda-jax_py38-py"
  },
  "language_info": {
   "codemirror_mode": {
    "name": "ipython",
    "version": 3
   },
   "file_extension": ".py",
   "mimetype": "text/x-python",
   "name": "python",
   "nbconvert_exporter": "python",
   "pygments_lexer": "ipython3",
   "version": "3.8.5"
  }
 },
 "nbformat": 4,
 "nbformat_minor": 4
}
