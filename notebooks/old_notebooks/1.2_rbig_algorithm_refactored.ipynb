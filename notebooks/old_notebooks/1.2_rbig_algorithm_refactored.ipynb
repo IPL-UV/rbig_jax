{
 "cells": [
  {
   "cell_type": "markdown",
   "metadata": {},
   "source": [
    "# Walkthrough - RBIG"
   ]
  },
  {
   "cell_type": "code",
   "execution_count": 3,
   "metadata": {},
   "outputs": [
    {
     "name": "stdout",
     "output_type": "stream",
     "text": [
      "The autoreload extension is already loaded. To reload it, use:\n",
      "  %reload_ext autoreload\n"
     ]
    }
   ],
   "source": [
    "import sys, os\n",
    "from pyprojroot import here\n",
    "\n",
    "# spyder up to find the root\n",
    "root = here(project_files=[\".here\"])\n",
    "\n",
    "# append to path\n",
    "sys.path.append(str(here()))\n",
    "\n",
    "# jax packages\n",
    "import jax\n",
    "import jax.numpy as np\n",
    "from jax.config import config\n",
    "import chex\n",
    "config.update(\"jax_enable_x64\", True)\n",
    "\n",
    "import numpy as onp\n",
    "from functools import partial\n",
    "\n",
    "# library parameters\n",
    "from rbig_jax.data import get_classic\n",
    "# from rbig_jax.information.reduction import information_reduction\n",
    "from rbig_jax.plots import plot_info_loss, plot_joint, plot_joint_prob\n",
    "# from rbig_jax.models.rbig import RBIGFlow, RBIGFlowJit\n",
    "# from rbig_jax.transforms.block import (\n",
    "#     init_gauss_hist_block, init_gauss_hist_block_params,\n",
    "#     init_gauss_kde_block, init_gauss_kde_block_params\n",
    "# )\n",
    "\n",
    "# logging\n",
    "import tqdm\n",
    "import wandb\n",
    "\n",
    "# plot methods\n",
    "import matplotlib.pyplot as plt\n",
    "import seaborn as sns\n",
    "sns.reset_defaults()\n",
    "sns.set_context(context=\"talk\", font_scale=0.7)\n",
    "\n",
    "%matplotlib inline\n",
    "%load_ext autoreload\n",
    "%autoreload 2"
   ]
  },
  {
   "cell_type": "code",
   "execution_count": 4,
   "metadata": {},
   "outputs": [
    {
     "data": {
      "image/png": "[encoded data removed]",
      "text/plain": [
       "<Figure size 432x288 with 1 Axes>"
      ]
     },
     "metadata": {
      "needs_background": "light"
     },
     "output_type": "display_data"
    }
   ],
   "source": [
    "# get data\n",
    "data = get_classic(100)\n",
    "\n",
    "# plot data\n",
    "plt.hist(data[:, 1], 10);"
   ]
  },
  {
   "cell_type": "markdown",
   "metadata": {},
   "source": [
    "## Logging"
   ]
  },
  {
   "cell_type": "code",
   "execution_count": 5,
   "metadata": {},
   "outputs": [
    {
     "name": "stderr",
     "output_type": "stream",
     "text": [
      "Failed to query for notebook name, you can set it manually with the WANDB_NOTEBOOK_NAME environment variable\n",
      "\u001b[34m\u001b[1mwandb\u001b[0m: Currently logged in as: \u001b[33memanjohnson91\u001b[0m (use `wandb login --relogin` to force relogin)\n"
     ]
    },
    {
     "data": {
      "text/html": [
       "\n",
       "                Tracking run with wandb version 0.10.17<br/>\n",
       "                Syncing run <strong style=\"color:#cdcd00\">ethereal-fog-149</strong> to <a href=\"https://wandb.ai\" target=\"_blank\">Weights & Biases</a> <a href=\"https://docs.wandb.com/integrations/jupyter.html\" target=\"_blank\">(Documentation)</a>.<br/>\n",
       "                Project page: <a href=\"https://wandb.ai/emanjohnson91/rbigjax-demo-2d\" target=\"_blank\">https://wandb.ai/emanjohnson91/rbigjax-demo-2d</a><br/>\n",
       "                Run page: <a href=\"https://wandb.ai/emanjohnson91/rbigjax-demo-2d/runs/1ctrsysz\" target=\"_blank\">https://wandb.ai/emanjohnson91/rbigjax-demo-2d/runs/1ctrsysz</a><br/>\n",
       "                Run data is saved locally in <code>/home/emmanuel/code/rbig_jax/notebooks/wandb/run-20210204_164942-1ctrsysz</code><br/><br/>\n",
       "            "
      ],
      "text/plain": [
       "<IPython.core.display.HTML object>"
      ]
     },
     "metadata": {},
     "output_type": "display_data"
    },
    {
     "data": {
      "text/html": [
       "<h1>Run(1ctrsysz)</h1><iframe src=\"https://wandb.ai/emanjohnson91/rbigjax-demo-2d/runs/1ctrsysz\" style=\"border:none;width:100%;height:400px\"></iframe>"
      ],
      "text/plain": [
       "<wandb.sdk.wandb_run.Run at 0x7ff641a09d00>"
      ]
     },
     "execution_count": 5,
     "metadata": {},
     "output_type": "execute_result"
    }
   ],
   "source": [
    "wandb.init(project=\"rbigjax-demo-2d\", entity=\"emanjohnson91\")\n"
   ]
  },
  {
   "cell_type": "code",
   "execution_count": 6,
   "metadata": {},
   "outputs": [],
   "source": [
    "\n",
    "# config parameters\n",
    "wandb.config.n_samples = 10_000\n",
    "wandb.config.dataset = \"classic\"\n",
    "wandb.config.method = \"histogram\"\n",
    "wandb.config.support_extension = 10\n",
    "wandb.config.precision = 50\n",
    "wandb.config.alpha = 0.0\n",
    "wandb.config.n_layers = 20"
   ]
  },
  {
   "cell_type": "markdown",
   "metadata": {},
   "source": [
    "## Data"
   ]
  },
  {
   "cell_type": "code",
   "execution_count": 7,
   "metadata": {},
   "outputs": [],
   "source": [
    "def plot_joint(data, color: str = \"red\", title: str = \"\", kind=\"kde\", logger=None):\n",
    "\n",
    "    plt.figure()\n",
    "    sns.jointplot(x=data[:, 0], y=data[:, 1], kind=kind, color=color)\n",
    "    plt.xlabel(\"X\")\n",
    "    plt.ylabel(\"Y\")\n",
    "    plt.suptitle(title)\n",
    "    plt.tight_layout()\n",
    "    plt.show()\n",
    "    \n",
    "\n",
    "def plot_joint_prob(data, probs, cmap=\"Reds\", title=\"\", logger=None):\n",
    "\n",
    "    fig, ax = plt.subplots()\n",
    "    h = ax.scatter(data[:, 0], data[:, 1], s=1, c=probs, cmap=cmap)\n",
    "    plt.xlabel(\"X\")\n",
    "    plt.ylabel(\"Y\")\n",
    "    plt.colorbar(h,)\n",
    "    ax.set_title(title)\n",
    "    plt.tight_layout()\n",
    "    plt.show()"
   ]
  },
  {
   "cell_type": "code",
   "execution_count": 8,
   "metadata": {},
   "outputs": [
    {
     "data": {
      "text/plain": [
       "<Figure size 432x288 with 0 Axes>"
      ]
     },
     "metadata": {},
     "output_type": "display_data"
    },
    {
     "data": {
      "image/png": "[encoded data removed]",
      "text/plain": [
       "<Figure size 432x432 with 3 Axes>"
      ]
     },
     "metadata": {
      "needs_background": "light"
     },
     "output_type": "display_data"
    }
   ],
   "source": [
    "# %%wandb\n",
    "# get data\n",
    "data = get_classic(10_000)\n",
    "\n",
    "# plot data\n",
    "plot_joint(data, \"blue\", \"Original Data\", kind='scatter', logger=False)"
   ]
  },
  {
   "cell_type": "markdown",
   "metadata": {},
   "source": [
    "## Initialization\n",
    "\n",
    "First we need to initialize our RBIG method with some parameters. For example, which marginal gaussianization method, what precision do we want, and what rotation method do we want.\n",
    "\n",
    "* `method` - the method used to marginally transform the data. We have histogram or kde currently implemented\n",
    "* `support_extension` - this is the amount we want to extend the support for our marginal distributions. Higher values indicate higher\n",
    "* `precision` - we use interpolation because it is much faster. So the CDF, PDF and PPF are interpolation schemes. This value will allow one to have more \"precision\" for the estimated quantities but it will be slower."
   ]
  },
  {
   "cell_type": "markdown",
   "metadata": {},
   "source": [
    "## RBIG Block"
   ]
  },
  {
   "cell_type": "code",
   "execution_count": null,
   "metadata": {},
   "outputs": [],
   "source": []
  },
  {
   "cell_type": "code",
   "execution_count": 11,
   "metadata": {},
   "outputs": [
    {
     "ename": "ImportError",
     "evalue": "cannot import name 'get_params_marginal' from 'rbig_jax.transforms.marginal' (/home/emmanuel/code/rbig_jax/rbig_jax/transforms/marginal.py)",
     "output_type": "error",
     "traceback": [
      "\u001b[0;31m---------------------------------------------------------------------------\u001b[0m",
      "\u001b[0;31mImportError\u001b[0m                               Traceback (most recent call last)",
      "\u001b[0;32m<ipython-input-11-5a41cf584cc0>\u001b[0m in \u001b[0;36m<module>\u001b[0;34m\u001b[0m\n\u001b[0;32m----> 1\u001b[0;31m from rbig_jax.transforms.block import (\n\u001b[0m\u001b[1;32m      2\u001b[0m     \u001b[0mget_gauss_hist_block_params\u001b[0m\u001b[0;34m,\u001b[0m\u001b[0;34m\u001b[0m\u001b[0;34m\u001b[0m\u001b[0m\n\u001b[1;32m      3\u001b[0m     \u001b[0mforward_gauss_block_transform\u001b[0m\u001b[0;34m,\u001b[0m\u001b[0;34m\u001b[0m\u001b[0;34m\u001b[0m\u001b[0m\n\u001b[1;32m      4\u001b[0m     inverse_gauss_block_transform)\n",
      "\u001b[0;32m~/code/rbig_jax/rbig_jax/transforms/block.py\u001b[0m in \u001b[0;36m<module>\u001b[0;34m\u001b[0m\n\u001b[1;32m      5\u001b[0m \u001b[0;32mimport\u001b[0m \u001b[0mjax\u001b[0m\u001b[0;34m.\u001b[0m\u001b[0mnumpy\u001b[0m \u001b[0;32mas\u001b[0m \u001b[0mnp\u001b[0m\u001b[0;34m\u001b[0m\u001b[0;34m\u001b[0m\u001b[0m\n\u001b[1;32m      6\u001b[0m \u001b[0;32mfrom\u001b[0m \u001b[0mjax\u001b[0m\u001b[0;34m.\u001b[0m\u001b[0mutil\u001b[0m \u001b[0;32mimport\u001b[0m \u001b[0mpartial\u001b[0m\u001b[0;34m\u001b[0m\u001b[0;34m\u001b[0m\u001b[0m\n\u001b[0;32m----> 7\u001b[0;31m \u001b[0;32mfrom\u001b[0m \u001b[0mrbig_jax\u001b[0m\u001b[0;34m.\u001b[0m\u001b[0mtransforms\u001b[0m\u001b[0;34m.\u001b[0m\u001b[0mmarginal\u001b[0m \u001b[0;32mimport\u001b[0m \u001b[0mget_params_marginal\u001b[0m\u001b[0;34m,\u001b[0m \u001b[0mmarginal_transform\u001b[0m\u001b[0;34m\u001b[0m\u001b[0;34m\u001b[0m\u001b[0m\n\u001b[0m\u001b[1;32m      8\u001b[0m \u001b[0;34m\u001b[0m\u001b[0m\n\u001b[1;32m      9\u001b[0m from rbig_jax.transforms.gaussianize import (\n",
      "\u001b[0;31mImportError\u001b[0m: cannot import name 'get_params_marginal' from 'rbig_jax.transforms.marginal' (/home/emmanuel/code/rbig_jax/rbig_jax/transforms/marginal.py)"
     ]
    }
   ],
   "source": [
    "from rbig_jax.transforms.block import (\n",
    "    get_gauss_hist_block_params,\n",
    "    forward_gauss_block_transform,\n",
    "    inverse_gauss_block_transform)"
   ]
  },
  {
   "cell_type": "code",
   "execution_count": null,
   "metadata": {},
   "outputs": [],
   "source": [
    "# initialize transformation\n",
    "init_rbig_transform = init_gauss_hist_block_params()\n",
    "\n",
    "# forward transformation\n",
    "X_g, params = init_rbig_transform(np.array(data))"
   ]
  },
  {
   "cell_type": "code",
   "execution_count": null,
   "metadata": {},
   "outputs": [],
   "source": [
    "# plot\n",
    "sns.jointplot(X_g[:1_000, 0], X_g[:1_000, 1], kind='kde')"
   ]
  },
  {
   "cell_type": "markdown",
   "metadata": {},
   "source": [
    "### Forward Transformation"
   ]
  },
  {
   "cell_type": "code",
   "execution_count": null,
   "metadata": {},
   "outputs": [],
   "source": [
    "X_g_f = forward_gauss_block_transform(np.array(data), params)"
   ]
  },
  {
   "cell_type": "code",
   "execution_count": null,
   "metadata": {},
   "outputs": [],
   "source": [
    "sns.jointplot(X_g_f[:1_000, 0], X_g_f[:1_000, 1], kind='kde')"
   ]
  },
  {
   "cell_type": "markdown",
   "metadata": {},
   "source": [
    "### Inverse Transform"
   ]
  },
  {
   "cell_type": "code",
   "execution_count": null,
   "metadata": {},
   "outputs": [],
   "source": [
    "X_approx = inverse_gauss_block_transform(X_g_f, params)"
   ]
  },
  {
   "cell_type": "code",
   "execution_count": null,
   "metadata": {},
   "outputs": [],
   "source": [
    "sns.jointplot(X_approx[:1_000, 0], X_approx[:1_000, 1], kind='kde')"
   ]
  },
  {
   "cell_type": "markdown",
   "metadata": {},
   "source": [
    "#### Speed"
   ]
  },
  {
   "cell_type": "code",
   "execution_count": null,
   "metadata": {},
   "outputs": [],
   "source": [
    "%%time\n",
    "\n",
    "# initialize transformation\n",
    "init_rbig_transform = init_gauss_hist_block_params()\n",
    "\n",
    "# forward transformation\n",
    "X_g, params = init_rbig_transform(np.array(data))"
   ]
  },
  {
   "cell_type": "code",
   "execution_count": null,
   "metadata": {},
   "outputs": [],
   "source": [
    "%timeit init_rbig_transform(np.array(data).block_until_ready())"
   ]
  },
  {
   "cell_type": "code",
   "execution_count": null,
   "metadata": {},
   "outputs": [],
   "source": [
    "%%time\n",
    "\n",
    "\n",
    "# initialize transformation\n",
    "init_rbig_transform_jitted = jax.jit(init_gauss_hist_block_params())\n",
    "\n",
    "# forward transformation\n",
    "X_g, params = init_rbig_transform_jitted(np.array(data))"
   ]
  },
  {
   "cell_type": "code",
   "execution_count": null,
   "metadata": {},
   "outputs": [],
   "source": [
    "%timeit init_rbig_transform_jitted(np.array(data).block_until_ready())"
   ]
  },
  {
   "cell_type": "markdown",
   "metadata": {},
   "source": [
    "## Gaussianization"
   ]
  },
  {
   "cell_type": "code",
   "execution_count": null,
   "metadata": {},
   "outputs": [],
   "source": [
    "%%time\n",
    "\n",
    "# rbig_block = init_gauss_hist_block_params()\n",
    "rbig_block = init_gauss_kde_block_params()\n",
    "\n",
    "rbig_flow = RBIGFlow(rbig_block, tol_layers=20, max_layers=1_000)\n",
    "\n",
    "X_trans = rbig_flow.fit_transform(np.array(data))\n"
   ]
  },
  {
   "cell_type": "code",
   "execution_count": null,
   "metadata": {},
   "outputs": [],
   "source": [
    "plt.plot(rbig_flow.losses)"
   ]
  },
  {
   "cell_type": "code",
   "execution_count": null,
   "metadata": {},
   "outputs": [],
   "source": [
    "plt.plot(np.cumsum(rbig_flow.losses))"
   ]
  },
  {
   "cell_type": "code",
   "execution_count": null,
   "metadata": {},
   "outputs": [],
   "source": [
    "sns.jointplot(X_trans[:1_000, 0], X_trans[:1_000, 1], kind='kde')"
   ]
  },
  {
   "cell_type": "code",
   "execution_count": null,
   "metadata": {},
   "outputs": [],
   "source": [
    "X_trans = rbig_flow.transform(np.array(data))"
   ]
  },
  {
   "cell_type": "code",
   "execution_count": null,
   "metadata": {},
   "outputs": [],
   "source": [
    "sns.jointplot(X_trans[:1_000, 0], X_trans[:1_000, 1], kind='kde')"
   ]
  },
  {
   "cell_type": "code",
   "execution_count": null,
   "metadata": {},
   "outputs": [],
   "source": [
    "X_approx = rbig_flow.inverse_transform(X_trans)"
   ]
  },
  {
   "cell_type": "code",
   "execution_count": null,
   "metadata": {},
   "outputs": [],
   "source": [
    "sns.jointplot(X_approx[:1_000, 0], X_approx[:1_000, 1], kind='kde')"
   ]
  },
  {
   "cell_type": "code",
   "execution_count": null,
   "metadata": {},
   "outputs": [],
   "source": [
    "X_samples = rbig_flow.sample(10_000)\n",
    "\n",
    "sns.jointplot(X_samples[:1_000, 0], X_samples[:1_000, 1], kind='kde')"
   ]
  },
  {
   "cell_type": "markdown",
   "metadata": {},
   "source": [
    "## Speed"
   ]
  },
  {
   "cell_type": "code",
   "execution_count": null,
   "metadata": {},
   "outputs": [],
   "source": [
    "%%time\n",
    "\n",
    "# rbig_block = init_gauss_hist_block_params()\n",
    "rbig_block = init_gauss_kde_block_params()\n",
    "rbig_flow = RBIGFlowJit(rbig_block, tol_layers=60, max_layers=1_000)\n",
    "\n",
    "X_trans = rbig_flow.fit_transform(np.array(data))"
   ]
  },
  {
   "cell_type": "code",
   "execution_count": null,
   "metadata": {},
   "outputs": [],
   "source": [
    "print(rbig_flow.n_layers)"
   ]
  },
  {
   "cell_type": "code",
   "execution_count": null,
   "metadata": {},
   "outputs": [],
   "source": [
    "plt.plot(rbig_flow.losses)"
   ]
  },
  {
   "cell_type": "code",
   "execution_count": null,
   "metadata": {},
   "outputs": [],
   "source": [
    "X_trans = rbig_flow.transform(np.array(data))\n",
    "\n",
    "sns.jointplot(X_trans[:None, 0], X_trans[:None, 1], joint_kws={'s':1})"
   ]
  },
  {
   "cell_type": "code",
   "execution_count": null,
   "metadata": {},
   "outputs": [],
   "source": [
    "X_approx = rbig_flow.inverse_transform(X_trans)\n",
    "\n",
    "sns.jointplot(X_approx[:None, 0], X_approx[:None, 1], joint_kws={'s':1}, color='red')"
   ]
  },
  {
   "cell_type": "code",
   "execution_count": null,
   "metadata": {},
   "outputs": [],
   "source": [
    "X_samples = rbig_flow.sample(10_000)\n",
    "\n",
    "sns.jointplot(X_samples[:None, 0], X_samples[:None, 1], joint_kws={'s':1}, color='orange')"
   ]
  },
  {
   "cell_type": "code",
   "execution_count": null,
   "metadata": {},
   "outputs": [],
   "source": []
  }
 ],
 "metadata": {
  "kernelspec": {
   "display_name": "Python [conda env:.conda-jax_py38]",
   "language": "python",
   "name": "conda-env-.conda-jax_py38-py"
  },
  "language_info": {
   "codemirror_mode": {
    "name": "ipython",
    "version": 3
   },
   "file_extension": ".py",
   "mimetype": "text/x-python",
   "name": "python",
   "nbconvert_exporter": "python",
   "pygments_lexer": "ipython3",
   "version": "3.8.5"
  }
 },
 "nbformat": 4,
 "nbformat_minor": 4
}
